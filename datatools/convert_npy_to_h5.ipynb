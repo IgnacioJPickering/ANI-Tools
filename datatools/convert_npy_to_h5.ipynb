{
 "cells": [
  {
   "cell_type": "code",
   "execution_count": 1,
   "metadata": {},
   "outputs": [
    {
     "name": "stderr",
     "output_type": "stream",
     "text": [
      "/scratch/Anaconda/anaconda3/envs/my-rdkit-env/lib/python3.6/site-packages/h5py/__init__.py:36: FutureWarning: Conversion of the second argument of issubdtype from `float` to `np.floating` is deprecated. In future, it will be treated as `np.float64 == np.dtype(float).type`.\n",
      "  from ._conv import register_converters as _register_converters\n"
     ]
    }
   ],
   "source": [
    "import numpy as np\n",
    "import pyanitools as pyt\n",
    "import hdnntools as hdt"
   ]
  },
  {
   "cell_type": "code",
   "execution_count": 2,
   "metadata": {},
   "outputs": [],
   "source": [
    "np_dir = '/nh/nest/u/jsmith/Research/dipole_train_testing/ANI-1xdataset/AL_100P/'\n",
    "h5_dir = '/nh/nest/u/jsmith/Research/dipole_train_testing/ANI-1xdataset/h5files/'"
   ]
  },
  {
   "cell_type": "code",
   "execution_count": 3,
   "metadata": {},
   "outputs": [
    {
     "name": "stdout",
     "output_type": "stream",
     "text": [
      "[[-0.7509986   1.56022326  1.48744811]\n",
      " [ 0.4009053  -1.33872095  4.32571211]\n",
      " [ 0.98958347  1.28841276 -1.3622524 ]\n",
      " ...\n",
      " [-0.39403256 -1.30221913 -2.51095971]\n",
      " [ 0.83427227  0.0216331   1.92357254]\n",
      " [-0.2621163   0.02262895  0.19283912]]\n"
     ]
    }
   ],
   "source": [
    "X = np.load(np_dir+'data-AL_100PR.npy')\n",
    "F = np.load(np_dir+'data-AL_100PGrad.npy')/hdt.hatokcal\n",
    "S = np.asarray(np.load(np_dir+'data-AL_100PZ.npy'),dtype=np.int)\n",
    "E = np.load(np_dir+'data-AL_100PT.npy')/hdt.hatokcal\n",
    "D = np.load(np_dir+'data-AL_100Pdipole.npy')/0.20819434 # Debye to AU\n",
    "\n",
    "print(D)"
   ]
  },
  {
   "cell_type": "code",
   "execution_count": 4,
   "metadata": {},
   "outputs": [],
   "source": [
    "dmap = {1 :'H',\n",
    "        6 :'C',\n",
    "        7 :'N',\n",
    "        8 :'O',\n",
    "        16:'S',}\n",
    "\n",
    "dpack = pyt.datapacker(h5_dir+'ANI-1x_dipole.h5')"
   ]
  },
  {
   "cell_type": "code",
   "execution_count": 7,
   "metadata": {},
   "outputs": [
    {
     "ename": "KeyboardInterrupt",
     "evalue": "",
     "output_type": "error",
     "traceback": [
      "\u001b[0;31m---------------------------------------------------------------------------\u001b[0m",
      "\u001b[0;31mKeyboardInterrupt\u001b[0m                         Traceback (most recent call last)",
      "\u001b[0;32m<ipython-input-7-35ef5ae1c621>\u001b[0m in \u001b[0;36m<module>\u001b[0;34m()\u001b[0m\n\u001b[1;32m      2\u001b[0m     \u001b[0msidx\u001b[0m \u001b[0;34m=\u001b[0m \u001b[0mnp\u001b[0m\u001b[0;34m.\u001b[0m\u001b[0mwhere\u001b[0m\u001b[0;34m(\u001b[0m\u001b[0ms\u001b[0m \u001b[0;34m!=\u001b[0m \u001b[0;36m0\u001b[0m\u001b[0;34m)\u001b[0m\u001b[0;34m\u001b[0m\u001b[0m\n\u001b[1;32m      3\u001b[0m \u001b[0;34m\u001b[0m\u001b[0m\n\u001b[0;32m----> 4\u001b[0;31m     \u001b[0mx\u001b[0m \u001b[0;34m=\u001b[0m \u001b[0mx\u001b[0m\u001b[0;34m[\u001b[0m\u001b[0msidx\u001b[0m\u001b[0;34m]\u001b[0m\u001b[0;34m\u001b[0m\u001b[0m\n\u001b[0m\u001b[1;32m      5\u001b[0m     \u001b[0mx\u001b[0m \u001b[0;34m=\u001b[0m \u001b[0mx\u001b[0m\u001b[0;34m.\u001b[0m\u001b[0mreshape\u001b[0m\u001b[0;34m(\u001b[0m\u001b[0;36m1\u001b[0m\u001b[0;34m,\u001b[0m\u001b[0mx\u001b[0m\u001b[0;34m.\u001b[0m\u001b[0mshape\u001b[0m\u001b[0;34m[\u001b[0m\u001b[0;36m0\u001b[0m\u001b[0;34m]\u001b[0m\u001b[0;34m,\u001b[0m\u001b[0;36m3\u001b[0m\u001b[0;34m)\u001b[0m\u001b[0;34m\u001b[0m\u001b[0m\n\u001b[1;32m      6\u001b[0m     \u001b[0mf\u001b[0m \u001b[0;34m=\u001b[0m \u001b[0mf\u001b[0m\u001b[0;34m[\u001b[0m\u001b[0msidx\u001b[0m\u001b[0;34m]\u001b[0m\u001b[0;34m\u001b[0m\u001b[0m\n",
      "\u001b[0;31mKeyboardInterrupt\u001b[0m: "
     ]
    }
   ],
   "source": [
    "for i,(x,f,s,e) in enumerate(zip(X,F,S,E)):\n",
    "    sidx = np.where(s != 0)\n",
    "    \n",
    "    x = x[sidx]\n",
    "    x = x.reshape(1,x.shape[0],3)\n",
    "    f = f[sidx]\n",
    "    s = [dmap[i] for i in s[sidx]]\n",
    "    \n",
    "    e = e.reshape(1)\n",
    "    \n",
    "    dpack.store_data('/levidata-'+str(i).zfill(4),coordinates=x,species=list(s),energies=e,forces=f)\n",
    "    #print([dmap[i] for i in s])"
   ]
  },
  {
   "cell_type": "code",
   "execution_count": null,
   "metadata": {},
   "outputs": [],
   "source": [
    "dpack.cleanup()"
   ]
  }
 ],
 "metadata": {
  "kernelspec": {
   "display_name": "Python 3",
   "language": "python",
   "name": "python3"
  },
  "language_info": {
   "codemirror_mode": {
    "name": "ipython",
    "version": 3
   },
   "file_extension": ".py",
   "mimetype": "text/x-python",
   "name": "python",
   "nbconvert_exporter": "python",
   "pygments_lexer": "ipython3",
   "version": "3.6.4"
  }
 },
 "nbformat": 4,
 "nbformat_minor": 2
}
