{
 "cells": [
  {
   "cell_type": "code",
   "execution_count": 1,
   "metadata": {
    "collapsed": true
   },
   "outputs": [],
   "source": [
    "import pyanitools as pyt\n",
    "import numpy as np\n",
    "import os\n",
    "\n",
    "from sklearn import linear_model\n",
    "\n",
    "import hdnntools as hdt"
   ]
  },
  {
   "cell_type": "code",
   "execution_count": 2,
   "metadata": {
    "collapsed": true
   },
   "outputs": [],
   "source": [
    "datadir = '/home/jsmith48/scratch/auto_al/h5files/original_ani-1x/'\n",
    "smap = {'H':0,'C':1,'N':2,'O':3}\n",
    "Na = 4"
   ]
  },
  {
   "cell_type": "code",
   "execution_count": 3,
   "metadata": {
    "collapsed": true
   },
   "outputs": [],
   "source": [
    "files = os.listdir(datadir)"
   ]
  },
  {
   "cell_type": "code",
   "execution_count": 4,
   "metadata": {},
   "outputs": [
    {
     "name": "stdout",
     "output_type": "stream",
     "text": [
      "dimers5.h5\n",
      "dimers3.h5\n",
      "ani_al-9.0.3.h5\n",
      "gdb_r06_comb08_03_3.h5\n",
      "gdb11_S03_06r.h5\n",
      "ani_al-9.0.4.h5\n",
      "gdb_r06_comb08_02_2.h5\n",
      "confs_cv_gdb01-08_rs4.h5\n",
      "mdal.h5\n",
      "confs_cv_gdb01-05_rs3.h5\n",
      "gdb_r06_comb08_02_1.h5\n",
      "confs_cv_gdb01-07_rs2.h5\n",
      "ani_al-9.0.2.h5\n",
      "gdb_r06_comb08_2.h5\n",
      "confs_cv_gdb01-08_rs2.h5\n",
      "confs_cv_gdb01-06_rs3.h5\n",
      "dimers2.h5\n",
      "h2o_nms_clusters.h5\n",
      "ani_al-9.0.1.h5\n",
      "confs_cv_gdb01-05_rs2.h5\n",
      "confs_cv_gdb01-05_rs4.h5\n",
      "confs_cv_gdb01-05_rs1.h5\n",
      "gdb_r06_comb08_1.h5\n",
      "confs_cv_gdb01-08_rs3.h5\n",
      "gdb_r06_comb08_03_2.h5\n",
      "gdb11_S01_06r.h5\n",
      "gdb_r06_comb08_5.h5\n",
      "confs_cv_gdb01-08_rs1.h5\n",
      "gdb_r06_comb08_02_3.h5\n",
      "confs_cv_gdb01-06_rs4.h5\n",
      "gdb_r06_comb08_3.h5\n",
      "confs_cv_gdb01-07_rs4.h5\n",
      "gdb_r06_comb08_4.h5\n",
      "gdb11_S05_06r.h5\n",
      "confs_cv_gdb01-06_rs1.h5\n",
      "confs_cv_gdb01-06_rs2.h5\n",
      "gdb_r06_comb08_03_4.h5\n",
      "dimers1.h5\n",
      "gdb11_S06_06r.h5\n",
      "gdb11_S02_06r.h5\n",
      "dimers4.h5\n",
      "gdb11_S04_06r.h5\n",
      "gdb_r06_comb08_02_4.h5\n",
      "confs_cv_gdb01-07_rs1.h5\n",
      "confs_cv_gdb01-07_rs3.h5\n",
      "gdb_r06_comb08_03_1.h5\n"
     ]
    }
   ],
   "source": [
    "X = []\n",
    "y = []\n",
    "for f in files:\n",
    "    print(f)\n",
    "    adl = pyt.anidataloader(datadir+f)\n",
    "    for data in adl:\n",
    "        #print(data['path'])\n",
    "        S = data['species']\n",
    "        E = data['energies']\n",
    "        unique, counts = np.unique(S, return_counts=True)\n",
    "        x = np.zeros(Na, dtype=np.float64)\n",
    "        for u,c in zip(unique,counts):\n",
    "            x[smap[u]]=c\n",
    "            \n",
    "        for e in E:\n",
    "            X.append(np.array(x))\n",
    "            y.append(np.array(e))"
   ]
  },
  {
   "cell_type": "code",
   "execution_count": 5,
   "metadata": {},
   "outputs": [
    {
     "name": "stdout",
     "output_type": "stream",
     "text": [
      "(4878315, 4)\n",
      "(4878315, 1)\n"
     ]
    }
   ],
   "source": [
    "X = np.array(X)\n",
    "y = np.array(y).reshape(-1,1)\n",
    "print(X.shape)\n",
    "print(y.shape)"
   ]
  },
  {
   "cell_type": "code",
   "execution_count": 6,
   "metadata": {
    "collapsed": true
   },
   "outputs": [],
   "source": [
    "lin = linear_model.LinearRegression(fit_intercept=False)"
   ]
  },
  {
   "cell_type": "code",
   "execution_count": 7,
   "metadata": {},
   "outputs": [
    {
     "data": {
      "text/plain": [
       "LinearRegression(copy_X=True, fit_intercept=False, n_jobs=1, normalize=False)"
      ]
     },
     "execution_count": 7,
     "metadata": {},
     "output_type": "execute_result"
    }
   ],
   "source": [
    "lin.fit(X,y)"
   ]
  },
  {
   "cell_type": "code",
   "execution_count": 8,
   "metadata": {},
   "outputs": [
    {
     "name": "stdout",
     "output_type": "stream",
     "text": [
      "[[ -0.60095298 -38.08316124 -54.7077577  -75.19446356]]\n"
     ]
    }
   ],
   "source": [
    "coef = lin.coef_\n",
    "print(coef)"
   ]
  },
  {
   "cell_type": "code",
   "execution_count": null,
   "metadata": {
    "collapsed": true
   },
   "outputs": [],
   "source": []
  },
  {
   "cell_type": "code",
   "execution_count": null,
   "metadata": {
    "collapsed": true
   },
   "outputs": [],
   "source": []
  }
 ],
 "metadata": {
  "kernelspec": {
   "display_name": "Python 3",
   "language": "python",
   "name": "python3"
  },
  "language_info": {
   "codemirror_mode": {
    "name": "ipython",
    "version": 3
   },
   "file_extension": ".py",
   "mimetype": "text/x-python",
   "name": "python",
   "nbconvert_exporter": "python",
   "pygments_lexer": "ipython3",
   "version": "3.6.3"
  }
 },
 "nbformat": 4,
 "nbformat_minor": 2
}
