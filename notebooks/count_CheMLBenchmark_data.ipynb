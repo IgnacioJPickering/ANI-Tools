{
 "cells": [
  {
   "cell_type": "code",
   "execution_count": 22,
   "metadata": {
    "collapsed": false
   },
   "outputs": [],
   "source": [
    "import pyanitools as pyt\n",
    "import hdnntools as hdt\n",
    "import numpy as np"
   ]
  },
  {
   "cell_type": "code",
   "execution_count": 23,
   "metadata": {
    "collapsed": true
   },
   "outputs": [],
   "source": [
    "h5files = {'DrugBank'  : ['/home/jujuman/Research/extensibility_test_sets/drugbank/drugbank_testset.h5'],\n",
    "           'Tripeptide': ['/home/jujuman/Research/ForceNMPaper/polypeptide/tripeptide_full.h5'],\n",
    "           's66x8'     : ['/home/jujuman/Research/extensibility_test_sets/s66x8/s66x8_wb97x6-31gd.h5'],\n",
    "           'GDB07to09' : ['/home/jujuman/Research/extensibility_test_sets/gdb-07/gdb11_07_test500.h5',\n",
    "                          '/home/jujuman/Research/extensibility_test_sets/gdb-08/gdb11_08_test500.h5',\n",
    "                          '/home/jujuman/Research/extensibility_test_sets/gdb-09/gdb11_09_test500.h5',\n",
    "                         ],\n",
    "           'GDB10to13' : ['/home/jujuman/Research/extensibility_test_sets/gdb-10/gdb11_10_test500.h5',\n",
    "                          '/home/jujuman/Research/extensibility_test_sets/gdb-11/gdb11_11_test500.h5',\n",
    "                          '/home/jujuman/Research/extensibility_test_sets/gdb-12/gdb11_12_test500.h5',\n",
    "                          '/home/jujuman/Research/extensibility_test_sets/gdb-13/gdb11_13_test500.h5',\n",
    "                         ],\n",
    "           'MDBenchmark': ['/home/jujuman/Research/extensibility_test_sets/ani_md_benchmark/ani_md_bench.h5'],\n",
    "           }"
   ]
  },
  {
   "cell_type": "code",
   "execution_count": 35,
   "metadata": {
    "collapsed": false
   },
   "outputs": [
    {
     "name": "stdout",
     "output_type": "stream",
     "text": [
      "0 MDBenchmark\n",
      " - 1535 12 /home/jujuman/Research/extensibility_test_sets/ani_md_benchmark/ani_md_bench.h5\n",
      "Totals: 1535 12 60.0 32.4011316675 31.9780683876 11.0055832093 13590.2011264\n",
      "1 DrugBank\n",
      " - 13379 837 /home/jujuman/Research/extensibility_test_sets/drugbank/drugbank_testset.h5\n",
      "Totals: 13379 837 44.4145758662 19.915566763 166.492317898 72.4751579703 13775.6859896\n",
      "2 GDB10to13\n",
      " - 12000 500 /home/jujuman/Research/extensibility_test_sets/gdb-10/gdb11_10_test500.h5\n",
      " - 11670 496 /home/jujuman/Research/extensibility_test_sets/gdb-11/gdb11_11_test500.h5\n",
      " - 12000 1000 /home/jujuman/Research/extensibility_test_sets/gdb-12/gdb11_12_test500.h5\n",
      " - 12000 1000 /home/jujuman/Research/extensibility_test_sets/gdb-13/gdb11_13_test500.h5\n",
      "Totals: 47670 2996 24.8788384513 3.94221522333 214.383098868 89.8059769769 2438.39793288\n",
      "3 Tripeptide\n",
      " - 1984 248 /home/jujuman/Research/ForceNMPaper/polypeptide/tripeptide_full.h5\n",
      "Totals: 1984 248 52.4919354839 7.44820390532 102.075082751 57.077731729 4150.5414922\n",
      "4 s66x8\n",
      " - 528 66 /home/jujuman/Research/extensibility_test_sets/s66x8/s66x8_wb97x6-31gd.h5\n",
      "Totals: 528 66 19.9090909091 6.65998287542 5.95526083392 4.07667250257 2773.16030738\n",
      "5 GDB07to09\n",
      " - 12000 500 /home/jujuman/Research/extensibility_test_sets/gdb-07/gdb11_07_test500.h5\n",
      " - 12000 500 /home/jujuman/Research/extensibility_test_sets/gdb-08/gdb11_08_test500.h5\n",
      " - 12000 500 /home/jujuman/Research/extensibility_test_sets/gdb-09/gdb11_09_test500.h5\n",
      "Totals: 36000 1500 17.01 3.25195838432 78.0247428166 34.522652476 1900.74203617\n"
     ]
    }
   ],
   "source": [
    "for i,k in enumerate(h5files.keys()):\n",
    "    print(i,k)\n",
    "    tmcount = 0\n",
    "    tdcount = 0\n",
    "    natoms = []\n",
    "    denrgy = []\n",
    "    aenrgy = []\n",
    "    for f in h5files[k]:\n",
    "        adl = pyt.anidataloader(f)\n",
    "        mcount = adl.size()\n",
    "        dcount = 0\n",
    "        for data in adl:\n",
    "            #print(data['path'])\n",
    "            dcount += data['energies'].size\n",
    "            denrgy.append(hdt.hatokcal*np.abs(data['energies'].max()-data['energies'].min()))\n",
    "            natoms.append(len(data['species']))\n",
    "            sae = hdt.compute_sae('/home/jujuman/Research/ANI-validation/sae_6-31gd.dat',data['species'])\n",
    "            aenrgy.append(hdt.hatokcal*(data['energies']-sae))\n",
    "        print(' -',dcount,mcount,f)\n",
    "        tdcount += dcount\n",
    "        tmcount += mcount\n",
    "    natoms = np.array(natoms)\n",
    "    denrgy = np.array(denrgy)\n",
    "    aenrgy = np.concatenate(aenrgy)\n",
    "    print('Totals:',tdcount,tmcount,natoms.mean(),natoms.std(),denrgy.mean(),denrgy.std(),np.max(aenrgy)-np.min(aenrgy))"
   ]
  },
  {
   "cell_type": "code",
   "execution_count": null,
   "metadata": {
    "collapsed": true
   },
   "outputs": [],
   "source": []
  }
 ],
 "metadata": {
  "kernelspec": {
   "display_name": "Python 3",
   "language": "python",
   "name": "python3"
  },
  "language_info": {
   "codemirror_mode": {
    "name": "ipython",
    "version": 3
   },
   "file_extension": ".py",
   "mimetype": "text/x-python",
   "name": "python",
   "nbconvert_exporter": "python",
   "pygments_lexer": "ipython3",
   "version": "3.5.2"
  }
 },
 "nbformat": 4,
 "nbformat_minor": 1
}
