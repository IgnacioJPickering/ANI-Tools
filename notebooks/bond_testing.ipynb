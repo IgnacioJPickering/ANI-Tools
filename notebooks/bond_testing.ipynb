{
 "cells": [
  {
   "cell_type": "code",
   "execution_count": 1,
   "metadata": {},
   "outputs": [
    {
     "name": "stdout",
     "output_type": "stream",
     "text": [
      "van Der Waals correction will be unavailable. Please install ased3\n"
     ]
    }
   ],
   "source": [
    "from ase_interface import ANIENS\n",
    "from ase_interface import ensemblemolecule\n",
    "import hdnntools as hdt\n",
    "\n",
    "import numpy as np\n",
    "import ase\n",
    "\n",
    "#from ase.neb import NEBtools\n",
    "from ase.io import read, write\n",
    "\n",
    "import matplotlib\n",
    "import matplotlib as mpl\n",
    "\n",
    "import matplotlib.pyplot as plt\n",
    "\n",
    "import time"
   ]
  },
  {
   "cell_type": "code",
   "execution_count": 2,
   "metadata": {},
   "outputs": [],
   "source": [
    "ntdir = '/nh/nest/u/jsmith/scratch/Gits/ANI-Networks/networks/al_networks/ANI-AL-0808.0303.0400/'\n",
    "cns = ntdir + 'train0/rHCNOSFCl-4.6A_16-3.1A_a4-8.params'\n",
    "sae = ntdir + 'train0/sae_wb97x-631gd.dat'\n",
    "nnf = ntdir + 'train'\n",
    "Nn = 5\n",
    "\n",
    "file = '/nh/nest/u/jsmith/Research/confs_test/aceclofenac.xyz'"
   ]
  },
  {
   "cell_type": "code",
   "execution_count": 3,
   "metadata": {},
   "outputs": [],
   "source": [
    "mol = read(file)"
   ]
  },
  {
   "cell_type": "code",
   "execution_count": 4,
   "metadata": {},
   "outputs": [],
   "source": [
    "# Set NC\n",
    "aens = ensemblemolecule(cns, sae, nnf, Nn, 1)\n",
    "\n",
    "# Set ANI calculator\n",
    "mol.set_calculator(ANIENS(aens,sdmx=20000000.0))"
   ]
  },
  {
   "cell_type": "code",
   "execution_count": 5,
   "metadata": {
    "scrolled": false
   },
   "outputs": [
    {
     "name": "stdout",
     "output_type": "stream",
     "text": [
      "-51520.2830146513\n",
      "[[-1.1231874e+00  1.7534773e+00 -5.8566552e-01]\n",
      " [ 1.2525893e+00 -1.0031166e+00  1.2996064e-01]\n",
      " [-4.2323336e-01 -6.9029737e-01 -7.9708442e-02]\n",
      " [-1.4242256e-01 -7.3398285e-02  7.5389527e-02]\n",
      " [-3.1846599e-03  1.6548336e-02 -9.1995280e-03]\n",
      " [ 1.1858958e-02 -1.8355444e-02 -7.7216960e-02]\n",
      " [ 3.7642699e-02  6.3666657e-02 -9.7910939e-03]\n",
      " [-8.1255278e-03  8.7919994e-04  8.1041716e-03]\n",
      " [ 2.2011777e-02 -6.5949699e-03 -1.9453533e-03]\n",
      " [-1.5019313e-02  2.2285614e-02  5.5714897e-03]\n",
      " [ 3.2578467e-03 -2.1733260e-03  1.8488604e-03]\n",
      " [ 2.5047369e-03 -1.8180470e-03  2.2035050e-03]\n",
      " [ 5.9288023e-03 -4.3465942e-04  3.8403585e-03]\n",
      " [-7.9267230e-03 -5.5420366e-03 -3.8186742e-03]\n",
      " [-2.4382803e-03  2.2216369e-03  5.5944757e-04]\n",
      " [-8.6260057e-04 -7.3761347e-04  1.7080898e-06]\n",
      " [-6.2728452e-04  2.1564506e-04 -5.2791124e-04]\n",
      " [-2.9998261e-04  2.3193147e-04 -2.4857142e-04]\n",
      " [-1.9857430e-04 -3.5596186e-05  2.9189771e-04]\n",
      " [ 3.8795686e-05  4.0240973e-04 -2.5597270e-04]\n",
      " [-1.6369784e-04 -5.4618322e-05 -2.1497095e-04]\n",
      " [-9.5389460e-06 -2.9149032e-05 -2.3112430e-05]\n",
      " [-2.6860598e-05 -2.8458322e-04  1.0112955e-05]\n",
      " [ 4.0379268e-01 -6.5916151e-02  5.8449417e-01]\n",
      " [-6.6924680e-05  1.9291489e-03 -3.4840606e-02]\n",
      " [-1.1394368e-02  1.1061967e-02 -4.2284750e-03]\n",
      " [-2.1934001e-04  4.2947562e-04 -4.0183547e-03]\n",
      " [-3.9439662e-03  2.4257035e-03  2.3904475e-03]\n",
      " [-1.7631501e-03 -8.6300550e-03 -5.0785774e-03]\n",
      " [-2.0434013e-04 -2.3113555e-04 -4.4007586e-05]\n",
      " [-4.3905634e-04  1.5499584e-04 -1.8398775e-04]\n",
      " [-4.1531862e-04 -1.2871725e-04  4.0590257e-05]\n",
      " [ 6.3786106e-03  1.8604663e-03  2.0109133e-03]\n",
      " [-6.9805625e-04  8.8108536e-05  3.5040310e-04]\n",
      " [ 4.8318412e-04  2.6738321e-04 -1.7077033e-04]\n",
      " [ 3.8190300e-04 -3.6724121e-04  1.1280964e-04]]\n"
     ]
    }
   ],
   "source": [
    "print(mol.get_potential_energy())\n",
    "F = mol.get_forces()\n",
    "print(F)"
   ]
  },
  {
   "cell_type": "code",
   "execution_count": null,
   "metadata": {},
   "outputs": [],
   "source": [
    "OPT (Pert)\n",
    "[[-1.1231874e+00  1.7534771e+00 -5.8566552e-01]\n",
    " [ 1.2525893e+00 -1.0031167e+00  1.2996067e-01]\n",
    " [-4.2323336e-01 -6.9029713e-01 -7.9708442e-02]\n",
    " [-1.4242253e-01 -7.3398225e-02  7.5389624e-02]\n",
    " [-3.1845409e-03  1.6548395e-02 -9.1995662e-03]\n",
    " [ 1.1858765e-02 -1.8355483e-02 -7.7216893e-02]\n",
    " [ 3.7642691e-02  6.3666709e-02 -9.7911581e-03]\n",
    " [-8.1254626e-03  8.7921508e-04  8.1041465e-03]\n",
    " [ 2.2011815e-02 -6.5949447e-03 -1.9453190e-03]\n",
    " [-1.5019266e-02  2.2285553e-02  5.5714455e-03]\n",
    " [ 3.2578148e-03 -2.1734019e-03  1.8488123e-03]\n",
    " [ 2.5046912e-03 -1.8180369e-03  2.2036091e-03]\n",
    " [ 5.9287464e-03 -4.3448454e-04  3.8403738e-03]\n",
    " [-7.9266923e-03 -5.5419961e-03 -3.8186046e-03]\n",
    " [-2.4382400e-03  2.2215962e-03  5.5940700e-04]\n",
    " [-8.6272211e-04 -7.3758559e-04  1.6624731e-06]\n",
    " [-6.2726933e-04  2.1565266e-04 -5.2787573e-04]\n",
    " [-3.0001430e-04  2.3191057e-04 -2.4857902e-04]\n",
    " [-1.9865540e-04 -3.5596186e-05  2.9208904e-04]\n",
    " [ 3.8796952e-05  4.0244899e-04 -2.5608548e-04]\n",
    " [-1.6367757e-04 -5.4547363e-05 -2.1505204e-04]\n",
    " [-9.5034666e-06 -2.9245335e-05 -2.2990787e-05]\n",
    " [-2.6865666e-05 -2.8454870e-04  1.0139565e-05]\n",
    " [ 4.0379268e-01 -6.5916121e-02  5.8449411e-01]\n",
    " [-6.6958892e-05  1.9291441e-03 -3.4840569e-02]\n",
    " [-1.1394363e-02  1.1061952e-02 -4.2284802e-03]\n",
    " [-2.1932986e-04  4.2949335e-04 -4.0183379e-03]\n",
    " [-3.9440123e-03  2.4256655e-03  2.3904284e-03]\n",
    " [-1.7631665e-03 -8.6300494e-03 -5.0785746e-03]\n",
    " [-2.0433820e-04 -2.3113810e-04 -4.4011744e-05]\n",
    " [-4.3903929e-04  1.5499711e-04 -1.8397951e-04]\n",
    " [-4.1531480e-04 -1.2872208e-04  4.0590890e-05]\n",
    " [ 6.3786041e-03  1.8604583e-03  2.0109208e-03]\n",
    " [-6.9806131e-04  8.8111869e-05  3.5039283e-04]\n",
    " [ 4.8320822e-04  2.6737055e-04 -1.7077634e-04]\n",
    " [ 3.8189537e-04 -3.6724785e-04  1.1280014e-04]]"
   ]
  },
  {
   "cell_type": "code",
   "execution_count": null,
   "metadata": {},
   "outputs": [],
   "source": []
  },
  {
   "cell_type": "code",
   "execution_count": null,
   "metadata": {},
   "outputs": [],
   "source": []
  },
  {
   "cell_type": "code",
   "execution_count": null,
   "metadata": {},
   "outputs": [],
   "source": []
  },
  {
   "cell_type": "code",
   "execution_count": null,
   "metadata": {},
   "outputs": [],
   "source": []
  },
  {
   "cell_type": "code",
   "execution_count": null,
   "metadata": {},
   "outputs": [],
   "source": [
    "ORIGINAL (CORRECT)\n",
    "-51520.40165594666\n",
    "[[ 4.2631538e-04  1.7084699e-04 -1.1227269e-04]\n",
    " [-7.7770034e-07 -5.3456938e-04 -2.1955289e-04]\n",
    " [ 6.3294356e-05 -4.6665693e-04 -1.2979454e-04]\n",
    " [ 4.3469362e-04  4.4479262e-04  2.8526114e-04]\n",
    " [-1.3825009e-04  4.8526219e-04  2.9764351e-04]\n",
    " [ 2.6501241e-04 -6.7968795e-06 -1.8074833e-04]\n",
    " [-1.6051481e-04 -7.0705792e-05 -4.5716140e-04]\n",
    " [ 2.0242130e-04 -3.2306972e-04  2.2615716e-04]\n",
    " [ 5.9860566e-04 -2.4891480e-05 -8.6357373e-05]\n",
    " [-6.3930708e-04  3.5417773e-04  5.0244987e-04]\n",
    " [ 8.8775050e-05 -3.4397704e-04 -5.3749041e-04]\n",
    " [-3.0955325e-05  1.5166932e-04 -2.6333632e-04]\n",
    " [ 6.0191919e-04 -5.9888309e-05 -4.2108723e-04]\n",
    " [-5.9443551e-05  4.5608531e-04  7.7042071e-04]\n",
    " [-2.3785529e-04  5.8222035e-05  1.6282607e-04]\n",
    " [-3.8348389e-04 -2.4165922e-04  7.5262389e-05]\n",
    " [-6.8400125e-04  2.0669914e-04 -5.4233620e-04]\n",
    " [ 2.5745272e-04  4.3667544e-04  1.6497764e-04]\n",
    " [-1.9857430e-04 -3.5596186e-05  2.9189771e-04]\n",
    " [ 3.8795686e-05  4.0240973e-04 -2.5597270e-04]\n",
    " [-1.6369784e-04 -5.4618322e-05 -2.1497095e-04]\n",
    " [-4.6396177e-04 -2.9421717e-04  3.7628663e-05]\n",
    " [ 1.0271093e-04 -2.5636677e-04 -4.0298502e-05]\n",
    " [ 2.2776207e-04  9.9940989e-05 -1.9940395e-04]\n",
    " [ 1.5408287e-04  2.5317870e-05  1.9056478e-04]\n",
    " [ 3.0095538e-04  3.9632749e-04 -1.7766413e-05]\n",
    " [-6.6586107e-04 -3.4651032e-04 -2.4544413e-04]\n",
    " [ 3.2881995e-05  1.5292344e-04 -9.8354547e-05]\n",
    " [-2.3865962e-04 -3.7274562e-04 -3.7061144e-04]\n",
    " [-3.9940853e-05 -4.8780331e-04  2.0164816e-04]\n",
    " [-1.8423864e-04  6.9024311e-05  2.6610975e-05]\n",
    " [ 2.5624515e-05  3.1077838e-05  2.8371302e-04]\n",
    " [ 2.9947577e-04 -9.5604873e-06  5.8454426e-04]\n",
    " [-6.9805625e-04  8.8108536e-05  3.5040310e-04]\n",
    " [ 4.8318412e-04  2.6738321e-04 -1.7077033e-04]\n",
    " [ 3.8190300e-04 -3.6724121e-04  1.1280964e-04]]\n"
   ]
  },
  {
   "cell_type": "code",
   "execution_count": null,
   "metadata": {},
   "outputs": [],
   "source": [
    "dyn = QuasiNewton(mol)\n",
    "dyn.run(fmax=0.0001, steps=5000)\n",
    "mol.get_all_distances()"
   ]
  },
  {
   "cell_type": "code",
   "execution_count": null,
   "metadata": {},
   "outputs": [],
   "source": [
    "Esp = mol.get_potential_energy()\n",
    "print(aens.ncl[0].energy())\n",
    "S = mol.get_chemical_symbols()\n",
    "E = 0.0\n",
    "for i,s in enumerate(S):\n",
    "    E += aens.ncl[0].activations(i,3)[0]\n",
    "Esae = hdt.evtokcal*Esp-hdt.hatokcal*E\n",
    "print(Esae)"
   ]
  },
  {
   "cell_type": "code",
   "execution_count": null,
   "metadata": {},
   "outputs": [],
   "source": [
    "E = []\n",
    "Ee = []\n",
    "x = []\n",
    "Xs = mol.get_positions()\n",
    "for i in range(1,500):\n",
    "    x.append(i/100)\n",
    "    mol.set_positions(x[-1]*Xs)\n",
    "    E.append(mol.get_potential_energy())\n",
    "    for nc in aens.ncl:\n",
    "        Ee.append(nc.energy())\n",
    "\n",
    "E = np.array(E)"
   ]
  },
  {
   "cell_type": "code",
   "execution_count": null,
   "metadata": {},
   "outputs": [],
   "source": [
    "plt.plot(x,hdt.evtokcal*(E)-Esae,'-o')\n",
    "plt.ylim([-450,300])\n",
    "plt.xlim([0.5,4.5])\n",
    "plt.show()"
   ]
  },
  {
   "cell_type": "code",
   "execution_count": null,
   "metadata": {},
   "outputs": [],
   "source": []
  },
  {
   "cell_type": "code",
   "execution_count": null,
   "metadata": {},
   "outputs": [],
   "source": []
  }
 ],
 "metadata": {
  "kernelspec": {
   "display_name": "Python 3",
   "language": "python",
   "name": "python3"
  },
  "language_info": {
   "codemirror_mode": {
    "name": "ipython",
    "version": 3
   },
   "file_extension": ".py",
   "mimetype": "text/x-python",
   "name": "python",
   "nbconvert_exporter": "python",
   "pygments_lexer": "ipython3",
   "version": "3.6.4"
  }
 },
 "nbformat": 4,
 "nbformat_minor": 2
}
