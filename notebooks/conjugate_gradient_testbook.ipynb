{
 "cells": [
  {
   "cell_type": "code",
   "execution_count": 1,
   "metadata": {},
   "outputs": [
    {
     "ename": "ModuleNotFoundError",
     "evalue": "No module named 'batch_optimizers'",
     "output_type": "error",
     "traceback": [
      "\u001b[0;31m---------------------------------------------------------------------------\u001b[0m",
      "\u001b[0;31mModuleNotFoundError\u001b[0m                       Traceback (most recent call last)",
      "\u001b[0;32m<ipython-input-1-315af10072a5>\u001b[0m in \u001b[0;36m<module>\u001b[0;34m()\u001b[0m\n\u001b[1;32m     12\u001b[0m \u001b[0;32mimport\u001b[0m \u001b[0mpyaniasetools\u001b[0m \u001b[0;32mas\u001b[0m \u001b[0mpya\u001b[0m\u001b[0;34m\u001b[0m\u001b[0m\n\u001b[1;32m     13\u001b[0m \u001b[0;34m\u001b[0m\u001b[0m\n\u001b[0;32m---> 14\u001b[0;31m \u001b[0;32mimport\u001b[0m \u001b[0mbatch_optimizers\u001b[0m \u001b[0;32mas\u001b[0m \u001b[0mopt\u001b[0m\u001b[0;34m\u001b[0m\u001b[0m\n\u001b[0m\u001b[1;32m     15\u001b[0m \u001b[0;34m\u001b[0m\u001b[0m\n\u001b[1;32m     16\u001b[0m \u001b[0;32mimport\u001b[0m \u001b[0mmatplotlib\u001b[0m\u001b[0;34m.\u001b[0m\u001b[0mpyplot\u001b[0m \u001b[0;32mas\u001b[0m \u001b[0mplt\u001b[0m\u001b[0;34m\u001b[0m\u001b[0m\n",
      "\u001b[0;31mModuleNotFoundError\u001b[0m: No module named 'batch_optimizers'"
     ]
    }
   ],
   "source": [
    "import pyNeuroChem as pyc\n",
    "import hdnntools as hdt\n",
    "import numpy as np\n",
    "import time\n",
    "\n",
    "from ase_interface import ANIENS\n",
    "from ase_interface import ensemblemolecule\n",
    "\n",
    "from ase.atoms import Atoms\n",
    "from ase.optimize import BFGS, LBFGS\n",
    "\n",
    "import pyaniasetools as pya\n",
    "\n",
    "import batch_optimizers as opt\n",
    "\n",
    "import matplotlib.pyplot as plt"
   ]
  },
  {
   "cell_type": "code",
   "execution_count": null,
   "metadata": {
    "collapsed": true
   },
   "outputs": [],
   "source": [
    "mol = hdt.readxyz2('/nh/nest/u/jsmith/Research/confs_test/capsaicin.xyz')\n",
    "N = 50\n",
    "\n",
    "wkdir = '/home/jsmith48/scratch/ANI-2x_retrain/model1/'\n",
    "cns = wkdir + 'rHCNOSFCl-4.6R_16-3.1A_a4-8.params'\n",
    "sae = wkdir + 'sae_linfit.dat'\n",
    "nnf = wkdir + 'train'\n",
    "Nn = 5\n",
    "\n",
    "#wkdir = '/nh/nest/u/jsmith/scratch/Gits/ANI-Networks/networks/ANI-1x/ANI-9.0.4_netarch8/'\n",
    "#cns = wkdir + 'rHCNO-4.6A_16-3.1A_a4-8.params'\n",
    "#sae = wkdir + 'sae_6-31gd.dat'\n",
    "#nnf = wkdir + 'train'\n",
    "#Nn = 1"
   ]
  },
  {
   "cell_type": "code",
   "execution_count": null,
   "metadata": {},
   "outputs": [],
   "source": [
    "Xl = np.stack([mol[0][0] for i in range(N)])\n",
    "S = list(mol[1])\n",
    "Xl.shape"
   ]
  },
  {
   "cell_type": "code",
   "execution_count": null,
   "metadata": {
    "collapsed": true
   },
   "outputs": [],
   "source": [
    "X = Xl+np.random.uniform(-0.15,0.15,size=Xl.shape)\n",
    "X = np.asarray(X, dtype=np.float32)\n",
    "hdt.writexyzfile('/nh/nest/u/jsmith/Research/confs_test/verify1.xyz',X,S)"
   ]
  },
  {
   "cell_type": "code",
   "execution_count": null,
   "metadata": {
    "collapsed": true
   },
   "outputs": [],
   "source": [
    "# Set NC\n",
    "aens = ensemblemolecule(cns, sae, nnf, Nn, 0)"
   ]
  },
  {
   "cell_type": "code",
   "execution_count": null,
   "metadata": {
    "collapsed": true
   },
   "outputs": [],
   "source": []
  },
  {
   "cell_type": "code",
   "execution_count": null,
   "metadata": {},
   "outputs": [],
   "source": [
    "from ase.parallel import world\n",
    "from ase import parallel\n",
    "print(parallel.size)"
   ]
  },
  {
   "cell_type": "code",
   "execution_count": null,
   "metadata": {
    "scrolled": false
   },
   "outputs": [],
   "source": [
    "start_time = time.time()\n",
    "for i,x in enumerate(X[0:1]):\n",
    "    mol = Atoms(S,x)\n",
    "    mol.set_calculator(ANIENS(aens))\n",
    "    \n",
    "    dyn = LBFGS(mol)\n",
    "    dyn.run(fmax=0.00018)\n",
    "    print('Molecule',i,'complete')\n",
    "print('[ANI Total time:', time.time() - start_time, 'seconds]')"
   ]
  },
  {
   "cell_type": "code",
   "execution_count": null,
   "metadata": {
    "collapsed": true
   },
   "outputs": [],
   "source": [
    "# molopt = opt.moleculeOptimizer(cns, sae, nnf, Nn, 0)"
   ]
  },
  {
   "cell_type": "code",
   "execution_count": null,
   "metadata": {
    "collapsed": true,
    "scrolled": false
   },
   "outputs": [],
   "source": [
    "# start_time = time.time()\n",
    "# X_it = molopt.optimizeGradientDescent(X,S,alpha=0.0004,convergence=1.0, printer=False)\n",
    "# X_it = molopt.optimizeConjugateGradient(X_it,S,alpha=0.0001,convergence=0.005, maxsteps=5000, printstep=100, printer=False)\n",
    "# print('[Complete Optimization Time:',time.time()-start_time,'s]')\n",
    "# hdt.writexyzfile('/nh/nest/u/jsmith/Research/confs_test/verify_mol1.xyz',np.array(X_it),S)"
   ]
  },
  {
   "cell_type": "code",
   "execution_count": null,
   "metadata": {},
   "outputs": [],
   "source": [
    "cnfopt = opt.conformerOptimizer(cns, sae, nnf, Nn, 0)"
   ]
  },
  {
   "cell_type": "code",
   "execution_count": null,
   "metadata": {
    "collapsed": true
   },
   "outputs": [],
   "source": [
    "start_time = time.time()\n",
    "X_it = cnfopt.optimizeGradientDescent(X,S,alpha=0.0004,convergence=10.0, maxsteps=10000, printstep=10)\n",
    "X_it = cnfopt.optimizeConjugateGradient(X_it,S,alpha=0.0003,convergence=0.005, maxsteps=10000, printstep=10)\n",
    "print('[Complete Optimization Time:',time.time()-start_time,'s]')\n",
    "hdt.writexyzfile('/nh/nest/u/jsmith/Research/confs_test/verify_mol2.xyz',np.array(X_it),S)"
   ]
  },
  {
   "cell_type": "code",
   "execution_count": null,
   "metadata": {
    "collapsed": true,
    "scrolled": true
   },
   "outputs": [],
   "source": []
  },
  {
   "cell_type": "code",
   "execution_count": null,
   "metadata": {
    "collapsed": true
   },
   "outputs": [],
   "source": []
  },
  {
   "cell_type": "code",
   "execution_count": null,
   "metadata": {
    "collapsed": true
   },
   "outputs": [],
   "source": []
  },
  {
   "cell_type": "code",
   "execution_count": null,
   "metadata": {
    "collapsed": true
   },
   "outputs": [],
   "source": []
  },
  {
   "cell_type": "code",
   "execution_count": null,
   "metadata": {
    "collapsed": true
   },
   "outputs": [],
   "source": []
  },
  {
   "cell_type": "code",
   "execution_count": null,
   "metadata": {
    "collapsed": true
   },
   "outputs": [],
   "source": []
  },
  {
   "cell_type": "code",
   "execution_count": null,
   "metadata": {
    "collapsed": true
   },
   "outputs": [],
   "source": []
  }
 ],
 "metadata": {
  "kernelspec": {
   "display_name": "Python 3",
   "language": "python",
   "name": "python3"
  },
  "language_info": {
   "codemirror_mode": {
    "name": "ipython",
    "version": 3
   },
   "file_extension": ".py",
   "mimetype": "text/x-python",
   "name": "python",
   "nbconvert_exporter": "python",
   "pygments_lexer": "ipython3",
   "version": "3.6.4"
  }
 },
 "nbformat": 4,
 "nbformat_minor": 2
}
