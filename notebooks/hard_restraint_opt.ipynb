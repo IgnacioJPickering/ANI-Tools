{
 "cells": [
  {
   "cell_type": "code",
   "execution_count": 1,
   "metadata": {
    "collapsed": false
   },
   "outputs": [],
   "source": [
    "import sys\n",
    "sys.path.insert(0,'/home/jujuman/Gits/ase')\n",
    "\n",
    "from ase_interface import ANIENS\n",
    "from ase_interface import ensemblemolecule\n",
    "\n",
    "import pyNeuroChem as pync\n",
    "import pyaniasetools as pya\n",
    "import hdnntools as hdt\n",
    "\n",
    "import numpy as np\n",
    "import  ase\n",
    "import time\n",
    "#from ase.build import molecule\n",
    "#from ase.neb import NEB\n",
    "#from ase.calculators.mopac import MOPAC\n",
    "from ase.md.langevin import Langevin\n",
    "from ase.io.trajectory import Trajectory\n",
    "from ase import units\n",
    "from ase import Atoms\n",
    "\n",
    "from ase.md.velocitydistribution import MaxwellBoltzmannDistribution\n",
    "\n",
    "from ase.optimize.fire import FIRE as QuasiNewton\n",
    "\n",
    "from ase.md.nvtberendsen import NVTBerendsen\n",
    "from ase.md import MDLogger\n",
    "\n",
    "#from ase.neb import NEBtools\n",
    "from ase.io import read, write\n",
    "from ase.optimize import BFGS, LBFGS, MDMin, GradientDescent\n",
    "\n",
    "import math\n",
    "\n",
    "np.set_printoptions(precision=3)"
   ]
  },
  {
   "cell_type": "code",
   "execution_count": 2,
   "metadata": {
    "collapsed": true
   },
   "outputs": [],
   "source": [
    "#----------------Parameters--------------------\n",
    "\n",
    "dir = '/home/jujuman/Research/hard_const_test/'\n",
    "\n",
    "# Molecule file\n",
    "molfile = dir + 'butaneoh.xyz'\n",
    "\n",
    "# Optimized structure out:\n",
    "intfile = dir + 'butaneoh_int.xyz'\n",
    "optfile = dir + 'butaneoh_opt.xyz'\n",
    "\n",
    "C = 0.001 # Optimization convergence\n",
    "\n",
    "wkdir = '/home/jujuman/Research/DataReductionMethods/model6r/model-gdb_r06_comb09_1/cv4/'\n",
    "cnstfile = wkdir + 'rHCNO-4.6A_16-3.1A_a4-8.params'\n",
    "saefile  = wkdir + 'sae_6-31gd.dat'\n",
    "nnfdir   = wkdir + '/train'\n",
    "Nn = 5\n",
    "#nnfdir   = wkdir + 'networks/'\n",
    "#----------------------------------------------"
   ]
  },
  {
   "cell_type": "code",
   "execution_count": 3,
   "metadata": {
    "collapsed": false
   },
   "outputs": [
    {
     "name": "stdout",
     "output_type": "stream",
     "text": [
      "['C', 'C', 'C', 'C', 'H', 'H', 'H', 'H', 'O', 'H', 'H', 'H', 'H', 'H', 'H']\n"
     ]
    }
   ],
   "source": [
    "# Load molecule\n",
    "mol = read(molfile)\n",
    "#print('test')\n",
    "#L = 90.0\n",
    "#mol.set_cell(([[L, 0, 0],\n",
    "#               [0, L, 0],\n",
    "#               [0, 0, L]]))\n",
    "\n",
    "#mol.set_pbc((True, True, True))\n",
    "\n",
    "print(mol.get_chemical_symbols())\n",
    "\n",
    "# Set NC\n",
    "aens = ensemblemolecule(cnstfile, saefile, nnfdir, Nn, 1)\n",
    "\n",
    "# Set ANI calculator\n",
    "mol.set_calculator(ANIENS(aens,sdmx=20000000.0))"
   ]
  },
  {
   "cell_type": "code",
   "execution_count": 4,
   "metadata": {
    "collapsed": false
   },
   "outputs": [
    {
     "data": {
      "text/plain": [
       "-6352.6628316252882"
      ]
     },
     "execution_count": 4,
     "metadata": {},
     "output_type": "execute_result"
    }
   ],
   "source": [
    "mol.get_potential_energy()"
   ]
  },
  {
   "cell_type": "code",
   "execution_count": 5,
   "metadata": {
    "collapsed": false
   },
   "outputs": [
    {
     "name": "stdout",
     "output_type": "stream",
     "text": [
      "[[ -2.043e-01  -2.364e+00  -5.808e-02]\n",
      " [  1.446e-01  -1.297e-02   2.432e-02]\n",
      " [ -1.055e+01  -1.494e+01  -5.886e-01]\n",
      " [  2.678e-02   2.943e-02   4.033e-03]\n",
      " [ -2.281e-01  -2.081e-01   2.640e-01]\n",
      " [ -2.254e-01   1.482e-01  -1.894e-01]\n",
      " [ -2.105e-02   1.925e-02  -1.257e-02]\n",
      " [ -2.020e-02   3.962e-02   1.070e-02]\n",
      " [  1.627e+01   2.383e+01   2.816e+00]\n",
      " [ -2.869e-02  -5.640e-03   8.067e-05]\n",
      " [ -2.803e+00  -2.982e+00  -1.512e+00]\n",
      " [ -2.684e+00  -2.565e+00   1.096e+00]\n",
      " [  5.689e-03  -2.369e-02  -3.181e-02]\n",
      " [  5.568e-03  -1.068e-02   2.924e-02]\n",
      " [  3.143e-01  -9.515e-01  -1.851e+00]]\n"
     ]
    }
   ],
   "source": [
    "F = mol.get_forces()\n",
    "print(F)"
   ]
  },
  {
   "cell_type": "code",
   "execution_count": 6,
   "metadata": {
    "collapsed": false
   },
   "outputs": [
    {
     "data": {
      "text/plain": [
       "180.0"
      ]
     },
     "execution_count": 6,
     "metadata": {},
     "output_type": "execute_result"
    }
   ],
   "source": [
    "#Butane\n",
    "#dhl = [3, 1, 0, 2]\n",
    "#dhl1 = [3, 6, 7, 9, 12, 13]\n",
    "#dhl2 = [2, 4, 5, 8, 10, 11]\n",
    "\n",
    "##Butane OH\n",
    "dhl = [3, 1, 0, 2]\n",
    "dhl1 = [3, 6, 7, 9, 12, 13]\n",
    "dhl2 = [2, 4, 5, 8, 10, 11, 14]\n",
    "\n",
    "##Butane 2OH\n",
    "#dhl = [3, 1, 0, 2]\n",
    "#dhl1 = [3, 6, 7, 12, 13, 14, 15]\n",
    "#dhl2 = [2, 4, 5, 8, 9, 10, 11]\n",
    "\n",
    "#Butane OH ene\n",
    "#dhl = [3, 1, 0, 2]\n",
    "#dhl1 = [3, 7, 10, 11, 13, 14, 15]\n",
    "#dhl2 = [2, 4, 5, 6, 8, 9, 12]\n",
    "\n",
    "#Butane OH 2ene\n",
    "#dhl = [3, 1, 0, 2]\n",
    "#dhl1 = [3, 5, 8, 9, 11, 12, 13]\n",
    "#dhl2 = [2, 4, 6, 7, 10, 14, 15, 16]\n",
    "\n",
    "#but2Neneoh\n",
    "#dhl = [3, 1, 0, 2]\n",
    "#dhl1 = [3, 5, 8, 9, 11, 15, 16, 17]\n",
    "#dhl2 = [2, 4, 6, 7, 10, 12, 13, 14]\n",
    "\n",
    "#Ethene\n",
    "#dhl = [3, 0, 1, 5]\n",
    "#dhl1 = [2, 3]\n",
    "#dhl2 = [4, 5]\n",
    "\n",
    "# Phi diala\n",
    "#dhl = [2, 5, 6, 7]\n",
    "#dhl1 = [0, 1, 2, 3, 4, 11, 12, 13, 14, 15, 16, 17, 22, 23, 24, 25, 26 ]\n",
    "#dhl2 = [7, 8, 9, 10, 18, 19, 20, 21, 27, 28, 29, 30, 31]\n",
    "\n",
    "# Psi diala\n",
    "#dhl = [5, 6, 7, 10]\n",
    "#dhl1 = [0, 1, 2, 3, 4, 5, 9, 11, 12, 13, 14, 15, 16, 17, 18, 19, 20, 21, 22, 23, 24, 25, 26 ]\n",
    "#dhl2 = [8, 10, 27, 28, 29, 30, 31]\n",
    "math.degrees(mol.get_dihedral(dhl))"
   ]
  },
  {
   "cell_type": "code",
   "execution_count": null,
   "metadata": {
    "collapsed": false
   },
   "outputs": [],
   "source": []
  },
  {
   "cell_type": "code",
   "execution_count": 7,
   "metadata": {
    "collapsed": false
   },
   "outputs": [],
   "source": [
    "# Save optimized mol\n",
    "spc = mol.get_chemical_symbols()\n",
    "pos = mol.get_positions(wrap=True).reshape(1,len(spc),3)\n",
    "\n",
    "hdt.writexyzfile(intfile, pos, spc)"
   ]
  },
  {
   "cell_type": "code",
   "execution_count": 8,
   "metadata": {
    "collapsed": false,
    "scrolled": true
   },
   "outputs": [
    {
     "name": "stdout",
     "output_type": "stream",
     "text": [
      "Initial: 180.14\n",
      "0 Steps: 0 Angle: 180.14 180.14 0.06 Energy:-172971.05 Forces: 0.01\n",
      "1 Steps: 44 Angle: 185.14 185.39 0.05 Energy:-172970.96 Forces: 0.14\n",
      "2 Steps: 93 Angle: 190.14 190.53 0.05 Energy:-172970.70 Forces: 0.28\n",
      "3 Steps: 141 Angle: 195.14 195.67 0.05 Energy:-172970.31 Forces: 0.44\n",
      "4 Steps: 148 Angle: 200.14 200.89 0.05 Energy:-172969.82 Forces: 0.60\n",
      "5 Steps: 132 Angle: 205.14 206.22 0.05 Energy:-172969.26 Forces: 0.75\n",
      "6 Steps: 102 Angle: 210.14 211.58 0.05 Energy:-172968.67 Forces: 0.91\n",
      "7 Steps: 84 Angle: 215.14 216.78 0.05 Energy:-172968.10 Forces: 1.03\n",
      "8 Steps: 104 Angle: 220.14 221.82 0.06 Energy:-172967.59 Forces: 1.12\n",
      "9 Steps: 125 Angle: 225.14 226.90 0.08 Energy:-172967.18 Forces: 1.18\n",
      "10 Steps: 171 Angle: 230.14 231.90 0.09 Energy:-172966.90 Forces: 1.21\n",
      "11 Steps: 191 Angle: 235.14 236.18 0.10 Energy:-172966.76 Forces: 1.18\n",
      "12 Steps: 166 Angle: 240.14 241.13 0.11 Energy:-172966.73 Forces: 1.17\n",
      "13 Steps: 150 Angle: 245.14 246.38 0.11 Energy:-172966.82 Forces: 1.15\n",
      "14 Steps: 113 Angle: 250.14 251.00 0.10 Energy:-172967.04 Forces: 1.09\n",
      "15 Steps: 111 Angle: 255.14 255.76 0.10 Energy:-172967.38 Forces: 1.01\n",
      "16 Steps: 87 Angle: 260.14 260.57 0.09 Energy:-172967.82 Forces: 0.94\n",
      "17 Steps: 97 Angle: 265.14 265.49 0.08 Energy:-172968.33 Forces: 0.88\n",
      "18 Steps: 135 Angle: 270.14 270.52 0.07 Energy:-172968.86 Forces: 0.82\n",
      "19 Steps: 112 Angle: 275.14 275.53 0.05 Energy:-172969.33 Forces: 0.82\n",
      "20 Steps: 99 Angle: 280.14 280.70 0.04 Energy:-172969.69 Forces: 0.80\n",
      "21 Steps: 153 Angle: 285.14 285.48 0.04 Energy:-172969.87 Forces: 0.76\n",
      "22 Steps: 211 Angle: 290.14 289.38 0.03 Energy:-172969.85 Forces: 0.74\n",
      "23 Steps: 198 Angle: 295.14 292.90 0.03 Energy:-172969.64 Forces: 0.86\n",
      "24 Steps: 176 Angle: 300.14 298.37 0.03 Energy:-172969.29 Forces: 0.94\n",
      "25 Steps: 165 Angle: 305.14 300.74 0.03 Energy:-172968.81 Forces: 1.19\n",
      "26 Steps: 238 Angle: 310.14 304.00 0.03 Energy:-172968.24 Forces: 1.42\n",
      "27 Steps: 337 Angle: 315.14 307.74 0.03 Energy:-172967.59 Forces: 1.57\n",
      "28 Steps: 300 Angle: 320.14 312.17 0.04 Energy:-172966.93 Forces: 1.63\n",
      "29 Steps: 220 Angle: 325.14 318.87 0.04 Energy:-172966.25 Forces: 1.69\n",
      "30 Steps: 221 Angle: 330.14 326.51 0.04 Energy:-172965.52 Forces: 1.83\n",
      "31 Steps: 173 Angle: 335.14 334.46 0.04 Energy:-172964.65 Forces: 2.07\n",
      "32 Steps: 162 Angle: 340.14 341.97 0.06 Energy:-172963.65 Forces: 2.32\n",
      "33 Steps: 142 Angle: 345.14 347.54 0.08 Energy:-172962.67 Forces: 2.45\n",
      "34 Steps: 151 Angle: 350.14 349.84 0.08 Energy:-172961.95 Forces: 2.54\n",
      "35 Steps: 100 Angle: 355.14 354.43 0.09 Energy:-172961.56 Forces: 2.54\n",
      "36 Steps: 136 Angle: 0.14 0.81 0.10 Energy:-172961.45 Forces: 2.49\n",
      "37 Steps: 131 Angle: 5.14 4.76 0.10 Energy:-172961.58 Forces: 2.44\n",
      "38 Steps: 137 Angle: 10.14 8.41 0.09 Energy:-172962.00 Forces: 2.41\n",
      "39 Steps: 158 Angle: 15.14 12.06 0.08 Energy:-172962.75 Forces: 2.33\n",
      "40 Steps: 151 Angle: 20.14 17.66 0.07 Energy:-172963.73 Forces: 2.19\n",
      "41 Steps: 187 Angle: 25.14 25.22 0.06 Energy:-172964.73 Forces: 2.00\n",
      "42 Steps: 223 Angle: 30.14 33.18 0.05 Energy:-172965.60 Forces: 1.88\n",
      "43 Steps: 265 Angle: 35.14 40.40 0.04 Energy:-172966.35 Forces: 1.78\n",
      "44 Steps: 331 Angle: 40.14 46.33 0.04 Energy:-172967.06 Forces: 1.71\n",
      "45 Steps: 308 Angle: 45.14 50.86 0.03 Energy:-172967.77 Forces: 1.64\n",
      "46 Steps: 263 Angle: 50.14 55.33 0.02 Energy:-172968.44 Forces: 1.45\n",
      "47 Steps: 216 Angle: 55.14 58.77 0.02 Energy:-172969.00 Forces: 1.20\n",
      "48 Steps: 228 Angle: 60.14 63.49 0.01 Energy:-172969.43 Forces: 0.95\n",
      "49 Steps: 253 Angle: 65.14 66.86 0.02 Energy:-172969.74 Forces: 0.76\n",
      "50 Steps: 232 Angle: 70.14 71.24 0.02 Energy:-172969.92 Forces: 0.68\n",
      "51 Steps: 284 Angle: 75.14 72.98 0.02 Energy:-172969.91 Forces: 0.70\n",
      "52 Steps: 92 Angle: 80.14 79.65 0.02 Energy:-172969.71 Forces: 0.77\n",
      "53 Steps: 163 Angle: 85.14 84.71 0.04 Energy:-172969.32 Forces: 0.83\n",
      "54 Steps: 181 Angle: 90.14 89.78 0.06 Energy:-172968.81 Forces: 0.89\n",
      "55 Steps: 173 Angle: 95.14 94.86 0.08 Energy:-172968.25 Forces: 0.99\n",
      "56 Steps: 123 Angle: 100.14 99.95 0.09 Energy:-172967.71 Forces: 1.08\n",
      "57 Steps: 107 Angle: 105.14 104.83 0.10 Energy:-172967.25 Forces: 1.13\n",
      "58 Steps: 104 Angle: 110.14 109.64 0.11 Energy:-172966.93 Forces: 1.16\n",
      "59 Steps: 84 Angle: 115.14 114.33 0.11 Energy:-172966.73 Forces: 1.18\n",
      "60 Steps: 74 Angle: 120.14 119.20 0.11 Energy:-172966.67 Forces: 1.20\n",
      "61 Steps: 83 Angle: 125.14 124.05 0.11 Energy:-172966.71 Forces: 1.22\n",
      "62 Steps: 96 Angle: 130.14 129.02 0.10 Energy:-172966.87 Forces: 1.21\n",
      "63 Steps: 110 Angle: 135.14 133.79 0.08 Energy:-172967.15 Forces: 1.17\n",
      "64 Steps: 124 Angle: 140.14 138.71 0.07 Energy:-172967.57 Forces: 1.11\n",
      "65 Steps: 133 Angle: 145.14 143.71 0.06 Energy:-172968.08 Forces: 1.01\n",
      "66 Steps: 151 Angle: 150.14 148.85 0.05 Energy:-172968.66 Forces: 0.88\n",
      "67 Steps: 172 Angle: 155.14 154.14 0.05 Energy:-172969.25 Forces: 0.74\n",
      "68 Steps: 166 Angle: 160.14 159.50 0.05 Energy:-172969.82 Forces: 0.60\n",
      "69 Steps: 159 Angle: 165.14 164.73 0.05 Energy:-172970.31 Forces: 0.45\n",
      "70 Steps: 121 Angle: 170.14 169.89 0.05 Energy:-172970.70 Forces: 0.29\n",
      "71 Steps: 100 Angle: 175.14 175.06 0.05 Energy:-172970.96 Forces: 0.14\n",
      "72 Steps: 0 Angle: 180.14 180.14 0.06 Energy:-172971.05 Forces: 0.01\n",
      "73 Steps: 44 Angle: 185.14 185.39 0.05 Energy:-172970.96 Forces: 0.14\n",
      "74 Steps: 93 Angle: 190.14 190.53 0.05 Energy:-172970.70 Forces: 0.28\n",
      "75 Steps: 141 Angle: 195.14 195.67 0.05 Energy:-172970.31 Forces: 0.44\n"
     ]
    }
   ],
   "source": [
    "dyn = QuasiNewton(mol, logfile='/home/jujuman/Research/hard_const_test/log.out')\n",
    "dyn.run(fmax=C, steps=5000)\n",
    "# Save optimized mol\n",
    "spc = mol.get_chemical_symbols()\n",
    "pos = mol.get_positions()\n",
    "\n",
    "print('Initial:','{:.2f}'.format(math.degrees(mol.get_dihedral(dhl))))\n",
    "\n",
    "#dhls = []\n",
    "#for i in dhl1:\n",
    "#    for j in dhl2:\n",
    "#        dhls.append([i,dhl[1],dhl[2],j])\n",
    "dhls = [dhl]\n",
    "\n",
    "ai = []\n",
    "for atom in dhl2:\n",
    "    dhlt = dhl[0:3]\n",
    "    dhlt.append(atom)\n",
    "    a = math.degrees(mol.get_dihedral(dhlt))\n",
    "    ai.append(a)\n",
    "        \n",
    "# Optimize molecule\n",
    "X = [pos]\n",
    "A = []\n",
    "E = []\n",
    "Sig = []\n",
    "for i in range(0,76):\n",
    "    molc = Atoms(symbols=spc, positions=pos)\n",
    "    molc.set_calculator(ANIENS(aens,sdmx=20000000.0))\n",
    "    molc.calc.set_hard_tortional_restraint(tres=dhls)\n",
    "    da = 5.0\n",
    "    for atom,angle in zip(dhl2,ai):\n",
    "        dhlt = dhl[0:3]\n",
    "        dhlt.append(atom)\n",
    "        a = math.degrees(molc.get_dihedral(dhlt))\n",
    "        molc.set_dihedral(dhlt, angle=math.radians(angle+i*da))\n",
    "    an = molc.get_dihedral(dhl)\n",
    "    #pos = mol.get_positions()\n",
    "    #X.append(pos)\n",
    "    \n",
    "    dyn = QuasiNewton(molc, logfile='/home/jujuman/Research/hard_const_test/log.out')\n",
    "    for j in range(1):\n",
    "        #for atom,angle in zip(dhl2,ai):\n",
    "        #    dhlt = dhl[0:3]\n",
    "        #    dhlt.append(atom)\n",
    "        #    a = math.degrees(molc.get_dihedral(dhlt))\n",
    "        #    molc.set_dihedral(dhlt, angle=math.radians(angle+i*da))\n",
    "        #for angle in aset:\n",
    "        #    molc.set_dihedral(dhlt, angle=math.radians(angle))\n",
    "        molc.calc.calculate(molc)\n",
    "        energy = hdt.evtokcal*molc.get_potential_energy()\n",
    "        forces = hdt.evtokcal*molc.get_forces()\n",
    "        #print(forces)\n",
    "        Sig.append(hdt.evtokcal*molc.calc.stddev)\n",
    "        \n",
    "        dyn.run(fmax=C, steps=1500)\n",
    "        #print('[ANI Total time:', time.time() - start_time, 'seconds]')\n",
    "    \n",
    "    print(i,'Steps:',dyn.nsteps,'Angle:', '{:.2f}'.format(math.degrees(an)), '{:.2f}'.format(math.degrees(molc.get_dihedral(dhl))), '{:.2f}'.format(hdt.evtokcal*molc.calc.stddev),'Energy:''{:.2f}'.format(energy), 'Forces:','{:.2f}'.format(np.mean(np.abs(forces.flatten()))))\n",
    "\n",
    "    E.append(hdt.evtokcal*molc.get_potential_energy())\n",
    "    #print(hdt.evtokcal*np.mean(np.abs(mol.get_forces())))\n",
    "    A.append(math.degrees(molc.get_dihedral(dhl)))\n",
    "    \n",
    "    # Save optimized mol\n",
    "    spc = molc.get_chemical_symbols()\n",
    "    pos2 = molc.get_positions()\n",
    "    X.append(pos2)\n",
    "\n",
    "hdt.writexyzfile(optfile, np.stack(X), spc)"
   ]
  },
  {
   "cell_type": "code",
   "execution_count": 9,
   "metadata": {
    "collapsed": false
   },
   "outputs": [
    {
     "data": {
      "text/plain": [
       "180.1400450298822"
      ]
     },
     "execution_count": 9,
     "metadata": {},
     "output_type": "execute_result"
    }
   ],
   "source": [
    "math.degrees(mol.get_dihedral(dhl))"
   ]
  },
  {
   "cell_type": "code",
   "execution_count": 10,
   "metadata": {
    "collapsed": true
   },
   "outputs": [],
   "source": [
    "import matplotlib.pyplot as plt"
   ]
  },
  {
   "cell_type": "code",
   "execution_count": 11,
   "metadata": {
    "collapsed": false,
    "scrolled": true
   },
   "outputs": [
    {
     "data": {
      "image/png": "[encoded data removed]",
      "text/plain": [
       "<matplotlib.figure.Figure at 0x2ba3d3cc4f98>"
      ]
     },
     "metadata": {},
     "output_type": "display_data"
    }
   ],
   "source": [
    "fig = plt.figure(figsize=[16,12])\n",
    "E = np.array(E)\n",
    "A = np.array(A)\n",
    "Sig = np.array(Sig)\n",
    "plt.errorbar(A,E-E.min(),yerr = Sig)\n",
    "plt.show()"
   ]
  },
  {
   "cell_type": "code",
   "execution_count": null,
   "metadata": {
    "collapsed": true
   },
   "outputs": [],
   "source": []
  },
  {
   "cell_type": "markdown",
   "metadata": {},
   "source": [
    "#### "
   ]
  }
 ],
 "metadata": {
  "kernelspec": {
   "display_name": "Python 3",
   "language": "python",
   "name": "python3"
  },
  "language_info": {
   "codemirror_mode": {
    "name": "ipython",
    "version": 3
   },
   "file_extension": ".py",
   "mimetype": "text/x-python",
   "name": "python",
   "nbconvert_exporter": "python",
   "pygments_lexer": "ipython3",
   "version": "3.5.2"
  }
 },
 "nbformat": 4,
 "nbformat_minor": 1
}
