{
 "cells": [
  {
   "cell_type": "code",
   "execution_count": 1,
   "metadata": {},
   "outputs": [
    {
     "name": "stdout",
     "output_type": "stream",
     "text": [
      "van Der Waals correction will be unavailable. Please install ased3\n"
     ]
    }
   ],
   "source": [
    "import aniensemblestats as aes\n",
    "import pandas as pd"
   ]
  },
  {
   "cell_type": "code",
   "execution_count": 4,
   "metadata": {},
   "outputs": [],
   "source": [
    "error_store = '/home/jsmith48/scratch/train_test/network_arch_hps4/error_stats/'\n",
    "\n",
    "wkdir = {#'0707.0001.0400' : '/home/jujuman/Research/DataReductionMethods/al_working_network/ANI-AL-0707.0001.0400/',# 9.0.5\n",
    "         #'0707.0001.0401' : '/home/jujuman/Research/DataReductionMethods/al_working_network/ANI-AL-0707.0001.0401/',# 9.0.5\n",
    "         #'0707.0001.0410_0512' : '/home/jsmith48/scratch/train_test/network_arch_hps4/ANI-0707.0001.0410_netarch1/',# 9.0.5\n",
    "         #'0707.0001.0410_1024' : '/home/jsmith48/scratch/train_test/network_arch_hps4/ANI-0707.0001.0410_netarch2/',# 9.0.5\n",
    "         #'0707.0001.0410_1536' : '/home/jsmith48/scratch/train_test/network_arch_hps4/ANI-0707.0001.0410_netarch3/',# 9.0.5\n",
    "         #'0707.0001.0410_2058' : '/home/jsmith48/scratch/train_test/network_arch_hps4/ANI-0707.0001.0410_netarch4/',# 9.0.5\n",
    "         #'0707.0001.0410_40' : '/home/jsmith48/scratch/train_test/network_arch_hps3/ANI-0707.0001.0410_netarch5/',# 9.0.5\n",
    "         #'0707.0001.0410_48' : '/home/jsmith48/scratch/train_test/network_arch_hps3/ANI-0707.0001.0410_netarch6/',# 9.0.5\n",
    "         #'0707.0001.0410_56' : '/home/jsmith48/scratch/train_test/network_arch_hps3/ANI-0707.0001.0410_netarch7/',# 9.0.5\n",
    "         #'0707.0001.0410_64' : '/home/jsmith48/scratch/train_test/network_arch_hps3/ANI-0707.0001.0410_netarch8/',# 9.0.5\n",
    "         '0808.0000.0402' : '/home/jsmith48/scratch/auto_al/modelCNOSFCl/ANI-AL-0808/ANI-AL-0808.0000/ANI-AL-0808.0000.0402/'\n",
    "         #'7.0.4' : '/home/jujuman/Research/DataReductionMethods/model6r/model-gdb01-06_red03-07/cv4/',# 9.0.4\n",
    "         #'9.0.3' : '/home/jsmith48/scratch/train_test/network_arch_hps3/ANI-9.0.3/',# 9.0.3\n",
    "        }\n",
    "\n",
    "h5files = {'GDB-07 (SFCl)' : ['/home/jsmith48/scratch/extensibility_test_sets/COMP6v2/benchmarks/ts_gdb-07.h5'],\n",
    "           'GDB-07 (CHNO)' : ['/home/jsmith48/scratch/extensibility_test_sets/COMP6v1/COMP6v1/GDB07to09/gdb11_07_test500.h5'],\n",
    "           'GDB-08 (SFCl)' : ['/home/jsmith48/scratch/extensibility_test_sets/COMP6v2/benchmarks/ts_gdb-08.h5'],\n",
    "           'GDB-08 (CHNO)' : ['/home/jsmith48/scratch/extensibility_test_sets/COMP6v1/COMP6v1/GDB07to09/gdb11_08_test500.h5'],\n",
    "           'GDB-09 (SFCl)' : ['/home/jsmith48/scratch/extensibility_test_sets/COMP6v2/benchmarks/ts_gdb-09.h5'],\n",
    "           'GDB-09 (CHNO)' : ['/home/jsmith48/scratch/extensibility_test_sets/COMP6v1/COMP6v1/GDB07to09/gdb11_09_test500.h5'],\n",
    "           'GDB-10 (SFCl)' : ['/home/jsmith48/scratch/extensibility_test_sets/COMP6v2/benchmarks/ts_gdb-10.h5'],\n",
    "           'GDB-10 (CHNO)' : ['/home/jsmith48/scratch/extensibility_test_sets/COMP6v1/COMP6v1/GDB10to13/gdb11_10_test500.h5'],\n",
    "           'GDB-11 (SFCl)' : ['/home/jsmith48/scratch/extensibility_test_sets/COMP6v2/benchmarks/ts_gdb-11.h5'],\n",
    "           'GDB-11 (CHNO)' : ['/home/jsmith48/scratch/extensibility_test_sets/COMP6v1/COMP6v1/GDB10to13/gdb11_11_test500.h5'],\n",
    "           }"
   ]
  },
  {
   "cell_type": "code",
   "execution_count": 5,
   "metadata": {},
   "outputs": [
    {
     "name": "stdout",
     "output_type": "stream",
     "text": [
      "Generating data for: 0808.0000.0402\n",
      "   -Working on GDB-07 (SFCl) ...\n",
      "   -Working on GDB-07 (CHNO) ...\n",
      "   -Working on GDB-08 (SFCl) ...\n",
      "   -Working on GDB-08 (CHNO) ...\n",
      "   -Working on GDB-09 (SFCl) ...\n",
      "   -Working on GDB-09 (CHNO) ...\n",
      "   -Working on GDB-10 (SFCl) ...\n",
      "   -Working on GDB-10 (CHNO) ...\n",
      "   -Working on GDB-11 (SFCl) ...\n",
      "   -Working on GDB-11 (CHNO) ...\n",
      "  Storing...\n"
     ]
    }
   ],
   "source": [
    "# Declare stats generator\n",
    "for k in wkdir.keys():\n",
    "    netens = {'cns': wkdir[k] + 'train0/rHCNOSFCl-4.6A_16-3.1A_a4-8.params',\n",
    "              'sae': wkdir[k] + 'train0/sae_wb97x-631gd.dat',\n",
    "              #'cns': wkdir[k] + 'rHCNO-4.6A_16-3.1A_a4-8.params',\n",
    "              #'sae': wkdir[k] + 'sae_6-31gd.dat',\n",
    "              'nnf': wkdir[k] + 'train',\n",
    "              'nts': 5}\n",
    "\n",
    "    #netens = {'cns': wkdir[k] + 'rHCNO-4.6A_16-3.1A_a4-8.params',\n",
    "    #          'sae': wkdir[k] + 'sae_6-31gd.dat',\n",
    "    #          'nnf': wkdir[k] + 'train',\n",
    "    #          'nts': 5}\n",
    "    print('Generating data for:',k)\n",
    "    est = aes.generate_ensemble_data(netens, h5files, gpu=5)\n",
    "    est.generate_stats()\n",
    "    print('  Storing...')\n",
    "    est.store_data(error_store+'tsdata_' + k + '.h5')"
   ]
  },
  {
   "cell_type": "code",
   "execution_count": null,
   "metadata": {
    "collapsed": true
   },
   "outputs": [],
   "source": []
  }
 ],
 "metadata": {
  "kernelspec": {
   "display_name": "Python 3",
   "language": "python",
   "name": "python3"
  },
  "language_info": {
   "codemirror_mode": {
    "name": "ipython",
    "version": 3
   },
   "file_extension": ".py",
   "mimetype": "text/x-python",
   "name": "python",
   "nbconvert_exporter": "python",
   "pygments_lexer": "ipython3",
   "version": "3.6.3"
  }
 },
 "nbformat": 4,
 "nbformat_minor": 1
}
