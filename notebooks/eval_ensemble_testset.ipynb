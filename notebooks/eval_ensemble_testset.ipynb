{
 "cells": [
  {
   "cell_type": "code",
   "execution_count": 1,
   "metadata": {},
   "outputs": [],
   "source": [
    "import pyanitools as pyt\n",
    "import aniensemblestats as aes\n",
    "import pyaniasetools as aat\n",
    "\n",
    "import hdnntools as hdt\n",
    "\n",
    "import pandas as pd\n",
    "import numpy as np\n",
    "\n",
    "import matplotlib\n",
    "import matplotlib as mpl\n",
    "from matplotlib import gridspec \n",
    "import matplotlib.pyplot as plt\n",
    "\n",
    "import os"
   ]
  },
  {
   "cell_type": "code",
   "execution_count": 2,
   "metadata": {
    "collapsed": true
   },
   "outputs": [],
   "source": [
    "ensemble_dir = '/home/jsmith48/scratch/qm9/model/'\n",
    "\n",
    "cns = ensemble_dir + 'rHCNOSFCl-5.2R_16-3.8A_a4-8.params'\n",
    "sae = ensemble_dir + 'sae_linfit.dat'\n",
    "nnf = ensemble_dir + 'train'\n",
    "Nn = 8"
   ]
  },
  {
   "cell_type": "code",
   "execution_count": 3,
   "metadata": {
    "collapsed": true
   },
   "outputs": [],
   "source": [
    "# Set NC\n",
    "aens = aat.anicrossvalidationconformer(cns, sae, nnf, Nn, [7])"
   ]
  },
  {
   "cell_type": "code",
   "execution_count": 4,
   "metadata": {
    "collapsed": true
   },
   "outputs": [],
   "source": [
    "errors = []\n",
    "atme = []\n",
    "for i in range(Nn):\n",
    "    adl = pyt.anidataloader(ensemble_dir + 'testset/testset'+str(i)+'.h5')\n",
    "\n",
    "    Eqmt = []\n",
    "    Eait = []\n",
    "    N = 0\n",
    "    for data in adl:\n",
    "        X = data['coordinates']\n",
    "        S = data['species']\n",
    "        Eqm = hdt.hatokcal*data['energies']\n",
    "        \n",
    "        N += Eqm.size\n",
    "        \n",
    "        Esae = hdt.compute_sae(sae,S)\n",
    "        \n",
    "        atme.append((Eqm/hdt.hatokcal)-Esae)\n",
    "        \n",
    "        idx = np.where((Eqm/hdt.hatokcal)-Esae < 1.0)[0]\n",
    "        \n",
    "        X = X[idx]\n",
    "        Eqm = Eqm [idx]\n",
    "        \n",
    "        if np.where((Eqm/hdt.hatokcal)-Esae > 1.0)[0].size > 0:\n",
    "            print('HIGH E',np.where((Eqm/hdt.hatokcal)-Esae > 1.0))\n",
    "        \n",
    "        if Eqm.size > 0:\n",
    "\n",
    "            Eai = aens.compute_energy_conformations_net(X=X,S=S,netid=i)\n",
    "\n",
    "            Eqmt.append(Eqm)\n",
    "            Eait.append(Eai)\n",
    "        \n",
    "    Eqmt = np.concatenate(Eqmt)\n",
    "    Eait = np.concatenate(Eait)\n",
    "    \n",
    "    errors.append(np.array([hdt.calculatemeanabserror(Eqmt,Eait),\n",
    "                            hdt.calculaterootmeansqrerror(Eqmt,Eait)]))\n",
    "\n",
    "errors = np.stack(errors)"
   ]
  },
  {
   "cell_type": "code",
   "execution_count": 5,
   "metadata": {},
   "outputs": [
    {
     "data": {
      "text/html": [
       "<div>\n",
       "<style>\n",
       "    .dataframe thead tr:only-child th {\n",
       "        text-align: right;\n",
       "    }\n",
       "\n",
       "    .dataframe thead th {\n",
       "        text-align: left;\n",
       "    }\n",
       "\n",
       "    .dataframe tbody tr th {\n",
       "        vertical-align: top;\n",
       "    }\n",
       "</style>\n",
       "<table border=\"1\" class=\"dataframe\">\n",
       "  <thead>\n",
       "    <tr style=\"text-align: right;\">\n",
       "      <th></th>\n",
       "      <th>0</th>\n",
       "      <th>1</th>\n",
       "    </tr>\n",
       "  </thead>\n",
       "  <tbody>\n",
       "    <tr>\n",
       "      <th>0</th>\n",
       "      <td>0.41</td>\n",
       "      <td>1.01</td>\n",
       "    </tr>\n",
       "    <tr>\n",
       "      <th>1</th>\n",
       "      <td>0.39</td>\n",
       "      <td>0.75</td>\n",
       "    </tr>\n",
       "    <tr>\n",
       "      <th>2</th>\n",
       "      <td>0.38</td>\n",
       "      <td>0.70</td>\n",
       "    </tr>\n",
       "    <tr>\n",
       "      <th>3</th>\n",
       "      <td>0.38</td>\n",
       "      <td>0.93</td>\n",
       "    </tr>\n",
       "    <tr>\n",
       "      <th>4</th>\n",
       "      <td>0.40</td>\n",
       "      <td>0.85</td>\n",
       "    </tr>\n",
       "    <tr>\n",
       "      <th>5</th>\n",
       "      <td>0.39</td>\n",
       "      <td>1.03</td>\n",
       "    </tr>\n",
       "    <tr>\n",
       "      <th>6</th>\n",
       "      <td>0.40</td>\n",
       "      <td>0.89</td>\n",
       "    </tr>\n",
       "    <tr>\n",
       "      <th>7</th>\n",
       "      <td>0.37</td>\n",
       "      <td>0.73</td>\n",
       "    </tr>\n",
       "    <tr>\n",
       "      <th>8</th>\n",
       "      <td>0.39</td>\n",
       "      <td>0.86</td>\n",
       "    </tr>\n",
       "  </tbody>\n",
       "</table>\n",
       "</div>"
      ],
      "text/plain": [
       "     0    1\n",
       "0 0.41 1.01\n",
       "1 0.39 0.75\n",
       "2 0.38 0.70\n",
       "3 0.38 0.93\n",
       "4 0.40 0.85\n",
       "5 0.39 1.03\n",
       "6 0.40 0.89\n",
       "7 0.37 0.73\n",
       "8 0.39 0.86"
      ]
     },
     "execution_count": 5,
     "metadata": {},
     "output_type": "execute_result"
    }
   ],
   "source": [
    "pd.DataFrame(np.vstack([errors,np.mean(errors,axis=0)]))"
   ]
  },
  {
   "cell_type": "code",
   "execution_count": 6,
   "metadata": {},
   "outputs": [
    {
     "data": {
      "image/png": "[encoded data removed]",
      "text/plain": [
       "<matplotlib.figure.Figure at 0x2b4e2135dac8>"
      ]
     },
     "metadata": {},
     "output_type": "display_data"
    }
   ],
   "source": [
    "plt.hist(np.concatenate(atme),bins=100,log=True)\n",
    "plt.show()"
   ]
  },
  {
   "cell_type": "code",
   "execution_count": null,
   "metadata": {
    "collapsed": true
   },
   "outputs": [],
   "source": []
  }
 ],
 "metadata": {
  "kernelspec": {
   "display_name": "Python 3",
   "language": "python",
   "name": "python3"
  },
  "language_info": {
   "codemirror_mode": {
    "name": "ipython",
    "version": 3
   },
   "file_extension": ".py",
   "mimetype": "text/x-python",
   "name": "python",
   "nbconvert_exporter": "python",
   "pygments_lexer": "ipython3",
   "version": "3.6.4"
  }
 },
 "nbformat": 4,
 "nbformat_minor": 2
}
