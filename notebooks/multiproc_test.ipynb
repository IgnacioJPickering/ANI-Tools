{
 "cells": [
  {
   "cell_type": "code",
   "execution_count": 1,
   "metadata": {},
   "outputs": [],
   "source": [
    "import pyNeuroChem as pync\n",
    "import hdnntools as hdt\n",
    "\n",
    "import numpy as np\n",
    "import os, sys\n",
    "import time\n",
    "\n",
    "import multiprocessing\n",
    "from multiprocessing import Process, Value, Array, Queue\n",
    "\n",
    "import ctypes as c"
   ]
  },
  {
   "cell_type": "code",
   "execution_count": 2,
   "metadata": {},
   "outputs": [
    {
     "data": {
      "text/plain": [
       "True"
      ]
     },
     "execution_count": 2,
     "metadata": {},
     "output_type": "execute_result"
    }
   ],
   "source": [
    "isinstance(list([]), list) "
   ]
  },
  {
   "cell_type": "code",
   "execution_count": null,
   "metadata": {
    "collapsed": true
   },
   "outputs": [],
   "source": []
  },
  {
   "cell_type": "code",
   "execution_count": 3,
   "metadata": {},
   "outputs": [],
   "source": [
    "def molecule_worker(task_queue, gpuid, net_list, energy, forces, net_dict):\n",
    "        print('Building...')\n",
    "        ncl = [pync.molecule(net_dict['cns'], net_dict['sae'], net_dict['nnf'] + str(i) + '/networks/', gpuid, False) for i in net_list]\n",
    "\n",
    "        Nn = net_dict['Nn']\n",
    "        \n",
    "        set_pbc = False\n",
    "        \n",
    "        while True:\n",
    "            next_task = task_queue.get()\n",
    "            if next_task is None:\n",
    "                # Poison pill means shutdown\n",
    "                time.sleep(2)\n",
    "                print ('Exiting')\n",
    "                task_queue.task_done()\n",
    "                break\n",
    "            \n",
    "            #if not set_pbc:\n",
    "            #    for i,netid in enumerate(net_list):\n",
    "                    \n",
    "            # Atomic elements\n",
    "            S = next_task['S']\n",
    "            \n",
    "            # make it two-dimensional\n",
    "            for i,netid in enumerate(net_list):\n",
    "                ncl[i].setMolecule(next_task['X'],S)\n",
    "                energy[netid] = ncl[i].energy().copy()\n",
    "                forces[netid] = ncl[i].force().copy()\n",
    "                \n",
    "            task_queue.task_done()\n",
    "        return"
   ]
  },
  {
   "cell_type": "code",
   "execution_count": 4,
   "metadata": {},
   "outputs": [
    {
     "ename": "FileNotFoundError",
     "evalue": "[Errno 2] No such file or directory: '/home/jujuman/Research/ANI-2x_models/atazanavir.xyz'",
     "output_type": "error",
     "traceback": [
      "\u001b[0;31m---------------------------------------------------------------------------\u001b[0m",
      "\u001b[0;31mFileNotFoundError\u001b[0m                         Traceback (most recent call last)",
      "\u001b[0;32m<ipython-input-4-f134abc7412e>\u001b[0m in \u001b[0;36m<module>\u001b[0;34m()\u001b[0m\n\u001b[0;32m----> 1\u001b[0;31m \u001b[0mX\u001b[0m\u001b[0;34m,\u001b[0m\u001b[0mS\u001b[0m\u001b[0;34m,\u001b[0m\u001b[0mNa\u001b[0m\u001b[0;34m,\u001b[0m\u001b[0mcm\u001b[0m \u001b[0;34m=\u001b[0m \u001b[0mhdt\u001b[0m\u001b[0;34m.\u001b[0m\u001b[0mreadxyz2\u001b[0m\u001b[0;34m(\u001b[0m\u001b[0;34m'/home/jujuman/Research/ANI-2x_models/atazanavir.xyz'\u001b[0m\u001b[0;34m)\u001b[0m\u001b[0;34m\u001b[0m\u001b[0m\n\u001b[0m",
      "\u001b[0;32m/scratch/Gits/ANI-Tools/lib/hdnntools.py\u001b[0m in \u001b[0;36mreadxyz2\u001b[0;34m(file)\u001b[0m\n\u001b[1;32m    190\u001b[0m     \u001b[0mct\u001b[0m \u001b[0;34m=\u001b[0m \u001b[0;34m[\u001b[0m\u001b[0;34m]\u001b[0m\u001b[0;34m\u001b[0m\u001b[0m\n\u001b[1;32m    191\u001b[0m \u001b[0;34m\u001b[0m\u001b[0m\n\u001b[0;32m--> 192\u001b[0;31m     \u001b[0mfd\u001b[0m \u001b[0;34m=\u001b[0m \u001b[0mopen\u001b[0m\u001b[0;34m(\u001b[0m\u001b[0mfile\u001b[0m\u001b[0;34m,\u001b[0m \u001b[0;34m'r'\u001b[0m\u001b[0;34m)\u001b[0m\u001b[0;34m.\u001b[0m\u001b[0mread\u001b[0m\u001b[0;34m(\u001b[0m\u001b[0;34m)\u001b[0m\u001b[0;34m\u001b[0m\u001b[0m\n\u001b[0m\u001b[1;32m    193\u001b[0m \u001b[0;34m\u001b[0m\u001b[0m\n\u001b[1;32m    194\u001b[0m     \u001b[0;31m#print(fd)\u001b[0m\u001b[0;34m\u001b[0m\u001b[0;34m\u001b[0m\u001b[0m\n",
      "\u001b[0;31mFileNotFoundError\u001b[0m: [Errno 2] No such file or directory: '/home/jujuman/Research/ANI-2x_models/atazanavir.xyz'"
     ]
    }
   ],
   "source": [
    "X,S,Na,cm = hdt.readxyz2('/home/jsmith48/scratch/extensibility_test_sets/COMP6v1/ani_md_benchmark/optmol/1L2Y_prepped.xyz')"
   ]
  },
  {
   "cell_type": "code",
   "execution_count": null,
   "metadata": {},
   "outputs": [],
   "source": [
    "netdir = '/home/jsmith48/scratch/ANI-2x_retrain/darwin_trained/model-ani2x-11/'\n",
    "cns = netdir+'train0/rHCNOSFCl-5.0R_16-3.4A_a4-8.params'\n",
    "sae = netdir+'train0/sae_linfit.dat'\n",
    "nnf = netdir+'train'\n",
    "Nn = 8 # Number of models in the ensemble\n",
    "\n",
    "netdict = {'cns': cns,\n",
    "           'sae': sae,\n",
    "           'nnf': nnf,\n",
    "           'Nn': Nn, }\n",
    "\n",
    "gpu_list = [0,1]\n",
    "cores = len(gpu_list)\n",
    "\n",
    "task_list = [multiprocessing.JoinableQueue() for i in range(cores)]\n",
    "\n",
    "energy = Array('d', range(Nn))\n",
    "\n",
    "manager = multiprocessing.Manager()\n",
    "forces = manager.list()\n",
    "forces[:] = [[] for i in range(Nn)]\n",
    "\n",
    "p_list = []\n",
    "for i in range(cores):\n",
    "    net_list = [j+int(Nn/cores)*i for j in range(int(Nn/cores))]\n",
    "    p_list.append(Process(target=molecule_worker, args=(task_list[i], gpu_list[i], net_list, energy, forces, netdict)))\n",
    "    p_list[-1].start()\n",
    "\n",
    "print('reading...')\n",
    "for j in range(5):\n",
    "    \n",
    "    data_dict = {'X' : X[0]+X[0]*(j*0.001),\n",
    "                 'S' : S,}\n",
    "\n",
    "    forces[:] = [[] for i in range(Nn)]\n",
    "    \n",
    "    # Launch Jobs\n",
    "    for i in range(cores):\n",
    "        task_list[i].put(data_dict)\n",
    "        \n",
    "    # Wait for jobs\n",
    "    for i in range(cores):\n",
    "        task_list[i].join()\n",
    "\n",
    "    E = np.mean(np.array(energy[:]))\n",
    "    F = np.mean(np.stack(forces[:]),axis=0)\n",
    "\n",
    "    print(hdt.hatokcal*E,len(forces[:]))\n",
    "    print(F[0])\n",
    "\n",
    "    print('Simulating work...')\n",
    "\n",
    "# Add a poison pill for each consumer\n",
    "for task,proc in zip(task_list,p_list):\n",
    "    task.put(None)\n",
    "    task.join()\n",
    "    proc.join()\n",
    "\n",
    "print('COMPLETE!')"
   ]
  },
  {
   "cell_type": "code",
   "execution_count": null,
   "metadata": {},
   "outputs": [],
   "source": []
  },
  {
   "cell_type": "code",
   "execution_count": null,
   "metadata": {},
   "outputs": [],
   "source": []
  },
  {
   "cell_type": "code",
   "execution_count": null,
   "metadata": {
    "collapsed": true
   },
   "outputs": [],
   "source": []
  }
 ],
 "metadata": {
  "kernelspec": {
   "display_name": "Python 3",
   "language": "python",
   "name": "python3"
  },
  "language_info": {
   "codemirror_mode": {
    "name": "ipython",
    "version": 3
   },
   "file_extension": ".py",
   "mimetype": "text/x-python",
   "name": "python",
   "nbconvert_exporter": "python",
   "pygments_lexer": "ipython3",
   "version": "3.6.4"
  }
 },
 "nbformat": 4,
 "nbformat_minor": 2
}
