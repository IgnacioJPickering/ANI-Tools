{
 "cells": [
  {
   "cell_type": "code",
   "execution_count": 1,
   "metadata": {
    "collapsed": false
   },
   "outputs": [],
   "source": [
    "import numpy as np\n",
    "from itertools import product"
   ]
  },
  {
   "cell_type": "code",
   "execution_count": 2,
   "metadata": {
    "collapsed": true
   },
   "outputs": [],
   "source": [
    "dirl = '/home/jujuman/Research/RawGDB11Database/'\n",
    "dirs = '/home/jujuman/Research/RawGDB11Database/SFCl/'\n",
    "files = ['gdb11_size0'+str(i+1)+'.smi' for i in range(9)]\n",
    "rpl = [('O','S'),('F','Cl')]"
   ]
  },
  {
   "cell_type": "code",
   "execution_count": 3,
   "metadata": {
    "collapsed": false
   },
   "outputs": [],
   "source": [
    "def comb_replace(ft, smiles):\n",
    "    fc = ft[0]\n",
    "    tc = ft[1]\n",
    "    options = [(c,) if c != fc else (fc, tc) for c in smiles]\n",
    "    return product(*options)"
   ]
  },
  {
   "cell_type": "code",
   "execution_count": 4,
   "metadata": {
    "collapsed": false
   },
   "outputs": [
    {
     "name": "stdout",
     "output_type": "stream",
     "text": [
      "Working on: gdb11_size01.smi\n",
      "Working on: gdb11_size02.smi\n",
      "Working on: gdb11_size03.smi\n",
      "Working on: gdb11_size04.smi\n",
      "Working on: gdb11_size05.smi\n",
      "Working on: gdb11_size06.smi\n",
      "Working on: gdb11_size07.smi\n",
      "Working on: gdb11_size08.smi\n",
      "Working on: gdb11_size09.smi\n"
     ]
    }
   ],
   "source": [
    "for f in files:\n",
    "    print('Working on: '+f)\n",
    "    data = open(dirl+f,'r').read().split('\\n')[1:-1]\n",
    "    molset = []\n",
    "    for d in data: \n",
    "        for i in comb_replace(rpl[0], d):\n",
    "            for j in comb_replace(rpl[1], i):\n",
    "                molset.append(''.join(j))\n",
    "    #print(molset)\n",
    "    molset = [k for k in molset if (rpl[0][1] in k or rpl[1][1] in k or 'F' in k)]\n",
    "    #print(molset)\n",
    "    of = open(dirs+f.split('_')[0]+'SFCl'+f.split('_')[1],'w')\n",
    "    of.write('FILE: '+f+'\\n')\n",
    "    for k in molset:\n",
    "        of.write(k+'\\n')\n",
    "    of.close()"
   ]
  },
  {
   "cell_type": "code",
   "execution_count": null,
   "metadata": {
    "collapsed": false
   },
   "outputs": [],
   "source": []
  },
  {
   "cell_type": "code",
   "execution_count": null,
   "metadata": {
    "collapsed": true
   },
   "outputs": [],
   "source": []
  }
 ],
 "metadata": {
  "kernelspec": {
   "display_name": "Python 3",
   "language": "python",
   "name": "python3"
  },
  "language_info": {
   "codemirror_mode": {
    "name": "ipython",
    "version": 3
   },
   "file_extension": ".py",
   "mimetype": "text/x-python",
   "name": "python",
   "nbconvert_exporter": "python",
   "pygments_lexer": "ipython3",
   "version": "3.5.2"
  }
 },
 "nbformat": 4,
 "nbformat_minor": 1
}
