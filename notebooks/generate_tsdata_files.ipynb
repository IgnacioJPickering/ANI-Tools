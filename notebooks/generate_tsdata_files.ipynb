{
 "cells": [
  {
   "cell_type": "code",
   "execution_count": 1,
   "metadata": {},
   "outputs": [
    {
     "name": "stderr",
     "output_type": "stream",
     "text": [
      "/usr/local/anaconda3/lib/python3.6/site-packages/h5py/__init__.py:36: FutureWarning: Conversion of the second argument of issubdtype from `float` to `np.floating` is deprecated. In future, it will be treated as `np.float64 == np.dtype(float).type`.\n",
      "  from ._conv import register_converters as _register_converters\n"
     ]
    }
   ],
   "source": [
    "import aniensemblestats as aes\n",
    "import pandas as pd\n",
    "import os"
   ]
  },
  {
   "cell_type": "code",
   "execution_count": 2,
   "metadata": {
    "collapsed": true
   },
   "outputs": [],
   "source": [
    "#error_store = '/home/jsmith48/scratch/auto_rxn_al/error_stats/stat_files/'\n",
    "#error_store = '/home/jsmith48/scratch/transfer_learning/it1_models/stat_files/'\n",
    "#error_store = '/home/jujuman/Research/DataReductionMethods/train_test/error_compare/'\n",
    "error_store = '/home/jsmith48/scratch/ccsd_extrapolation/gdb-10to13/error_stats/'\n",
    "\n",
    "model_path = '/home/jsmith48/scratch/ccsd_extrapolation/final_train_models_3/'\n",
    "\n",
    "#wkdir = dict()\n",
    "#models = [wkdir.update({f : model_path+f+'/'}) for f in os.listdir(model_path) if 'model_' in f]\n",
    "\n",
    "wkdir = {\n",
    "         'ANI-1x':model_path+'ani-1x_dft_x8ens/',\n",
    "         'ANI-1ccx':model_path+'ani-1x_tlcc_x8ens_2/',\n",
    "         r'ANI-1ccx-$\\Delta$':model_path+'ani-1x_dtcc_x8ens/',\n",
    "         'ANI-1ccx-R':model_path+'ani-1x_rdcc_x8ens/',\n",
    "         #'CCSDT-T01':'//home/jsmith48/scratch/ccsd_extrapolation/hp_search_darwin/tl_dhl_tests/ccsd_train/random/model_01/',\n",
    "         #'CCSDT-T02':'//home/jsmith48/scratch/ccsd_extrapolation/hp_search_darwin/tl_dhl_tests/ccsd_train/random/model_02/',\n",
    "         #'CCSDT-T03':'//home/jsmith48/scratch/ccsd_extrapolation/hp_search_darwin/tl_dhl_tests/ccsd_train/random/model_03/',\n",
    "         #'CCSDT-T04':'//home/jsmith48/scratch/ccsd_extrapolation/hp_search_darwin/tl_dhl_tests/ccsd_train/random/model_04/',\n",
    "         #'CCSDT-T05':'//home/jsmith48/scratch/ccsd_extrapolation/hp_search_darwin/tl_dhl_tests/ccsd_train/random/model_05/',\n",
    "         #'CCSDT-T06':'//home/jsmith48/scratch/ccsd_extrapolation/hp_search_darwin/tl_dhl_tests/ccsd_train/random/model_06/',\n",
    "         #'CCSDT-T07':'//home/jsmith48/scratch/ccsd_extrapolation/hp_search_darwin/tl_dhl_tests/ccsd_train/random/model_07/',\n",
    "         #'CCSDT-T08':'//home/jsmith48/scratch/ccsd_extrapolation/hp_search_darwin/tl_dhl_tests/ccsd_train/random/model_08/',\n",
    "         #'CCSDT-T09':'//home/jsmith48/scratch/ccsd_extrapolation/hp_search_darwin/tl_dhl_tests/ccsd_train/random/model_09/',\n",
    "         #'CCSDT-T10':'//home/jsmith48/scratch/ccsd_extrapolation/hp_search_darwin/tl_dhl_tests/ccsd_train/random/model_10/',\n",
    "         #'CCSDT-TL' : '/home/jsmith48/scratch/ccsd_extrapolation/hp_search_darwin/tl_dhl_tests/ccsd_train/transfer_learn/model01/' \n",
    "        }\n",
    "\n",
    "#compdir = '/home/jsmith48/scratch/extensibility_test_sets/COMP6v1/COMP6v1/'\n",
    "# h5files = {\n",
    "#             'MDBenchmark': [compdir+'ANI-MD/ani_md_bench.h5'],\n",
    "#             'DrugBank'  : [compdir+'DrugBank/drugbank_testset.h5'],\n",
    "#             'Tripeptide': [compdir+'Tripeptides/tripeptide_full.h5'],\n",
    "#             's66x8'     : [compdir+'s66x8/s66x8_wb97x6-31gd.h5'],\n",
    "#             'GDB07to09' : [compdir+'GDB07to09/gdb11_07_test500.h5',\n",
    "#                            compdir+'GDB07to09/gdb11_08_test500.h5',\n",
    "#                            compdir+'GDB07to09/gdb11_09_test500.h5',\n",
    "#                           ],\n",
    "#             'GDB10to13' : [compdir+'GDB10to13/gdb11_10_test500.h5',\n",
    "#                            compdir+'GDB10to13/gdb11_11_test500.h5',\n",
    "#                            compdir+'GDB10to13/gdb13_12_test1000.h5',\n",
    "#                            compdir+'GDB10to13/gdb13_13_test1000.h5',/home/jsmith48/scratch/ANI-2x_retrain/error_stats\n",
    "#                           ],\n",
    "#            #'MDBenchmark': [compdir+'ANI-MD/ani_md_bench.h5'],\n",
    "#            }\n",
    "\n",
    "compdir = '/home/jsmith48/scratch/extensibility_test_sets/COMP6v1/COMP6v1/'\n",
    "h5files = { #'r10_ccsd' : ['/home/jsmith48/scratch/ccsd_extrapolation/h5files_holdout_split/testset/r10_ccsd_test.h5'],\n",
    "            'GDB-10to13' : ['/home/jsmith48/scratch/ccsd_extrapolation/h5files/test/CCSD_gdb11-10-13.h5'],\n",
    "#             'MDBenchmark': [compdir+'ANI-MD/ani_md_bench.h5'],\n",
    "#             'DrugBank'  : [compdir+'DrugBank/drugbank_testset.h5'],\n",
    "#             'Tripeptide': [compdir+'Tripeptides/tripeptide_full.h5'],\n",
    "#             's66x8'     : [compdir+'s66x8/s66x8_wb97x6-31gd.h5'],\n",
    "#             'GDB07to09' : [compdir+'GDB07to09/gdb11_07_test500.h5',\n",
    "#                            compdir+'GDB07to09/gdb11_08_test500.h5',\n",
    "#                            compdir+'GDB07to09/gdb11_09_test500.h5',\n",
    "#                            ],\n",
    "#             'GDB10to13' : [compdir+'GDB10to13/gdb11_10_test500.h5',\n",
    "#                            compdir+'GDB10to13/gdb11_11_test500.h5',\n",
    "#                            compdir+'GDB10to13/gdb13_12_test1000.h5',\n",
    "#                            compdir+'GDB10to13/gdb13_13_test1000.h5',\n",
    "#                            ],\n",
    "            #'MDBenchmark': [compdir+'ANI-MD/ani_md_bench.h5'],\n",
    "           }"
   ]
  },
  {
   "cell_type": "code",
   "execution_count": 3,
   "metadata": {
    "scrolled": false
   },
   "outputs": [
    {
     "name": "stdout",
     "output_type": "stream",
     "text": [
      "Generating data for: ANI-1x\n",
      "   -Working on GDB-10to13 ...\n",
      "  Storing...\n",
      "Generating data for: ANI-1ccx\n",
      "   -Working on GDB-10to13 ...\n",
      "  Storing...\n",
      "Generating data for: ANI-1ccx-$\\Delta$\n",
      "   -Working on GDB-10to13 ...\n",
      "  Storing...\n",
      "Generating data for: ANI-1ccx-R\n",
      "   -Working on GDB-10to13 ...\n",
      "  Storing...\n"
     ]
    }
   ],
   "source": [
    "#tlist = [10,30,50,100,150,200,250,300]\n",
    "# Declare stats generator\n",
    "for i,k in enumerate(wkdir.keys()):\n",
    "#k = list(wkdir.keys())[0]\n",
    "#for T in tlist:\n",
    "    #netens = {'cns': wkdir[k] + 'rHCNOSFCl-4.6A_16-3.1A_a4-8.params',\n",
    "    #          'sae': wkdir[k] + 'sae_wb97x-631gd.dat',\n",
    "    #          'nnf': wkdir[k] + 'train',\n",
    "    #          'nts': 5}\n",
    "\n",
    "    netens = {'cns': wkdir[k] + 'rHCNO-5.2R_16-3.5A_a4-8.params',\n",
    "              'sae': wkdir[k] + 'sae_linfit.dat',\n",
    "              'nnf': wkdir[k] + 'train',\n",
    "              'nts': 8}\n",
    "\n",
    "    print('Generating data for:',k)\n",
    "    est = aes.generate_ensemble_data(netens, h5files, gpu=[5])\n",
    "    #print('Generating data for:',k + '-' + str(T).zfill(3))\n",
    "    #est.generate_stats(T)\n",
    "    est.generate_stats(100.0, forces=False, grad=True)\n",
    "    print('  Storing...')\n",
    "    est.store_data(error_store + 'tsdata_' + k + '.h5')"
   ]
  },
  {
   "cell_type": "code",
   "execution_count": 4,
   "metadata": {},
   "outputs": [
    {
     "name": "stdout",
     "output_type": "stream",
     "text": [
      "finished\n"
     ]
    }
   ],
   "source": [
    "print('finished')"
   ]
  },
  {
   "cell_type": "code",
   "execution_count": null,
   "metadata": {
    "collapsed": true
   },
   "outputs": [],
   "source": []
  },
  {
   "cell_type": "code",
   "execution_count": null,
   "metadata": {
    "collapsed": true
   },
   "outputs": [],
   "source": []
  },
  {
   "cell_type": "code",
   "execution_count": null,
   "metadata": {
    "collapsed": true
   },
   "outputs": [],
   "source": []
  },
  {
   "cell_type": "code",
   "execution_count": null,
   "metadata": {
    "collapsed": true
   },
   "outputs": [],
   "source": []
  },
  {
   "cell_type": "code",
   "execution_count": null,
   "metadata": {
    "collapsed": true
   },
   "outputs": [],
   "source": []
  }
 ],
 "metadata": {
  "anaconda-cloud": {},
  "kernelspec": {
   "display_name": "Python 3",
   "language": "python",
   "name": "python3"
  },
  "language_info": {
   "codemirror_mode": {
    "name": "ipython",
    "version": 3
   },
   "file_extension": ".py",
   "mimetype": "text/x-python",
   "name": "python",
   "nbconvert_exporter": "python",
   "pygments_lexer": "ipython3",
   "version": "3.6.3"
  }
 },
 "nbformat": 4,
 "nbformat_minor": 1
}
