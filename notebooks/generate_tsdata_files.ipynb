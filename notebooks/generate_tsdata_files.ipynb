{
 "cells": [
  {
   "cell_type": "code",
   "execution_count": 1,
   "metadata": {},
   "outputs": [
    {
     "name": "stdout",
     "output_type": "stream",
     "text": [
      "van Der Waals correction will be unavailable. Please install ased3\n"
     ]
    },
    {
     "name": "stderr",
     "output_type": "stream",
     "text": [
      "/usr/local/anaconda3/lib/python3.6/site-packages/h5py/__init__.py:34: FutureWarning: Conversion of the second argument of issubdtype from `float` to `np.floating` is deprecated. In future, it will be treated as `np.float64 == np.dtype(float).type`.\n",
      "  from ._conv import register_converters as _register_converters\n"
     ]
    }
   ],
   "source": [
    "import aniensemblestats as aes\n",
    "import pandas as pd"
   ]
  },
  {
   "cell_type": "code",
   "execution_count": 2,
   "metadata": {
    "collapsed": true
   },
   "outputs": [],
   "source": [
    "#error_store = '/home/jsmith48/scratch/auto_rxn_al/error_stats/stat_files/'\n",
    "error_store = '/home/jsmith48/scratch/transfer_learning/it1_models/stat_files/'\n",
    "#error_store = '/home/jujuman/Research/DataReductionMethods/train_test/error_compare/'\n",
    "\n",
    "wkdir = {#'ANI-1x-RXN-0000.0000':'/home/jsmith48/scratch/auto_rxn_al/modelrxn/ANI-1x-RXN-0000/ANI-1x-RXN-0000.0000/',\n",
    "         #'ANI-1x-RXN-0000.0001':'/home/jsmith48/scratch/auto_rxn_al/modelrxn/ANI-1x-RXN-0000/ANI-1x-RXN-0000.0001/',\n",
    "         #'ANI-1x-RXN-0000.0002':'/home/jsmith48/scratch/auto_rxn_al/modelrxn/ANI-1x-RXN-0000/ANI-1x-RXN-0000.0002/',\n",
    "         #'ANI-1xSC1':'/home/jsmith48/scratch/transfer_learning/it1_models/ccsd_sc_16x/',\n",
    "         'ANI-1xTL_ml-1':'/home/jsmith48/scratch/transfer_learning/it1_models/ccsd_ml_16x_1/',\n",
    "         'ANI-1xTL_ml-2':'/home/jsmith48/scratch/transfer_learning/it1_models/ccsd_ml_16x_2/',\n",
    "         'ANI-1xTL_ml-3':'/home/jsmith48/scratch/transfer_learning/it1_models/ccsd_ml_16x_3/',\n",
    "         'ANI-1xTL_tl_2':'/home/jsmith48/scratch/transfer_learning/it1_models/ccsd_tl_16x_2/',\n",
    "         #'ANI-1.2': '/home/jujuman/Gits/ANI-Networks/networks/ANI-c08f-ntwk-cv/',1\n",
    "         #'6.0.0': '/home/jujuman/Research/DataReductionMethods/model6r/model-gdb06r/org_cv/cv/',\n",
    "         #'ANI-1x[DZ]': '/home/jsmith48/scratch/ANI-1x_retrain/train_ens/',\n",
    "         #'ANI-1x[TZ]': '/home/jsmith48/scratch/TZData/train_ens_7/',\n",
    "         #'ANI-1x[CCSD(T)]': '/home/jsmith48/scratch/ccsd_extrapolation/learning_cases/dft_retrain_f02/',\n",
    "         #'AL1': '/home/jujuman/Research/DataReductionMethods/model6r/model-gdb06r/org_cv/cv/', #6.0.0\n",
    "         #'6.1.5': '/home/jujuman/Research/DataReductionMethods/model6r/model-gdb01-05_red03-05/cv5_redo/',\n",
    "         #'6.2.4': '/home/jujuman/Research/DataReductionMethods/model6r/model-gdb01-06_red03-06/cv4/',\n",
    "         #'AL2': '/home/jujuman/Research/DataReductionMethods/model6r/model-gdb01-06_red03-06/cv4/', #6.2.4\n",
    "         #'7.0.4': '/home/jujuman/Research/DataReductionMethods/model6r/model-gdb01-06_red03-07/cv4/',\n",
    "         #'AL3': '/home/jujuman/Research/DataReductionMethods/model6r/model-gdb01-06_red03-07/cv4/', #7.0.4\n",
    "         #'8.0.5': '/home/jujuman/Research/DataReductionMethods/model6r/model-gdb01-06_red03-08_mdal01/cv2/',\n",
    "         #'AL4': '/home/jujuman/Research/DataReductionMethods/model6r/model-gdb01-06_red03-08_mdal01/cv2/', #8.0.5\n",
    "         #'8.1.6': '/home/jujuman/Research/DataReductionMethods/model6r/model-gdb_r06_comb08/cv6/',\n",
    "         #'8.2.4': '/home/jujuman/Research/DataReductionMethods/model6r/model-gdb_r06_comb08_2/cv4/',\n",
    "         #'8.3.4': '/home/jujuman/Research/DataReductionMethods/model6r/model-gdb_r06_comb08_3/cv4/',\n",
    "         #'AL5': '/home/jujuman/Research/DataReductionMethods/model6r/model-gdb_r06_comb08_3/cv4/', #8.3.4\n",
    "         #'9.0.1': '/home/jujuman/Research/DataReductionMethods/model6r/model-gdb_r06_comb09_1/cv1/',\n",
    "         #'9.0.2': '/home/jujuman/Research/DataReductionMethods/model6r/model-gdb_r06_comb09_1/cv2/',\n",
    "         #'9.0.3': '/home/jujuman/Research/DataReductionMethods/model6r/model-gdb_r06_comb09_1/cv3/',\n",
    "         #'9.0.4': '/home/jujuman/Research/DataReductionMethods/model6r/model-gdb_r06_comb09_1/cv4/',\n",
    "         #'9.0.5': '/home/jujuman/Research/DataReductionMethods/train_test/ANI-9.0.4_netarch8/',\n",
    "         #'9.0.5_2': '/home/jujuman/Research/DataReductionMethods/model6r/model-gdb_r06_comb09_1/cv5_2/',\n",
    "         #'9.0.5_3': '/home/jujuman/Research/DataReductionMethods/model6r/model-gdb_r06_comb09_1/cv5_3/',\n",
    "         #'9.0.5_4': '/home/jujuman/Research/DataReductionMethods/model6r/model-gdb_r06_comb09_1/cv5_4/',\n",
    "         #'9.0.5_5': '/home/jujuman/Research/DataReductionMethods/model6r/model-gdb_r06_comb09_1/cv5_5/',\n",
    "         #'9.0.5_7': '/home/jujuman/Research/DataReductionMethods/model6r/model-gdb_r06_comb09_1/cv5_7/',\n",
    "         #'9.0.5f': '/home/jujuman/Research/DataReductionMethods/model6r/model-gdb_r06_comb09_1/cv5_f2/',\n",
    "         #'ANI-FT': '/home/jujuman/Research/DataReductionMethods/model6r/model-gdb_r06_comb09_1/cv3_3/',\n",
    "         #'ANI-1': '/home/jujuman/Research/ANI-validation/',\n",
    "         #'ARC1' : '/home/jujuman/Research/DataReductionMethods/train_test/ANI-9.0.4_netarch1/',\n",
    "         #'ARC2' : '/home/jujuman/Research/DataReductionMethods/train_test/ANI-9.0.4_netarch2/',\n",
    "         #'ARC3' : '/home/jujuman/Research/DataReductionMethods/train_test/ANI-9.0.4_netarch3/',\n",
    "         #'ARC4' : '/home/jujuman/Research/DataReductionMethods/train_test/ANI-9.0.4_netarch4/',\n",
    "         #'ARC5' : '/home/jujuman/Research/DataReductionMethods/train_test/ANI-9.0.4_netarch5/',\n",
    "         #'ARC6' : '/home/jujuman/Research/DataReductionMethods/train_test/ANI-9.0.4_netarch6/',\n",
    "         #'ARC7' : '/home/jujuman/Research/DataReductionMethods/train_test/ANI-9.0.4_netarch7/',\n",
    "         #'ARC8' : '/home/jujuman/Research/DataReductionMethods/train_test/ANI-9.0.4_netarch8/',\n",
    "         #'AL6' : '/home/jujuman/Research/DataReductionMethods/train_test/net_arch_1/ANI-9.0.4_netarch8/',# 9.0.5\n",
    "        }\n",
    "\n",
    "#compdir = '/home/jsmith48/scratch/extensibility_test_sets/COMP6v1/COMP6v1/'\n",
    "# h5files = {\n",
    "#             'MDBenchmark': [compdir+'ANI-MD/ani_md_bench.h5'],\n",
    "#             'DrugBank'  : [compdir+'DrugBank/drugbank_testset.h5'],\n",
    "#             'Tripeptide': [compdir+'Tripeptides/tripeptide_full.h5'],\n",
    "#             's66x8'     : [compdir+'s66x8/s66x8_wb97x6-31gd.h5'],\n",
    "#             'GDB07to09' : [compdir+'GDB07to09/gdb11_07_test500.h5',\n",
    "#                            compdir+'GDB07to09/gdb11_08_test500.h5',\n",
    "#                            compdir+'GDB07to09/gdb11_09_test500.h5',\n",
    "#                           ],\n",
    "#             'GDB10to13' : [compdir+'GDB10to13/gdb11_10_test500.h5',\n",
    "#                            compdir+'GDB10to13/gdb11_11_test500.h5',\n",
    "#                            compdir+'GDB10to13/gdb13_12_test1000.h5',\n",
    "#                            compdir+'GDB10to13/gdb13_13_test1000.h5',\n",
    "#                           ],\n",
    "#            #'MDBenchmark': [compdir+'ANI-MD/ani_md_bench.h5'],\n",
    "#            }\n",
    "\n",
    "compdir = '/home/jsmith48/scratch/auto_rxn_al/h5files/'\n",
    "h5files = { #'RXN_DAT.0001': [compdir+'ANI-1x-RXN-0000.0001.h5'],\n",
    "            #'RXN_DAT.0002': [compdir+'ANI-1x-RXN-0000.0002.h5'],\n",
    "            #'RXN_DAT.0003': [compdir+'ANI-1x-RXN-0000.0003.h5'],\n",
    "            'r10_ccsd' : ['/home/jsmith48/scratch/ccsd_extrapolation/h5files_holdout_split/testset/r10_ccsd_test.h5'],\n",
    "            'GDB-10to13' : ['/home/jsmith48/scratch/ccsd_extrapolation/h5files/CCSD_gdb11-10-13-incomplete.h5'],\n",
    "            #'MDBenchmark': [compdir+'ani_md_bench.h5'],\n",
    "            #'DrugBank'  : [compdir+'drugbank_testset.h5'],\n",
    "            #'Tripeptide': [compdir+'tripeptide_full.h5'],\n",
    "            #'s66x8'     : [compdir+'s66x8_wb97x6-31gd.h5'],\n",
    "#             'GDB07to09' : [compdir+'gdb11_07_test500.h5',\n",
    "#                            compdir+'gdb11_08_test500.h5',\n",
    "#                            compdir+'gdb11_09_test500.h5',\n",
    "#                           ],\n",
    "#             'GDB10to13' : [compdir+'gdb11_10_test500.h5',\n",
    "#                            compdir+'gdb11_11_test500.h5',\n",
    "#                            compdir+'gdb13_12_test1000.h5',\n",
    "#                            compdir+'gdb13_13_test1000.h5',\n",
    "#                           ],\n",
    "           #'MDBenchmark': [compdir+'ANI-MD/ani_md_bench.h5'],\n",
    "           }"
   ]
  },
  {
   "cell_type": "code",
   "execution_count": 3,
   "metadata": {
    "scrolled": false
   },
   "outputs": [
    {
     "name": "stdout",
     "output_type": "stream",
     "text": [
      "Generating data for: ANI-1xTL_ml-1\n",
      "   -Working on r10_ccsd ...\n",
      "   -Working on GDB-10to13 ...\n",
      "  Storing...\n",
      "Generating data for: ANI-1xTL_ml-2\n",
      "   -Working on r10_ccsd ...\n",
      "   -Working on GDB-10to13 ...\n",
      "  Storing...\n",
      "Generating data for: ANI-1xTL_ml-3\n",
      "   -Working on r10_ccsd ...\n",
      "   -Working on GDB-10to13 ...\n",
      "  Storing...\n",
      "Generating data for: ANI-1xTL_tl_2\n",
      "   -Working on r10_ccsd ...\n",
      "   -Working on GDB-10to13 ...\n",
      "  Storing...\n"
     ]
    }
   ],
   "source": [
    "#tlist = [10,30,50,100,150,200,250,300]\n",
    "# Declare stats generator\n",
    "for i,k in enumerate(wkdir.keys()):\n",
    "#k = list(wkdir.keys())[0]\n",
    "#for T in tlist:\n",
    "    #netens = {'cns': wkdir[k] + 'rHCNOSFCl-4.6A_16-3.1A_a4-8.params',\n",
    "    #          'sae': wkdir[k] + 'sae_wb97x-631gd.dat',\n",
    "    #          'nnf': wkdir[k] + 'train',\n",
    "    #          'nts': 5}\n",
    "\n",
    "    netens = {'cns': wkdir[k] + 'rHCNO-4.6R_16-3.1A_a4-8.params',\n",
    "              'sae': wkdir[k] + 'sae_linfit.dat',\n",
    "              'nnf': wkdir[k] + 'train',\n",
    "              'nts': 16}\n",
    "\n",
    "    est = aes.generate_ensemble_data(netens, h5files, gpu=0)\n",
    "    #print('Generating data for:',k + '-' + str(T).zfill(3))\n",
    "    print('Generating data for:',k)\n",
    "    #est.generate_stats(T)\n",
    "    est.generate_stats(forces=False)\n",
    "    print('  Storing...')\n",
    "    est.store_data(error_store + 'tsdata_' + k + '.h5')\n",
    "    est.store_data(error_store + 'tsdata_' + k + '.h5')"
   ]
  },
  {
   "cell_type": "code",
   "execution_count": 4,
   "metadata": {},
   "outputs": [
    {
     "name": "stdout",
     "output_type": "stream",
     "text": [
      "finished\n"
     ]
    }
   ],
   "source": [
    "print('finished')"
   ]
  },
  {
   "cell_type": "code",
   "execution_count": null,
   "metadata": {
    "collapsed": true
   },
   "outputs": [],
   "source": []
  },
  {
   "cell_type": "code",
   "execution_count": null,
   "metadata": {
    "collapsed": true
   },
   "outputs": [],
   "source": []
  },
  {
   "cell_type": "code",
   "execution_count": null,
   "metadata": {
    "collapsed": true
   },
   "outputs": [],
   "source": []
  },
  {
   "cell_type": "code",
   "execution_count": null,
   "metadata": {
    "collapsed": true
   },
   "outputs": [],
   "source": []
  },
  {
   "cell_type": "code",
   "execution_count": null,
   "metadata": {
    "collapsed": true
   },
   "outputs": [],
   "source": []
  }
 ],
 "metadata": {
  "anaconda-cloud": {},
  "kernelspec": {
   "display_name": "Python 3",
   "language": "python",
   "name": "python3"
  },
  "language_info": {
   "codemirror_mode": {
    "name": "ipython",
    "version": 3
   },
   "file_extension": ".py",
   "mimetype": "text/x-python",
   "name": "python",
   "nbconvert_exporter": "python",
   "pygments_lexer": "ipython3",
   "version": "3.6.3"
  }
 },
 "nbformat": 4,
 "nbformat_minor": 1
}
