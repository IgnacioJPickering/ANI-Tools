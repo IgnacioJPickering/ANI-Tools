{
 "cells": [
  {
   "cell_type": "code",
   "execution_count": 1,
   "metadata": {
    "collapsed": false
   },
   "outputs": [],
   "source": [
    "import aniensemblestats as aes\n",
    "import pandas as pd"
   ]
  },
  {
   "cell_type": "code",
   "execution_count": 2,
   "metadata": {
    "collapsed": false
   },
   "outputs": [],
   "source": [
    "error_store = '/home/jujuman/Research/DataReductionMethods/model6r/error_compare/complete/'\n",
    "\n",
    "wkdir = {#'ANI-1.2': '/home/jujuman/Gits/ANI-Networks/networks/ANI-c08f-ntwk-cv/',\n",
    "         #'6.0.0': '/home/jujuman/Research/DataReductionMethods/model6r/model-gdb06r/org_cv/cv/',\n",
    "         ##'6.1.5': '/home/jujuman/Research/DataReductionMethods/model6r/model-gdb01-05_red03-05/cv5_redo/',\n",
    "         #'6.2.4': '/home/jujuman/Research/DataReductionMethods/model6r/model-gdb01-06_red03-06/cv4/',\n",
    "         #'7.0.4': '/home/jujuman/Research/DataReductionMethods/model6r/model-gdb01-06_red03-07/cv4/',\n",
    "         #'8.0.6': '/home/jujuman/Research/DataReductionMethods/model6r/model-gdb01-06_red03-08_mdal01/cv2/',\n",
    "         #'8.1.6': '/home/jujuman/Research/DataReductionMethods/model6r/model-gdb_r06_comb08/cv6/',\n",
    "         #'8.2.6': '/home/jujuman/Research/DataReductionMethods/model6r/model-gdb_r06_comb08_2/cv4/',\n",
    "         #'8.3.6': '/home/jujuman/Research/DataReductionMethods/model6r/model-gdb_r06_comb08_3/cv4/',\n",
    "         #'9.0.1': '/home/jujuman/Research/DataReductionMethods/model6r/model-gdb_r06_comb09_1/cv1/',\n",
    "         #'9.0.2': '/home/jujuman/Research/DataReductionMethods/model6r/model-gdb_r06_comb09_1/cv2/',\n",
    "         #'9.0.3': '/home/jujuman/Research/DataReductionMethods/model6r/model-gdb_r06_comb09_1/cv3/',\n",
    "         #'9.0.4': '/home/jujuman/Research/DataReductionMethods/model6r/model-gdb_r06_comb09_1/cv4_2/',\n",
    "         #'9.0.5': '/home/jujuman/Research/DataReductionMethods/model6r/model-gdb_r06_comb09_1/cv5/',\n",
    "         '9.0.5f': '/home/jujuman/Research/DataReductionMethods/model6r/model-gdb_r06_comb09_1/cv5_f2/',\n",
    "         #'ANI-FT': '/home/jujuman/Research/DataReductionMethods/model6r/model-gdb_r06_comb09_1/cv3_3/',\n",
    "         #'ANI-1': '/home/jujuman/Research/ANI-validation/',\n",
    "        }\n",
    "\n",
    "h5files = {'DrugBank'  : ['/home/jujuman/Research/extensibility_test_sets/drugbank/drugbank_testset.h5'],\n",
    "           'Tripeptide': ['/home/jujuman/Research/ForceNMPaper/polypeptide/tripeptide_full.h5'],\n",
    "           's66x8'     : ['/home/jujuman/Research/extensibility_test_sets/s66x8/s66x8_wb97x6-31gd.h5'],\n",
    "           'GDB07to09' : ['/home/jujuman/Research/extensibility_test_sets/gdb-07/gdb11_07_test500.h5',\n",
    "                          '/home/jujuman/Research/extensibility_test_sets/gdb-08/gdb11_08_test500.h5',\n",
    "                          '/home/jujuman/Research/extensibility_test_sets/gdb-09/gdb11_09_test500.h5',\n",
    "                         ],\n",
    "           'GDB10to13' : ['/home/jujuman/Research/extensibility_test_sets/gdb-10/gdb11_10_test500.h5',\n",
    "                          '/home/jujuman/Research/extensibility_test_sets/gdb-11/gdb11_11_test500.h5',\n",
    "                          '/home/jujuman/Research/extensibility_test_sets/gdb-12/gdb11_12_test500.h5',\n",
    "                          '/home/jujuman/Research/extensibility_test_sets/gdb-13/gdb11_13_test500.h5',\n",
    "                         ],\n",
    "           }"
   ]
  },
  {
   "cell_type": "code",
   "execution_count": 3,
   "metadata": {
    "collapsed": false,
    "scrolled": false
   },
   "outputs": [
    {
     "name": "stdout",
     "output_type": "stream",
     "text": [
      "Generating data for: 9.0.5f\n",
      "   -Working on Tripeptide ...\n",
      "   -Working on DrugBank ...\n",
      "   -Working on s66x8 ...\n",
      "   -Working on GDB07to09 ...\n",
      "   -Working on GDB10to13 ...\n",
      "  Storing...\n"
     ]
    }
   ],
   "source": [
    "# Declare stats generator\n",
    "for k in wkdir.keys():\n",
    "    netens = {'cns': wkdir[k] + 'rHCNO-4.6A_16-3.1A_a4-8.params',\n",
    "              'sae': wkdir[k] + 'sae_6-31gd.dat',\n",
    "              'nnf': wkdir[k] + 'train',\n",
    "              'nts': 2}\n",
    "    \n",
    "    est = aes.generate_ensemble_data(netens, h5files)\n",
    "    print('Generating data for:',k)\n",
    "    est.generate_stats(maxe=100000.0)\n",
    "    print('  Storing...')\n",
    "    est.store_data(error_store+'tsdata_' + k + '.h5')"
   ]
  },
  {
   "cell_type": "code",
   "execution_count": null,
   "metadata": {
    "collapsed": false
   },
   "outputs": [],
   "source": []
  },
  {
   "cell_type": "code",
   "execution_count": null,
   "metadata": {
    "collapsed": false
   },
   "outputs": [],
   "source": []
  },
  {
   "cell_type": "code",
   "execution_count": null,
   "metadata": {
    "collapsed": false
   },
   "outputs": [],
   "source": []
  },
  {
   "cell_type": "code",
   "execution_count": null,
   "metadata": {
    "collapsed": false
   },
   "outputs": [],
   "source": []
  },
  {
   "cell_type": "code",
   "execution_count": null,
   "metadata": {
    "collapsed": false
   },
   "outputs": [],
   "source": []
  },
  {
   "cell_type": "code",
   "execution_count": null,
   "metadata": {
    "collapsed": true
   },
   "outputs": [],
   "source": []
  }
 ],
 "metadata": {
  "anaconda-cloud": {},
  "kernelspec": {
   "display_name": "Python 3",
   "language": "python",
   "name": "python3"
  },
  "language_info": {
   "codemirror_mode": {
    "name": "ipython",
    "version": 3
   },
   "file_extension": ".py",
   "mimetype": "text/x-python",
   "name": "python",
   "nbconvert_exporter": "python",
   "pygments_lexer": "ipython3",
   "version": "3.5.2"
  }
 },
 "nbformat": 4,
 "nbformat_minor": 1
}
