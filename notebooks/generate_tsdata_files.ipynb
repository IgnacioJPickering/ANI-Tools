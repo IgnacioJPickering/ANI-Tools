{
 "cells": [
  {
   "cell_type": "code",
   "execution_count": 1,
   "metadata": {},
   "outputs": [
    {
     "name": "stdout",
     "output_type": "stream",
     "text": [
      "van Der Waals correction will be unavailable. Please install ased3\n"
     ]
    },
    {
     "name": "stderr",
     "output_type": "stream",
     "text": [
      "/usr/local/anaconda3/lib/python3.6/site-packages/h5py/__init__.py:34: FutureWarning: Conversion of the second argument of issubdtype from `float` to `np.floating` is deprecated. In future, it will be treated as `np.float64 == np.dtype(float).type`.\n",
      "  from ._conv import register_converters as _register_converters\n"
     ]
    }
   ],
   "source": [
    "import aniensemblestats as aes\n",
    "import pandas as pd"
   ]
  },
  {
   "cell_type": "code",
   "execution_count": 2,
   "metadata": {
    "collapsed": true
   },
   "outputs": [],
   "source": [
    "error_store = '/home/jsmith48/scratch/error_stats/test_post_bug/'\n",
    "#error_store = '/home/jujuman/Research/DataReductionMethods/model6r/error_compare/for_al_pub/'\n",
    "#error_store = '/home/jujuman/Research/DataReductionMethods/train_test/error_compare/'\n",
    "\n",
    "wkdir = {#'ANI-1.2': '/home/jujuman/Gits/ANI-Networks/networks/ANI-c08f-ntwk-cv/',\n",
    "         #'6.0.0': '/home/jujuman/Research/DataReductionMethods/model6r/model-gdb06r/org_cv/cv/',\n",
    "         'ANI-1x': '/home/jsmith48/scratch/ANI-AL_retrain/train_ens/',\n",
    "         #'AL1': '/home/jujuman/Research/DataReductionMethods/model6r/model-gdb06r/org_cv/cv/', #6.0.0\n",
    "         #'6.1.5': '/home/jujuman/Research/DataReductionMethods/model6r/model-gdb01-05_red03-05/cv5_redo/',\n",
    "         #'6.2.4': '/home/jujuman/Research/DataReductionMethods/model6r/model-gdb01-06_red03-06/cv4/',\n",
    "         #'AL2': '/home/jujuman/Research/DataReductionMethods/model6r/model-gdb01-06_red03-06/cv4/', #6.2.4\n",
    "         #'7.0.4': '/home/jujuman/Research/DataReductionMethods/model6r/model-gdb01-06_red03-07/cv4/',\n",
    "         #'AL3': '/home/jujuman/Research/DataReductionMethods/model6r/model-gdb01-06_red03-07/cv4/', #7.0.4\n",
    "         #'8.0.5': '/home/jujuman/Research/DataReductionMethods/model6r/model-gdb01-06_red03-08_mdal01/cv2/',\n",
    "         #'AL4': '/home/jujuman/Research/DataReductionMethods/model6r/model-gdb01-06_red03-08_mdal01/cv2/', #8.0.5\n",
    "         #'8.1.6': '/home/jujuman/Research/DataReductionMethods/model6r/model-gdb_r06_comb08/cv6/',\n",
    "         #'8.2.4': '/home/jujuman/Research/DataReductionMethods/model6r/model-gdb_r06_comb08_2/cv4/',\n",
    "         #'8.3.4': '/home/jujuman/Research/DataReductionMethods/model6r/model-gdb_r06_comb08_3/cv4/',\n",
    "         #'AL5': '/home/jujuman/Research/DataReductionMethods/model6r/model-gdb_r06_comb08_3/cv4/', #8.3.4\n",
    "         #'9.0.1': '/home/jujuman/Research/DataReductionMethods/model6r/model-gdb_r06_comb09_1/cv1/',\n",
    "         #'9.0.2': '/home/jujuman/Research/DataReductionMethods/model6r/model-gdb_r06_comb09_1/cv2/',\n",
    "         #'9.0.3': '/home/jujuman/Research/DataReductionMethods/model6r/model-gdb_r06_comb09_1/cv3/',\n",
    "         #'9.0.4': '/home/jujuman/Research/DataReductionMethods/model6r/model-gdb_r06_comb09_1/cv4/',\n",
    "         #'9.0.5': '/home/jujuman/Research/DataReductionMethods/train_test/ANI-9.0.4_netarch8/',\n",
    "         #'9.0.5_2': '/home/jujuman/Research/DataReductionMethods/model6r/model-gdb_r06_comb09_1/cv5_2/',\n",
    "         #'9.0.5_3': '/home/jujuman/Research/DataReductionMethods/model6r/model-gdb_r06_comb09_1/cv5_3/',\n",
    "         #'9.0.5_4': '/home/jujuman/Research/DataReductionMethods/model6r/model-gdb_r06_comb09_1/cv5_4/',\n",
    "         #'9.0.5_5': '/home/jujuman/Research/DataReductionMethods/model6r/model-gdb_r06_comb09_1/cv5_5/',\n",
    "         #'9.0.5_7': '/home/jujuman/Research/DataReductionMethods/model6r/model-gdb_r06_comb09_1/cv5_7/',\n",
    "         #'9.0.5f': '/home/jujuman/Research/DataReductionMethods/model6r/model-gdb_r06_comb09_1/cv5_f2/',\n",
    "         #'ANI-FT': '/home/jujuman/Research/DataReductionMethods/model6r/model-gdb_r06_comb09_1/cv3_3/',\n",
    "         #'ANI-1': '/home/jujuman/Research/ANI-validation/',\n",
    "         #'ARC1' : '/home/jujuman/Research/DataReductionMethods/train_test/ANI-9.0.4_netarch1/',\n",
    "         #'ARC2' : '/home/jujuman/Research/DataReductionMethods/train_test/ANI-9.0.4_netarch2/',\n",
    "         #'ARC3' : '/home/jujuman/Research/DataReductionMethods/train_test/ANI-9.0.4_netarch3/',\n",
    "         #'ARC4' : '/home/jujuman/Research/DataReductionMethods/train_test/ANI-9.0.4_netarch4/',\n",
    "         #'ARC5' : '/home/jujuman/Research/DataReductionMethods/train_test/ANI-9.0.4_netarch5/',\n",
    "         #'ARC6' : '/home/jujuman/Research/DataReductionMethods/train_test/ANI-9.0.4_netarch6/',\n",
    "         #'ARC7' : '/home/jujuman/Research/DataReductionMethods/train_test/ANI-9.0.4_netarch7/',\n",
    "         #'ARC8' : '/home/jujuman/Research/DataReductionMethods/train_test/ANI-9.0.4_netarch8/',\n",
    "         #'AL6' : '/home/jujuman/Research/DataReductionMethods/train_test/net_arch_1/ANI-9.0.4_netarch8/',# 9.0.5\n",
    "        }\n",
    "\n",
    "compdir = '/home/jsmith48/scratch/extensibility_test_sets/COMP6v1/COMP6v1/'\n",
    "h5files = {'DrugBank'  : [compdir+'DrugBank/drugbank_testset.h5'],\n",
    "           'Tripeptide': [compdir+'Tripeptides/tripeptide_full.h5'],\n",
    "           's66x8'     : [compdir+'s66x8/s66x8_wb97x6-31gd.h5'],\n",
    "           'GDB07to09' : [compdir+'GDB07to09/gdb11_07_test500.h5',\n",
    "                          compdir+'GDB07to09/gdb11_08_test500.h5',\n",
    "                          compdir+'GDB07to09/gdb11_09_test500.h5',\n",
    "                         ],\n",
    "           'GDB10to13' : [compdir+'GDB10to13/gdb11_10_test500.h5',\n",
    "                          compdir+'GDB10to13/gdb11_11_test500.h5',\n",
    "                          compdir+'GDB10to13/gdb13_12_test1000.h5',\n",
    "                          compdir+'GDB10to13/gdb13_13_test1000.h5',\n",
    "                         ],\n",
    "           'MDBenchmark': [compdir+'ANI-MD/ani_md_bench.h5'],\n",
    "           }"
   ]
  },
  {
   "cell_type": "code",
   "execution_count": 3,
   "metadata": {
    "scrolled": false
   },
   "outputs": [
    {
     "name": "stdout",
     "output_type": "stream",
     "text": [
      "Generating data for: ANI-1x-010\n",
      "   -Working on DrugBank ...\n"
     ]
    },
    {
     "ename": "ValueError",
     "evalue": "setting an array element with a sequence.",
     "output_type": "error",
     "traceback": [
      "\u001b[0;31m---------------------------------------------------------------------------\u001b[0m",
      "\u001b[0;31mValueError\u001b[0m                                Traceback (most recent call last)",
      "\u001b[0;32m<ipython-input-3-6e75edd8cbc6>\u001b[0m in \u001b[0;36m<module>\u001b[0;34m()\u001b[0m\n\u001b[1;32m     16\u001b[0m     \u001b[0mest\u001b[0m \u001b[0;34m=\u001b[0m \u001b[0maes\u001b[0m\u001b[0;34m.\u001b[0m\u001b[0mgenerate_ensemble_data\u001b[0m\u001b[0;34m(\u001b[0m\u001b[0mnetens\u001b[0m\u001b[0;34m,\u001b[0m \u001b[0mh5files\u001b[0m\u001b[0;34m)\u001b[0m\u001b[0;34m\u001b[0m\u001b[0m\n\u001b[1;32m     17\u001b[0m     \u001b[0mprint\u001b[0m\u001b[0;34m(\u001b[0m\u001b[0;34m'Generating data for:'\u001b[0m\u001b[0;34m,\u001b[0m\u001b[0mk\u001b[0m \u001b[0;34m+\u001b[0m \u001b[0;34m'-'\u001b[0m \u001b[0;34m+\u001b[0m \u001b[0mstr\u001b[0m\u001b[0;34m(\u001b[0m\u001b[0mT\u001b[0m\u001b[0;34m)\u001b[0m\u001b[0;34m.\u001b[0m\u001b[0mzfill\u001b[0m\u001b[0;34m(\u001b[0m\u001b[0;36m3\u001b[0m\u001b[0;34m)\u001b[0m\u001b[0;34m)\u001b[0m\u001b[0;34m\u001b[0m\u001b[0m\n\u001b[0;32m---> 18\u001b[0;31m     \u001b[0mest\u001b[0m\u001b[0;34m.\u001b[0m\u001b[0mgenerate_stats\u001b[0m\u001b[0;34m(\u001b[0m\u001b[0mT\u001b[0m\u001b[0;34m)\u001b[0m\u001b[0;34m\u001b[0m\u001b[0m\n\u001b[0m\u001b[1;32m     19\u001b[0m     \u001b[0mprint\u001b[0m\u001b[0;34m(\u001b[0m\u001b[0;34m'  Storing...'\u001b[0m\u001b[0;34m)\u001b[0m\u001b[0;34m\u001b[0m\u001b[0m\n\u001b[1;32m     20\u001b[0m     \u001b[0mest\u001b[0m\u001b[0;34m.\u001b[0m\u001b[0mstore_data\u001b[0m\u001b[0;34m(\u001b[0m\u001b[0merror_store\u001b[0m \u001b[0;34m+\u001b[0m \u001b[0;34m'tsdata_'\u001b[0m \u001b[0;34m+\u001b[0m \u001b[0mk\u001b[0m \u001b[0;34m+\u001b[0m \u001b[0;34m'-'\u001b[0m \u001b[0;34m+\u001b[0m \u001b[0mstr\u001b[0m\u001b[0;34m(\u001b[0m\u001b[0mT\u001b[0m\u001b[0;34m)\u001b[0m\u001b[0;34m.\u001b[0m\u001b[0mzfill\u001b[0m\u001b[0;34m(\u001b[0m\u001b[0;36m3\u001b[0m\u001b[0;34m)\u001b[0m \u001b[0;34m+\u001b[0m \u001b[0;34m'.h5'\u001b[0m\u001b[0;34m)\u001b[0m\u001b[0;34m\u001b[0m\u001b[0m\n",
      "\u001b[0;32m~/Gits/ANI-Tools/lib/aniensemblestats.py\u001b[0m in \u001b[0;36mgenerate_stats\u001b[0;34m(self, maxe)\u001b[0m\n\u001b[1;32m    179\u001b[0m                     \u001b[0;31m#    break\u001b[0m\u001b[0;34m\u001b[0m\u001b[0;34m\u001b[0m\u001b[0m\n\u001b[1;32m    180\u001b[0m \u001b[0;34m\u001b[0m\u001b[0m\n\u001b[0;32m--> 181\u001b[0;31m                     \u001b[0mEani\u001b[0m\u001b[0;34m,\u001b[0m \u001b[0mFani\u001b[0m \u001b[0;34m=\u001b[0m \u001b[0mself\u001b[0m\u001b[0;34m.\u001b[0m\u001b[0mcompute_energy_conformations\u001b[0m\u001b[0;34m(\u001b[0m\u001b[0mdata\u001b[0m\u001b[0;34m[\u001b[0m\u001b[0;34m'coordinates'\u001b[0m\u001b[0;34m]\u001b[0m\u001b[0;34m,\u001b[0m \u001b[0mdata\u001b[0m\u001b[0;34m[\u001b[0m\u001b[0;34m'species'\u001b[0m\u001b[0;34m]\u001b[0m\u001b[0;34m)\u001b[0m\u001b[0;34m\u001b[0m\u001b[0m\n\u001b[0m\u001b[1;32m    182\u001b[0m \u001b[0;34m\u001b[0m\u001b[0m\n\u001b[1;32m    183\u001b[0m                     \u001b[0mmidx\u001b[0m \u001b[0;34m=\u001b[0m \u001b[0mnp\u001b[0m\u001b[0;34m.\u001b[0m\u001b[0mwhere\u001b[0m\u001b[0;34m(\u001b[0m \u001b[0mdata\u001b[0m\u001b[0;34m[\u001b[0m\u001b[0;34m'energies'\u001b[0m\u001b[0;34m]\u001b[0m \u001b[0;34m-\u001b[0m \u001b[0mdata\u001b[0m\u001b[0;34m[\u001b[0m\u001b[0;34m'energies'\u001b[0m\u001b[0;34m]\u001b[0m\u001b[0;34m.\u001b[0m\u001b[0mmin\u001b[0m\u001b[0;34m(\u001b[0m\u001b[0;34m)\u001b[0m \u001b[0;34m<\u001b[0m \u001b[0mmaxe\u001b[0m\u001b[0;34m/\u001b[0m\u001b[0mhdt\u001b[0m\u001b[0;34m.\u001b[0m\u001b[0mhatokcal\u001b[0m \u001b[0;34m)\u001b[0m\u001b[0;34m[\u001b[0m\u001b[0;36m0\u001b[0m\u001b[0;34m]\u001b[0m\u001b[0;34m\u001b[0m\u001b[0m\n",
      "\u001b[0;32m~/Gits/ANI-Tools/lib/pyaniasetools.py\u001b[0m in \u001b[0;36mcompute_energy_conformations\u001b[0;34m(self, X, S)\u001b[0m\n\u001b[1;32m    160\u001b[0m             \u001b[0;32mfor\u001b[0m \u001b[0mi\u001b[0m\u001b[0;34m,\u001b[0m \u001b[0mnc\u001b[0m \u001b[0;32min\u001b[0m \u001b[0menumerate\u001b[0m\u001b[0;34m(\u001b[0m\u001b[0mself\u001b[0m\u001b[0;34m.\u001b[0m\u001b[0mncl\u001b[0m\u001b[0;34m)\u001b[0m\u001b[0;34m:\u001b[0m\u001b[0;34m\u001b[0m\u001b[0m\n\u001b[1;32m    161\u001b[0m                 \u001b[0mnc\u001b[0m\u001b[0;34m.\u001b[0m\u001b[0msetConformers\u001b[0m\u001b[0;34m(\u001b[0m\u001b[0mconfs\u001b[0m\u001b[0;34m=\u001b[0m\u001b[0mx\u001b[0m\u001b[0;34m,\u001b[0m\u001b[0mtypes\u001b[0m\u001b[0;34m=\u001b[0m\u001b[0mlist\u001b[0m\u001b[0;34m(\u001b[0m\u001b[0mS\u001b[0m\u001b[0;34m)\u001b[0m\u001b[0;34m)\u001b[0m\u001b[0;34m\u001b[0m\u001b[0m\n\u001b[0;32m--> 162\u001b[0;31m                 \u001b[0menergies\u001b[0m\u001b[0;34m[\u001b[0m\u001b[0mi\u001b[0m\u001b[0;34m,\u001b[0m\u001b[0mj\u001b[0m\u001b[0;34m+\u001b[0m\u001b[0mshift\u001b[0m\u001b[0;34m]\u001b[0m \u001b[0;34m=\u001b[0m \u001b[0mnc\u001b[0m\u001b[0;34m.\u001b[0m\u001b[0menergy\u001b[0m\u001b[0;34m(\u001b[0m\u001b[0;34m)\u001b[0m\u001b[0;34m.\u001b[0m\u001b[0mcopy\u001b[0m\u001b[0;34m(\u001b[0m\u001b[0;34m)\u001b[0m\u001b[0;34m\u001b[0m\u001b[0m\n\u001b[0m\u001b[1;32m    163\u001b[0m             \u001b[0mshift\u001b[0m \u001b[0;34m+=\u001b[0m \u001b[0mx\u001b[0m\u001b[0;34m.\u001b[0m\u001b[0mshape\u001b[0m\u001b[0;34m[\u001b[0m\u001b[0;36m0\u001b[0m\u001b[0;34m]\u001b[0m\u001b[0;34m\u001b[0m\u001b[0m\n\u001b[1;32m    164\u001b[0m \u001b[0;34m\u001b[0m\u001b[0m\n",
      "\u001b[0;31mValueError\u001b[0m: setting an array element with a sequence."
     ]
    }
   ],
   "source": [
    "tlist = [10,30,50,100,150,200,250,300]\n",
    "# Declare stats generator\n",
    "#for k in wkdir.keys():\n",
    "k = list(wkdir.keys())[0]\n",
    "for T in tlist:\n",
    "    #netens = {'cns': wkdir[k] + 'rHCNOSFCl-4.6A_16-3.1A_a4-8.params',\n",
    "    #          'sae': wkdir[k] + 'sae_wb97x-631gd.dat',\n",
    "    #          'nnf': wkdir[k] + 'train',\n",
    "    #          'nts': 5}\n",
    "\n",
    "    netens = {'cns': wkdir[k] + 'rHCNO-4.6R_16-3.1A_a4-8.params',\n",
    "              'sae': wkdir[k] + 'sae_linfit.dat',\n",
    "              'nnf': wkdir[k] + 'train',\n",
    "              'nts': 5}\n",
    "\n",
    "    est = aes.generate_ensemble_data(netens, h5files)\n",
    "    print('Generating data for:',k + '-' + str(T).zfill(3))\n",
    "    est.generate_stats(T)\n",
    "    print('  Storing...')\n",
    "    est.store_data(error_store + 'tsdata_' + k + '-' + str(T).zfill(3) + '.h5')"
   ]
  },
  {
   "cell_type": "code",
   "execution_count": null,
   "metadata": {
    "collapsed": true
   },
   "outputs": [],
   "source": []
  },
  {
   "cell_type": "code",
   "execution_count": null,
   "metadata": {
    "collapsed": true
   },
   "outputs": [],
   "source": []
  },
  {
   "cell_type": "code",
   "execution_count": null,
   "metadata": {
    "collapsed": true
   },
   "outputs": [],
   "source": []
  },
  {
   "cell_type": "code",
   "execution_count": null,
   "metadata": {
    "collapsed": true
   },
   "outputs": [],
   "source": []
  },
  {
   "cell_type": "code",
   "execution_count": null,
   "metadata": {
    "collapsed": true
   },
   "outputs": [],
   "source": []
  },
  {
   "cell_type": "code",
   "execution_count": null,
   "metadata": {
    "collapsed": true
   },
   "outputs": [],
   "source": []
  }
 ],
 "metadata": {
  "anaconda-cloud": {},
  "kernelspec": {
   "display_name": "Python 3",
   "language": "python",
   "name": "python3"
  },
  "language_info": {
   "codemirror_mode": {
    "name": "ipython",
    "version": 3
   },
   "file_extension": ".py",
   "mimetype": "text/x-python",
   "name": "python",
   "nbconvert_exporter": "python",
   "pygments_lexer": "ipython3",
   "version": "3.6.3"
  }
 },
 "nbformat": 4,
 "nbformat_minor": 1
}
