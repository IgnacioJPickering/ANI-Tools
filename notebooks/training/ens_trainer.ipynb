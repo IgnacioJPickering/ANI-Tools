{
 "cells": [
  {
   "cell_type": "code",
   "execution_count": 1,
   "metadata": {},
   "outputs": [
    {
     "name": "stderr",
     "output_type": "stream",
     "text": [
      "/usr/local/anaconda3/lib/python3.6/site-packages/h5py/__init__.py:34: FutureWarning: Conversion of the second argument of issubdtype from `float` to `np.floating` is deprecated. In future, it will be treated as `np.float64 == np.dtype(float).type`.\n",
      "  from ._conv import register_converters as _register_converters\n"
     ]
    },
    {
     "name": "stdout",
     "output_type": "stream",
     "text": [
      "van Der Waals correction will be unavailable. Please install ased3\n"
     ]
    }
   ],
   "source": [
    "import anialtools as alt"
   ]
  },
  {
   "cell_type": "code",
   "execution_count": null,
   "metadata": {
    "collapsed": true
   },
   "outputs": [],
   "source": []
  },
  {
   "cell_type": "code",
   "execution_count": 2,
   "metadata": {
    "collapsed": true
   },
   "outputs": [],
   "source": [
    "nwdir = '/home/jsmith48/scratch/ccsd_extrapolation/ccsd_train/tl_train_dhl_4/'\n",
    "h5dir = '/home/jsmith48/scratch/ccsd_extrapolation/h5files/train/cmb/'"
   ]
  },
  {
   "cell_type": "code",
   "execution_count": 3,
   "metadata": {},
   "outputs": [
    {
     "name": "stdout",
     "output_type": "stream",
     "text": [
      "Training Ensemble...\n",
      "  -Model 0 complete\n",
      "  -Model 1 complete\n",
      "  -Model 2 complete\n",
      "  -Model 3 complete\n",
      "  -Model 4 complete\n",
      "  -Model 5 complete\n",
      "  -Model 6 complete\n",
      "  -Model 7 complete\n",
      "Training Complete.\n"
     ]
    }
   ],
   "source": [
    "netdict = {'iptfile' :nwdir+'inputtrain.ipt',\n",
    "           'cnstfile':nwdir+'rHCNO-5.2R_16-3.5A_a4-8.params',\n",
    "           'saefile' :nwdir+'sae_linfit.dat',\n",
    "           'atomtyp' : ['H','C','N','O']}\n",
    "\n",
    "Nnets = 8 # networks in ensemble\n",
    "Nblock = 16 # Number of blocks in split\n",
    "Nbvald = 2 # number of valid blocks\n",
    "Nbtest = 1 # number of test blocks\n",
    "\n",
    "GPU = [0]\n",
    "\n",
    "## Train the ensemble ##\n",
    "aet = alt.alaniensembletrainer(nwdir, netdict, h5dir, Nnets)\n",
    "#aet.build_strided_training_cache(Nblock,Nbvald,Nbtest,build_test=False,forces=False)\n",
    "aet.train_ensemble(GPU)"
   ]
  },
  {
   "cell_type": "code",
   "execution_count": null,
   "metadata": {
    "collapsed": true
   },
   "outputs": [],
   "source": []
  }
 ],
 "metadata": {
  "kernelspec": {
   "display_name": "Python 3",
   "language": "python",
   "name": "python3"
  },
  "language_info": {
   "codemirror_mode": {
    "name": "ipython",
    "version": 3
   },
   "file_extension": ".py",
   "mimetype": "text/x-python",
   "name": "python",
   "nbconvert_exporter": "python",
   "pygments_lexer": "ipython3",
   "version": "3.6.3"
  }
 },
 "nbformat": 4,
 "nbformat_minor": 2
}
