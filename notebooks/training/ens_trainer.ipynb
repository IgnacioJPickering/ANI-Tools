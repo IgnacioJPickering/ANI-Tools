{
 "cells": [
  {
   "cell_type": "code",
   "execution_count": 8,
   "metadata": {},
   "outputs": [],
   "source": [
    "import anialtools as alt"
   ]
  },
  {
   "cell_type": "code",
   "execution_count": null,
   "metadata": {},
   "outputs": [],
   "source": []
  },
  {
   "cell_type": "code",
   "execution_count": 9,
   "metadata": {
    "collapsed": true
   },
   "outputs": [],
   "source": [
    "nwdir = '/home/jsmith48/scratch/ccsd_extrapolation/ccsd_train/tl_train_dhl_4/'\n",
    "h5dir = '/home/jsmith48/scratch/ccsd_extrapolation/h5files/train/cmb/'"
   ]
  },
  {
   "cell_type": "code",
   "execution_count": null,
   "metadata": {},
   "outputs": [
    {
     "name": "stdout",
     "output_type": "stream",
     "text": [
      " Train   Valid   Test \n",
      "[[350913  54065      0]\n",
      " [351406  53712      0]\n",
      " [351316  53682      0]\n",
      " [351127  53745      0]\n",
      " [350561  54079      0]\n",
      " [350551  54358      0]\n",
      " [350682  54171      0]\n",
      " [350710  54004      0]]\n",
      "Training set built.\n",
      "Training Ensemble...\n"
     ]
    }
   ],
   "source": [
    "netdict = {'iptfile' :nwdir+'inputtrain.ipt',\n",
    "           'cnstfile':nwdir+'rHCNO-5.2R_16-3.5A_a4-8.params',\n",
    "           'saefile' :nwdir+'sae_linfit.dat',\n",
    "           'atomtyp' : ['H','C','N','O']}\n",
    "\n",
    "Nnets = 8 # networks in ensemble\n",
    "Nblock = 16 # Number of blocks in split\n",
    "Nbvald = 2 # number of valid blocks\n",
    "Nbtest = 1 # number of test blocks\n",
    "\n",
    "GPU = [2,3,4,5]\n",
    "\n",
    "## Train the ensemble ##\n",
    "aet = alt.alaniensembletrainer(nwdir, netdict, h5dir, Nnets)\n",
    "aet.build_strided_training_cache(Nblock,Nbvald,Nbtest,build_test=False,forces=False)\n",
    "aet.train_ensemble(GPU)"
   ]
  },
  {
   "cell_type": "code",
   "execution_count": null,
   "metadata": {
    "collapsed": true
   },
   "outputs": [],
   "source": []
  }
 ],
 "metadata": {
  "kernelspec": {
   "display_name": "Python 3",
   "language": "python",
   "name": "python3"
  },
  "language_info": {
   "codemirror_mode": {
    "name": "ipython",
    "version": 3
   },
   "file_extension": ".py",
   "mimetype": "text/x-python",
   "name": "python",
   "nbconvert_exporter": "python",
   "pygments_lexer": "ipython3",
   "version": "3.6.3"
  }
 },
 "nbformat": 4,
 "nbformat_minor": 2
}
