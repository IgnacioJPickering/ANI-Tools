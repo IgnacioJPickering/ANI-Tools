{
 "cells": [
  {
   "cell_type": "code",
   "execution_count": 1,
   "metadata": {
    "collapsed": true
   },
   "outputs": [],
   "source": [
    "import pyanitools as pyt\n",
    "import pyaniasetools as aat\n",
    "import numpy as np\n",
    "import hdnntools as hdt\n",
    "import os\n",
    "\n",
    "import matplotlib.pyplot as plt"
   ]
  },
  {
   "cell_type": "code",
   "execution_count": 2,
   "metadata": {
    "collapsed": false
   },
   "outputs": [],
   "source": [
    "file_old = '/home/jujuman/Research/DataReductionMethods/h5_rmlow_error/h5_old/'\n",
    "file_new = '/home/jujuman/Research/DataReductionMethods/h5_rmlow_error/h5_new/'\n",
    "\n",
    "wkdir = '/home/jujuman/Research/DataReductionMethods/h5_rmlow_error/ANI-AL-0606.0201.0415'\n",
    "#wkdir = '/home/jujuman/Research/ANI-validation/'\n",
    "cnstfile = wkdir + '/train0/rHCNOSFCl-4.6A_16-3.1A_a4-8.params'\n",
    "saefile  = wkdir + '/train0/sae_wb97x-631gd.dat'\n",
    "nnfdir   = wkdir + '/train'\n",
    "Nn = 5"
   ]
  },
  {
   "cell_type": "code",
   "execution_count": null,
   "metadata": {
    "collapsed": false
   },
   "outputs": [],
   "source": []
  },
  {
   "cell_type": "code",
   "execution_count": 3,
   "metadata": {
    "collapsed": false
   },
   "outputs": [],
   "source": [
    "files = os.listdir(file_old)\n",
    "files.sort()\n",
    "\n",
    "# Define the conformer cross validator class\n",
    "anicv = aat.anicrossvalidationconformer(cnstfile,saefile,nnfdir,Nn,0,False)"
   ]
  },
  {
   "cell_type": "code",
   "execution_count": 6,
   "metadata": {
    "collapsed": false,
    "scrolled": true
   },
   "outputs": [
    {
     "name": "stdout",
     "output_type": "stream",
     "text": [
      "Working on file: confs_cv_gdb01-07_rs1.h5\n",
      "Working on file: confs_cv_gdb01-07_rs2.h5\n",
      "Working on file: confs_cv_gdb01-07_rs3.h5\n",
      "Working on file: confs_cv_gdb01-07_rs4.h5\n",
      "done\n",
      "442062 / 507319  =  87.13689020123434\n"
     ]
    }
   ],
   "source": [
    "Nt = 0\n",
    "Nk = 0\n",
    "for k,f in enumerate(files[0:4]):\n",
    "    print('Working on file:',f)\n",
    "    adl = pyt.anidataloader(file_old+f)\n",
    "\n",
    "    # Data storage\n",
    "    dpack = pyt.datapacker(file_new+f, mode='w')\n",
    "\n",
    "    for i,data in enumerate(adl):\n",
    "        #if i == 20:\n",
    "        #    break\n",
    "        X = data['coordinates']\n",
    "        S = data['species']\n",
    "        Edft = hdt.hatokcal * data['energies']\n",
    "        path = data['path']\n",
    "        del data['path']\n",
    "    \n",
    "        Eani, Fani = anicv.compute_energy_conformations(X=np.array(X,dtype=np.float32),S=S)\n",
    "    \n",
    "        Eani_m = np.mean(Eani, axis=0)\n",
    "        #Fani = np.mean(Fani, axis=0)\n",
    "    \n",
    "        err = Eani_m - Edft \n",
    "        pae = np.abs(err)/np.sqrt(float(len(S)))\n",
    "        idx = np.where(pae > 0.15)\n",
    "        \n",
    "        Nt += err.size\n",
    "        Nk += idx[0].size\n",
    "        \n",
    "        klist = ['cm5', 'hirshfeld', 'hirdipole', 'forces', 'coordinates', 'spindensities', 'energies']\n",
    "        #klist = ['CM5', 'hirshfeld', 'forces', 'coordinates', 'energies']\n",
    "        #print(data.keys())\n",
    "        \n",
    "        data_new = data.copy()\n",
    "        for key in klist:\n",
    "            data_new[key] = data[key][idx]\n",
    "            #print(key,type(data[key][0]),type(data_new[key][0]),type(data[key][gidx][0]))\n",
    "            \n",
    "        dpack.store_data(path, **data_new)\n",
    "print('done')\n",
    "dpack.cleanup()\n",
    "print(Nk,'/',Nt,' = ',100.0*Nk/float(Nt))"
   ]
  },
  {
   "cell_type": "code",
   "execution_count": null,
   "metadata": {
    "collapsed": false
   },
   "outputs": [],
   "source": []
  },
  {
   "cell_type": "code",
   "execution_count": null,
   "metadata": {
    "collapsed": false
   },
   "outputs": [],
   "source": []
  },
  {
   "cell_type": "code",
   "execution_count": null,
   "metadata": {
    "collapsed": false,
    "scrolled": false
   },
   "outputs": [],
   "source": [
    "bi = np.where(pae > 0.15)\n",
    "\n",
    "Nt = pae.size\n",
    "Nb = bi[0].size\n",
    "\n",
    "\n",
    "print(Nb,'/',Nt,' = ',Nb/float(Nt))"
   ]
  },
  {
   "cell_type": "code",
   "execution_count": null,
   "metadata": {
    "collapsed": false
   },
   "outputs": [],
   "source": [
    "adl = pyt.anidataloader(file_to)\n",
    "for data in adl:\n",
    "    X = data['coordinates']\n",
    "    S = data['species']\n",
    "    Edft = hdt.hatokcal * data['energies']\n",
    "    \n",
    "    Eani, Fani = anicv.compute_energy_conformations(X=X,S=S)\n",
    "    \n",
    "    Eani = np.mean(Eani, axis=0)\n",
    "    Fani = np.mean(Fani, axis=0)\n",
    "    \n",
    "    print(hdt.calculaterootmeansqrerror(Eani,Edft))\n",
    "    "
   ]
  },
  {
   "cell_type": "code",
   "execution_count": null,
   "metadata": {
    "collapsed": true
   },
   "outputs": [],
   "source": []
  }
 ],
 "metadata": {
  "kernelspec": {
   "display_name": "Python 3",
   "language": "python",
   "name": "python3"
  },
  "language_info": {
   "codemirror_mode": {
    "name": "ipython",
    "version": 3
   },
   "file_extension": ".py",
   "mimetype": "text/x-python",
   "name": "python",
   "nbconvert_exporter": "python",
   "pygments_lexer": "ipython3",
   "version": "3.5.2"
  }
 },
 "nbformat": 4,
 "nbformat_minor": 1
}
