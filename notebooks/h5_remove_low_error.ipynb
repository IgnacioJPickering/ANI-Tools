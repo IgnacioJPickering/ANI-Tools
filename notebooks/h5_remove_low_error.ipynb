{
 "cells": [
  {
   "cell_type": "code",
   "execution_count": 1,
   "metadata": {
    "collapsed": true
   },
   "outputs": [],
   "source": [
    "import pyanitools as pyt\n",
    "import pyaniasetools as aat\n",
    "import numpy as np\n",
    "import hdnntools as hdt\n",
    "import os\n",
    "\n",
    "import matplotlib.pyplot as plt"
   ]
  },
  {
   "cell_type": "code",
   "execution_count": 2,
   "metadata": {
    "collapsed": false
   },
   "outputs": [],
   "source": [
    "file_old = '/home/jujuman/Research/DataReductionMethods/h5_rmlow_error/h5_old/'\n",
    "file_new = '/home/jujuman/Research/DataReductionMethods/h5_rmlow_error/h5_new/'\n",
    "\n",
    "wkdir = '/home/jujuman/Research/DataReductionMethods/h5_stats_check/ANI-AL-0707.0001.0410'\n",
    "#wkdir = '/home/jujuman/Research/ANI-validation/'\n",
    "cnstfile = wkdir + '/train0/rHCNOSFCl-4.6A_16-3.1A_a4-8.params'\n",
    "saefile  = wkdir + '/train0/sae_wb97x-631gd.dat'\n",
    "nnfdir   = wkdir + '/train'\n",
    "Nn = 5"
   ]
  },
  {
   "cell_type": "code",
   "execution_count": null,
   "metadata": {
    "collapsed": false
   },
   "outputs": [],
   "source": []
  },
  {
   "cell_type": "code",
   "execution_count": 3,
   "metadata": {
    "collapsed": false
   },
   "outputs": [],
   "source": [
    "files = os.listdir(file_old)\n",
    "files.sort()\n",
    "\n",
    "# Define the conformer cross validator class\n",
    "anicv = aat.anicrossvalidationconformer(cnstfile,saefile,nnfdir,Nn,1,False)"
   ]
  },
  {
   "cell_type": "code",
   "execution_count": 4,
   "metadata": {
    "collapsed": false,
    "scrolled": true
   },
   "outputs": [
    {
     "name": "stdout",
     "output_type": "stream",
     "text": [
      "Working on file: confs_cv_gdb01-08_rs1.h5\n",
      "done\n",
      "Working on file: confs_cv_gdb01-08_rs2.h5\n",
      "done\n",
      "Working on file: confs_cv_gdb01-08_rs3.h5\n",
      "done\n",
      "Working on file: confs_cv_gdb01-08_rs4.h5\n",
      "done\n",
      "708836 / 810908  =  87.41262880622709\n"
     ]
    }
   ],
   "source": [
    "Nt = 0\n",
    "Nk = 0\n",
    "for k,f in enumerate(files):\n",
    "    print('Working on file:',f)\n",
    "    adl = pyt.anidataloader(file_old+f)\n",
    "\n",
    "    # Data storage\n",
    "    dpack = pyt.datapacker(file_new+f, mode='w')\n",
    "\n",
    "    for i,data in enumerate(adl):\n",
    "        #if i == 20:\n",
    "        #    break\n",
    "        X = data['coordinates']\n",
    "        S = data['species']\n",
    "        Edft = hdt.hatokcal * data['energies']\n",
    "        path = data['path']\n",
    "        del data['path']\n",
    "    \n",
    "        Eani, Fani = anicv.compute_energy_conformations(X=np.array(X,dtype=np.float32),S=S)\n",
    "    \n",
    "        Eani_m = np.mean(Eani, axis=0)\n",
    "        #Fani = np.mean(Fani, axis=0)\n",
    "    \n",
    "        err = Eani_m - Edft \n",
    "        pae = np.abs(err)/np.sqrt(float(len(S)))\n",
    "        idx = np.where(pae > 0.15)\n",
    "        \n",
    "        Nt += err.size\n",
    "        Nk += idx[0].size\n",
    "        \n",
    "        klist = ['cm5', 'hirshfeld', 'hirdipole', 'forces', 'coordinates', 'spindensities', 'energies']\n",
    "        #klist = ['CM5', 'hirshfeld', 'forces', 'coordinates', 'energies']\n",
    "        #print(data.keys())\n",
    "        \n",
    "        data_new = data.copy()\n",
    "        for key in klist:\n",
    "            data_new[key] = data[key][idx]\n",
    "            #print(key,type(data[key][0]),type(data_new[key][0]),type(data[key][gidx][0]))\n",
    "            \n",
    "        dpack.store_data(path, **data_new)\n",
    "    print('done')\n",
    "    dpack.cleanup()\n",
    "print(Nk,'/',Nt,' = ',100.0*Nk/float(Nt))"
   ]
  },
  {
   "cell_type": "code",
   "execution_count": null,
   "metadata": {
    "collapsed": false
   },
   "outputs": [],
   "source": []
  },
  {
   "cell_type": "code",
   "execution_count": null,
   "metadata": {
    "collapsed": false
   },
   "outputs": [],
   "source": []
  },
  {
   "cell_type": "code",
   "execution_count": 5,
   "metadata": {
    "collapsed": false,
    "scrolled": false
   },
   "outputs": [
    {
     "name": "stdout",
     "output_type": "stream",
     "text": [
      "6 / 8  =  0.75\n"
     ]
    }
   ],
   "source": [
    "bi = np.where(pae > 0.15)\n",
    "\n",
    "Nt = pae.size\n",
    "Nb = bi[0].size\n",
    "\n",
    "\n",
    "print(Nb,'/',Nt,' = ',Nb/float(Nt))"
   ]
  },
  {
   "cell_type": "code",
   "execution_count": 6,
   "metadata": {
    "collapsed": false
   },
   "outputs": [
    {
     "ename": "NameError",
     "evalue": "name 'file_to' is not defined",
     "output_type": "error",
     "traceback": [
      "\u001b[0;31m---------------------------------------------------------------------------\u001b[0m",
      "\u001b[0;31mNameError\u001b[0m                                 Traceback (most recent call last)",
      "\u001b[0;32m<ipython-input-6-0578b1474e07>\u001b[0m in \u001b[0;36m<module>\u001b[0;34m()\u001b[0m\n\u001b[0;32m----> 1\u001b[0;31m \u001b[0madl\u001b[0m \u001b[0;34m=\u001b[0m \u001b[0mpyt\u001b[0m\u001b[0;34m.\u001b[0m\u001b[0manidataloader\u001b[0m\u001b[0;34m(\u001b[0m\u001b[0mfile_to\u001b[0m\u001b[0;34m)\u001b[0m\u001b[0;34m\u001b[0m\u001b[0m\n\u001b[0m\u001b[1;32m      2\u001b[0m \u001b[0;32mfor\u001b[0m \u001b[0mdata\u001b[0m \u001b[0;32min\u001b[0m \u001b[0madl\u001b[0m\u001b[0;34m:\u001b[0m\u001b[0;34m\u001b[0m\u001b[0m\n\u001b[1;32m      3\u001b[0m     \u001b[0mX\u001b[0m \u001b[0;34m=\u001b[0m \u001b[0mdata\u001b[0m\u001b[0;34m[\u001b[0m\u001b[0;34m'coordinates'\u001b[0m\u001b[0;34m]\u001b[0m\u001b[0;34m\u001b[0m\u001b[0m\n\u001b[1;32m      4\u001b[0m     \u001b[0mS\u001b[0m \u001b[0;34m=\u001b[0m \u001b[0mdata\u001b[0m\u001b[0;34m[\u001b[0m\u001b[0;34m'species'\u001b[0m\u001b[0;34m]\u001b[0m\u001b[0;34m\u001b[0m\u001b[0m\n\u001b[1;32m      5\u001b[0m     \u001b[0mEdft\u001b[0m \u001b[0;34m=\u001b[0m \u001b[0mhdt\u001b[0m\u001b[0;34m.\u001b[0m\u001b[0mhatokcal\u001b[0m \u001b[0;34m*\u001b[0m \u001b[0mdata\u001b[0m\u001b[0;34m[\u001b[0m\u001b[0;34m'energies'\u001b[0m\u001b[0;34m]\u001b[0m\u001b[0;34m\u001b[0m\u001b[0m\n",
      "\u001b[0;31mNameError\u001b[0m: name 'file_to' is not defined"
     ]
    }
   ],
   "source": [
    "adl = pyt.anidataloader(file_to)\n",
    "for data in adl:\n",
    "    X = data['coordinates']\n",
    "    S = data['species']\n",
    "    Edft = hdt.hatokcal * data['energies']\n",
    "    \n",
    "    Eani, Fani = anicv.compute_energy_conformations(X=X,S=S)\n",
    "    \n",
    "    Eani = np.mean(Eani, axis=0)\n",
    "    Fani = np.mean(Fani, axis=0)\n",
    "    \n",
    "    print(hdt.calculaterootmeansqrerror(Eani,Edft))\n",
    "    "
   ]
  },
  {
   "cell_type": "code",
   "execution_count": null,
   "metadata": {
    "collapsed": true
   },
   "outputs": [],
   "source": []
  }
 ],
 "metadata": {
  "kernelspec": {
   "display_name": "Python 3",
   "language": "python",
   "name": "python3"
  },
  "language_info": {
   "codemirror_mode": {
    "name": "ipython",
    "version": 3
   },
   "file_extension": ".py",
   "mimetype": "text/x-python",
   "name": "python",
   "nbconvert_exporter": "python",
   "pygments_lexer": "ipython3",
   "version": "3.5.2"
  }
 },
 "nbformat": 4,
 "nbformat_minor": 1
}
