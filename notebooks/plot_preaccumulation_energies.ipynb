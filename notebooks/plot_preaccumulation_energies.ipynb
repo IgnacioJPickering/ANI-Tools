{
 "cells": [
  {
   "cell_type": "code",
   "execution_count": 1,
   "metadata": {},
   "outputs": [
    {
     "name": "stdout",
     "output_type": "stream",
     "text": [
      "van Der Waals correction will be unavailable. Please install ased3\n"
     ]
    }
   ],
   "source": [
    "from ase_interface import ANIENS\n",
    "from ase_interface import ensemblemolecule\n",
    "\n",
    "import numpy as np\n",
    "import ase\n",
    "\n",
    "#from ase.neb import NEBtools\n",
    "from ase.io import read, write\n",
    "\n",
    "import matplotlib\n",
    "import matplotlib as mpl\n",
    "\n",
    "import matplotlib.pyplot as plt"
   ]
  },
  {
   "cell_type": "code",
   "execution_count": 2,
   "metadata": {},
   "outputs": [],
   "source": [
    "ntdir = '/nh/nest/u/jsmith/scratch/Gits/ANI-Networks/networks/al_networks/ANI-AL-0808.0303.0400/'\n",
    "cns = ntdir + 'train0/rHCNOSFCl-4.6A_16-3.1A_a4-8.params'\n",
    "sae = ntdir + 'train0/sae_wb97x-631gd.dat'\n",
    "nnf = ntdir + 'train'\n",
    "Nn = 5\n",
    "\n",
    "file = '/nh/nest/u/jsmith/Research/confs_test/aceclofenac.xyz'"
   ]
  },
  {
   "cell_type": "code",
   "execution_count": 3,
   "metadata": {},
   "outputs": [],
   "source": [
    "mol = read(file)"
   ]
  },
  {
   "cell_type": "code",
   "execution_count": 4,
   "metadata": {},
   "outputs": [],
   "source": [
    "# Set NC\n",
    "aens = ensemblemolecule(cns, sae, nnf, Nn, 1)\n",
    "\n",
    "# Set ANI calculator\n",
    "mol.set_calculator(ANIENS(aens,sdmx=20000000.0))"
   ]
  },
  {
   "cell_type": "code",
   "execution_count": 5,
   "metadata": {},
   "outputs": [
    {
     "data": {
      "text/plain": [
       "-51520.40165594666"
      ]
     },
     "execution_count": 5,
     "metadata": {},
     "output_type": "execute_result"
    }
   ],
   "source": [
    "mol.get_potential_energy()"
   ]
  },
  {
   "cell_type": "code",
   "execution_count": 6,
   "metadata": {},
   "outputs": [],
   "source": [
    "S = mol.get_chemical_symbols()"
   ]
  },
  {
   "cell_type": "code",
   "execution_count": 7,
   "metadata": {
    "scrolled": false
   },
   "outputs": [
    {
     "name": "stdout",
     "output_type": "stream",
     "text": [
      "O [-0.17514905 -0.17730989 -0.16943449 -0.16485274 -0.18030572]\n",
      "C [-0.27815363 -0.27991694 -0.2816273  -0.28210393 -0.2771784 ]\n",
      "O [-0.16913158 -0.17084207 -0.17026082 -0.1674123  -0.17430693]\n",
      "C [-0.27394295 -0.29767734 -0.30103213 -0.27326727 -0.2973348 ]\n",
      "O [-0.16072369 -0.15755674 -0.15380198 -0.15431134 -0.15671843]\n",
      "C [-0.2826143  -0.28247496 -0.28746146 -0.28598678 -0.2799451 ]\n",
      "O [-0.16919096 -0.16847879 -0.16509295 -0.16523722 -0.16963676]\n",
      "C [-0.28189638 -0.30374673 -0.30373305 -0.27547392 -0.3015604 ]\n",
      "C [-0.26813054 -0.26728055 -0.27212054 -0.2671841  -0.2719256 ]\n",
      "C [-0.27186993 -0.2827725  -0.28308696 -0.26894367 -0.28132853]\n",
      "C [-0.27028033 -0.28045636 -0.28158015 -0.26813123 -0.28038615]\n",
      "C [-0.27072474 -0.28041294 -0.28242624 -0.26832724 -0.2805674 ]\n",
      "C [-0.2700754  -0.2810495  -0.28137714 -0.26740247 -0.279706  ]\n",
      "C [-0.27617058 -0.27582082 -0.27985233 -0.28031927 -0.27943277]\n",
      "N [-0.16444066 -0.17845783 -0.17400205 -0.1513691  -0.18001965]\n",
      "C [-0.27096072 -0.2710321  -0.2749874  -0.2735653  -0.2727264 ]\n",
      "C [-0.26447004 -0.27629495 -0.2789696  -0.2664848  -0.2724552 ]\n",
      "Cl [-0.05982843 -0.05128192 -0.04782214 -0.05776549 -0.05375091]\n",
      "C [-0.27071846 -0.28057262 -0.28141373 -0.26823068 -0.2799491 ]\n",
      "C [-0.27193126 -0.28165385 -0.28278345 -0.26963365 -0.28067198]\n",
      "C [-0.27047122 -0.28045273 -0.28131735 -0.2680465  -0.2797629 ]\n",
      "C [-0.26580423 -0.2763633  -0.2784931  -0.26673186 -0.2728577 ]\n",
      "Cl [-0.0593967  -0.05053233 -0.04715727 -0.05726666 -0.05343356]\n",
      "H [-0.08052628 -0.07737045 -0.08383022 -0.08855121 -0.07422829]\n",
      "H [-0.093748   -0.08255933 -0.08318526 -0.09693539 -0.08272676]\n",
      "H [-0.09373488 -0.08313565 -0.08252429 -0.09707004 -0.08278412]\n",
      "H [-0.09521694 -0.08333431 -0.08280308 -0.09882189 -0.08351097]\n",
      "H [-0.09399667 -0.08271734 -0.08280364 -0.09730777 -0.08303611]\n",
      "H [-0.0926771  -0.08250056 -0.08081261 -0.09554762 -0.08273505]\n",
      "H [-0.09312596 -0.08341621 -0.0817629  -0.09555943 -0.08356549]\n",
      "H [-0.09306083 -0.08329724 -0.08166049 -0.09548314 -0.08342208]\n",
      "H [-0.09417362 -0.08280931 -0.08205397 -0.09654656 -0.08196816]\n",
      "H [-0.10082731 -0.09175126 -0.08922573 -0.10930364 -0.08701827]\n",
      "H [-0.09300334 -0.0831974  -0.0820002  -0.09603177 -0.08322613]\n",
      "H [-0.09299745 -0.08324014 -0.08162161 -0.09540188 -0.08338243]\n",
      "H [-0.09297849 -0.08319448 -0.08197635 -0.09601435 -0.08321489]\n"
     ]
    }
   ],
   "source": [
    "A3l = [np.zeros((0,5),dtype=np.float32)]\n",
    "for i,s in enumerate(S): # iterate through atoms\n",
    "    A0 = np.stack([nc.activations(i,0) for nc in aens.ncl]) # Layer 0 activations\n",
    "    A1 = np.stack([nc.activations(i,1) for nc in aens.ncl]) # Layer 1 activations\n",
    "    A2 = np.stack([nc.activations(i,2) for nc in aens.ncl]) # Layer 2 activations\n",
    "    A3 = np.concatenate([nc.activations(i,3) for nc in aens.ncl]) # Layer 3 activations (Pre energy accumulation)\n",
    "    A3l.append(A3)\n",
    "    print(s,A3)\n",
    "A3l = np.vstack(A3l)"
   ]
  },
  {
   "cell_type": "code",
   "execution_count": 8,
   "metadata": {},
   "outputs": [
    {
     "data": {
      "image/png": "[encoded data removed]",
      "text/plain": [
       "<matplotlib.figure.Figure at 0x7f26959c2ba8>"
      ]
     },
     "metadata": {},
     "output_type": "display_data"
    }
   ],
   "source": [
    "plt.hist(A3l[:,0],bins=150,color='red')\n",
    "plt.hist(A3l[:,1],bins=150,color='blue')\n",
    "plt.hist(A3l[:,2],bins=150,color='green')\n",
    "plt.hist(A3l[:,3],bins=150,color='orange')\n",
    "plt.hist(A3l[:,4],bins=150,color='grey')\n",
    "plt.show()"
   ]
  },
  {
   "cell_type": "code",
   "execution_count": null,
   "metadata": {},
   "outputs": [],
   "source": []
  }
 ],
 "metadata": {
  "kernelspec": {
   "display_name": "Python 3",
   "language": "python",
   "name": "python3"
  },
  "language_info": {
   "codemirror_mode": {
    "name": "ipython",
    "version": 3
   },
   "file_extension": ".py",
   "mimetype": "text/x-python",
   "name": "python",
   "nbconvert_exporter": "python",
   "pygments_lexer": "ipython3",
   "version": "3.6.4"
  }
 },
 "nbformat": 4,
 "nbformat_minor": 2
}
