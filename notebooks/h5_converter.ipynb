{
 "cells": [
  {
   "cell_type": "code",
   "execution_count": 1,
   "metadata": {
    "collapsed": true
   },
   "outputs": [],
   "source": [
    "import pyanitools as pyt\n",
    "import hdnntools as hdt"
   ]
  },
  {
   "cell_type": "code",
   "execution_count": 2,
   "metadata": {
    "collapsed": true
   },
   "outputs": [],
   "source": [
    "file_in = '/home/jujuman/Research/GDB_Dimer/dimer_gen_7/dimers7.h5'\n",
    "file_ot = '/home/jujuman/Research/GDB_Dimer/dimers7_fix.h5'"
   ]
  },
  {
   "cell_type": "code",
   "execution_count": 3,
   "metadata": {
    "collapsed": false
   },
   "outputs": [],
   "source": [
    "adl = pyt.anidataloader(file_in)\n",
    "dpack = pyt.datapacker(file_ot)"
   ]
  },
  {
   "cell_type": "code",
   "execution_count": 4,
   "metadata": {
    "collapsed": false
   },
   "outputs": [],
   "source": [
    "for data in adl:\n",
    "    path = data['path']\n",
    "    del data['path']\n",
    "    #print(data['T']/hdt.hatokcal)\n",
    "    #print(data['E']/hdt.hatokcal)\n",
    "    #print(data['forces']/hdt.hatokcal)\n",
    "    del data['T']\n",
    "    \n",
    "    #data['forces'] = data['forces']*1.889725989\n",
    "    data['forces'] = data['forces']/hdt.hatokcal\n",
    "    data['energies'] = data['E']/hdt.hatokcal\n",
    "    del data['E']\n",
    "    dpack.store_data(path,**data)"
   ]
  },
  {
   "cell_type": "code",
   "execution_count": 5,
   "metadata": {
    "collapsed": true
   },
   "outputs": [],
   "source": [
    "dpack.cleanup()"
   ]
  },
  {
   "cell_type": "code",
   "execution_count": null,
   "metadata": {
    "collapsed": true
   },
   "outputs": [],
   "source": []
  }
 ],
 "metadata": {
  "kernelspec": {
   "display_name": "Python 3",
   "language": "python",
   "name": "python3"
  },
  "language_info": {
   "codemirror_mode": {
    "name": "ipython",
    "version": 3
   },
   "file_extension": ".py",
   "mimetype": "text/x-python",
   "name": "python",
   "nbconvert_exporter": "python",
   "pygments_lexer": "ipython3",
   "version": "3.5.2"
  }
 },
 "nbformat": 4,
 "nbformat_minor": 1
}
