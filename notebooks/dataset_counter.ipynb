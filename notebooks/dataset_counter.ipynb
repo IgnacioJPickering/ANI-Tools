{
 "cells": [
  {
   "cell_type": "code",
   "execution_count": 1,
   "metadata": {
    "collapsed": true
   },
   "outputs": [],
   "source": [
    "import pyanitools as pyt\n",
    "import numpy as np\n",
    "import aniensemblestats as aes\n",
    "import pandas as pd\n",
    "import os\n",
    "\n",
    "#import seaborn as sns\n",
    "pd.options.display.float_format = '{:.2f}'.format"
   ]
  },
  {
   "cell_type": "code",
   "execution_count": 2,
   "metadata": {
    "collapsed": false
   },
   "outputs": [
    {
     "name": "stdout",
     "output_type": "stream",
     "text": [
      "/home/jujuman/Research/DataReductionMethods/model6r/error_compare/complete/tsdata_8.0.5.h5\n",
      "/home/jujuman/Research/DataReductionMethods/model6r/error_compare/complete/tsdata_6.2.4.h5\n",
      "/home/jujuman/Research/DataReductionMethods/model6r/error_compare/complete/tsdata_9.0.4.h5\n",
      "/home/jujuman/Research/DataReductionMethods/model6r/error_compare/complete/tsdata_6.0.0.h5\n",
      "/home/jujuman/Research/DataReductionMethods/model6r/error_compare/complete/tsdata_8.1.6.h5\n",
      "/home/jujuman/Research/DataReductionMethods/model6r/error_compare/complete/tsdata_8.3.4.h5\n",
      "/home/jujuman/Research/DataReductionMethods/model6r/error_compare/complete/tsdata_ANI-1.h5\n",
      "/home/jujuman/Research/DataReductionMethods/model6r/error_compare/complete/tsdata_7.0.4.h5\n",
      "/home/jujuman/Research/DataReductionMethods/model6r/error_compare/complete/tsdata_8.2.4.h5\n",
      "['E$_\\\\mathrm{MAE}$$\\\\mu$', 'E$_\\\\mathrm{MAE}$$\\\\sigma$', 'E$_\\\\mathrm{RMS}$$\\\\mu$', 'E$_\\\\mathrm{RMS}$$\\\\sigma$', '$\\\\Delta$E$_\\\\mathrm{MAE}$$\\\\mu$', '$\\\\Delta$E$_\\\\mathrm{MAE}$$\\\\sigma$', '$\\\\Delta$E$_\\\\mathrm{RMS}$$\\\\mu$', '$\\\\Delta$E$_\\\\mathrm{RMS}$$\\\\sigma$', 'F$_\\\\mathrm{MAE}$$\\\\mu$', 'F$_\\\\mathrm{MAE}$$\\\\sigma$', 'F$_\\\\mathrm{RMS}$$\\\\mu$', 'F$_\\\\mathrm{RMS}$$\\\\sigma$']\n"
     ]
    }
   ],
   "source": [
    "errdir = '/home/jujuman/Research/DataReductionMethods/model6r/error_compare/complete/'\n",
    "tex_store = \"/home/jujuman/Dropbox/ChemSciencePaper.AER/PUBLICATION-ActiveLearning/tables/AllTests_results.tex\"\n",
    "efiles = [errdir+f for f in os.listdir(errdir)]\n",
    "tsname = ['DrugBank',\n",
    "          'Tripeptide',\n",
    "          'GDB07to09',\n",
    "          'MDBenchmark',\n",
    "          'GDB10to13',\n",
    "          's66x8',\n",
    "         ]\n",
    "for i in efiles:\n",
    "    print(i)\n",
    "print(aes.names)"
   ]
  },
  {
   "cell_type": "code",
   "execution_count": 3,
   "metadata": {
    "collapsed": false
   },
   "outputs": [
    {
     "name": "stdout",
     "output_type": "stream",
     "text": [
      "Stats for: Complete benchmark\n"
     ]
    }
   ],
   "source": [
    "eed = aes.evaluate_ensemble_data(efiles)\n",
    "print('Stats for: Complete benchmark')\n",
    "etab = eed.get_totalerror_table()"
   ]
  },
  {
   "cell_type": "code",
   "execution_count": 50,
   "metadata": {
    "collapsed": false
   },
   "outputs": [
    {
     "name": "stdout",
     "output_type": "stream",
     "text": [
      "Data: E$_\\mathrm{RMS}$$\\mu$\n"
     ]
    }
   ],
   "source": [
    "print('Data:',aes.names[2])\n",
    "errors = etab.to_dict()[aes.names[2]]"
   ]
  },
  {
   "cell_type": "code",
   "execution_count": 5,
   "metadata": {
    "collapsed": false
   },
   "outputs": [],
   "source": [
    "data_root = '/home/jujuman/Research/GDB-11-AL-wB97x631gd/'\n",
    "\n",
    "h5files = ['01/home/jujuman/Research/GDB_Dimer/dimer_gen_1/dimers1.h5',\n",
    "           '02/home/jujuman/Research/GDB_Dimer/dimer_gen_2/dimers2.h5',\n",
    "           '03/home/jujuman/Research/GDB_Dimer/dimer_gen_3/dimers3.h5',\n",
    "           '04/home/jujuman/Research/GDB_Dimer/dimer_gen_4/dimers4.h5',\n",
    "           '05/home/jujuman/Research/GDB_Dimer/dimer_gen_5/dimers5.h5',\n",
    "           '06/home/jujuman/Research/GDB_Dimer/dimer_gen_6/dimers6.h5',\n",
    "           '07/home/jujuman/Research/GDB_Dimer/dimer_gen_7/dimers7.h5',\n",
    "           '08/home/jujuman/Research/ReactionGeneration/reactiondata/DA_rxn_1/DA_rxn_1.h5',\n",
    "           '09/home/jujuman/Research/ReactionGeneration/reactiondata/DA_rxn_1/DA_rxn_1_2.h5',\n",
    "           '10/home/jujuman/Research/ReactionGeneration/reactiondata/comb_rxn_1/comb_rxn_1.h5',\n",
    "           '11/home/jujuman/Research/ReactionGeneration/reactiondata/comb_rxn_1/comb_rxn_1_2.h5',\n",
    "           '12' + data_root + '/dnnts_comb_resample/gdb_r06_comb09_1/ani_al-9.0.5.h5',\n",
    "           '13' + data_root + '/dnnts_comb_resample/gdb_r06_comb09_1/ani_al-9.0.4.h5',\n",
    "           '14' + data_root + '/dnnts_comb_resample/gdb_r06_comb09_1/ani_al-9.0.3.h5',\n",
    "           '15' + data_root + '/dnnts_comb_resample/gdb_r06_comb09_1/ani_al-9.0.2.h5',\n",
    "           '16' + data_root + '/dnnts_comb_resample/gdb_r06_comb09_1/ani_al-9.0.1.h5',\n",
    "           '17' + data_root + '/dnnts_comb_resample/gdb_r06_comb08_3/gdb_r06_comb08_03_4.h5',\n",
    "           '18' + data_root + '/dnnts_comb_resample/gdb_r06_comb08_3/gdb_r06_comb08_03_3.h5',\n",
    "           '19' + data_root + '/dnnts_comb_resample/gdb_r06_comb08_3/gdb_r06_comb08_03_2.h5',\n",
    "           '20' + data_root + '/dnnts_comb_resample/gdb_r06_comb08_3/gdb_r06_comb08_03_1.h5',\n",
    "           '21' + data_root + '/dnnts_comb_resample/gdb_r06_comb08_2/gdb_r06_comb08_02_4.h5',\n",
    "           '22' + data_root + '/dnnts_comb_resample/gdb_r06_comb08_2/gdb_r06_comb08_02_3.h5',\n",
    "           '23' + data_root + '/dnnts_comb_resample/gdb_r06_comb08_2/gdb_r06_comb08_02_2.h5',\n",
    "           '24' + data_root + '/dnnts_comb_resample/gdb_r06_comb08_2/gdb_r06_comb08_02_1.h5',\n",
    "           '25' + data_root + '/dnnts_comb_resample/gdb_r06_comb08_1/gdb_r06_comb08_5.h5',\n",
    "           '26' + data_root + '/dnnts_comb_resample/gdb_r06_comb08_1/gdb_r06_comb08_4.h5',\n",
    "           '27' + data_root + '/dnnts_comb_resample/gdb_r06_comb08_1/gdb_r06_comb08_3.h5',\n",
    "           '28' + data_root + '/dnnts_comb_resample/gdb_r06_comb08_1/gdb_r06_comb08_2.h5',\n",
    "           '29' + data_root + '/dnnts_comb_resample/gdb_r06_comb08_1/gdb_r06_comb08_1.h5',\n",
    "           '30' + data_root + '/dnnts_mdal_resample/mdal.h5',\n",
    "           '31' + data_root + '/h2o_cluster/h2o_nms_clusters.h5',\n",
    "           '32' + data_root + '/dnnts_nms_resample/confs_cv_gdb01-05_red03-05/confs_cv_gdb01-05_rs1.h5',\n",
    "           '33' + data_root + '/dnnts_nms_resample/confs_cv_gdb01-05_red03-05/confs_cv_gdb01-05_rs2.h5',\n",
    "           '34' + data_root + '/dnnts_nms_resample/confs_cv_gdb01-05_red03-05/confs_cv_gdb01-05_rs3.h5',\n",
    "           '35' + data_root + '/dnnts_nms_resample/confs_cv_gdb01-05_red03-05/confs_cv_gdb01-05_rs4.h5',\n",
    "           '36' + data_root + '/dnnts_nms_resample/confs_cv_gdb01-06_red03-06/confs_cv_gdb01-06_rs1.h5',\n",
    "           '37' + data_root + '/dnnts_nms_resample/confs_cv_gdb01-06_red03-06/confs_cv_gdb01-06_rs2.h5',\n",
    "           '38' + data_root + '/dnnts_nms_resample/confs_cv_gdb01-06_red03-06/confs_cv_gdb01-06_rs3.h5',\n",
    "           '39' + data_root + '/dnnts_nms_resample/confs_cv_gdb01-06_red03-06/confs_cv_gdb01-06_rs4.h5',\n",
    "           '40' + data_root + '/dnnts_nms_resample/confs_cv_gdb01-06_red03-07/confs_cv_gdb01-07_rs1.h5',\n",
    "           '41' + data_root + '/dnnts_nms_resample/confs_cv_gdb01-06_red03-07/confs_cv_gdb01-07_rs2.h5',\n",
    "           '42' + data_root + '/dnnts_nms_resample/confs_cv_gdb01-06_red03-07/confs_cv_gdb01-07_rs3.h5',\n",
    "           '43' + data_root + '/dnnts_nms_resample/confs_cv_gdb01-06_red03-07/confs_cv_gdb01-07_rs4.h5',\n",
    "           '44' + data_root + '/dnnts_nms_resample/confs_cv_gdb01-06_red03-08/confs_cv_gdb01-08_rs1.h5',\n",
    "           '45' + data_root + '/dnnts_nms_resample/confs_cv_gdb01-06_red03-08/confs_cv_gdb01-08_rs2.h5',\n",
    "           '46' + data_root + '/dnnts_nms_resample/confs_cv_gdb01-06_red03-08/confs_cv_gdb01-08_rs3.h5',\n",
    "           '47' + data_root + '/dnnts_nms_resample/confs_cv_gdb01-06_red03-08/confs_cv_gdb01-08_rs4.h5',\n",
    "           '48' + data_root + 'gdb11_h5/gdb11_S01_06r.h5',\n",
    "           '49' + data_root + 'gdb11_h5/gdb11_S02_06r.h5',\n",
    "           '50' + data_root + 'gdb11_h5/gdb11_S03_06r.h5',\n",
    "           '51' + data_root + 'gdb11_h5/gdb11_S04_06r.h5',\n",
    "           '52' + data_root + 'gdb11_h5/gdb11_S05_06r.h5',\n",
    "           '53' + data_root + 'gdb11_h5/gdb11_S06_06r.h5',\n",
    "           '54/home/jujuman/Seagate2TB/Research/ANI-DATASET/ANI-1_release/ani-1_data_c08_test.h5',\n",
    "           ]\n",
    "\n",
    "mols_sampled = {'6.0.0': 3+12+20+63+275+1409,\n",
    "                '6.2.4': 0,\n",
    "                '7.0.4': 2415,\n",
    "                '8.0.5': 440+15386,\n",
    "                '8.1.6': 335+3444+4100+1296,\n",
    "                '8.2.4': 173+5518+859,\n",
    "                '8.3.4': 2397,\n",
    "                '9.0.4': 25253\n",
    "               }"
   ]
  },
  {
   "cell_type": "code",
   "execution_count": 6,
   "metadata": {
    "collapsed": false
   },
   "outputs": [],
   "source": [
    "indices = dict()\n",
    "indices['6.0.0'] = [48, 49, 50, 51, 52, 53]\n",
    "indices['6.2.4'] = [32, 33, 34, 35, 36, 37, 38, 39]\n",
    "indices['7.0.4'] = [40, 41, 42, 43]\n",
    "indices['8.0.5'] = [30, 31, 44, 45, 46, 47]\n",
    "indices['8.1.6'] = [25, 26, 27, 28, 29, 1]\n",
    "indices['8.2.4'] = [21, 22, 23, 24, 2, 3]\n",
    "indices['8.3.4'] = [17, 18, 19, 20, 4, 5]\n",
    "indices['9.0.4'] = [13, 14, 15, 16, 6]"
   ]
  },
  {
   "cell_type": "code",
   "execution_count": 7,
   "metadata": {
    "collapsed": false
   },
   "outputs": [
    {
     "name": "stdout",
     "output_type": "stream",
     "text": [
      "NTWK: 6.0.0 DATA: 1031634 MOLS: 1782\n",
      "NTWK: 6.2.4 DATA: 1335132 MOLS: 1782\n",
      "NTWK: 7.0.4 DATA: 1842451 MOLS: 4197\n",
      "NTWK: 8.0.5 DATA: 2791510 MOLS: 20023\n",
      "NTWK: 8.1.6 DATA: 3371037 MOLS: 29198\n",
      "NTWK: 8.2.4 DATA: 4058260 MOLS: 35748\n",
      "NTWK: 8.3.4 DATA: 4524792 MOLS: 38145\n",
      "NTWK: 9.0.4 DATA: 5128950 MOLS: 63398\n"
     ]
    }
   ],
   "source": [
    "dcount = 0\n",
    "mcount = 0\n",
    "datasize = dict()\n",
    "molesize = dict()\n",
    "for k in np.sort(list(indices.keys())):\n",
    "    mcount += mols_sampled[k]\n",
    "    for f in indices[k]:\n",
    "        adl = pyt.anidataloader(h5files[f-1][2:])\n",
    "        for data in adl:\n",
    "            dcount += int(data['energies'].size)\n",
    "    datasize[k] = dcount\n",
    "    molesize[k] = mcount\n",
    "    print('NTWK:',k,'DATA:',dcount,'MOLS:',mcount)"
   ]
  },
  {
   "cell_type": "code",
   "execution_count": 8,
   "metadata": {
    "collapsed": false
   },
   "outputs": [
    {
     "name": "stdout",
     "output_type": "stream",
     "text": [
      "NTWK: ANI-1 DATA: 22057374 MOLS: 57462\n"
     ]
    }
   ],
   "source": [
    "baseline = 'ANI-1'\n",
    "indices[baseline] = [54]\n",
    "dcount = 0\n",
    "mcount = 0\n",
    "for f in indices[baseline]:\n",
    "    adl = pyt.anidataloader(h5files[f-1][2:])\n",
    "    mcount = adl.size()\n",
    "    dcount = 22057374 \n",
    "    #for data in adl:\n",
    "    #    dcount += data['energies'].size\n",
    "\n",
    "datasize[baseline] = dcount\n",
    "molesize[baseline] = mcount\n",
    "print('NTWK:',baseline,'DATA:',dcount,'MOLS:',mcount)"
   ]
  },
  {
   "cell_type": "code",
   "execution_count": 9,
   "metadata": {
    "collapsed": false
   },
   "outputs": [
    {
     "name": "stdout",
     "output_type": "stream",
     "text": [
      "{'7.0.4': 1842451, '8.1.6': 3371037, '8.0.5': 2791510, 'ANI-1': 22057374, '6.2.4': 1335132, '6.0.0': 1031634, '8.3.4': 4524792, '9.0.4': 5128950, '8.2.4': 4058260}\n"
     ]
    }
   ],
   "source": [
    "print(datasize)"
   ]
  },
  {
   "cell_type": "code",
   "execution_count": 40,
   "metadata": {
    "collapsed": false
   },
   "outputs": [],
   "source": [
    "import matplotlib\n",
    "import matplotlib.pyplot as plt\n",
    "import matplotlib.ticker as plticker\n",
    "from matplotlib.backends.backend_pdf import PdfPages\n",
    "\n",
    "font = {'family' : 'normal',\n",
    "        'weight' : 'normal',\n",
    "        'size'   : 22}\n",
    "\n",
    "matplotlib.rc('font', **font)"
   ]
  },
  {
   "cell_type": "code",
   "execution_count": 51,
   "metadata": {
    "collapsed": false
   },
   "outputs": [
    {
     "name": "stdout",
     "output_type": "stream",
     "text": [
      "6.0.0\n",
      "6.2.4\n",
      "7.0.4\n",
      "8.0.5\n",
      "8.1.6\n",
      "8.2.4\n",
      "8.3.4\n",
      "9.0.4\n",
      "ANI-1\n"
     ]
    }
   ],
   "source": [
    "x = []\n",
    "y = []\n",
    "key = []\n",
    "for k in np.sort(list(datasize.keys())):\n",
    "    print(k)\n",
    "    if k != '8.0.5' and k != '6.2.4' and k != '8.2.4':\n",
    "        key.append(k)\n",
    "        x.append(datasize[k])\n",
    "        y.append(errors[k])\n",
    "        \n",
    "x = np.array(x)\n",
    "y = np.array(y)"
   ]
  },
  {
   "cell_type": "code",
   "execution_count": 52,
   "metadata": {
    "collapsed": false
   },
   "outputs": [
    {
     "name": "stdout",
     "output_type": "stream",
     "text": [
      "0.60073979405\n"
     ]
    },
    {
     "name": "stderr",
     "output_type": "stream",
     "text": [
      "/home/jujuman/anaconda3/envs/my-rdkit-env/lib/python3.5/site-packages/matplotlib/font_manager.py:1288: UserWarning: findfont: Font family ['normal'] not found. Falling back to Bitstream Vera Sans\n",
      "  (prop.get_family(), self.defaultFamily[fontext]))\n"
     ]
    }
   ],
   "source": [
    "\n",
    "loc = plticker.MultipleLocator(base=1.0) # this locator puts ticks at regular intervals\n",
    "\n",
    "f,(ax,ax2) = plt.subplots(1,2,sharey=True, facecolor='w',figsize=(12, 12), gridspec_kw = {'width_ratios':[4, 1]})\n",
    "\n",
    "ax.plot(np.array(x[:-1])/1000000,y[:-1],'--',color='blue',linewidth=5)\n",
    "ax.scatter(np.array(x[:-1])/1000000,y[:-1],marker='o',s=200, color='blue')\n",
    "\n",
    "#ax2.plot(np.array(x[:-1])/1000000,y[:-1],'-o',linewidth=2)\n",
    "ax2.scatter(np.array(x[-1])/1000000,np.array(y[-1]),marker=(8, 0),s=500, color='red')\n",
    "#ax.plot(np.array(x[-1])/1000000,np.array(y[-1]),'o',linewidth=2)\n",
    "\n",
    "x_scale = np.array(x)/1000000\n",
    "ax.plot((x_scale.min()-1.0,x_scale.max()),(y[-1],y[-1]),'--',linewidth=5, color='red')\n",
    "ax2.plot((x_scale.min()-1.0,x_scale.max()+1.0),(y[-1],y[-1]),'--',linewidth=5, color='red')\n",
    "\n",
    "\n",
    "ax.set_xlim(0.5,5.5)\n",
    "ax2.set_xlim(x_scale[-1]-0.5,x_scale[-1]+0.5)\n",
    "\n",
    "ax.set_ylim(y[:-1].min()-0.5,y[:-1].max()+1.0)\n",
    "\n",
    "ax2.xaxis.set_major_locator(loc)\n",
    "\n",
    "# hide the spines between ax and ax2\n",
    "ax.spines['right'].set_visible(False)\n",
    "ax2.spines['left'].set_visible(False)\n",
    "ax.yaxis.tick_left()\n",
    "ax.tick_params(labelright='off')\n",
    "ax2.tick_params(labelright='off')\n",
    "#ax2.yaxis.tick_right()\n",
    "#ax2.yaxis.set_ticklabels([])\n",
    "ax2.yaxis.set_ticks_position('none') \n",
    "\n",
    "y_mid_shift = (y[-1]-(y[:-1].min()-0.5))/((y[:-1].max()+1.0)-(y[:-1].min()-0.5))\n",
    "print(y_mid_shift)\n",
    "\n",
    "d = .025  # how big to make the diagonal lines in axes coordinates\n",
    "# arguments to pass to plot, just so we don't keep repeating them\n",
    "kwargs = dict(transform=ax.transAxes, color='k', clip_on=False)\n",
    "#ax2.plot((-d, +d), (-d, +d), linewidth=3.0, **kwargs)        # bottom-left diagonal\n",
    "ax.plot((1 - d, 1 + d), (1 - d, 1 + d), linewidth=3.0, **kwargs)  # bottom-right diagonal\n",
    "ax.plot((1 - d, 1 + d), (y_mid_shift - d, y_mid_shift + d), linewidth=3.0, **kwargs)  # bottom-right diagonal\n",
    "ax.plot((1 - d, 1 + d), (-d, +d), linewidth=3.0, **kwargs)  # bottom-right diagonal\n",
    "\n",
    "kwargs.update(transform=ax2.transAxes)  # switch to the bottom axes\n",
    "ax2.plot((-d*4, +d*4), (1 - d, 1 + d), linewidth=3.0, **kwargs)  # bottom-right diagonal\n",
    "ax2.plot((-d*4, +d*4), (y_mid_shift - d,y_mid_shift + d), linewidth=3.0, **kwargs)  # bottom-right diagonal\n",
    "ax2.plot((-d*4, +d*4), (-d, +d), linewidth=3.0, **kwargs)  # bottom-right diagonal\n",
    "\n",
    "ax.set_xlabel(r'Training set size ($\\times 10^6$)')\n",
    "ax.set_ylabel(r'$\\mathrm{E_T}$ RMSE ($\\mathrm{kcal \\times mol^{-1}}$)')\n",
    "\n",
    "lx,ly = ax.xaxis.label.get_position()\n",
    "ax.xaxis.label.set_position((lx*1.3,ly))\n",
    "\n",
    "#for k,x1,y1 in zip(key[:-1],x[:-1],y[:-1]):\n",
    "#    print(k,x1,y1)\n",
    "#    x1 = x1/1000000\n",
    "#    ax.annotate(k, xy=(x1+0.05, y1+0.05), xytext=(x1+0.5, y1+0.5),\n",
    "#                arrowprops=dict(facecolor='black', shrink=0.05), fontsize=20,\n",
    "#                )\n",
    "    \n",
    "ax2.annotate(key[-1], xy=(x[-1]/1000000, y[-1]+0.14), xytext=(x[-1]/1000000, y[-1]+1.2),\n",
    "             arrowprops=dict(facecolor='black', shrink=0.05, ), fontsize=22, horizontalalignment='center',\n",
    "             )\n",
    "    \n",
    "#plt.show()\n",
    "pp = PdfPages('/home/jujuman/Dropbox/ChemSciencePaper.AER/PUBLICATION-ActiveLearning/Figures/figure_errorvssize_RMSE.pdf')\n",
    "pp.savefig(f)\n",
    "pp.close()"
   ]
  },
  {
   "cell_type": "code",
   "execution_count": null,
   "metadata": {
    "collapsed": true
   },
   "outputs": [],
   "source": []
  }
 ],
 "metadata": {
  "kernelspec": {
   "display_name": "Python 3",
   "language": "python",
   "name": "python3"
  },
  "language_info": {
   "codemirror_mode": {
    "name": "ipython",
    "version": 3
   },
   "file_extension": ".py",
   "mimetype": "text/x-python",
   "name": "python",
   "nbconvert_exporter": "python",
   "pygments_lexer": "ipython3",
   "version": "3.5.2"
  }
 },
 "nbformat": 4,
 "nbformat_minor": 1
}
