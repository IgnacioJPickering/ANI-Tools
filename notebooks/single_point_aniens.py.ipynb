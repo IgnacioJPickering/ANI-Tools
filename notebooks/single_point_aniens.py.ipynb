{
 "cells": [
  {
   "cell_type": "code",
   "execution_count": 1,
   "metadata": {
    "collapsed": true
   },
   "outputs": [],
   "source": [
    "import pyanitools as pyt\n",
    "import pyaniasetools as aat\n",
    "import hdnntools as hdt\n",
    "import numpy as np"
   ]
  },
  {
   "cell_type": "code",
   "execution_count": 2,
   "metadata": {
    "collapsed": false
   },
   "outputs": [],
   "source": [
    "#----------------Parameters--------------------\n",
    "mol = '/home/jujuman/Research/water/data.dat'\n",
    "mol2 = '/home/jujuman/Research/water/data_mp2.dat'\n",
    "wkdir = '/home/jujuman/Research/DataReductionMethods/model6r/model-gdb_r06_comb09_1/cv4/'\n",
    "cnstfile = wkdir + 'rHCNO-4.6A_16-3.1A_a4-8.params'\n",
    "saefile  = wkdir + 'sae_6-31gd.dat'\n",
    "nnfdir   = wkdir + '/train'\n",
    "Nn = 5\n",
    "#----------------------------------------------"
   ]
  },
  {
   "cell_type": "code",
   "execution_count": 3,
   "metadata": {
    "collapsed": true
   },
   "outputs": [],
   "source": [
    "# Define the conformer cross validator class\n",
    "anicv = aat.anicrossvalidationconformer(cnstfile,saefile,nnfdir,Nn,0,False)"
   ]
  },
  {
   "cell_type": "code",
   "execution_count": 4,
   "metadata": {
    "collapsed": false
   },
   "outputs": [],
   "source": [
    "data = hdt.readncdatall(mol)\n",
    "data2 = hdt.readncdatall(mol2)"
   ]
  },
  {
   "cell_type": "code",
   "execution_count": null,
   "metadata": {
    "collapsed": false
   },
   "outputs": [],
   "source": []
  },
  {
   "cell_type": "code",
   "execution_count": 5,
   "metadata": {
    "collapsed": false
   },
   "outputs": [],
   "source": [
    "# Extract the data\n",
    "X  = data['coordinates']\n",
    "S  = data['species']\n",
    "Edft = hdt.hatokcal*data['energies']\n",
    "Emp2 = hdt.hatokcal*data2['energies']\n",
    "Fdft = hdt.hatokcal*data['forces']#/(0.52917724900001*0.52917724900001)\n",
    "\n",
    "# Calculate std. dev. per atom for all conformers\n",
    "sigma = anicv.compute_stddev_conformations(X, S)\n",
    "\n",
    "# Calculate energy deltas\n",
    "Eani, Fani = anicv.compute_energy_conformations(X, S)\n",
    "Eani = np.mean(Eani,axis=0)"
   ]
  },
  {
   "cell_type": "code",
   "execution_count": 6,
   "metadata": {
    "collapsed": false
   },
   "outputs": [
    {
     "name": "stdout",
     "output_type": "stream",
     "text": [
      "[ 8.50902172  1.0642492   3.14906142]\n"
     ]
    }
   ],
   "source": [
    "print(sigma)"
   ]
  },
  {
   "cell_type": "code",
   "execution_count": 7,
   "metadata": {
    "collapsed": false
   },
   "outputs": [
    {
     "name": "stdout",
     "output_type": "stream",
     "text": [
      "[-95836.11346909 -95859.17805701 -95827.86060603]\n",
      "[-95814.68091299 -95855.77652945 -95837.73236477]\n",
      "[ 21.4325561    3.40152756   9.87175875]\n"
     ]
    }
   ],
   "source": [
    "print(Eani)\n",
    "print(Edft)\n",
    "print(np.abs(Eani-Edft))"
   ]
  },
  {
   "cell_type": "code",
   "execution_count": 8,
   "metadata": {
    "collapsed": true
   },
   "outputs": [],
   "source": [
    "import matplotlib.pyplot as plt"
   ]
  },
  {
   "cell_type": "code",
   "execution_count": 9,
   "metadata": {
    "collapsed": false
   },
   "outputs": [
    {
     "data": {
      "image/png": "[encoded data removed]",
      "text/plain": [
       "<matplotlib.figure.Figure at 0x2b4d4ff184e0>"
      ]
     },
     "metadata": {},
     "output_type": "display_data"
    }
   ],
   "source": [
    "#Eani = -0.5*(Eani)\n",
    "#Edft = -0.5*(Edft)\n",
    "#Emp2 = -0.5*(Emp2)\n",
    "\n",
    "Eani = Eani - Eani.min()\n",
    "Edft = Edft - Edft.min()\n",
    "Emp2 = Emp2 - Emp2.min()\n",
    "\n",
    "plt.scatter(np.arange(Eani.size),Eani,c='r')\n",
    "plt.plot(np.arange(Eani.size),Eani,c='r')\n",
    "plt.scatter(np.arange(Edft.size),Edft,c='black')\n",
    "plt.plot(np.arange(Edft.size),Edft,c='black')\n",
    "plt.scatter(np.arange(Emp2.size),Emp2,c='green')\n",
    "plt.plot(np.arange(Emp2.size),Emp2,c='green')\n",
    "plt.show()"
   ]
  },
  {
   "cell_type": "code",
   "execution_count": null,
   "metadata": {
    "collapsed": true
   },
   "outputs": [],
   "source": []
  }
 ],
 "metadata": {
  "kernelspec": {
   "display_name": "Python 3",
   "language": "python",
   "name": "python3"
  },
  "language_info": {
   "codemirror_mode": {
    "name": "ipython",
    "version": 3
   },
   "file_extension": ".py",
   "mimetype": "text/x-python",
   "name": "python",
   "nbconvert_exporter": "python",
   "pygments_lexer": "ipython3",
   "version": "3.5.2"
  }
 },
 "nbformat": 4,
 "nbformat_minor": 1
}
