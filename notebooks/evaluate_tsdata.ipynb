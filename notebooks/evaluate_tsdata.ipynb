{
 "cells": [
  {
   "cell_type": "code",
   "execution_count": 1,
   "metadata": {},
   "outputs": [
    {
     "name": "stdout",
     "output_type": "stream",
     "text": [
      "van Der Waals correction will be unavailable. Please install ased3\n"
     ]
    },
    {
     "name": "stderr",
     "output_type": "stream",
     "text": [
      "/usr/local/anaconda3/lib/python3.6/site-packages/h5py/__init__.py:34: FutureWarning: Conversion of the second argument of issubdtype from `float` to `np.floating` is deprecated. In future, it will be treated as `np.float64 == np.dtype(float).type`.\n",
      "  from ._conv import register_converters as _register_converters\n"
     ]
    }
   ],
   "source": [
    "import aniensemblestats as aes\n",
    "import pandas as pd\n",
    "import os\n",
    "\n",
    "import matplotlib as mpl\n",
    "import matplotlib.pyplot as plt\n",
    "\n",
    "#import seaborn as sns\n",
    "pd.options.display.float_format = '{:.2f}'.format"
   ]
  },
  {
   "cell_type": "code",
   "execution_count": 2,
   "metadata": {},
   "outputs": [
    {
     "name": "stdout",
     "output_type": "stream",
     "text": [
      "/home/jsmith48/scratch/error_stats/test_post_bug/tsdata_ANI-1x-010.h5\n",
      "/home/jsmith48/scratch/error_stats/test_post_bug/tsdata_ANI-1x-030.h5\n"
     ]
    }
   ],
   "source": [
    "errdir = '/home/jsmith48/scratch/error_stats/test_post_bug/'\n",
    "#errdir = '/home/jujuman/Research/DataReductionMethods/train_test/error_compare/'\n",
    "tex_store = \"/home/jsmith48/scratch/error_stats/AllTests_results_mean.tex\"\n",
    "xls_store = \"/home/jsmith48/scratch/error_stats/AllTests_results_mean.xlsx\"\n",
    "tex_store = \"/home/jsmith48/scratch/error_stats/AllTests_results.tex\"\n",
    "\n",
    "#errdir = '/home/jujuman/Research/DataReductionMethods/model6r/error_compare/emax_compare/'\n",
    "#tex_store = \"/home/jujuman/Dropbox/ANAKIN-ME-RESEARCH/PUBLICATION-ActiveLearning/tables/Emax_results_mean.tex\"\n",
    "#xls_store = \"/home/jujuman/Dropbox/ANAKIN-ME-RESEARCH/PUBLICATION-ActiveLearning/tables/Emax_results_mean.xlsx\"\n",
    "\n",
    "#errdir = '/home/jujuman/Research/DataReductionMethods/al_working_network/error_compare/'\n",
    "\n",
    "#errdir = '/home/jujuman/Research/DataReductionMethods/train_test/error_compare/'\n",
    "#tex_store = \"/home/jujuman/Research/DataReductionMethods/al_working_network/tables/AllTests_results_mean.tex\"\n",
    "#xls_store = \"/home/jujuman/Research/DataReductionMethods/al_working_network/tables/AllTests_results_mean.xlsx\"\n",
    "\n",
    "efiles = [errdir+f for f in os.listdir(errdir)]\n",
    "tsname = ['DrugBank',\n",
    "          'Tripeptide',\n",
    "          'GDB07to09',\n",
    "          'MDBenchmark',\n",
    "          'GDB10to13',\n",
    "          's66x8',\n",
    "         ]\n",
    "\n",
    "'''\n",
    "efiles = [errdir+f for f in os.listdir(errdir)]\n",
    "tsname = ['DrugBk (SFCl)',\n",
    "          'DrugBk (CHNO)',\n",
    "          'GDB-07 (SFCl)',\n",
    "          'GDB-08 (SFCl)',\n",
    "          'GDB-09 (SFCl)',\n",
    "          'GDB-10 (SFCl)',\n",
    "          'GDB-11 (SFCl)',\n",
    "          'GDB-07 (CHNO)',\n",
    "          'GDB-08 (CHNO)',\n",
    "          'GDB-09 (CHNO)',\n",
    "          'GDB-10 (CHNO)',\n",
    "          'GDB-11 (CHNO)',\n",
    "         ]\n",
    "'''\n",
    "\n",
    "for i in efiles:\n",
    "    print(i)"
   ]
  },
  {
   "cell_type": "code",
   "execution_count": 3,
   "metadata": {},
   "outputs": [
    {
     "data": {
      "text/html": [
       "<div>\n",
       "<style>\n",
       "    .dataframe thead tr:only-child th {\n",
       "        text-align: right;\n",
       "    }\n",
       "\n",
       "    .dataframe thead th {\n",
       "        text-align: left;\n",
       "    }\n",
       "\n",
       "    .dataframe tbody tr th {\n",
       "        vertical-align: top;\n",
       "    }\n",
       "</style>\n",
       "<table border=\"1\" class=\"dataframe\">\n",
       "  <thead>\n",
       "    <tr style=\"text-align: right;\">\n",
       "      <th></th>\n",
       "      <th>$\\Delta$E$_\\mathrm{MAE}$$\\mu$</th>\n",
       "      <th>$\\Delta$E$_\\mathrm{RMS}$$\\mu$</th>\n",
       "      <th>E$_\\mathrm{MAE}$$\\mu$</th>\n",
       "      <th>E$_\\mathrm{RMS}$$\\mu$</th>\n",
       "    </tr>\n",
       "  </thead>\n",
       "  <tbody>\n",
       "    <tr>\n",
       "      <th>ANI-1x-010</th>\n",
       "      <td>28.33</td>\n",
       "      <td>40.09</td>\n",
       "      <td>62.38</td>\n",
       "      <td>138.22</td>\n",
       "    </tr>\n",
       "    <tr>\n",
       "      <th>ANI-1x-030</th>\n",
       "      <td>41.30</td>\n",
       "      <td>62.41</td>\n",
       "      <td>61.79</td>\n",
       "      <td>121.02</td>\n",
       "    </tr>\n",
       "  </tbody>\n",
       "</table>\n",
       "</div>"
      ],
      "text/plain": [
       "            $\\Delta$E$_\\mathrm{MAE}$$\\mu$  $\\Delta$E$_\\mathrm{RMS}$$\\mu$  E$_\\mathrm{MAE}$$\\mu$  E$_\\mathrm{RMS}$$\\mu$\n",
       "ANI-1x-010                          28.33                          40.09                  62.38                 138.22\n",
       "ANI-1x-030                          41.30                          62.41                  61.79                 121.02"
      ]
     },
     "execution_count": 3,
     "metadata": {},
     "output_type": "execute_result"
    }
   ],
   "source": [
    "eed = aes.evaluate_ensemble_data(efiles)\n",
    "eed.get_totalerrorperatom_table(['DrugBank'])"
   ]
  },
  {
   "cell_type": "code",
   "execution_count": 4,
   "metadata": {
    "collapsed": true
   },
   "outputs": [],
   "source": [
    "#eed.get_ntwrk_error_table('0707.0001.0400')"
   ]
  },
  {
   "cell_type": "code",
   "execution_count": 5,
   "metadata": {},
   "outputs": [],
   "source": [
    "#eed.get_ntwrk_error_table('0707.0001.0402')"
   ]
  },
  {
   "cell_type": "code",
   "execution_count": 6,
   "metadata": {},
   "outputs": [],
   "source": [
    "#eed.get_ntwrk_error_table('0707.0001.0408')"
   ]
  },
  {
   "cell_type": "code",
   "execution_count": 7,
   "metadata": {},
   "outputs": [
    {
     "data": {
      "text/html": [
       "<div>\n",
       "<style>\n",
       "    .dataframe thead tr:only-child th {\n",
       "        text-align: right;\n",
       "    }\n",
       "\n",
       "    .dataframe thead th {\n",
       "        text-align: left;\n",
       "    }\n",
       "\n",
       "    .dataframe tbody tr th {\n",
       "        vertical-align: top;\n",
       "    }\n",
       "</style>\n",
       "<table border=\"1\" class=\"dataframe\">\n",
       "  <thead>\n",
       "    <tr style=\"text-align: right;\">\n",
       "      <th></th>\n",
       "      <th>$\\Delta$E$_\\mathrm{MAE}$$\\mu$</th>\n",
       "      <th>$\\Delta$E$_\\mathrm{MAE}$$\\sigma$</th>\n",
       "      <th>$\\Delta$E$_\\mathrm{RMS}$$\\mu$</th>\n",
       "      <th>$\\Delta$E$_\\mathrm{RMS}$$\\sigma$</th>\n",
       "      <th>E$_\\mathrm{MAE}$$\\mu$</th>\n",
       "      <th>E$_\\mathrm{MAE}$$\\sigma$</th>\n",
       "      <th>E$_\\mathrm{RMS}$$\\mu$</th>\n",
       "      <th>E$_\\mathrm{RMS}$$\\sigma$</th>\n",
       "      <th>F$_\\mathrm{MAE}$$\\mu$</th>\n",
       "      <th>F$_\\mathrm{MAE}$$\\sigma$</th>\n",
       "      <th>F$_\\mathrm{RMS}$$\\mu$</th>\n",
       "      <th>F$_\\mathrm{RMS}$$\\sigma$</th>\n",
       "    </tr>\n",
       "  </thead>\n",
       "  <tbody>\n",
       "    <tr>\n",
       "      <th>ANI-1x-010</th>\n",
       "      <td>0.79</td>\n",
       "      <td>0.05</td>\n",
       "      <td>1.21</td>\n",
       "      <td>0.06</td>\n",
       "      <td>1.56</td>\n",
       "      <td>0.10</td>\n",
       "      <td>2.40</td>\n",
       "      <td>0.19</td>\n",
       "      <td>4.10</td>\n",
       "      <td>0.16</td>\n",
       "      <td>6.23</td>\n",
       "      <td>0.23</td>\n",
       "    </tr>\n",
       "    <tr>\n",
       "      <th>ANI-1x-030</th>\n",
       "      <td>1.26</td>\n",
       "      <td>0.07</td>\n",
       "      <td>1.92</td>\n",
       "      <td>0.08</td>\n",
       "      <td>1.62</td>\n",
       "      <td>0.09</td>\n",
       "      <td>2.40</td>\n",
       "      <td>0.15</td>\n",
       "      <td>4.27</td>\n",
       "      <td>0.15</td>\n",
       "      <td>6.37</td>\n",
       "      <td>0.23</td>\n",
       "    </tr>\n",
       "  </tbody>\n",
       "</table>\n",
       "</div>"
      ],
      "text/plain": [
       "            $\\Delta$E$_\\mathrm{MAE}$$\\mu$  $\\Delta$E$_\\mathrm{MAE}$$\\sigma$  $\\Delta$E$_\\mathrm{RMS}$$\\mu$  $\\Delta$E$_\\mathrm{RMS}$$\\sigma$  E$_\\mathrm{MAE}$$\\mu$  E$_\\mathrm{MAE}$$\\sigma$  E$_\\mathrm{RMS}$$\\mu$  E$_\\mathrm{RMS}$$\\sigma$  F$_\\mathrm{MAE}$$\\mu$  F$_\\mathrm{MAE}$$\\sigma$  F$_\\mathrm{RMS}$$\\mu$  F$_\\mathrm{RMS}$$\\sigma$\n",
       "ANI-1x-010                           0.79                              0.05                           1.21                              0.06                   1.56                      0.10                   2.40                      0.19                   4.10                      0.16                   6.23                      0.23\n",
       "ANI-1x-030                           1.26                              0.07                           1.92                              0.08                   1.62                      0.09                   2.40                      0.15                   4.27                      0.15                   6.37                      0.23"
      ]
     },
     "execution_count": 7,
     "metadata": {},
     "output_type": "execute_result"
    }
   ],
   "source": [
    "eed.get_totalerror_table()"
   ]
  },
  {
   "cell_type": "code",
   "execution_count": 8,
   "metadata": {
    "scrolled": true
   },
   "outputs": [
    {
     "data": {
      "text/html": [
       "<div>\n",
       "<style>\n",
       "    .dataframe thead tr:only-child th {\n",
       "        text-align: right;\n",
       "    }\n",
       "\n",
       "    .dataframe thead th {\n",
       "        text-align: left;\n",
       "    }\n",
       "\n",
       "    .dataframe tbody tr th {\n",
       "        vertical-align: top;\n",
       "    }\n",
       "</style>\n",
       "<table border=\"1\" class=\"dataframe\">\n",
       "  <thead>\n",
       "    <tr style=\"text-align: right;\">\n",
       "      <th></th>\n",
       "      <th>$\\Delta$E$_\\mathrm{MAE}$$\\mu$</th>\n",
       "      <th>$\\Delta$E$_\\mathrm{MAE}$$\\sigma$</th>\n",
       "      <th>$\\Delta$E$_\\mathrm{RMS}$$\\mu$</th>\n",
       "      <th>$\\Delta$E$_\\mathrm{RMS}$$\\sigma$</th>\n",
       "      <th>E$_\\mathrm{MAE}$$\\mu$</th>\n",
       "      <th>E$_\\mathrm{MAE}$$\\sigma$</th>\n",
       "      <th>E$_\\mathrm{RMS}$$\\mu$</th>\n",
       "      <th>E$_\\mathrm{RMS}$$\\sigma$</th>\n",
       "      <th>F$_\\mathrm{MAE}$$\\mu$</th>\n",
       "      <th>F$_\\mathrm{MAE}$$\\sigma$</th>\n",
       "      <th>F$_\\mathrm{RMS}$$\\mu$</th>\n",
       "      <th>F$_\\mathrm{RMS}$$\\sigma$</th>\n",
       "    </tr>\n",
       "  </thead>\n",
       "  <tbody>\n",
       "    <tr>\n",
       "      <th>ANI-1x-010</th>\n",
       "      <td>0.80</td>\n",
       "      <td>0.07</td>\n",
       "      <td>1.10</td>\n",
       "      <td>0.12</td>\n",
       "      <td>2.74</td>\n",
       "      <td>0.32</td>\n",
       "      <td>3.38</td>\n",
       "      <td>0.27</td>\n",
       "      <td>4.10</td>\n",
       "      <td>0.19</td>\n",
       "      <td>5.80</td>\n",
       "      <td>0.38</td>\n",
       "    </tr>\n",
       "    <tr>\n",
       "      <th>ANI-1x-030</th>\n",
       "      <td>1.07</td>\n",
       "      <td>0.07</td>\n",
       "      <td>1.41</td>\n",
       "      <td>0.10</td>\n",
       "      <td>2.89</td>\n",
       "      <td>0.38</td>\n",
       "      <td>3.55</td>\n",
       "      <td>0.34</td>\n",
       "      <td>4.15</td>\n",
       "      <td>0.21</td>\n",
       "      <td>5.87</td>\n",
       "      <td>0.40</td>\n",
       "    </tr>\n",
       "  </tbody>\n",
       "</table>\n",
       "</div>"
      ],
      "text/plain": [
       "            $\\Delta$E$_\\mathrm{MAE}$$\\mu$  $\\Delta$E$_\\mathrm{MAE}$$\\sigma$  $\\Delta$E$_\\mathrm{RMS}$$\\mu$  $\\Delta$E$_\\mathrm{RMS}$$\\sigma$  E$_\\mathrm{MAE}$$\\mu$  E$_\\mathrm{MAE}$$\\sigma$  E$_\\mathrm{RMS}$$\\mu$  E$_\\mathrm{RMS}$$\\sigma$  F$_\\mathrm{MAE}$$\\mu$  F$_\\mathrm{MAE}$$\\sigma$  F$_\\mathrm{RMS}$$\\mu$  F$_\\mathrm{RMS}$$\\sigma$\n",
       "ANI-1x-010                           0.80                              0.07                           1.10                              0.12                   2.74                      0.32                   3.38                      0.27                   4.10                      0.19                   5.80                      0.38\n",
       "ANI-1x-030                           1.07                              0.07                           1.41                              0.10                   2.89                      0.38                   3.55                      0.34                   4.15                      0.21                   5.87                      0.40"
      ]
     },
     "execution_count": 8,
     "metadata": {},
     "output_type": "execute_result"
    }
   ],
   "source": [
    "eed.get_error_table(tskey='Tripeptide')"
   ]
  },
  {
   "cell_type": "code",
   "execution_count": 9,
   "metadata": {
    "scrolled": false
   },
   "outputs": [
    {
     "name": "stdout",
     "output_type": "stream",
     "text": [
      "Stats for: Complete benchmark\n",
      "Stats for: DrugBank\n",
      "Stats for: Tripeptide\n",
      "Stats for: GDB07to09\n",
      "Stats for: MDBenchmark\n",
      "Stats for: GDB10to13\n",
      "Stats for: s66x8\n"
     ]
    }
   ],
   "source": [
    "# Create a Pandas Excel writer using XlsxWriter as the engine.\n",
    "writer = pd.ExcelWriter(xls_store, engine='xlsxwriter')\n",
    "\n",
    "# Build latex document\n",
    "header = r'\\documentclass{article}'+'\\n'+r'\\usepackage{booktabs}'+'\\n'+r'\\usepackage[margin=1.0in]{geometry}'+'\\n'+r'\\begin{document}'+'\\n'\n",
    "\n",
    "begtab = r'\\begin{table}'+'\\n'+r'\\centering'+'\\n'+r'\\tiny'+'\\n'\n",
    "endtab = r'\\end{table}'+'\\n'\n",
    "enddoc = r'\\end{document}'\n",
    "styles = []\n",
    "with open(tex_store, \"w\") as text_file:\n",
    "    text_file.write(header)\n",
    "    print('Stats for: Complete benchmark')\n",
    "    etab = eed.get_totalerror_table()\n",
    "    styles.append(etab.style)\n",
    "    text_file.write(begtab+r'\\caption{Data set: Complete benchmark}'+'\\n'+etab.to_latex(escape=False)+endtab)\n",
    "\n",
    "    # Convert the dataframe to an XlsxWriter Excel object.\n",
    "    etab.to_excel(writer, sheet_name=\"Complete Benchmark\")\n",
    "\n",
    "    paetab = eed.get_totalerrorperatom_table()\n",
    "    text_file.write(begtab+r'\\caption{Data set: Complete benchmark per atom}'+'\\n'+paetab.to_latex(escape=False)+endtab)\n",
    "    paetab.to_excel(writer, sheet_name=\"Complete Benchmark per atom\")\n",
    "    \n",
    "    \n",
    "    for k in tsname:\n",
    "        print('Stats for:',k)\n",
    "        etab = eed.get_error_table(k)\n",
    "        etab.to_excel(writer, sheet_name=k)\n",
    "        styles.append(etab.style)\n",
    "        text_file.write(begtab+r'\\caption{Data set: '+k+r'}'+'\\n'+etab.to_latex(escape=False)+endtab)\n",
    "    text_file.write(enddoc)\n",
    "styles[0]\n",
    "\n",
    "# Close the Pandas Excel writer and output the Excel file.\n",
    "writer.save()"
   ]
  },
  {
   "cell_type": "code",
   "execution_count": 16,
   "metadata": {},
   "outputs": [
    {
     "name": "stdout",
     "output_type": "stream",
     "text": [
      "Step: 707 S: 0.19567071299231242   -Perc over: 98.2532751091703 Total 69.08530151773395\n",
      "RMSE Over:   1.4459355136499674\n",
      "RMSE Under:  1.2305111538811915\n"
     ]
    },
    {
     "data": {
      "image/png": "[encoded data removed]",
      "text/plain": [
       "<matplotlib.figure.Figure at 0x2b5bf3c94240>"
      ]
     },
     "metadata": {},
     "output_type": "display_data"
    }
   ],
   "source": [
    "cmap = mpl.cm.nipy_spectral\n",
    "eed.determine_min_error_by_sigma('ANI-1x-010',\n",
    "                                 1.5, 98.0,\n",
    "                                 labelx=r'$\\mathrm{\\rho}$ [$\\mathrm{kcal \\times mol^{-1} \\times (\\sqrt{N_a})^{-1}}}$]',\n",
    "                                 labely=r'$\\mathrm{\\mathcal{E}}$ [$\\mathrm{kcal \\times mol^{-1} \\times (\\sqrt{N_a})^{-1}}$]',\n",
    "                                 xymax=(7.0,22.0),\n",
    "                                 figsize=(12.0, 9.0),\n",
    "                                 cmap=cmap,\n",
    "                                 tskeys=['GDB07to09'],\n",
    "                                 #storepath='/home/jsmith48/scratch/error_stats/rho_selection_6.0.0.pdf',\n",
    "                                 )"
   ]
  },
  {
   "cell_type": "code",
   "execution_count": 11,
   "metadata": {},
   "outputs": [
    {
     "name": "stdout",
     "output_type": "stream",
     "text": [
      "dict_keys(['ANI-1x-010', 'ANI-1x-030'])\n"
     ]
    }
   ],
   "source": [
    "print(eed.get_net_keys())\n",
    "#print(eed.get_size(\"9.0.5\",\"MDBenchmark\"))\n",
    "#print(eed.get_size(\"9.0.4\",\"Tripeptide\"))\n",
    "#print(eed.get_size(\"9.0.4\",\"GDB07to09\"))\n",
    "#print(eed.get_size(\"9.0.4\",\"GDB10to13\"))"
   ]
  },
  {
   "cell_type": "code",
   "execution_count": 12,
   "metadata": {
    "scrolled": false
   },
   "outputs": [],
   "source": [
    "#eed.generate_correlation_plot('6.0.0','MDBenchmark','Fani','Fdft')\n",
    "#cmap = mpl.cm.nipy_spectral\n",
    "#eed.generate_correlation_plot('ANI-0707.0001.0410_bt5','GDB-11 (SFCl)','Fani','Fdft',cmap=cmap)\n",
    "#eed.generate_correlation_plot('0707.0001.0402','GDB-07 (SFCl)','dEani','dEdft')\n",
    "#eed.generate_correlation_plot('0707.0001.0402','GDB-08 (SFCl)','dEani','dEdft')\n",
    "#eed.generate_correlation_plot('0707.0001.0402','GDB-09 (SFCl)','dEani','dEdft')\n",
    "#eed.generate_correlation_plot('0707.0001.0402','GDB-10 (SFCl)','dEani','dEdft')\n",
    "#eed.generate_correlation_plot('0707.0001.0402','GDB-11 (SFCl)','dEani','dEdft')\n",
    "#eed.generate_correlation_plot('AL6','DrugBank','Fani','Fdft')\n",
    "#eed.generate_correlation_plot('ARC1','MDBenchmark','Fani','Fdft')\n",
    "#eed.generate_correlation_plot('ARC8','MDBenchmark','Fani','Fdft')"
   ]
  },
  {
   "cell_type": "code",
   "execution_count": 13,
   "metadata": {
    "collapsed": true,
    "scrolled": false
   },
   "outputs": [],
   "source": [
    "#eed.plot_bar_propsbynet([('Total Energy',r'RMSE ($kcal \\times mol^{-1}$)','Eani','Edft',[0.0,23.0]),\n",
    "#                         ('Relative Energy',r'RMSE ($kcal \\times mol^{-1}$)','dEani', 'dEdft',[0.0,12.0]),\n",
    "#                         ('Force',r'RMSE ($kcal \\times mol^{-1} \\times \\AA^{-1}$)','Fani', 'Fdft',[0.0,10.0])], \n",
    "#                         ['GDB07to09', 'GDB10to13', 'DrugBank', 'Tripeptide', 's66x8'],\n",
    "#                         ntwks=['6.0.0','7.0.4','8.0.6','8.3.6','9.0.4','ANI-1'],\n",
    "#                         fontsize=30, bbox_to_anchor=(0.3, 1.0), figsize=(40.0, 32.0), ncol=2, errortype='RMSE')"
   ]
  },
  {
   "cell_type": "code",
   "execution_count": 14,
   "metadata": {},
   "outputs": [
    {
     "ename": "KeyError",
     "evalue": "'0808.0302.0402'",
     "output_type": "error",
     "traceback": [
      "\u001b[0;31m---------------------------------------------------------------------------\u001b[0m",
      "\u001b[0;31mKeyError\u001b[0m                                  Traceback (most recent call last)",
      "\u001b[0;32m<ipython-input-14-4d4fa7df40f1>\u001b[0m in \u001b[0;36m<module>\u001b[0;34m()\u001b[0m\n\u001b[1;32m      4\u001b[0m                          \u001b[0;34m[\u001b[0m\u001b[0;34m'GDB-07 (SFCl)'\u001b[0m\u001b[0;34m,\u001b[0m \u001b[0;34m'GDB-08 (SFCl)'\u001b[0m\u001b[0;34m,\u001b[0m \u001b[0;34m'GDB-09 (SFCl)'\u001b[0m\u001b[0;34m,\u001b[0m \u001b[0;34m'GDB-10 (SFCl)'\u001b[0m\u001b[0;34m,\u001b[0m \u001b[0;34m'GDB-11 (SFCl)'\u001b[0m\u001b[0;34m]\u001b[0m\u001b[0;34m,\u001b[0m\u001b[0;34m\u001b[0m\u001b[0m\n\u001b[1;32m      5\u001b[0m                          \u001b[0mntwks\u001b[0m\u001b[0;34m=\u001b[0m\u001b[0;34m[\u001b[0m\u001b[0;34m'0808.0302.0402'\u001b[0m\u001b[0;34m]\u001b[0m\u001b[0;34m,\u001b[0m\u001b[0;34m\u001b[0m\u001b[0m\n\u001b[0;32m----> 6\u001b[0;31m                          \u001b[0mfontsize\u001b[0m\u001b[0;34m=\u001b[0m\u001b[0;36m20\u001b[0m\u001b[0;34m,\u001b[0m \u001b[0mbbox_to_anchor\u001b[0m\u001b[0;34m=\u001b[0m\u001b[0;34m(\u001b[0m\u001b[0;36m1.0\u001b[0m\u001b[0;34m,\u001b[0m \u001b[0;36m1.0\u001b[0m\u001b[0;34m)\u001b[0m\u001b[0;34m,\u001b[0m \u001b[0mfigsize\u001b[0m\u001b[0;34m=\u001b[0m\u001b[0;34m(\u001b[0m\u001b[0;36m30.0\u001b[0m\u001b[0;34m,\u001b[0m \u001b[0;36m15.0\u001b[0m\u001b[0;34m)\u001b[0m\u001b[0;34m,\u001b[0m \u001b[0mncol\u001b[0m\u001b[0;34m=\u001b[0m\u001b[0;36m1\u001b[0m\u001b[0;34m,\u001b[0m \u001b[0merrortype\u001b[0m\u001b[0;34m=\u001b[0m\u001b[0;34m'RMSE'\u001b[0m\u001b[0;34m,\u001b[0m\u001b[0;34m\u001b[0m\u001b[0m\n\u001b[0m\u001b[1;32m      7\u001b[0m                         \u001b[0;31m#storepath='/home/jujuman/Dropbox/ANAKIN-ME-RESEARCH/PUBLICATION-ActiveLearning/Figures/figure_TSALvsANI_RMSE.pdf',\u001b[0m\u001b[0;34m\u001b[0m\u001b[0;34m\u001b[0m\u001b[0m\n\u001b[1;32m      8\u001b[0m                       )\n",
      "\u001b[0;32m~/Gits/ANI-Tools/lib/aniensemblestats.py\u001b[0m in \u001b[0;36mplot_error_by_net\u001b[0;34m(self, props, dsets, ntwks, fontsize, bbox_to_anchor, figsize, ncol, errortype, storepath)\u001b[0m\n\u001b[1;32m    744\u001b[0m                         \u001b[0merrs\u001b[0m\u001b[0;34m[\u001b[0m\u001b[0mtk\u001b[0m\u001b[0;34m[\u001b[0m\u001b[0;36m0\u001b[0m\u001b[0;34m]\u001b[0m\u001b[0;34m]\u001b[0m\u001b[0;34m.\u001b[0m\u001b[0mappend\u001b[0m\u001b[0;34m(\u001b[0m\u001b[0merror\u001b[0m\u001b[0;34m)\u001b[0m\u001b[0;34m\u001b[0m\u001b[0m\n\u001b[1;32m    745\u001b[0m                     \u001b[0;32melif\u001b[0m \u001b[0merrortype\u001b[0m \u001b[0;32mis\u001b[0m \u001b[0;34m'RMSE'\u001b[0m\u001b[0;34m:\u001b[0m\u001b[0;34m\u001b[0m\u001b[0m\n\u001b[0;32m--> 746\u001b[0;31m                         \u001b[0mNn\u001b[0m \u001b[0;34m=\u001b[0m \u001b[0mself\u001b[0m\u001b[0;34m.\u001b[0m\u001b[0mfdata\u001b[0m\u001b[0;34m[\u001b[0m\u001b[0mk\u001b[0m\u001b[0;34m]\u001b[0m\u001b[0;34m[\u001b[0m\u001b[0mds\u001b[0m\u001b[0;34m]\u001b[0m\u001b[0;34m[\u001b[0m\u001b[0mtk\u001b[0m\u001b[0;34m[\u001b[0m\u001b[0;36m2\u001b[0m\u001b[0;34m]\u001b[0m\u001b[0;34m]\u001b[0m\u001b[0;34m.\u001b[0m\u001b[0mshape\u001b[0m\u001b[0;34m[\u001b[0m\u001b[0;36m0\u001b[0m\u001b[0;34m]\u001b[0m \u001b[0;34m-\u001b[0m \u001b[0;36m1\u001b[0m\u001b[0;34m\u001b[0m\u001b[0m\n\u001b[0m\u001b[1;32m    747\u001b[0m                         \u001b[0mheight\u001b[0m \u001b[0;34m=\u001b[0m \u001b[0mhdt\u001b[0m\u001b[0;34m.\u001b[0m\u001b[0mcalculaterootmeansqrerror\u001b[0m\u001b[0;34m(\u001b[0m\u001b[0mself\u001b[0m\u001b[0;34m.\u001b[0m\u001b[0mfdata\u001b[0m\u001b[0;34m[\u001b[0m\u001b[0mk\u001b[0m\u001b[0;34m]\u001b[0m\u001b[0;34m[\u001b[0m\u001b[0mds\u001b[0m\u001b[0;34m]\u001b[0m\u001b[0;34m[\u001b[0m\u001b[0mtk\u001b[0m\u001b[0;34m[\u001b[0m\u001b[0;36m2\u001b[0m\u001b[0;34m]\u001b[0m\u001b[0;34m]\u001b[0m\u001b[0;34m[\u001b[0m\u001b[0mNn\u001b[0m\u001b[0;34m,\u001b[0m \u001b[0;34m:\u001b[0m\u001b[0;34m]\u001b[0m\u001b[0;34m,\u001b[0m \u001b[0mself\u001b[0m\u001b[0;34m.\u001b[0m\u001b[0mfdata\u001b[0m\u001b[0;34m[\u001b[0m\u001b[0mk\u001b[0m\u001b[0;34m]\u001b[0m\u001b[0;34m[\u001b[0m\u001b[0mds\u001b[0m\u001b[0;34m]\u001b[0m\u001b[0;34m[\u001b[0m\u001b[0mtk\u001b[0m\u001b[0;34m[\u001b[0m\u001b[0;36m3\u001b[0m\u001b[0;34m]\u001b[0m\u001b[0;34m]\u001b[0m\u001b[0;34m)\u001b[0m\u001b[0;34m\u001b[0m\u001b[0m\n\u001b[1;32m    748\u001b[0m                         \u001b[0merror\u001b[0m \u001b[0;34m=\u001b[0m \u001b[0mnp\u001b[0m\u001b[0;34m.\u001b[0m\u001b[0mstd\u001b[0m\u001b[0;34m(\u001b[0m\u001b[0mhdt\u001b[0m\u001b[0;34m.\u001b[0m\u001b[0mcalculaterootmeansqrerror\u001b[0m\u001b[0;34m(\u001b[0m\u001b[0mself\u001b[0m\u001b[0;34m.\u001b[0m\u001b[0mfdata\u001b[0m\u001b[0;34m[\u001b[0m\u001b[0mk\u001b[0m\u001b[0;34m]\u001b[0m\u001b[0;34m[\u001b[0m\u001b[0mds\u001b[0m\u001b[0;34m]\u001b[0m\u001b[0;34m[\u001b[0m\u001b[0mtk\u001b[0m\u001b[0;34m[\u001b[0m\u001b[0;36m2\u001b[0m\u001b[0;34m]\u001b[0m\u001b[0;34m]\u001b[0m\u001b[0;34m,\u001b[0m \u001b[0mself\u001b[0m\u001b[0;34m.\u001b[0m\u001b[0mfdata\u001b[0m\u001b[0;34m[\u001b[0m\u001b[0mk\u001b[0m\u001b[0;34m]\u001b[0m\u001b[0;34m[\u001b[0m\u001b[0mds\u001b[0m\u001b[0;34m]\u001b[0m\u001b[0;34m[\u001b[0m\u001b[0mtk\u001b[0m\u001b[0;34m[\u001b[0m\u001b[0;36m3\u001b[0m\u001b[0;34m]\u001b[0m\u001b[0;34m]\u001b[0m\u001b[0;34m,\u001b[0m \u001b[0maxis\u001b[0m\u001b[0;34m=\u001b[0m\u001b[0;36m1\u001b[0m\u001b[0;34m)\u001b[0m\u001b[0;34m)\u001b[0m\u001b[0;34m\u001b[0m\u001b[0m\n",
      "\u001b[0;31mKeyError\u001b[0m: '0808.0302.0402'"
     ]
    }
   ],
   "source": [
    "eed.plot_error_by_net([(r'$E (kcal \\times mol^{-1})$',r'RMSE ($kcal \\times mol^{-1}$)','Eani','Edft'),\n",
    "                       (r'$\\Delta E (kcal \\times mol^{-1})$',r'RMSE ($kcal \\times mol^{-1}$)','dEani','dEdft'),\n",
    "                       (r'$F (kcal \\times mol^{-1}\\AA^{-1})$',r'RMSE ($kcal \\times mol^{-1}$)','Fani','Fdft'),], \n",
    "                         ['GDB-07 (SFCl)', 'GDB-08 (SFCl)', 'GDB-09 (SFCl)', 'GDB-10 (SFCl)', 'GDB-11 (SFCl)'],\n",
    "                         ntwks=['0808.0302.0402'],\n",
    "                         fontsize=20, bbox_to_anchor=(1.0, 1.0), figsize=(30.0, 15.0), ncol=1, errortype='RMSE',\n",
    "                        #storepath='/home/jujuman/Dropbox/ANAKIN-ME-RESEARCH/PUBLICATION-ActiveLearning/Figures/figure_TSALvsANI_RMSE.pdf',\n",
    "                      )"
   ]
  },
  {
   "cell_type": "code",
   "execution_count": null,
   "metadata": {
    "scrolled": false
   },
   "outputs": [],
   "source": [
    "eed.plot_error_by_net([(r'$E (kcal \\times mol^{-1})$',r'RMSE ($kcal \\times mol^{-1}$)','Eani','Edft'),\n",
    "                       (r'$\\Delta E (kcal \\times mol^{-1})$',r'RMSE ($kcal \\times mol^{-1}$)','dEani','dEdft'),\n",
    "                       (r'$F (kcal \\times mol^{-1}\\AA^{-1})$',r'RMSE ($kcal \\times mol^{-1}$)','Fani','Fdft'),], \n",
    "                         ['GDB07to09', 'GDB10to13', 'DrugBank', 'Tripeptide', 'MDBenchmark', 's66x8'],\n",
    "                         ntwks=['AL1', 'AL2', 'AL3', 'AL4', 'AL5', 'AL6', 'ANI-1'],\n",
    "                         fontsize=20, bbox_to_anchor=(1.0, 1.0), figsize=(30.0, 15.0), ncol=1, errortype='RMSE',\n",
    "                        #storepath='/home/jujuman/Dropbox/ANAKIN-ME-RESEARCH/PUBLICATION-ActiveLearning/Figures/figure_TSALvsANI_RMSE.pdf')"
   ]
  },
  {
   "cell_type": "code",
   "execution_count": null,
   "metadata": {
    "collapsed": true
   },
   "outputs": [],
   "source": [
    "eed.plot_error_by_net([(r'$E (kcal \\times mol^{-1})$',r'RMSE ($kcal \\times mol^{-1}$)','Eani','Edft'),\n",
    "                       (r'$\\Delta E (kcal \\times mol^{-1})$',r'RMSE ($kcal \\times mol^{-1}$)','dEani','dEdft'),\n",
    "                       (r'$F (kcal \\times mol^{-1}\\AA^{-1})$',r'RMSE ($kcal \\times mol^{-1}$)','Fani','Fdft'),], \n",
    "                         ['GDB07to09', 'GDB10to13', 'DrugBank', 'Tripeptide', 'MDBenchmark', 's66x8'],\n",
    "                         ntwks=['AL1', 'AL2', 'AL3', 'AL4', 'AL5', 'AL6', 'ANI-1'],\n",
    "                         fontsize=20, bbox_to_anchor=(1.0, 1.0), figsize=(30.0, 15.0), ncol=1, errortype='MAE',\n",
    "                        #storepath='/home/jujuman/Dropbox/ANAKIN-ME-RESEARCH/PUBLICATION-ActiveLearning/Figures/figure_TSALvsANI_MAE.pdf')\n",
    "#eed.generate_violin_distribution('GDB10to13')"
   ]
  },
  {
   "cell_type": "code",
   "execution_count": null,
   "metadata": {
    "collapsed": true
   },
   "outputs": [],
   "source": [
    "'''\n",
    "eed.plot_error_by_net([(r'$E_T (kcal \\times mol^{-1})$',r'RMSE ($kcal \\times mol^{-1}$)','Eani','Edft'),\n",
    "                       (r'$\\Delta E (kcal \\times mol^{-1})$',r'RMSE ($kcal \\times mol^{-1}$)','dEani','dEdft'),\n",
    "                       (r'$F (kcal \\times mol^{-1}\\AA^{-1})$',r'RMSE ($kcal \\times mol^{-1}$)','Fani','Fdft'),], \n",
    "                         ['GDB07to09', 'GDB10to13', 'DrugBank', 'Tripeptide', 'MDBenchmark', 's66x8'],\n",
    "                         ntwks=['ARC1','ARC2','ARC3','ARC4','ARC5','ARC6','ARC7','ARC8'],\n",
    "                        fontsize=20, bbox_to_anchor=(1.0, 1.0), figsize=(20.0, 30.0), ncol=1, errortype='RMSE',\n",
    "                        storepath='/home/jujuman/Research/DataReductionMethods/train_test/tables/figure_TSALvsANI_RMSE.pdf')\n",
    "'''"
   ]
  },
  {
   "cell_type": "code",
   "execution_count": null,
   "metadata": {},
   "outputs": [],
   "source": [
    "Edft1 = eed.get_range_stats(tslist=['GDB-10 (SFCl)'],dkey='dEdft')"
   ]
  },
  {
   "cell_type": "code",
   "execution_count": null,
   "metadata": {},
   "outputs": [],
   "source": [
    "plt.hist(Edft1,bins=100)\n",
    "plt.show()"
   ]
  },
  {
   "cell_type": "code",
   "execution_count": null,
   "metadata": {
    "collapsed": true
   },
   "outputs": [],
   "source": [
    "Edft2 = eed.get_range_stats(tslist=['GDB-10 (CHNO)'],dkey='dEdft')"
   ]
  },
  {
   "cell_type": "code",
   "execution_count": null,
   "metadata": {},
   "outputs": [],
   "source": [
    "plt.hist(Edft2,bins=100,color='r')\n",
    "plt.show()"
   ]
  },
  {
   "cell_type": "code",
   "execution_count": null,
   "metadata": {
    "collapsed": true
   },
   "outputs": [],
   "source": []
  },
  {
   "cell_type": "code",
   "execution_count": null,
   "metadata": {
    "collapsed": true
   },
   "outputs": [],
   "source": []
  }
 ],
 "metadata": {
  "anaconda-cloud": {},
  "kernelspec": {
   "display_name": "Python 3",
   "language": "python",
   "name": "python3"
  },
  "language_info": {
   "codemirror_mode": {
    "name": "ipython",
    "version": 3
   },
   "file_extension": ".py",
   "mimetype": "text/x-python",
   "name": "python",
   "nbconvert_exporter": "python",
   "pygments_lexer": "ipython3",
   "version": "3.6.3"
  }
 },
 "nbformat": 4,
 "nbformat_minor": 1
}
