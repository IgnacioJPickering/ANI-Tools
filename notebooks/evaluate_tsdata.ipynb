{
 "cells": [
  {
   "cell_type": "code",
   "execution_count": 1,
   "metadata": {},
   "outputs": [
    {
     "name": "stdout",
     "output_type": "stream",
     "text": [
      "van Der Waals correction will be unavailable. Please install ased3\n"
     ]
    },
    {
     "name": "stderr",
     "output_type": "stream",
     "text": [
      "/usr/local/anaconda3/lib/python3.6/site-packages/h5py/__init__.py:34: FutureWarning: Conversion of the second argument of issubdtype from `float` to `np.floating` is deprecated. In future, it will be treated as `np.float64 == np.dtype(float).type`.\n",
      "  from ._conv import register_converters as _register_converters\n"
     ]
    }
   ],
   "source": [
    "import aniensemblestats as aes\n",
    "import pandas as pd\n",
    "import os\n",
    "\n",
    "import matplotlib as mpl\n",
    "import matplotlib.pyplot as plt\n",
    "\n",
    "#import seaborn as sns\n",
    "pd.options.display.float_format = '{:.2f}'.format"
   ]
  },
  {
   "cell_type": "code",
   "execution_count": 2,
   "metadata": {},
   "outputs": [
    {
     "name": "stdout",
     "output_type": "stream",
     "text": [
      "/home/jsmith48/scratch/transfer_learning/it1_models/stat_files/tsdata_ANI-1xTL_tl_2.h5\n",
      "/home/jsmith48/scratch/transfer_learning/it1_models/stat_files/tsdata_ANI-1xTL_ml-2.h5\n",
      "/home/jsmith48/scratch/transfer_learning/it1_models/stat_files/tsdata_ANI-1xTL_ml-3.h5\n",
      "/home/jsmith48/scratch/transfer_learning/it1_models/stat_files/tsdata_ANI-1xTL_ml-1.h5\n"
     ]
    }
   ],
   "source": [
    "errdir = '/home/jsmith48/scratch/transfer_learning/it1_models/stat_files/'\n",
    "#errdir = '/home/jujuman/Research/DataReductionMethods/train_test/error_compare/'\n",
    "tex_store = \"/home/jsmith48/scratch/auto_rxn_al/error_stats/AllTests_results_mean.tex\"\n",
    "xls_store = \"/home/jsmith48/scratch/auto_rxn_al/error_stats/AllTests_results_mean.xlsx\"\n",
    "tex_store = \"/home/jsmith48/scratch/auto_rxn_al/error_stats/AllTests_results.tex\"\n",
    "\n",
    "#errdir = '/home/jujuman/Research/DataReductionMethods/model6r/error_compare/emax_compare/'\n",
    "#tex_store = \"/home/jujuman/Dropbox/ANAKIN-ME-RESEARCH/PUBLICATION-ActiveLearning/tables/Emax_results_mean.tex\"\n",
    "#xls_store = \"/home/jujuman/Dropbox/ANAKIN-ME-RESEARCH/PUBLICATION-ActiveLearning/tables/Emax_results_mean.xlsx\"\n",
    "\n",
    "#errdir = '/home/jujuman/Research/DataReductionMethods/al_working_network/error_compare/'\n",
    "\n",
    "#errdir = '/home/jujuman/Research/DataReductionMethods/train_test/error_compare/'\n",
    "#tex_store = \"/home/jujuman/Research/DataReductionMethods/al_working_network/tables/AllTests_results_mean.tex\"\n",
    "#xls_store = \"/home/jujuman/Research/DataReductionMethods/al_working_network/tables/AllTests_results_mean.xlsx\"\n",
    "\n",
    "efiles = [errdir+f for f in os.listdir(errdir)]\n",
    "tsname = ['r10_ccsd',\n",
    "          'GDB-10to13',\n",
    "          #'DrugBank',\n",
    "          #'Tripeptide',\n",
    "          #'GDB07to09',\n",
    "          #'MDBenchmark',\n",
    "          #'GDB10to13',\n",
    "          #'s66x8',\n",
    "         ]\n",
    "\n",
    "'''\n",
    "efiles = [errdir+f for f in os.listdir(errdir)]\n",
    "tsname = ['DrugBk (SFCl)',\n",
    "          'DrugBk (CHNO)',\n",
    "          'GDB-07 (SFCl)',\n",
    "          'GDB-08 (SFCl)',\n",
    "          'GDB-09 (SFCl)',\n",
    "          'GDB-10 (SFCl)',\n",
    "          'GDB-11 (SFCl)',\n",
    "          'GDB-07 (CHNO)',\n",
    "          'GDB-08 (CHNO)',\n",
    "          'GDB-09 (CHNO)',\n",
    "          'GDB-10 (CHNO)',\n",
    "          'GDB-11 (CHNO)',\n",
    "         ]\n",
    "'''\n",
    "\n",
    "for i in efiles:\n",
    "    print(i)"
   ]
  },
  {
   "cell_type": "code",
   "execution_count": 3,
   "metadata": {},
   "outputs": [
    {
     "data": {
      "text/html": [
       "<div>\n",
       "<style>\n",
       "    .dataframe thead tr:only-child th {\n",
       "        text-align: right;\n",
       "    }\n",
       "\n",
       "    .dataframe thead th {\n",
       "        text-align: left;\n",
       "    }\n",
       "\n",
       "    .dataframe tbody tr th {\n",
       "        vertical-align: top;\n",
       "    }\n",
       "</style>\n",
       "<table border=\"1\" class=\"dataframe\">\n",
       "  <thead>\n",
       "    <tr style=\"text-align: right;\">\n",
       "      <th></th>\n",
       "      <th>$\\Delta$E$_\\mathrm{MAE}$$\\mu$</th>\n",
       "      <th>$\\Delta$E$_\\mathrm{RMS}$$\\mu$</th>\n",
       "      <th>E$_\\mathrm{MAE}$$\\mu$</th>\n",
       "      <th>E$_\\mathrm{RMS}$$\\mu$</th>\n",
       "    </tr>\n",
       "  </thead>\n",
       "  <tbody>\n",
       "    <tr>\n",
       "      <th>ANI-1xTL_ml-1</th>\n",
       "      <td>83.16</td>\n",
       "      <td>126.28</td>\n",
       "      <td>94.28</td>\n",
       "      <td>127.71</td>\n",
       "    </tr>\n",
       "    <tr>\n",
       "      <th>ANI-1xTL_ml-2</th>\n",
       "      <td>109.16</td>\n",
       "      <td>164.43</td>\n",
       "      <td>133.97</td>\n",
       "      <td>176.86</td>\n",
       "    </tr>\n",
       "    <tr>\n",
       "      <th>ANI-1xTL_ml-3</th>\n",
       "      <td>82.82</td>\n",
       "      <td>126.20</td>\n",
       "      <td>89.86</td>\n",
       "      <td>123.39</td>\n",
       "    </tr>\n",
       "    <tr>\n",
       "      <th>ANI-1xTL_tl_2</th>\n",
       "      <td>81.68</td>\n",
       "      <td>124.72</td>\n",
       "      <td>88.90</td>\n",
       "      <td>121.70</td>\n",
       "    </tr>\n",
       "  </tbody>\n",
       "</table>\n",
       "</div>"
      ],
      "text/plain": [
       "               $\\Delta$E$_\\mathrm{MAE}$$\\mu$  $\\Delta$E$_\\mathrm{RMS}$$\\mu$  E$_\\mathrm{MAE}$$\\mu$  E$_\\mathrm{RMS}$$\\mu$\n",
       "ANI-1xTL_ml-1                          83.16                         126.28                  94.28                 127.71\n",
       "ANI-1xTL_ml-2                         109.16                         164.43                 133.97                 176.86\n",
       "ANI-1xTL_ml-3                          82.82                         126.20                  89.86                 123.39\n",
       "ANI-1xTL_tl_2                          81.68                         124.72                  88.90                 121.70"
      ]
     },
     "execution_count": 3,
     "metadata": {},
     "output_type": "execute_result"
    }
   ],
   "source": [
    "eed = aes.evaluate_ensemble_data(efiles)\n",
    "eed.get_totalerrorperatom_table(['r10_ccsd'])\n",
    "eed.get_totalerrorperatom_table(['GDB-10to13'])"
   ]
  },
  {
   "cell_type": "code",
   "execution_count": 4,
   "metadata": {
    "collapsed": true
   },
   "outputs": [],
   "source": [
    "#eed.get_ntwrk_error_table('0707.0001.0400')"
   ]
  },
  {
   "cell_type": "code",
   "execution_count": 5,
   "metadata": {
    "collapsed": true
   },
   "outputs": [],
   "source": [
    "#eed.get_ntwrk_error_table('0707.0001.0402')"
   ]
  },
  {
   "cell_type": "code",
   "execution_count": 6,
   "metadata": {
    "collapsed": true
   },
   "outputs": [],
   "source": [
    "#eed.get_ntwrk_error_table('0707.0001.0408')"
   ]
  },
  {
   "cell_type": "markdown",
   "metadata": {},
   "source": [
    "# ANI-1x trained to different datasets tested for extensibility"
   ]
  },
  {
   "cell_type": "code",
   "execution_count": 7,
   "metadata": {},
   "outputs": [
    {
     "data": {
      "text/html": [
       "<div>\n",
       "<style>\n",
       "    .dataframe thead tr:only-child th {\n",
       "        text-align: right;\n",
       "    }\n",
       "\n",
       "    .dataframe thead th {\n",
       "        text-align: left;\n",
       "    }\n",
       "\n",
       "    .dataframe tbody tr th {\n",
       "        vertical-align: top;\n",
       "    }\n",
       "</style>\n",
       "<table border=\"1\" class=\"dataframe\">\n",
       "  <thead>\n",
       "    <tr style=\"text-align: right;\">\n",
       "      <th></th>\n",
       "      <th>$\\Delta$E$_\\mathrm{MAE}$$\\mu$</th>\n",
       "      <th>$\\Delta$E$_\\mathrm{MAE}$$\\sigma$</th>\n",
       "      <th>$\\Delta$E$_\\mathrm{RMS}$$\\mu$</th>\n",
       "      <th>$\\Delta$E$_\\mathrm{RMS}$$\\sigma$</th>\n",
       "      <th>E$_\\mathrm{MAE}$$\\mu$</th>\n",
       "      <th>E$_\\mathrm{MAE}$$\\sigma$</th>\n",
       "      <th>E$_\\mathrm{RMS}$$\\mu$</th>\n",
       "      <th>E$_\\mathrm{RMS}$$\\sigma$</th>\n",
       "      <th>F$_\\mathrm{MAE}$$\\mu$</th>\n",
       "      <th>F$_\\mathrm{MAE}$$\\sigma$</th>\n",
       "      <th>F$_\\mathrm{RMS}$$\\mu$</th>\n",
       "      <th>F$_\\mathrm{RMS}$$\\sigma$</th>\n",
       "    </tr>\n",
       "  </thead>\n",
       "  <tbody>\n",
       "    <tr>\n",
       "      <th>ANI-1xTL_ml-1</th>\n",
       "      <td>1.60</td>\n",
       "      <td>0.01</td>\n",
       "      <td>2.45</td>\n",
       "      <td>0.02</td>\n",
       "      <td>1.80</td>\n",
       "      <td>0.07</td>\n",
       "      <td>2.48</td>\n",
       "      <td>0.08</td>\n",
       "      <td>19.85</td>\n",
       "      <td>0.04</td>\n",
       "      <td>29.86</td>\n",
       "      <td>0.05</td>\n",
       "    </tr>\n",
       "    <tr>\n",
       "      <th>ANI-1xTL_ml-2</th>\n",
       "      <td>2.12</td>\n",
       "      <td>0.04</td>\n",
       "      <td>3.19</td>\n",
       "      <td>0.06</td>\n",
       "      <td>2.66</td>\n",
       "      <td>0.10</td>\n",
       "      <td>3.51</td>\n",
       "      <td>0.10</td>\n",
       "      <td>20.05</td>\n",
       "      <td>0.07</td>\n",
       "      <td>29.97</td>\n",
       "      <td>0.07</td>\n",
       "    </tr>\n",
       "    <tr>\n",
       "      <th>ANI-1xTL_ml-3</th>\n",
       "      <td>1.59</td>\n",
       "      <td>0.01</td>\n",
       "      <td>2.43</td>\n",
       "      <td>0.03</td>\n",
       "      <td>1.69</td>\n",
       "      <td>0.07</td>\n",
       "      <td>2.36</td>\n",
       "      <td>0.10</td>\n",
       "      <td>19.85</td>\n",
       "      <td>0.05</td>\n",
       "      <td>29.89</td>\n",
       "      <td>0.04</td>\n",
       "    </tr>\n",
       "    <tr>\n",
       "      <th>ANI-1xTL_tl_2</th>\n",
       "      <td>1.57</td>\n",
       "      <td>0.02</td>\n",
       "      <td>2.40</td>\n",
       "      <td>0.04</td>\n",
       "      <td>1.67</td>\n",
       "      <td>0.07</td>\n",
       "      <td>2.34</td>\n",
       "      <td>0.12</td>\n",
       "      <td>19.87</td>\n",
       "      <td>0.09</td>\n",
       "      <td>29.94</td>\n",
       "      <td>0.09</td>\n",
       "    </tr>\n",
       "  </tbody>\n",
       "</table>\n",
       "</div>"
      ],
      "text/plain": [
       "               $\\Delta$E$_\\mathrm{MAE}$$\\mu$  $\\Delta$E$_\\mathrm{MAE}$$\\sigma$  $\\Delta$E$_\\mathrm{RMS}$$\\mu$  $\\Delta$E$_\\mathrm{RMS}$$\\sigma$  E$_\\mathrm{MAE}$$\\mu$  E$_\\mathrm{MAE}$$\\sigma$  E$_\\mathrm{RMS}$$\\mu$  E$_\\mathrm{RMS}$$\\sigma$  F$_\\mathrm{MAE}$$\\mu$  F$_\\mathrm{MAE}$$\\sigma$  F$_\\mathrm{RMS}$$\\mu$  F$_\\mathrm{RMS}$$\\sigma$\n",
       "ANI-1xTL_ml-1                           1.60                              0.01                           2.45                              0.02                   1.80                      0.07                   2.48                      0.08                  19.85                      0.04                  29.86                      0.05\n",
       "ANI-1xTL_ml-2                           2.12                              0.04                           3.19                              0.06                   2.66                      0.10                   3.51                      0.10                  20.05                      0.07                  29.97                      0.07\n",
       "ANI-1xTL_ml-3                           1.59                              0.01                           2.43                              0.03                   1.69                      0.07                   2.36                      0.10                  19.85                      0.05                  29.89                      0.04\n",
       "ANI-1xTL_tl_2                           1.57                              0.02                           2.40                              0.04                   1.67                      0.07                   2.34                      0.12                  19.87                      0.09                  29.94                      0.09"
      ]
     },
     "execution_count": 7,
     "metadata": {},
     "output_type": "execute_result"
    }
   ],
   "source": [
    "eed.get_totalerror_table() # All errors combined"
   ]
  },
  {
   "cell_type": "code",
   "execution_count": 8,
   "metadata": {
    "scrolled": false
   },
   "outputs": [
    {
     "data": {
      "text/html": [
       "<div>\n",
       "<style>\n",
       "    .dataframe thead tr:only-child th {\n",
       "        text-align: right;\n",
       "    }\n",
       "\n",
       "    .dataframe thead th {\n",
       "        text-align: left;\n",
       "    }\n",
       "\n",
       "    .dataframe tbody tr th {\n",
       "        vertical-align: top;\n",
       "    }\n",
       "</style>\n",
       "<table border=\"1\" class=\"dataframe\">\n",
       "  <thead>\n",
       "    <tr style=\"text-align: right;\">\n",
       "      <th></th>\n",
       "      <th>$\\Delta$E$_\\mathrm{MAE}$$\\mu$</th>\n",
       "      <th>$\\Delta$E$_\\mathrm{MAE}$$\\sigma$</th>\n",
       "      <th>$\\Delta$E$_\\mathrm{RMS}$$\\mu$</th>\n",
       "      <th>$\\Delta$E$_\\mathrm{RMS}$$\\sigma$</th>\n",
       "      <th>E$_\\mathrm{MAE}$$\\mu$</th>\n",
       "      <th>E$_\\mathrm{MAE}$$\\sigma$</th>\n",
       "      <th>E$_\\mathrm{RMS}$$\\mu$</th>\n",
       "      <th>E$_\\mathrm{RMS}$$\\sigma$</th>\n",
       "      <th>F$_\\mathrm{MAE}$$\\mu$</th>\n",
       "      <th>F$_\\mathrm{MAE}$$\\sigma$</th>\n",
       "      <th>F$_\\mathrm{RMS}$$\\mu$</th>\n",
       "      <th>F$_\\mathrm{RMS}$$\\sigma$</th>\n",
       "    </tr>\n",
       "  </thead>\n",
       "  <tbody>\n",
       "    <tr>\n",
       "      <th>ANI-1xTL_ml-1</th>\n",
       "      <td>0.67</td>\n",
       "      <td>0.01</td>\n",
       "      <td>0.89</td>\n",
       "      <td>0.02</td>\n",
       "      <td>1.38</td>\n",
       "      <td>0.09</td>\n",
       "      <td>2.14</td>\n",
       "      <td>0.20</td>\n",
       "      <td>12.79</td>\n",
       "      <td>0.07</td>\n",
       "      <td>17.26</td>\n",
       "      <td>0.08</td>\n",
       "    </tr>\n",
       "    <tr>\n",
       "      <th>ANI-1xTL_ml-2</th>\n",
       "      <td>0.92</td>\n",
       "      <td>0.03</td>\n",
       "      <td>1.20</td>\n",
       "      <td>0.03</td>\n",
       "      <td>2.25</td>\n",
       "      <td>0.12</td>\n",
       "      <td>3.16</td>\n",
       "      <td>0.17</td>\n",
       "      <td>13.09</td>\n",
       "      <td>0.09</td>\n",
       "      <td>17.65</td>\n",
       "      <td>0.11</td>\n",
       "    </tr>\n",
       "    <tr>\n",
       "      <th>ANI-1xTL_ml-3</th>\n",
       "      <td>0.66</td>\n",
       "      <td>0.01</td>\n",
       "      <td>0.88</td>\n",
       "      <td>0.02</td>\n",
       "      <td>1.25</td>\n",
       "      <td>0.08</td>\n",
       "      <td>1.94</td>\n",
       "      <td>0.29</td>\n",
       "      <td>12.78</td>\n",
       "      <td>0.08</td>\n",
       "      <td>17.27</td>\n",
       "      <td>0.11</td>\n",
       "    </tr>\n",
       "    <tr>\n",
       "      <th>ANI-1xTL_tl_2</th>\n",
       "      <td>0.65</td>\n",
       "      <td>0.01</td>\n",
       "      <td>0.87</td>\n",
       "      <td>0.02</td>\n",
       "      <td>1.24</td>\n",
       "      <td>0.08</td>\n",
       "      <td>1.94</td>\n",
       "      <td>0.36</td>\n",
       "      <td>12.80</td>\n",
       "      <td>0.14</td>\n",
       "      <td>17.30</td>\n",
       "      <td>0.18</td>\n",
       "    </tr>\n",
       "  </tbody>\n",
       "</table>\n",
       "</div>"
      ],
      "text/plain": [
       "               $\\Delta$E$_\\mathrm{MAE}$$\\mu$  $\\Delta$E$_\\mathrm{MAE}$$\\sigma$  $\\Delta$E$_\\mathrm{RMS}$$\\mu$  $\\Delta$E$_\\mathrm{RMS}$$\\sigma$  E$_\\mathrm{MAE}$$\\mu$  E$_\\mathrm{MAE}$$\\sigma$  E$_\\mathrm{RMS}$$\\mu$  E$_\\mathrm{RMS}$$\\sigma$  F$_\\mathrm{MAE}$$\\mu$  F$_\\mathrm{MAE}$$\\sigma$  F$_\\mathrm{RMS}$$\\mu$  F$_\\mathrm{RMS}$$\\sigma$\n",
       "ANI-1xTL_ml-1                           0.67                              0.01                           0.89                              0.02                   1.38                      0.09                   2.14                      0.20                  12.79                      0.07                  17.26                      0.08\n",
       "ANI-1xTL_ml-2                           0.92                              0.03                           1.20                              0.03                   2.25                      0.12                   3.16                      0.17                  13.09                      0.09                  17.65                      0.11\n",
       "ANI-1xTL_ml-3                           0.66                              0.01                           0.88                              0.02                   1.25                      0.08                   1.94                      0.29                  12.78                      0.08                  17.27                      0.11\n",
       "ANI-1xTL_tl_2                           0.65                              0.01                           0.87                              0.02                   1.24                      0.08                   1.94                      0.36                  12.80                      0.14                  17.30                      0.18"
      ]
     },
     "execution_count": 8,
     "metadata": {},
     "output_type": "execute_result"
    }
   ],
   "source": [
    "eed.get_error_table(tskey='r10_ccsd')"
   ]
  },
  {
   "cell_type": "code",
   "execution_count": 9,
   "metadata": {},
   "outputs": [
    {
     "data": {
      "text/html": [
       "<div>\n",
       "<style>\n",
       "    .dataframe thead tr:only-child th {\n",
       "        text-align: right;\n",
       "    }\n",
       "\n",
       "    .dataframe thead th {\n",
       "        text-align: left;\n",
       "    }\n",
       "\n",
       "    .dataframe tbody tr th {\n",
       "        vertical-align: top;\n",
       "    }\n",
       "</style>\n",
       "<table border=\"1\" class=\"dataframe\">\n",
       "  <thead>\n",
       "    <tr style=\"text-align: right;\">\n",
       "      <th></th>\n",
       "      <th>$\\Delta$E$_\\mathrm{MAE}$$\\mu$</th>\n",
       "      <th>$\\Delta$E$_\\mathrm{MAE}$$\\sigma$</th>\n",
       "      <th>$\\Delta$E$_\\mathrm{RMS}$$\\mu$</th>\n",
       "      <th>$\\Delta$E$_\\mathrm{RMS}$$\\sigma$</th>\n",
       "      <th>E$_\\mathrm{MAE}$$\\mu$</th>\n",
       "      <th>E$_\\mathrm{MAE}$$\\sigma$</th>\n",
       "      <th>E$_\\mathrm{RMS}$$\\mu$</th>\n",
       "      <th>E$_\\mathrm{RMS}$$\\sigma$</th>\n",
       "      <th>F$_\\mathrm{MAE}$$\\mu$</th>\n",
       "      <th>F$_\\mathrm{MAE}$$\\sigma$</th>\n",
       "      <th>F$_\\mathrm{RMS}$$\\mu$</th>\n",
       "      <th>F$_\\mathrm{RMS}$$\\sigma$</th>\n",
       "    </tr>\n",
       "  </thead>\n",
       "  <tbody>\n",
       "    <tr>\n",
       "      <th>ANI-1xTL_ml-1</th>\n",
       "      <td>1.78</td>\n",
       "      <td>0.01</td>\n",
       "      <td>2.64</td>\n",
       "      <td>0.02</td>\n",
       "      <td>2.00</td>\n",
       "      <td>0.07</td>\n",
       "      <td>2.63</td>\n",
       "      <td>0.07</td>\n",
       "      <td>22.97</td>\n",
       "      <td>0.04</td>\n",
       "      <td>33.97</td>\n",
       "      <td>0.06</td>\n",
       "    </tr>\n",
       "    <tr>\n",
       "      <th>ANI-1xTL_ml-2</th>\n",
       "      <td>2.35</td>\n",
       "      <td>0.05</td>\n",
       "      <td>3.45</td>\n",
       "      <td>0.06</td>\n",
       "      <td>2.85</td>\n",
       "      <td>0.10</td>\n",
       "      <td>3.66</td>\n",
       "      <td>0.10</td>\n",
       "      <td>23.12</td>\n",
       "      <td>0.06</td>\n",
       "      <td>34.02</td>\n",
       "      <td>0.07</td>\n",
       "    </tr>\n",
       "    <tr>\n",
       "      <th>ANI-1xTL_ml-3</th>\n",
       "      <td>1.77</td>\n",
       "      <td>0.01</td>\n",
       "      <td>2.63</td>\n",
       "      <td>0.03</td>\n",
       "      <td>1.90</td>\n",
       "      <td>0.06</td>\n",
       "      <td>2.53</td>\n",
       "      <td>0.06</td>\n",
       "      <td>22.97</td>\n",
       "      <td>0.05</td>\n",
       "      <td>34.01</td>\n",
       "      <td>0.04</td>\n",
       "    </tr>\n",
       "    <tr>\n",
       "      <th>ANI-1xTL_tl_2</th>\n",
       "      <td>1.75</td>\n",
       "      <td>0.03</td>\n",
       "      <td>2.60</td>\n",
       "      <td>0.04</td>\n",
       "      <td>1.89</td>\n",
       "      <td>0.07</td>\n",
       "      <td>2.51</td>\n",
       "      <td>0.06</td>\n",
       "      <td>22.99</td>\n",
       "      <td>0.08</td>\n",
       "      <td>34.07</td>\n",
       "      <td>0.09</td>\n",
       "    </tr>\n",
       "  </tbody>\n",
       "</table>\n",
       "</div>"
      ],
      "text/plain": [
       "               $\\Delta$E$_\\mathrm{MAE}$$\\mu$  $\\Delta$E$_\\mathrm{MAE}$$\\sigma$  $\\Delta$E$_\\mathrm{RMS}$$\\mu$  $\\Delta$E$_\\mathrm{RMS}$$\\sigma$  E$_\\mathrm{MAE}$$\\mu$  E$_\\mathrm{MAE}$$\\sigma$  E$_\\mathrm{RMS}$$\\mu$  E$_\\mathrm{RMS}$$\\sigma$  F$_\\mathrm{MAE}$$\\mu$  F$_\\mathrm{MAE}$$\\sigma$  F$_\\mathrm{RMS}$$\\mu$  F$_\\mathrm{RMS}$$\\sigma$\n",
       "ANI-1xTL_ml-1                           1.78                              0.01                           2.64                              0.02                   2.00                      0.07                   2.63                      0.07                  22.97                      0.04                  33.97                      0.06\n",
       "ANI-1xTL_ml-2                           2.35                              0.05                           3.45                              0.06                   2.85                      0.10                   3.66                      0.10                  23.12                      0.06                  34.02                      0.07\n",
       "ANI-1xTL_ml-3                           1.77                              0.01                           2.63                              0.03                   1.90                      0.06                   2.53                      0.06                  22.97                      0.05                  34.01                      0.04\n",
       "ANI-1xTL_tl_2                           1.75                              0.03                           2.60                              0.04                   1.89                      0.07                   2.51                      0.06                  22.99                      0.08                  34.07                      0.09"
      ]
     },
     "execution_count": 9,
     "metadata": {},
     "output_type": "execute_result"
    }
   ],
   "source": [
    "eed.get_error_table(tskey='GDB-10to13')"
   ]
  },
  {
   "cell_type": "code",
   "execution_count": 10,
   "metadata": {},
   "outputs": [
    {
     "ename": "KeyError",
     "evalue": "'RXN_DAT.0003'",
     "output_type": "error",
     "traceback": [
      "\u001b[0;31m---------------------------------------------------------------------------\u001b[0m",
      "\u001b[0;31mKeyError\u001b[0m                                  Traceback (most recent call last)",
      "\u001b[0;32m<ipython-input-10-1466d83742a1>\u001b[0m in \u001b[0;36m<module>\u001b[0;34m()\u001b[0m\n\u001b[0;32m----> 1\u001b[0;31m \u001b[0meed\u001b[0m\u001b[0;34m.\u001b[0m\u001b[0mget_error_table\u001b[0m\u001b[0;34m(\u001b[0m\u001b[0mtskey\u001b[0m\u001b[0;34m=\u001b[0m\u001b[0;34m'RXN_DAT.0003'\u001b[0m\u001b[0;34m)\u001b[0m\u001b[0;34m\u001b[0m\u001b[0m\n\u001b[0m",
      "\u001b[0;32m~/Gits/ANI-Tools/lib/aniensemblestats.py\u001b[0m in \u001b[0;36mget_error_table\u001b[0;34m(self, tskey)\u001b[0m\n\u001b[1;32m    528\u001b[0m         \u001b[0merrors\u001b[0m \u001b[0;34m=\u001b[0m \u001b[0mdict\u001b[0m\u001b[0;34m(\u001b[0m\u001b[0;34m)\u001b[0m\u001b[0;34m\u001b[0m\u001b[0m\n\u001b[1;32m    529\u001b[0m         \u001b[0;32mfor\u001b[0m \u001b[0mk\u001b[0m \u001b[0;32min\u001b[0m \u001b[0mself\u001b[0m\u001b[0;34m.\u001b[0m\u001b[0mfdata\u001b[0m\u001b[0;34m.\u001b[0m\u001b[0mkeys\u001b[0m\u001b[0;34m(\u001b[0m\u001b[0;34m)\u001b[0m\u001b[0;34m:\u001b[0m\u001b[0;34m\u001b[0m\u001b[0m\n\u001b[0;32m--> 530\u001b[0;31m             \u001b[0merrors\u001b[0m\u001b[0;34m[\u001b[0m\u001b[0mk\u001b[0m\u001b[0;34m]\u001b[0m \u001b[0;34m=\u001b[0m \u001b[0mpd\u001b[0m\u001b[0;34m.\u001b[0m\u001b[0mSeries\u001b[0m\u001b[0;34m(\u001b[0m\u001b[0mself\u001b[0m\u001b[0;34m.\u001b[0m\u001b[0mgenerate_total_errors\u001b[0m\u001b[0;34m(\u001b[0m\u001b[0mk\u001b[0m\u001b[0;34m,\u001b[0m\u001b[0mtskey\u001b[0m\u001b[0;34m)\u001b[0m\u001b[0;34m)\u001b[0m\u001b[0;34m\u001b[0m\u001b[0m\n\u001b[0m\u001b[1;32m    531\u001b[0m         \u001b[0mpd\u001b[0m\u001b[0;34m.\u001b[0m\u001b[0mset_option\u001b[0m\u001b[0;34m(\u001b[0m\u001b[0;34m'expand_frame_repr'\u001b[0m\u001b[0;34m,\u001b[0m \u001b[0;32mFalse\u001b[0m\u001b[0;34m)\u001b[0m\u001b[0;34m\u001b[0m\u001b[0m\n\u001b[1;32m    532\u001b[0m         \u001b[0medat\u001b[0m \u001b[0;34m=\u001b[0m \u001b[0mpd\u001b[0m\u001b[0;34m.\u001b[0m\u001b[0mDataFrame\u001b[0m\u001b[0;34m(\u001b[0m\u001b[0merrors\u001b[0m\u001b[0;34m)\u001b[0m\u001b[0;34m.\u001b[0m\u001b[0mtranspose\u001b[0m\u001b[0;34m(\u001b[0m\u001b[0;34m)\u001b[0m\u001b[0;34m\u001b[0m\u001b[0m\n",
      "\u001b[0;32m~/Gits/ANI-Tools/lib/aniensemblestats.py\u001b[0m in \u001b[0;36mgenerate_total_errors\u001b[0;34m(self, ntkey, tskey)\u001b[0m\n\u001b[1;32m    395\u001b[0m     \u001b[0;32mdef\u001b[0m \u001b[0mgenerate_total_errors\u001b[0m\u001b[0;34m(\u001b[0m\u001b[0mself\u001b[0m\u001b[0;34m,\u001b[0m \u001b[0mntkey\u001b[0m\u001b[0;34m,\u001b[0m \u001b[0mtskey\u001b[0m\u001b[0;34m)\u001b[0m\u001b[0;34m:\u001b[0m\u001b[0;34m\u001b[0m\u001b[0m\n\u001b[1;32m    396\u001b[0m         \u001b[0;31m#idx = np.nonzero(self.fdata[ntkey][tskey]['Erdft'])\u001b[0m\u001b[0;34m\u001b[0m\u001b[0;34m\u001b[0m\u001b[0m\n\u001b[0;32m--> 397\u001b[0;31m         \u001b[0mNn\u001b[0m \u001b[0;34m=\u001b[0m \u001b[0mself\u001b[0m\u001b[0;34m.\u001b[0m\u001b[0mfdata\u001b[0m\u001b[0;34m[\u001b[0m\u001b[0mntkey\u001b[0m\u001b[0;34m]\u001b[0m\u001b[0;34m[\u001b[0m\u001b[0mtskey\u001b[0m\u001b[0;34m]\u001b[0m\u001b[0;34m[\u001b[0m\u001b[0;34m'Eani'\u001b[0m\u001b[0;34m]\u001b[0m\u001b[0;34m.\u001b[0m\u001b[0mshape\u001b[0m\u001b[0;34m[\u001b[0m\u001b[0;36m0\u001b[0m\u001b[0;34m]\u001b[0m\u001b[0;34m-\u001b[0m\u001b[0;36m1\u001b[0m\u001b[0;34m\u001b[0m\u001b[0m\n\u001b[0m\u001b[1;32m    398\u001b[0m         return {names[0]: hdt.calculatemeanabserror(self.fdata[ntkey][tskey]['Eani'][Nn,:], self.fdata[ntkey][tskey]['Edft']),\n\u001b[1;32m    399\u001b[0m                 \u001b[0mnames\u001b[0m\u001b[0;34m[\u001b[0m\u001b[0;36m1\u001b[0m\u001b[0;34m]\u001b[0m\u001b[0;34m:\u001b[0m \u001b[0mnp\u001b[0m\u001b[0;34m.\u001b[0m\u001b[0mstd\u001b[0m\u001b[0;34m(\u001b[0m\u001b[0mhdt\u001b[0m\u001b[0;34m.\u001b[0m\u001b[0mcalculatemeanabserror\u001b[0m\u001b[0;34m(\u001b[0m\u001b[0mself\u001b[0m\u001b[0;34m.\u001b[0m\u001b[0mfdata\u001b[0m\u001b[0;34m[\u001b[0m\u001b[0mntkey\u001b[0m\u001b[0;34m]\u001b[0m\u001b[0;34m[\u001b[0m\u001b[0mtskey\u001b[0m\u001b[0;34m]\u001b[0m\u001b[0;34m[\u001b[0m\u001b[0;34m'Eani'\u001b[0m\u001b[0;34m]\u001b[0m\u001b[0;34m[\u001b[0m\u001b[0;36m0\u001b[0m\u001b[0;34m:\u001b[0m\u001b[0mNn\u001b[0m\u001b[0;34m,\u001b[0m\u001b[0;34m:\u001b[0m\u001b[0;34m]\u001b[0m\u001b[0;34m,\u001b[0m \u001b[0mself\u001b[0m\u001b[0;34m.\u001b[0m\u001b[0mfdata\u001b[0m\u001b[0;34m[\u001b[0m\u001b[0mntkey\u001b[0m\u001b[0;34m]\u001b[0m\u001b[0;34m[\u001b[0m\u001b[0mtskey\u001b[0m\u001b[0;34m]\u001b[0m\u001b[0;34m[\u001b[0m\u001b[0;34m'Edft'\u001b[0m\u001b[0;34m]\u001b[0m\u001b[0;34m,\u001b[0m \u001b[0maxis\u001b[0m\u001b[0;34m=\u001b[0m\u001b[0;36m1\u001b[0m\u001b[0;34m)\u001b[0m\u001b[0;34m)\u001b[0m\u001b[0;34m,\u001b[0m\u001b[0;34m\u001b[0m\u001b[0m\n",
      "\u001b[0;31mKeyError\u001b[0m: 'RXN_DAT.0003'"
     ]
    }
   ],
   "source": [
    "eed.get_error_table(tskey='RXN_DAT.0003')"
   ]
  },
  {
   "cell_type": "code",
   "execution_count": null,
   "metadata": {
    "collapsed": true
   },
   "outputs": [],
   "source": [
    "#eed.get_error_table(tskey='s66x8')"
   ]
  },
  {
   "cell_type": "code",
   "execution_count": null,
   "metadata": {
    "scrolled": false
   },
   "outputs": [],
   "source": [
    "# Create a Pandas Excel writer using XlsxWriter as the engine.\n",
    "writer = pd.ExcelWriter(xls_store, engine='xlsxwriter')\n",
    "\n",
    "# Build latex document\n",
    "header = r'\\documentclass{article}'+'\\n'+r'\\usepackage{booktabs}'+'\\n'+r'\\usepackage[margin=1.0in]{geometry}'+'\\n'+r'\\begin{document}'+'\\n'\n",
    "\n",
    "begtab = r'\\begin{table}'+'\\n'+r'\\centering'+'\\n'+r'\\tiny'+'\\n'\n",
    "endtab = r'\\end{table}'+'\\n'\n",
    "enddoc = r'\\end{document}'\n",
    "styles = []\n",
    "with open(tex_store, \"w\") as text_file:\n",
    "    text_file.write(header)\n",
    "    print('Stats for: Complete benchmark')\n",
    "    etab = eed.get_totalerror_table()\n",
    "    styles.append(etab.style)\n",
    "    text_file.write(begtab+r'\\caption{Data set: Complete benchmark}'+'\\n'+etab.to_latex(escape=False)+endtab)\n",
    "\n",
    "    # Convert the dataframe to an XlsxWriter Excel object.\n",
    "    etab.to_excel(writer, sheet_name=\"Complete Benchmark\")\n",
    "\n",
    "    paetab = eed.get_totalerrorperatom_table()\n",
    "    text_file.write(begtab+r'\\caption{Data set: Complete benchmark per atom}'+'\\n'+paetab.to_latex(escape=False)+endtab)\n",
    "    paetab.to_excel(writer, sheet_name=\"Complete Benchmark per atom\")\n",
    "    \n",
    "    \n",
    "    for k in tsname:\n",
    "        print('Stats for:',k)\n",
    "        etab = eed.get_error_table(k)\n",
    "        etab.to_excel(writer, sheet_name=k)\n",
    "        styles.append(etab.style)\n",
    "        text_file.write(begtab+r'\\caption{Data set: '+k+r'}'+'\\n'+etab.to_latex(escape=False)+endtab)\n",
    "    text_file.write(enddoc)\n",
    "styles[0]\n",
    "\n",
    "# Close the Pandas Excel writer and output the Excel file.\n",
    "writer.save()"
   ]
  },
  {
   "cell_type": "code",
   "execution_count": null,
   "metadata": {
    "scrolled": false
   },
   "outputs": [],
   "source": [
    "cmap = mpl.cm.nipy_spectral\n",
    "for i in range(1,16):\n",
    "    print('Models:',str(i+1).zfill(2))\n",
    "    eed.determine_min_error_by_sigma('ANI-1xTL'+str(i+1).zfill(2),\n",
    "                                     0.5, 50.0,\n",
    "                                     labelx=r'$\\mathrm{\\rho}$ [$\\mathrm{kcal \\times mol^{-1} \\times (\\sqrt{N_a})^{-1}}}$]',\n",
    "                                     labely=r'$\\mathrm{\\mathcal{E}}$ [$\\mathrm{kcal \\times mol^{-1} \\times (\\sqrt{N_a})^{-1}}$]',\n",
    "                                     xyrange=(0.0,2.0,0.0,12.0),\n",
    "                                     figsize=(12.0, 9.0),\n",
    "                                     cmap=cmap,\n",
    "                                     tskeys=['GDB-10to13'],\n",
    "                                     #storepath='/home/jsmith48/scratch/error_stats/rho_selection_6.0.0.pdf',\n",
    "                                     )"
   ]
  },
  {
   "cell_type": "code",
   "execution_count": null,
   "metadata": {},
   "outputs": [],
   "source": [
    "cmap = mpl.cm.nipy_spectral\n",
    "eed.determine_min_error_by_sigma('ANI-1xTL_lr-5',\n",
    "                                 0.5, 50.0,\n",
    "                                 labelx=r'$\\mathrm{\\rho}$ [$\\mathrm{kcal \\times mol^{-1} \\times (\\sqrt{N_a})^{-1}}}$]',\n",
    "                                 labely=r'$\\mathrm{\\mathcal{E}}$ [$\\mathrm{kcal \\times mol^{-1} \\times (\\sqrt{N_a})^{-1}}$]',\n",
    "                                 xyrange=(0.0,2.0,0.0,12.0),\n",
    "                                 figsize=(12.0, 9.0),\n",
    "                                 cmap=cmap,\n",
    "                                 tskeys=['GDB-10to13'],\n",
    "                                 #storepath='/home/jsmith48/scratch/error_stats/rho_selection_6.0.0.pdf',\n",
    "                                 )"
   ]
  },
  {
   "cell_type": "code",
   "execution_count": null,
   "metadata": {},
   "outputs": [],
   "source": [
    "print(eed.get_net_keys())\n",
    "#print(eed.get_size(\"9.0.5\",\"MDBenchmark\"))\n",
    "#print(eed.get_size(\"9.0.4\",\"Tripeptide\"))\n",
    "#print(eed.get_size(\"9.0.4\",\"GDB07to09\"))\n",
    "#print(eed.get_size(\"9.0.4\",\"GDB10to13\"))"
   ]
  },
  {
   "cell_type": "code",
   "execution_count": null,
   "metadata": {
    "scrolled": false
   },
   "outputs": [],
   "source": [
    "cmap = mpl.cm.nipy_spectral\n",
    "Erms  = []\n",
    "dErms = []\n",
    "for i in range(1,17):\n",
    "    print('Models:',str(i).zfill(2))\n",
    "    Erms.append(eed.generate_rmserror('ANI-1xTL'+str(i).zfill(2),'GDB-10to13','Eani','Edft'))\n",
    "    dErms.append(eed.generate_rmserror('ANI-1xTL'+str(i).zfill(2),'GDB-10to13','dEani','dEdft'))\n",
    "    #eed.generate_correlation_plot('ANI-1xTL'+str(i+1).zfill(2),'GDB-10to13','Eani','Edft')\n",
    "                                     \n",
    "\n",
    "#eed.generate_correlation_plot('6.0.0','MDBenchmark','Fani','Fdft')\n",
    "#cmap = mpl.cm.nipy_spectral\n",
    "#eed.generate_correlation_plot('ANI-0707.0001.0410_bt5','GDB-11 (SFCl)','Fani','Fdft',cmap=cmap)\n",
    "#eed.generate_correlation_plot('0707.0001.0402','GDB-07 (SFCl)','dEani','dEdft')\n",
    "#eed.generate_correlation_plot('0707.0001.0402','GDB-08 (SFCl)','dEani','dEdft')\n",
    "#eed.generate_correlation_plot('0707.0001.0402','GDB-09 (SFCl)','dEani','dEdft')\n",
    "#eed.generate_correlation_plot('0707.0001.0402','GDB-10 (SFCl)','dEani','dEdft')\n",
    "#eed.generate_correlation_plot('0707.0001.0402','GDB-11 (SFCl)','dEani','dEdft')\n",
    "#eed.generate_correlation_plot('AL6','DrugBank','Fani','Fdft')\n",
    "#eed.generate_correlation_plot('ARC1','MDBenchmark','Fani','Fdft')\n",
    "#eed.generate_correlation_plot('ARC8','MDBenchmark','Fani','Fdft')"
   ]
  },
  {
   "cell_type": "code",
   "execution_count": null,
   "metadata": {},
   "outputs": [],
   "source": [
    "import numpy as np\n",
    "from matplotlib import gridspec \n",
    "\n",
    "fig = plt.subplots(figsize=[15,6])\n",
    "gs  = gridspec.GridSpec(1, 2, width_ratios=[0.5, 0.5])\n",
    "\n",
    "ax1 = plt.subplot(gs[0])\n",
    "ax2 = plt.subplot(gs[1])\n",
    "\n",
    "ax1.plot(np.arange(1,17),Erms,marker='o')\n",
    "ax1.set_title(r'E improvment with ensemble size')\n",
    "ax1.set_xlabel('Number of members')\n",
    "ax1.set_ylabel('RMSE error (kcal/mol)')\n",
    "\n",
    "ax2.plot(np.arange(1,17),dErms,marker='o')\n",
    "ax2.set_title(r'$\\Delta$E improvment with ensemble size')\n",
    "ax2.set_xlabel('Number of members')\n",
    "ax2.set_ylabel('RMSE error (kcal/mol)')\n",
    "\n",
    "plt.show()"
   ]
  },
  {
   "cell_type": "code",
   "execution_count": null,
   "metadata": {
    "collapsed": true,
    "scrolled": false
   },
   "outputs": [],
   "source": [
    "#eed.plot_bar_propsbynet([('Total Energy',r'RMSE ($kcal \\times mol^{-1}$)','Eani','Edft',[0.0,23.0]),\n",
    "#                         ('Relative Energy',r'RMSE ($kcal \\times mol^{-1}$)','dEani', 'dEdft',[0.0,12.0]),\n",
    "#                         ('Force',r'RMSE ($kcal \\times mol^{-1} \\times \\AA^{-1}$)','Fani', 'Fdft',[0.0,10.0])], \n",
    "#                         ['GDB07to09', 'GDB10to13', 'DrugBank', 'Tripeptide', 's66x8'],\n",
    "#                         ntwks=['6.0.0','7.0.4','8.0.6','8.3.6','9.0.4','ANI-1'],\n",
    "#                         fontsize=30, bbox_to_anchor=(0.3, 1.0), figsize=(40.0, 32.0), ncol=2, errortype='RMSE')"
   ]
  },
  {
   "cell_type": "code",
   "execution_count": null,
   "metadata": {
    "collapsed": true
   },
   "outputs": [],
   "source": [
    "eed.plot_error_by_net([(r'$E (kcal \\times mol^{-1})$',r'RMSE ($kcal \\times mol^{-1}$)','Eani','Edft'),\n",
    "                       (r'$\\Delta E (kcal \\times mol^{-1})$',r'RMSE ($kcal \\times mol^{-1}$)','dEani','dEdft'),\n",
    "                       (r'$F (kcal \\times mol^{-1}\\AA^{-1})$',r'RMSE ($kcal \\times mol^{-1}$)','Fani','Fdft'),], \n",
    "                         ['GDB-07 (SFCl)', 'GDB-08 (SFCl)', 'GDB-09 (SFCl)', 'GDB-10 (SFCl)', 'GDB-11 (SFCl)'],\n",
    "                         ntwks=['0808.0302.0402'],\n",
    "                         fontsize=20, bbox_to_anchor=(1.0, 1.0), figsize=(30.0, 15.0), ncol=1, errortype='RMSE',\n",
    "                        #storepath='/home/jujuman/Dropbox/ANAKIN-ME-RESEARCH/PUBLICATION-ActiveLearning/Figures/figure_TSALvsANI_RMSE.pdf',\n",
    "                      )"
   ]
  },
  {
   "cell_type": "code",
   "execution_count": null,
   "metadata": {
    "collapsed": true,
    "scrolled": false
   },
   "outputs": [],
   "source": [
    "eed.plot_error_by_net([(r'$E (kcal \\times mol^{-1})$',r'RMSE ($kcal \\times mol^{-1}$)','Eani','Edft'),\n",
    "                       (r'$\\Delta E (kcal \\times mol^{-1})$',r'RMSE ($kcal \\times mol^{-1}$)','dEani','dEdft'),\n",
    "                       (r'$F (kcal \\times mol^{-1}\\AA^{-1})$',r'RMSE ($kcal \\times mol^{-1}$)','Fani','Fdft'),], \n",
    "                         ['GDB07to09', 'GDB10to13', 'DrugBank', 'Tripeptide', 'MDBenchmark', 's66x8'],\n",
    "                         ntwks=['AL1', 'AL2', 'AL3', 'AL4', 'AL5', 'AL6', 'ANI-1'],\n",
    "                         fontsize=20, bbox_to_anchor=(1.0, 1.0), figsize=(30.0, 15.0), ncol=1, errortype='RMSE',\n",
    "                        #storepath='/home/jujuman/Dropbox/ANAKIN-ME-RESEARCH/PUBLICATION-ActiveLearning/Figures/figure_TSALvsANI_RMSE.pdf')"
   ]
  },
  {
   "cell_type": "code",
   "execution_count": null,
   "metadata": {
    "collapsed": true
   },
   "outputs": [],
   "source": [
    "eed.plot_error_by_net([(r'$E (kcal \\times mol^{-1})$',r'RMSE ($kcal \\times mol^{-1}$)','Eani','Edft'),\n",
    "                       (r'$\\Delta E (kcal \\times mol^{-1})$',r'RMSE ($kcal \\times mol^{-1}$)','dEani','dEdft'),\n",
    "                       (r'$F (kcal \\times mol^{-1}\\AA^{-1})$',r'RMSE ($kcal \\times mol^{-1}$)','Fani','Fdft'),], \n",
    "                         ['GDB07to09', 'GDB10to13', 'DrugBank', 'Tripeptide', 'MDBenchmark', 's66x8'],\n",
    "                         ntwks=['AL1', 'AL2', 'AL3', 'AL4', 'AL5', 'AL6', 'ANI-1'],\n",
    "                         fontsize=20, bbox_to_anchor=(1.0, 1.0), figsize=(30.0, 15.0), ncol=1, errortype='MAE',\n",
    "                        #storepath='/home/jujuman/Dropbox/ANAKIN-ME-RESEARCH/PUBLICATION-ActiveLearning/Figures/figure_TSALvsANI_MAE.pdf')\n",
    "#eed.generate_violin_distribution('GDB10to13')"
   ]
  },
  {
   "cell_type": "code",
   "execution_count": null,
   "metadata": {
    "collapsed": true
   },
   "outputs": [],
   "source": [
    "'''\n",
    "eed.plot_error_by_net([(r'$E_T (kcal \\times mol^{-1})$',r'RMSE ($kcal \\times mol^{-1}$)','Eani','Edft'),\n",
    "                       (r'$\\Delta E (kcal \\times mol^{-1})$',r'RMSE ($kcal \\times mol^{-1}$)','dEani','dEdft'),\n",
    "                       (r'$F (kcal \\times mol^{-1}\\AA^{-1})$',r'RMSE ($kcal \\times mol^{-1}$)','Fani','Fdft'),], \n",
    "                         ['GDB07to09', 'GDB10to13', 'DrugBank', 'Tripeptide', 'MDBenchmark', 's66x8'],\n",
    "                         ntwks=['ARC1','ARC2','ARC3','ARC4','ARC5','ARC6','ARC7','ARC8'],\n",
    "                        fontsize=20, bbox_to_anchor=(1.0, 1.0), figsize=(20.0, 30.0), ncol=1, errortype='RMSE',\n",
    "                        storepath='/home/jujuman/Research/DataReductionMethods/train_test/tables/figure_TSALvsANI_RMSE.pdf')\n",
    "'''"
   ]
  },
  {
   "cell_type": "code",
   "execution_count": null,
   "metadata": {},
   "outputs": [],
   "source": [
    "Edft1 = eed.get_range_stats(tslist=['GDB-10to13'],dkey='Edft')\n",
    "plt.hist(Edft1,bins=20, log=True, edgecolor='black')\n",
    "plt.show()"
   ]
  },
  {
   "cell_type": "code",
   "execution_count": null,
   "metadata": {},
   "outputs": [],
   "source": [
    "Edft1 = eed.get_range_stats(tslist=['GDB-10to13'],dkey='Na')\n",
    "plt.hist(Edft1,bins=18, log=True, edgecolor='black')\n",
    "plt.show()"
   ]
  },
  {
   "cell_type": "code",
   "execution_count": null,
   "metadata": {},
   "outputs": [],
   "source": [
    "Edft2 = eed.get_range_stats(tslist=['r10_ccsd'],dkey='Edft')\n",
    "plt.hist(Edft2,bins=16,color='r', log=True, edgecolor='black')\n",
    "plt.show()"
   ]
  },
  {
   "cell_type": "code",
   "execution_count": null,
   "metadata": {},
   "outputs": [],
   "source": [
    "Edft2 = eed.get_range_stats(tslist=['r10_ccsd'],dkey='Na')\n",
    "plt.hist(Edft2,bins=16, log=True,color='r', edgecolor='black')\n",
    "plt.show()"
   ]
  },
  {
   "cell_type": "code",
   "execution_count": null,
   "metadata": {
    "collapsed": true
   },
   "outputs": [],
   "source": []
  },
  {
   "cell_type": "code",
   "execution_count": null,
   "metadata": {
    "collapsed": true
   },
   "outputs": [],
   "source": []
  }
 ],
 "metadata": {
  "anaconda-cloud": {},
  "kernelspec": {
   "display_name": "Python 3",
   "language": "python",
   "name": "python3"
  },
  "language_info": {
   "codemirror_mode": {
    "name": "ipython",
    "version": 3
   },
   "file_extension": ".py",
   "mimetype": "text/x-python",
   "name": "python",
   "nbconvert_exporter": "python",
   "pygments_lexer": "ipython3",
   "version": "3.6.3"
  }
 },
 "nbformat": 4,
 "nbformat_minor": 1
}
