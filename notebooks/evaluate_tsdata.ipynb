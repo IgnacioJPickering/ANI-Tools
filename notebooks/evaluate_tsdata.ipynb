{
 "cells": [
  {
   "cell_type": "code",
   "execution_count": 1,
   "metadata": {},
   "outputs": [
    {
     "name": "stdout",
     "output_type": "stream",
     "text": [
      "van Der Waals correction will be unavailable. Please install ased3\n"
     ]
    },
    {
     "name": "stderr",
     "output_type": "stream",
     "text": [
      "/usr/local/anaconda3/lib/python3.6/site-packages/h5py/__init__.py:34: FutureWarning: Conversion of the second argument of issubdtype from `float` to `np.floating` is deprecated. In future, it will be treated as `np.float64 == np.dtype(float).type`.\n",
      "  from ._conv import register_converters as _register_converters\n"
     ]
    }
   ],
   "source": [
    "import aniensemblestats as aes\n",
    "import pandas as pd\n",
    "import os\n",
    "\n",
    "import matplotlib as mpl\n",
    "import matplotlib.pyplot as plt\n",
    "\n",
    "#import seaborn as sns\n",
    "pd.options.display.float_format = '{:.2f}'.format"
   ]
  },
  {
   "cell_type": "code",
   "execution_count": 2,
   "metadata": {},
   "outputs": [
    {
     "name": "stdout",
     "output_type": "stream",
     "text": [
      "/home/jsmith48/scratch/error_stats/test_post_bug/tsdata_ANI-1x(TZ).h5\n",
      "/home/jsmith48/scratch/error_stats/test_post_bug/tsdata_ANI-1x(CCSD(T).h5\n",
      "/home/jsmith48/scratch/error_stats/test_post_bug/tsdata_ANI-1x(DZ).h5\n"
     ]
    }
   ],
   "source": [
    "errdir = '/home/jsmith48/scratch/error_stats/test_post_bug/'\n",
    "#errdir = '/home/jujuman/Research/DataReductionMethods/train_test/error_compare/'\n",
    "tex_store = \"/home/jsmith48/scratch/error_stats/AllTests_results_mean.tex\"\n",
    "xls_store = \"/home/jsmith48/scratch/error_stats/AllTests_results_mean.xlsx\"\n",
    "tex_store = \"/home/jsmith48/scratch/error_stats/AllTests_results.tex\"\n",
    "\n",
    "#errdir = '/home/jujuman/Research/DataReductionMethods/model6r/error_compare/emax_compare/'\n",
    "#tex_store = \"/home/jujuman/Dropbox/ANAKIN-ME-RESEARCH/PUBLICATION-ActiveLearning/tables/Emax_results_mean.tex\"\n",
    "#xls_store = \"/home/jujuman/Dropbox/ANAKIN-ME-RESEARCH/PUBLICATION-ActiveLearning/tables/Emax_results_mean.xlsx\"\n",
    "\n",
    "#errdir = '/home/jujuman/Research/DataReductionMethods/al_working_network/error_compare/'\n",
    "\n",
    "#errdir = '/home/jujuman/Research/DataReductionMethods/train_test/error_compare/'\n",
    "#tex_store = \"/home/jujuman/Research/DataReductionMethods/al_working_network/tables/AllTests_results_mean.tex\"\n",
    "#xls_store = \"/home/jujuman/Research/DataReductionMethods/al_working_network/tables/AllTests_results_mean.xlsx\"\n",
    "\n",
    "efiles = [errdir+f for f in os.listdir(errdir)]\n",
    "tsname = ['DrugBank',\n",
    "          'Tripeptide',\n",
    "          #'GDB07to09',\n",
    "          'MDBenchmark',\n",
    "          #'GDB10to13',\n",
    "          #'s66x8',\n",
    "         ]\n",
    "\n",
    "'''\n",
    "efiles = [errdir+f for f in os.listdir(errdir)]\n",
    "tsname = ['DrugBk (SFCl)',\n",
    "          'DrugBk (CHNO)',\n",
    "          'GDB-07 (SFCl)',\n",
    "          'GDB-08 (SFCl)',\n",
    "          'GDB-09 (SFCl)',\n",
    "          'GDB-10 (SFCl)',\n",
    "          'GDB-11 (SFCl)',\n",
    "          'GDB-07 (CHNO)',\n",
    "          'GDB-08 (CHNO)',\n",
    "          'GDB-09 (CHNO)',\n",
    "          'GDB-10 (CHNO)',\n",
    "          'GDB-11 (CHNO)',\n",
    "         ]\n",
    "'''\n",
    "\n",
    "for i in efiles:\n",
    "    print(i)"
   ]
  },
  {
   "cell_type": "code",
   "execution_count": 3,
   "metadata": {},
   "outputs": [
    {
     "data": {
      "text/html": [
       "<div>\n",
       "<style>\n",
       "    .dataframe thead tr:only-child th {\n",
       "        text-align: right;\n",
       "    }\n",
       "\n",
       "    .dataframe thead th {\n",
       "        text-align: left;\n",
       "    }\n",
       "\n",
       "    .dataframe tbody tr th {\n",
       "        vertical-align: top;\n",
       "    }\n",
       "</style>\n",
       "<table border=\"1\" class=\"dataframe\">\n",
       "  <thead>\n",
       "    <tr style=\"text-align: right;\">\n",
       "      <th></th>\n",
       "      <th>$\\Delta$E$_\\mathrm{MAE}$$\\mu$</th>\n",
       "      <th>$\\Delta$E$_\\mathrm{RMS}$$\\mu$</th>\n",
       "      <th>E$_\\mathrm{MAE}$$\\mu$</th>\n",
       "      <th>E$_\\mathrm{RMS}$$\\mu$</th>\n",
       "    </tr>\n",
       "  </thead>\n",
       "  <tbody>\n",
       "    <tr>\n",
       "      <th>ANI-1x(CCSD(T)</th>\n",
       "      <td>44.13</td>\n",
       "      <td>56.97</td>\n",
       "      <td>16859.24</td>\n",
       "      <td>16981.81</td>\n",
       "    </tr>\n",
       "    <tr>\n",
       "      <th>ANI-1x(DZ)</th>\n",
       "      <td>43.76</td>\n",
       "      <td>56.53</td>\n",
       "      <td>5075.63</td>\n",
       "      <td>5151.50</td>\n",
       "    </tr>\n",
       "    <tr>\n",
       "      <th>ANI-1x(TZ)</th>\n",
       "      <td>36.20</td>\n",
       "      <td>48.58</td>\n",
       "      <td>38.03</td>\n",
       "      <td>50.94</td>\n",
       "    </tr>\n",
       "  </tbody>\n",
       "</table>\n",
       "</div>"
      ],
      "text/plain": [
       "                $\\Delta$E$_\\mathrm{MAE}$$\\mu$  $\\Delta$E$_\\mathrm{RMS}$$\\mu$  E$_\\mathrm{MAE}$$\\mu$  E$_\\mathrm{RMS}$$\\mu$\n",
       "ANI-1x(CCSD(T)                          44.13                          56.97               16859.24               16981.81\n",
       "ANI-1x(DZ)                              43.76                          56.53                5075.63                5151.50\n",
       "ANI-1x(TZ)                              36.20                          48.58                  38.03                  50.94"
      ]
     },
     "execution_count": 3,
     "metadata": {},
     "output_type": "execute_result"
    }
   ],
   "source": [
    "eed = aes.evaluate_ensemble_data(efiles)\n",
    "eed.get_totalerrorperatom_table(['MDBenchmark'])"
   ]
  },
  {
   "cell_type": "code",
   "execution_count": 4,
   "metadata": {
    "collapsed": true
   },
   "outputs": [],
   "source": [
    "#eed.get_ntwrk_error_table('0707.0001.0400')"
   ]
  },
  {
   "cell_type": "code",
   "execution_count": 5,
   "metadata": {
    "collapsed": true
   },
   "outputs": [],
   "source": [
    "#eed.get_ntwrk_error_table('0707.0001.0402')"
   ]
  },
  {
   "cell_type": "code",
   "execution_count": 6,
   "metadata": {
    "collapsed": true
   },
   "outputs": [],
   "source": [
    "#eed.get_ntwrk_error_table('0707.0001.0408')"
   ]
  },
  {
   "cell_type": "markdown",
   "metadata": {},
   "source": [
    "# ANI-1x trained to different datasets tested for extensibility"
   ]
  },
  {
   "cell_type": "code",
   "execution_count": 7,
   "metadata": {},
   "outputs": [
    {
     "data": {
      "text/html": [
       "<div>\n",
       "<style>\n",
       "    .dataframe thead tr:only-child th {\n",
       "        text-align: right;\n",
       "    }\n",
       "\n",
       "    .dataframe thead th {\n",
       "        text-align: left;\n",
       "    }\n",
       "\n",
       "    .dataframe tbody tr th {\n",
       "        vertical-align: top;\n",
       "    }\n",
       "</style>\n",
       "<table border=\"1\" class=\"dataframe\">\n",
       "  <thead>\n",
       "    <tr style=\"text-align: right;\">\n",
       "      <th></th>\n",
       "      <th>$\\Delta$E$_\\mathrm{MAE}$$\\mu$</th>\n",
       "      <th>$\\Delta$E$_\\mathrm{MAE}$$\\sigma$</th>\n",
       "      <th>$\\Delta$E$_\\mathrm{RMS}$$\\mu$</th>\n",
       "      <th>$\\Delta$E$_\\mathrm{RMS}$$\\sigma$</th>\n",
       "      <th>E$_\\mathrm{MAE}$$\\mu$</th>\n",
       "      <th>E$_\\mathrm{MAE}$$\\sigma$</th>\n",
       "      <th>E$_\\mathrm{RMS}$$\\mu$</th>\n",
       "      <th>E$_\\mathrm{RMS}$$\\sigma$</th>\n",
       "      <th>F$_\\mathrm{MAE}$$\\mu$</th>\n",
       "      <th>F$_\\mathrm{MAE}$$\\sigma$</th>\n",
       "      <th>F$_\\mathrm{RMS}$$\\mu$</th>\n",
       "      <th>F$_\\mathrm{RMS}$$\\sigma$</th>\n",
       "    </tr>\n",
       "  </thead>\n",
       "  <tbody>\n",
       "    <tr>\n",
       "      <th>ANI-1x(CCSD(T)</th>\n",
       "      <td>3.20</td>\n",
       "      <td>0.07</td>\n",
       "      <td>4.53</td>\n",
       "      <td>0.09</td>\n",
       "      <td>811.29</td>\n",
       "      <td>0.37</td>\n",
       "      <td>879.75</td>\n",
       "      <td>0.47</td>\n",
       "      <td>3.64</td>\n",
       "      <td>0.08</td>\n",
       "      <td>5.90</td>\n",
       "      <td>0.10</td>\n",
       "    </tr>\n",
       "    <tr>\n",
       "      <th>ANI-1x(DZ)</th>\n",
       "      <td>2.42</td>\n",
       "      <td>0.07</td>\n",
       "      <td>3.37</td>\n",
       "      <td>0.09</td>\n",
       "      <td>253.77</td>\n",
       "      <td>0.72</td>\n",
       "      <td>276.99</td>\n",
       "      <td>0.76</td>\n",
       "      <td>3.60</td>\n",
       "      <td>0.04</td>\n",
       "      <td>5.53</td>\n",
       "      <td>0.05</td>\n",
       "    </tr>\n",
       "    <tr>\n",
       "      <th>ANI-1x(TZ)</th>\n",
       "      <td>1.90</td>\n",
       "      <td>0.03</td>\n",
       "      <td>2.63</td>\n",
       "      <td>0.05</td>\n",
       "      <td>2.34</td>\n",
       "      <td>0.10</td>\n",
       "      <td>3.73</td>\n",
       "      <td>0.28</td>\n",
       "      <td>2.78</td>\n",
       "      <td>0.05</td>\n",
       "      <td>4.25</td>\n",
       "      <td>0.09</td>\n",
       "    </tr>\n",
       "  </tbody>\n",
       "</table>\n",
       "</div>"
      ],
      "text/plain": [
       "                $\\Delta$E$_\\mathrm{MAE}$$\\mu$  $\\Delta$E$_\\mathrm{MAE}$$\\sigma$  $\\Delta$E$_\\mathrm{RMS}$$\\mu$  $\\Delta$E$_\\mathrm{RMS}$$\\sigma$  E$_\\mathrm{MAE}$$\\mu$  E$_\\mathrm{MAE}$$\\sigma$  E$_\\mathrm{RMS}$$\\mu$  E$_\\mathrm{RMS}$$\\sigma$  F$_\\mathrm{MAE}$$\\mu$  F$_\\mathrm{MAE}$$\\sigma$  F$_\\mathrm{RMS}$$\\mu$  F$_\\mathrm{RMS}$$\\sigma$\n",
       "ANI-1x(CCSD(T)                           3.20                              0.07                           4.53                              0.09                 811.29                      0.37                 879.75                      0.47                   3.64                      0.08                   5.90                      0.10\n",
       "ANI-1x(DZ)                               2.42                              0.07                           3.37                              0.09                 253.77                      0.72                 276.99                      0.76                   3.60                      0.04                   5.53                      0.05\n",
       "ANI-1x(TZ)                               1.90                              0.03                           2.63                              0.05                   2.34                      0.10                   3.73                      0.28                   2.78                      0.05                   4.25                      0.09"
      ]
     },
     "execution_count": 7,
     "metadata": {},
     "output_type": "execute_result"
    }
   ],
   "source": [
    "eed.get_totalerror_table() # All errors combined"
   ]
  },
  {
   "cell_type": "code",
   "execution_count": 8,
   "metadata": {
    "scrolled": true
   },
   "outputs": [
    {
     "data": {
      "text/html": [
       "<div>\n",
       "<style>\n",
       "    .dataframe thead tr:only-child th {\n",
       "        text-align: right;\n",
       "    }\n",
       "\n",
       "    .dataframe thead th {\n",
       "        text-align: left;\n",
       "    }\n",
       "\n",
       "    .dataframe tbody tr th {\n",
       "        vertical-align: top;\n",
       "    }\n",
       "</style>\n",
       "<table border=\"1\" class=\"dataframe\">\n",
       "  <thead>\n",
       "    <tr style=\"text-align: right;\">\n",
       "      <th></th>\n",
       "      <th>$\\Delta$E$_\\mathrm{MAE}$$\\mu$</th>\n",
       "      <th>$\\Delta$E$_\\mathrm{MAE}$$\\sigma$</th>\n",
       "      <th>$\\Delta$E$_\\mathrm{RMS}$$\\mu$</th>\n",
       "      <th>$\\Delta$E$_\\mathrm{RMS}$$\\sigma$</th>\n",
       "      <th>E$_\\mathrm{MAE}$$\\mu$</th>\n",
       "      <th>E$_\\mathrm{MAE}$$\\sigma$</th>\n",
       "      <th>E$_\\mathrm{RMS}$$\\mu$</th>\n",
       "      <th>E$_\\mathrm{RMS}$$\\sigma$</th>\n",
       "      <th>F$_\\mathrm{MAE}$$\\mu$</th>\n",
       "      <th>F$_\\mathrm{MAE}$$\\sigma$</th>\n",
       "      <th>F$_\\mathrm{RMS}$$\\mu$</th>\n",
       "      <th>F$_\\mathrm{RMS}$$\\sigma$</th>\n",
       "    </tr>\n",
       "  </thead>\n",
       "  <tbody>\n",
       "    <tr>\n",
       "      <th>ANI-1x(CCSD(T)</th>\n",
       "      <td>2.42</td>\n",
       "      <td>0.11</td>\n",
       "      <td>3.50</td>\n",
       "      <td>0.36</td>\n",
       "      <td>953.82</td>\n",
       "      <td>0.84</td>\n",
       "      <td>1146.68</td>\n",
       "      <td>1.29</td>\n",
       "      <td>3.15</td>\n",
       "      <td>0.13</td>\n",
       "      <td>4.91</td>\n",
       "      <td>0.30</td>\n",
       "    </tr>\n",
       "    <tr>\n",
       "      <th>ANI-1x(DZ)</th>\n",
       "      <td>2.34</td>\n",
       "      <td>0.09</td>\n",
       "      <td>3.30</td>\n",
       "      <td>0.14</td>\n",
       "      <td>289.78</td>\n",
       "      <td>0.59</td>\n",
       "      <td>360.04</td>\n",
       "      <td>1.08</td>\n",
       "      <td>3.19</td>\n",
       "      <td>0.09</td>\n",
       "      <td>4.62</td>\n",
       "      <td>0.10</td>\n",
       "    </tr>\n",
       "    <tr>\n",
       "      <th>ANI-1x(TZ)</th>\n",
       "      <td>1.93</td>\n",
       "      <td>0.04</td>\n",
       "      <td>2.79</td>\n",
       "      <td>0.08</td>\n",
       "      <td>2.45</td>\n",
       "      <td>0.50</td>\n",
       "      <td>4.19</td>\n",
       "      <td>1.28</td>\n",
       "      <td>2.50</td>\n",
       "      <td>0.08</td>\n",
       "      <td>3.84</td>\n",
       "      <td>0.10</td>\n",
       "    </tr>\n",
       "  </tbody>\n",
       "</table>\n",
       "</div>"
      ],
      "text/plain": [
       "                $\\Delta$E$_\\mathrm{MAE}$$\\mu$  $\\Delta$E$_\\mathrm{MAE}$$\\sigma$  $\\Delta$E$_\\mathrm{RMS}$$\\mu$  $\\Delta$E$_\\mathrm{RMS}$$\\sigma$  E$_\\mathrm{MAE}$$\\mu$  E$_\\mathrm{MAE}$$\\sigma$  E$_\\mathrm{RMS}$$\\mu$  E$_\\mathrm{RMS}$$\\sigma$  F$_\\mathrm{MAE}$$\\mu$  F$_\\mathrm{MAE}$$\\sigma$  F$_\\mathrm{RMS}$$\\mu$  F$_\\mathrm{RMS}$$\\sigma$\n",
       "ANI-1x(CCSD(T)                           2.42                              0.11                           3.50                              0.36                 953.82                      0.84                1146.68                      1.29                   3.15                      0.13                   4.91                      0.30\n",
       "ANI-1x(DZ)                               2.34                              0.09                           3.30                              0.14                 289.78                      0.59                 360.04                      1.08                   3.19                      0.09                   4.62                      0.10\n",
       "ANI-1x(TZ)                               1.93                              0.04                           2.79                              0.08                   2.45                      0.50                   4.19                      1.28                   2.50                      0.08                   3.84                      0.10"
      ]
     },
     "execution_count": 8,
     "metadata": {},
     "output_type": "execute_result"
    }
   ],
   "source": [
    "eed.get_error_table(tskey='MDBenchmark')"
   ]
  },
  {
   "cell_type": "code",
   "execution_count": 9,
   "metadata": {},
   "outputs": [
    {
     "data": {
      "text/html": [
       "<div>\n",
       "<style>\n",
       "    .dataframe thead tr:only-child th {\n",
       "        text-align: right;\n",
       "    }\n",
       "\n",
       "    .dataframe thead th {\n",
       "        text-align: left;\n",
       "    }\n",
       "\n",
       "    .dataframe tbody tr th {\n",
       "        vertical-align: top;\n",
       "    }\n",
       "</style>\n",
       "<table border=\"1\" class=\"dataframe\">\n",
       "  <thead>\n",
       "    <tr style=\"text-align: right;\">\n",
       "      <th></th>\n",
       "      <th>$\\Delta$E$_\\mathrm{MAE}$$\\mu$</th>\n",
       "      <th>$\\Delta$E$_\\mathrm{MAE}$$\\sigma$</th>\n",
       "      <th>$\\Delta$E$_\\mathrm{RMS}$$\\mu$</th>\n",
       "      <th>$\\Delta$E$_\\mathrm{RMS}$$\\sigma$</th>\n",
       "      <th>E$_\\mathrm{MAE}$$\\mu$</th>\n",
       "      <th>E$_\\mathrm{MAE}$$\\sigma$</th>\n",
       "      <th>E$_\\mathrm{RMS}$$\\mu$</th>\n",
       "      <th>E$_\\mathrm{RMS}$$\\sigma$</th>\n",
       "      <th>F$_\\mathrm{MAE}$$\\mu$</th>\n",
       "      <th>F$_\\mathrm{MAE}$$\\sigma$</th>\n",
       "      <th>F$_\\mathrm{RMS}$$\\mu$</th>\n",
       "      <th>F$_\\mathrm{RMS}$$\\sigma$</th>\n",
       "    </tr>\n",
       "  </thead>\n",
       "  <tbody>\n",
       "    <tr>\n",
       "      <th>ANI-1x(CCSD(T)</th>\n",
       "      <td>2.34</td>\n",
       "      <td>0.10</td>\n",
       "      <td>5.03</td>\n",
       "      <td>0.16</td>\n",
       "      <td>960.59</td>\n",
       "      <td>0.71</td>\n",
       "      <td>970.15</td>\n",
       "      <td>0.73</td>\n",
       "      <td>3.59</td>\n",
       "      <td>0.11</td>\n",
       "      <td>7.34</td>\n",
       "      <td>0.21</td>\n",
       "    </tr>\n",
       "    <tr>\n",
       "      <th>ANI-1x(DZ)</th>\n",
       "      <td>2.22</td>\n",
       "      <td>0.13</td>\n",
       "      <td>4.19</td>\n",
       "      <td>0.29</td>\n",
       "      <td>330.25</td>\n",
       "      <td>0.66</td>\n",
       "      <td>332.63</td>\n",
       "      <td>0.67</td>\n",
       "      <td>3.54</td>\n",
       "      <td>0.13</td>\n",
       "      <td>7.10</td>\n",
       "      <td>0.43</td>\n",
       "    </tr>\n",
       "    <tr>\n",
       "      <th>ANI-1x(TZ)</th>\n",
       "      <td>1.66</td>\n",
       "      <td>0.09</td>\n",
       "      <td>2.77</td>\n",
       "      <td>0.14</td>\n",
       "      <td>2.66</td>\n",
       "      <td>0.35</td>\n",
       "      <td>3.63</td>\n",
       "      <td>0.33</td>\n",
       "      <td>2.62</td>\n",
       "      <td>0.08</td>\n",
       "      <td>4.14</td>\n",
       "      <td>0.30</td>\n",
       "    </tr>\n",
       "  </tbody>\n",
       "</table>\n",
       "</div>"
      ],
      "text/plain": [
       "                $\\Delta$E$_\\mathrm{MAE}$$\\mu$  $\\Delta$E$_\\mathrm{MAE}$$\\sigma$  $\\Delta$E$_\\mathrm{RMS}$$\\mu$  $\\Delta$E$_\\mathrm{RMS}$$\\sigma$  E$_\\mathrm{MAE}$$\\mu$  E$_\\mathrm{MAE}$$\\sigma$  E$_\\mathrm{RMS}$$\\mu$  E$_\\mathrm{RMS}$$\\sigma$  F$_\\mathrm{MAE}$$\\mu$  F$_\\mathrm{MAE}$$\\sigma$  F$_\\mathrm{RMS}$$\\mu$  F$_\\mathrm{RMS}$$\\sigma$\n",
       "ANI-1x(CCSD(T)                           2.34                              0.10                           5.03                              0.16                 960.59                      0.71                 970.15                      0.73                   3.59                      0.11                   7.34                      0.21\n",
       "ANI-1x(DZ)                               2.22                              0.13                           4.19                              0.29                 330.25                      0.66                 332.63                      0.67                   3.54                      0.13                   7.10                      0.43\n",
       "ANI-1x(TZ)                               1.66                              0.09                           2.77                              0.14                   2.66                      0.35                   3.63                      0.33                   2.62                      0.08                   4.14                      0.30"
      ]
     },
     "execution_count": 9,
     "metadata": {},
     "output_type": "execute_result"
    }
   ],
   "source": [
    "eed.get_error_table(tskey='Tripeptide')"
   ]
  },
  {
   "cell_type": "code",
   "execution_count": 10,
   "metadata": {},
   "outputs": [
    {
     "data": {
      "text/html": [
       "<div>\n",
       "<style>\n",
       "    .dataframe thead tr:only-child th {\n",
       "        text-align: right;\n",
       "    }\n",
       "\n",
       "    .dataframe thead th {\n",
       "        text-align: left;\n",
       "    }\n",
       "\n",
       "    .dataframe tbody tr th {\n",
       "        vertical-align: top;\n",
       "    }\n",
       "</style>\n",
       "<table border=\"1\" class=\"dataframe\">\n",
       "  <thead>\n",
       "    <tr style=\"text-align: right;\">\n",
       "      <th></th>\n",
       "      <th>$\\Delta$E$_\\mathrm{MAE}$$\\mu$</th>\n",
       "      <th>$\\Delta$E$_\\mathrm{MAE}$$\\sigma$</th>\n",
       "      <th>$\\Delta$E$_\\mathrm{RMS}$$\\mu$</th>\n",
       "      <th>$\\Delta$E$_\\mathrm{RMS}$$\\sigma$</th>\n",
       "      <th>E$_\\mathrm{MAE}$$\\mu$</th>\n",
       "      <th>E$_\\mathrm{MAE}$$\\sigma$</th>\n",
       "      <th>E$_\\mathrm{RMS}$$\\mu$</th>\n",
       "      <th>E$_\\mathrm{RMS}$$\\sigma$</th>\n",
       "      <th>F$_\\mathrm{MAE}$$\\mu$</th>\n",
       "      <th>F$_\\mathrm{MAE}$$\\sigma$</th>\n",
       "      <th>F$_\\mathrm{RMS}$$\\mu$</th>\n",
       "      <th>F$_\\mathrm{RMS}$$\\sigma$</th>\n",
       "    </tr>\n",
       "  </thead>\n",
       "  <tbody>\n",
       "    <tr>\n",
       "      <th>ANI-1x(CCSD(T)</th>\n",
       "      <td>3.31</td>\n",
       "      <td>0.07</td>\n",
       "      <td>4.55</td>\n",
       "      <td>0.09</td>\n",
       "      <td>784.76</td>\n",
       "      <td>0.32</td>\n",
       "      <td>855.86</td>\n",
       "      <td>0.42</td>\n",
       "      <td>3.66</td>\n",
       "      <td>0.09</td>\n",
       "      <td>5.65</td>\n",
       "      <td>0.10</td>\n",
       "    </tr>\n",
       "    <tr>\n",
       "      <th>ANI-1x(DZ)</th>\n",
       "      <td>2.44</td>\n",
       "      <td>0.07</td>\n",
       "      <td>3.30</td>\n",
       "      <td>0.10</td>\n",
       "      <td>241.32</td>\n",
       "      <td>0.87</td>\n",
       "      <td>264.69</td>\n",
       "      <td>0.95</td>\n",
       "      <td>3.62</td>\n",
       "      <td>0.03</td>\n",
       "      <td>5.24</td>\n",
       "      <td>0.05</td>\n",
       "    </tr>\n",
       "    <tr>\n",
       "      <th>ANI-1x(TZ)</th>\n",
       "      <td>1.91</td>\n",
       "      <td>0.03</td>\n",
       "      <td>2.61</td>\n",
       "      <td>0.06</td>\n",
       "      <td>2.28</td>\n",
       "      <td>0.08</td>\n",
       "      <td>3.73</td>\n",
       "      <td>0.28</td>\n",
       "      <td>2.82</td>\n",
       "      <td>0.05</td>\n",
       "      <td>4.28</td>\n",
       "      <td>0.10</td>\n",
       "    </tr>\n",
       "  </tbody>\n",
       "</table>\n",
       "</div>"
      ],
      "text/plain": [
       "                $\\Delta$E$_\\mathrm{MAE}$$\\mu$  $\\Delta$E$_\\mathrm{MAE}$$\\sigma$  $\\Delta$E$_\\mathrm{RMS}$$\\mu$  $\\Delta$E$_\\mathrm{RMS}$$\\sigma$  E$_\\mathrm{MAE}$$\\mu$  E$_\\mathrm{MAE}$$\\sigma$  E$_\\mathrm{RMS}$$\\mu$  E$_\\mathrm{RMS}$$\\sigma$  F$_\\mathrm{MAE}$$\\mu$  F$_\\mathrm{MAE}$$\\sigma$  F$_\\mathrm{RMS}$$\\mu$  F$_\\mathrm{RMS}$$\\sigma$\n",
       "ANI-1x(CCSD(T)                           3.31                              0.07                           4.55                              0.09                 784.76                      0.32                 855.86                      0.42                   3.66                      0.09                   5.65                      0.10\n",
       "ANI-1x(DZ)                               2.44                              0.07                           3.30                              0.10                 241.32                      0.87                 264.69                      0.95                   3.62                      0.03                   5.24                      0.05\n",
       "ANI-1x(TZ)                               1.91                              0.03                           2.61                              0.06                   2.28                      0.08                   3.73                      0.28                   2.82                      0.05                   4.28                      0.10"
      ]
     },
     "execution_count": 10,
     "metadata": {},
     "output_type": "execute_result"
    }
   ],
   "source": [
    "eed.get_error_table(tskey='DrugBank')"
   ]
  },
  {
   "cell_type": "code",
   "execution_count": 11,
   "metadata": {},
   "outputs": [],
   "source": [
    "#eed.get_error_table(tskey='s66x8')"
   ]
  },
  {
   "cell_type": "code",
   "execution_count": 12,
   "metadata": {
    "scrolled": false
   },
   "outputs": [
    {
     "name": "stdout",
     "output_type": "stream",
     "text": [
      "Stats for: Complete benchmark\n",
      "Stats for: DrugBank\n",
      "Stats for: Tripeptide\n",
      "Stats for: MDBenchmark\n"
     ]
    }
   ],
   "source": [
    "# Create a Pandas Excel writer using XlsxWriter as the engine.\n",
    "writer = pd.ExcelWriter(xls_store, engine='xlsxwriter')\n",
    "\n",
    "# Build latex document\n",
    "header = r'\\documentclass{article}'+'\\n'+r'\\usepackage{booktabs}'+'\\n'+r'\\usepackage[margin=1.0in]{geometry}'+'\\n'+r'\\begin{document}'+'\\n'\n",
    "\n",
    "begtab = r'\\begin{table}'+'\\n'+r'\\centering'+'\\n'+r'\\tiny'+'\\n'\n",
    "endtab = r'\\end{table}'+'\\n'\n",
    "enddoc = r'\\end{document}'\n",
    "styles = []\n",
    "with open(tex_store, \"w\") as text_file:\n",
    "    text_file.write(header)\n",
    "    print('Stats for: Complete benchmark')\n",
    "    etab = eed.get_totalerror_table()\n",
    "    styles.append(etab.style)\n",
    "    text_file.write(begtab+r'\\caption{Data set: Complete benchmark}'+'\\n'+etab.to_latex(escape=False)+endtab)\n",
    "\n",
    "    # Convert the dataframe to an XlsxWriter Excel object.\n",
    "    etab.to_excel(writer, sheet_name=\"Complete Benchmark\")\n",
    "\n",
    "    paetab = eed.get_totalerrorperatom_table()\n",
    "    text_file.write(begtab+r'\\caption{Data set: Complete benchmark per atom}'+'\\n'+paetab.to_latex(escape=False)+endtab)\n",
    "    paetab.to_excel(writer, sheet_name=\"Complete Benchmark per atom\")\n",
    "    \n",
    "    \n",
    "    for k in tsname:\n",
    "        print('Stats for:',k)\n",
    "        etab = eed.get_error_table(k)\n",
    "        etab.to_excel(writer, sheet_name=k)\n",
    "        styles.append(etab.style)\n",
    "        text_file.write(begtab+r'\\caption{Data set: '+k+r'}'+'\\n'+etab.to_latex(escape=False)+endtab)\n",
    "    text_file.write(enddoc)\n",
    "styles[0]\n",
    "\n",
    "# Close the Pandas Excel writer and output the Excel file.\n",
    "writer.save()"
   ]
  },
  {
   "cell_type": "code",
   "execution_count": 13,
   "metadata": {},
   "outputs": [
    {
     "ename": "KeyError",
     "evalue": "'ANI-1x(celu)'",
     "output_type": "error",
     "traceback": [
      "\u001b[0;31m---------------------------------------------------------------------------\u001b[0m",
      "\u001b[0;31mKeyError\u001b[0m                                  Traceback (most recent call last)",
      "\u001b[0;32m<ipython-input-13-448844a37b4f>\u001b[0m in \u001b[0;36m<module>\u001b[0;34m()\u001b[0m\n\u001b[1;32m      7\u001b[0m                                  \u001b[0mfigsize\u001b[0m\u001b[0;34m=\u001b[0m\u001b[0;34m(\u001b[0m\u001b[0;36m12.0\u001b[0m\u001b[0;34m,\u001b[0m \u001b[0;36m9.0\u001b[0m\u001b[0;34m)\u001b[0m\u001b[0;34m,\u001b[0m\u001b[0;34m\u001b[0m\u001b[0m\n\u001b[1;32m      8\u001b[0m                                  \u001b[0mcmap\u001b[0m\u001b[0;34m=\u001b[0m\u001b[0mcmap\u001b[0m\u001b[0;34m,\u001b[0m\u001b[0;34m\u001b[0m\u001b[0m\n\u001b[0;32m----> 9\u001b[0;31m                                  \u001b[0mtskeys\u001b[0m\u001b[0;34m=\u001b[0m\u001b[0;34m[\u001b[0m\u001b[0;34m'DrugBank'\u001b[0m\u001b[0;34m]\u001b[0m\u001b[0;34m,\u001b[0m\u001b[0;34m\u001b[0m\u001b[0m\n\u001b[0m\u001b[1;32m     10\u001b[0m                                  \u001b[0;31m#storepath='/home/jsmith48/scratch/error_stats/rho_selection_6.0.0.pdf',\u001b[0m\u001b[0;34m\u001b[0m\u001b[0;34m\u001b[0m\u001b[0m\n\u001b[1;32m     11\u001b[0m                                  )\n",
      "\u001b[0;32m~/Gits/ANI-Tools/lib/aniensemblestats.py\u001b[0m in \u001b[0;36mdetermine_min_error_by_sigma\u001b[0;34m(self, ntkey, minerror, percent, tskeys, figsize, labelx, labely, xymax, storepath, cmap)\u001b[0m\n\u001b[1;32m    418\u001b[0m         \u001b[0mmpl\u001b[0m\u001b[0;34m.\u001b[0m\u001b[0mrcParams\u001b[0m\u001b[0;34m[\u001b[0m\u001b[0;34m'ytick.labelsize'\u001b[0m\u001b[0;34m]\u001b[0m \u001b[0;34m=\u001b[0m \u001b[0;36m18\u001b[0m\u001b[0;34m\u001b[0m\u001b[0m\n\u001b[1;32m    419\u001b[0m \u001b[0;34m\u001b[0m\u001b[0m\n\u001b[0;32m--> 420\u001b[0;31m         \u001b[0mNn\u001b[0m \u001b[0;34m=\u001b[0m \u001b[0mself\u001b[0m\u001b[0;34m.\u001b[0m\u001b[0mfdata\u001b[0m\u001b[0;34m[\u001b[0m\u001b[0mntkey\u001b[0m\u001b[0;34m]\u001b[0m\u001b[0;34m[\u001b[0m\u001b[0mlist\u001b[0m\u001b[0;34m(\u001b[0m\u001b[0mtskeys\u001b[0m\u001b[0;34m)\u001b[0m\u001b[0;34m[\u001b[0m\u001b[0;36m0\u001b[0m\u001b[0;34m]\u001b[0m\u001b[0;34m]\u001b[0m\u001b[0;34m[\u001b[0m\u001b[0;34m'Eani'\u001b[0m\u001b[0;34m]\u001b[0m\u001b[0;34m.\u001b[0m\u001b[0mshape\u001b[0m\u001b[0;34m[\u001b[0m\u001b[0;36m0\u001b[0m\u001b[0;34m]\u001b[0m\u001b[0;34m-\u001b[0m\u001b[0;36m1\u001b[0m\u001b[0;34m\u001b[0m\u001b[0m\n\u001b[0m\u001b[1;32m    421\u001b[0m \u001b[0;34m\u001b[0m\u001b[0m\n\u001b[1;32m    422\u001b[0m         \u001b[0mEani\u001b[0m \u001b[0;34m=\u001b[0m \u001b[0mnp\u001b[0m\u001b[0;34m.\u001b[0m\u001b[0mhstack\u001b[0m\u001b[0;34m(\u001b[0m\u001b[0;34m[\u001b[0m\u001b[0mself\u001b[0m\u001b[0;34m.\u001b[0m\u001b[0mfdata\u001b[0m\u001b[0;34m[\u001b[0m\u001b[0mntkey\u001b[0m\u001b[0;34m]\u001b[0m\u001b[0;34m[\u001b[0m\u001b[0mtskey\u001b[0m\u001b[0;34m]\u001b[0m\u001b[0;34m[\u001b[0m\u001b[0;34m'Eani'\u001b[0m\u001b[0;34m]\u001b[0m\u001b[0;34m[\u001b[0m\u001b[0;36m0\u001b[0m\u001b[0;34m:\u001b[0m\u001b[0mNn\u001b[0m\u001b[0;34m,\u001b[0m \u001b[0;34m:\u001b[0m\u001b[0;34m]\u001b[0m \u001b[0;32mfor\u001b[0m \u001b[0mtskey\u001b[0m \u001b[0;32min\u001b[0m \u001b[0mtskeys\u001b[0m\u001b[0;34m]\u001b[0m\u001b[0;34m)\u001b[0m\u001b[0;34m\u001b[0m\u001b[0m\n",
      "\u001b[0;31mKeyError\u001b[0m: 'ANI-1x(celu)'"
     ]
    }
   ],
   "source": [
    "cmap = mpl.cm.nipy_spectral\n",
    "eed.determine_min_error_by_sigma('ANI-1x(celu)',\n",
    "                                 1.5, 95.0,\n",
    "                                 labelx=r'$\\mathrm{\\rho}$ [$\\mathrm{kcal \\times mol^{-1} \\times (\\sqrt{N_a})^{-1}}}$]',\n",
    "                                 labely=r'$\\mathrm{\\mathcal{E}}$ [$\\mathrm{kcal \\times mol^{-1} \\times (\\sqrt{N_a})^{-1}}$]',\n",
    "                                 xymax=(7.0,22.0),\n",
    "                                 figsize=(12.0, 9.0),\n",
    "                                 cmap=cmap,\n",
    "                                 tskeys=['DrugBank'],\n",
    "                                 #storepath='/home/jsmith48/scratch/error_stats/rho_selection_6.0.0.pdf',\n",
    "                                 )"
   ]
  },
  {
   "cell_type": "code",
   "execution_count": null,
   "metadata": {},
   "outputs": [],
   "source": [
    "cmap = mpl.cm.nipy_spectral\n",
    "eed.determine_min_error_by_sigma('ANI-1x(gaus)',\n",
    "                                 1.5, 95.0,\n",
    "                                 labelx=r'$\\mathrm{\\rho}$ [$\\mathrm{kcal \\times mol^{-1} \\times (\\sqrt{N_a})^{-1}}}$]',\n",
    "                                 labely=r'$\\mathrm{\\mathcal{E}}$ [$\\mathrm{kcal \\times mol^{-1} \\times (\\sqrt{N_a})^{-1}}$]',\n",
    "                                 xymax=(7.0,22.0),\n",
    "                                 figsize=(12.0, 9.0),\n",
    "                                 cmap=cmap,\n",
    "                                 tskeys=['DrugBank'],\n",
    "                                 #storepath='/home/jsmith48/scratch/error_stats/rho_selection_6.0.0.pdf',\n",
    "                                 )"
   ]
  },
  {
   "cell_type": "code",
   "execution_count": null,
   "metadata": {},
   "outputs": [],
   "source": [
    "print(eed.get_net_keys())\n",
    "#print(eed.get_size(\"9.0.5\",\"MDBenchmark\"))\n",
    "#print(eed.get_size(\"9.0.4\",\"Tripeptide\"))\n",
    "#print(eed.get_size(\"9.0.4\",\"GDB07to09\"))\n",
    "#print(eed.get_size(\"9.0.4\",\"GDB10to13\"))"
   ]
  },
  {
   "cell_type": "code",
   "execution_count": null,
   "metadata": {
    "collapsed": true,
    "scrolled": false
   },
   "outputs": [],
   "source": [
    "#eed.generate_correlation_plot('6.0.0','MDBenchmark','Fani','Fdft')\n",
    "#cmap = mpl.cm.nipy_spectral\n",
    "#eed.generate_correlation_plot('ANI-0707.0001.0410_bt5','GDB-11 (SFCl)','Fani','Fdft',cmap=cmap)\n",
    "#eed.generate_correlation_plot('0707.0001.0402','GDB-07 (SFCl)','dEani','dEdft')\n",
    "#eed.generate_correlation_plot('0707.0001.0402','GDB-08 (SFCl)','dEani','dEdft')\n",
    "#eed.generate_correlation_plot('0707.0001.0402','GDB-09 (SFCl)','dEani','dEdft')\n",
    "#eed.generate_correlation_plot('0707.0001.0402','GDB-10 (SFCl)','dEani','dEdft')\n",
    "#eed.generate_correlation_plot('0707.0001.0402','GDB-11 (SFCl)','dEani','dEdft')\n",
    "#eed.generate_correlation_plot('AL6','DrugBank','Fani','Fdft')\n",
    "#eed.generate_correlation_plot('ARC1','MDBenchmark','Fani','Fdft')\n",
    "#eed.generate_correlation_plot('ARC8','MDBenchmark','Fani','Fdft')"
   ]
  },
  {
   "cell_type": "code",
   "execution_count": null,
   "metadata": {
    "collapsed": true,
    "scrolled": false
   },
   "outputs": [],
   "source": [
    "#eed.plot_bar_propsbynet([('Total Energy',r'RMSE ($kcal \\times mol^{-1}$)','Eani','Edft',[0.0,23.0]),\n",
    "#                         ('Relative Energy',r'RMSE ($kcal \\times mol^{-1}$)','dEani', 'dEdft',[0.0,12.0]),\n",
    "#                         ('Force',r'RMSE ($kcal \\times mol^{-1} \\times \\AA^{-1}$)','Fani', 'Fdft',[0.0,10.0])], \n",
    "#                         ['GDB07to09', 'GDB10to13', 'DrugBank', 'Tripeptide', 's66x8'],\n",
    "#                         ntwks=['6.0.0','7.0.4','8.0.6','8.3.6','9.0.4','ANI-1'],\n",
    "#                         fontsize=30, bbox_to_anchor=(0.3, 1.0), figsize=(40.0, 32.0), ncol=2, errortype='RMSE')"
   ]
  },
  {
   "cell_type": "code",
   "execution_count": null,
   "metadata": {},
   "outputs": [],
   "source": [
    "eed.plot_error_by_net([(r'$E (kcal \\times mol^{-1})$',r'RMSE ($kcal \\times mol^{-1}$)','Eani','Edft'),\n",
    "                       (r'$\\Delta E (kcal \\times mol^{-1})$',r'RMSE ($kcal \\times mol^{-1}$)','dEani','dEdft'),\n",
    "                       (r'$F (kcal \\times mol^{-1}\\AA^{-1})$',r'RMSE ($kcal \\times mol^{-1}$)','Fani','Fdft'),], \n",
    "                         ['GDB-07 (SFCl)', 'GDB-08 (SFCl)', 'GDB-09 (SFCl)', 'GDB-10 (SFCl)', 'GDB-11 (SFCl)'],\n",
    "                         ntwks=['0808.0302.0402'],\n",
    "                         fontsize=20, bbox_to_anchor=(1.0, 1.0), figsize=(30.0, 15.0), ncol=1, errortype='RMSE',\n",
    "                        #storepath='/home/jujuman/Dropbox/ANAKIN-ME-RESEARCH/PUBLICATION-ActiveLearning/Figures/figure_TSALvsANI_RMSE.pdf',\n",
    "                      )"
   ]
  },
  {
   "cell_type": "code",
   "execution_count": null,
   "metadata": {
    "collapsed": true,
    "scrolled": false
   },
   "outputs": [],
   "source": [
    "eed.plot_error_by_net([(r'$E (kcal \\times mol^{-1})$',r'RMSE ($kcal \\times mol^{-1}$)','Eani','Edft'),\n",
    "                       (r'$\\Delta E (kcal \\times mol^{-1})$',r'RMSE ($kcal \\times mol^{-1}$)','dEani','dEdft'),\n",
    "                       (r'$F (kcal \\times mol^{-1}\\AA^{-1})$',r'RMSE ($kcal \\times mol^{-1}$)','Fani','Fdft'),], \n",
    "                         ['GDB07to09', 'GDB10to13', 'DrugBank', 'Tripeptide', 'MDBenchmark', 's66x8'],\n",
    "                         ntwks=['AL1', 'AL2', 'AL3', 'AL4', 'AL5', 'AL6', 'ANI-1'],\n",
    "                         fontsize=20, bbox_to_anchor=(1.0, 1.0), figsize=(30.0, 15.0), ncol=1, errortype='RMSE',\n",
    "                        #storepath='/home/jujuman/Dropbox/ANAKIN-ME-RESEARCH/PUBLICATION-ActiveLearning/Figures/figure_TSALvsANI_RMSE.pdf')"
   ]
  },
  {
   "cell_type": "code",
   "execution_count": null,
   "metadata": {
    "collapsed": true
   },
   "outputs": [],
   "source": [
    "eed.plot_error_by_net([(r'$E (kcal \\times mol^{-1})$',r'RMSE ($kcal \\times mol^{-1}$)','Eani','Edft'),\n",
    "                       (r'$\\Delta E (kcal \\times mol^{-1})$',r'RMSE ($kcal \\times mol^{-1}$)','dEani','dEdft'),\n",
    "                       (r'$F (kcal \\times mol^{-1}\\AA^{-1})$',r'RMSE ($kcal \\times mol^{-1}$)','Fani','Fdft'),], \n",
    "                         ['GDB07to09', 'GDB10to13', 'DrugBank', 'Tripeptide', 'MDBenchmark', 's66x8'],\n",
    "                         ntwks=['AL1', 'AL2', 'AL3', 'AL4', 'AL5', 'AL6', 'ANI-1'],\n",
    "                         fontsize=20, bbox_to_anchor=(1.0, 1.0), figsize=(30.0, 15.0), ncol=1, errortype='MAE',\n",
    "                        #storepath='/home/jujuman/Dropbox/ANAKIN-ME-RESEARCH/PUBLICATION-ActiveLearning/Figures/figure_TSALvsANI_MAE.pdf')\n",
    "#eed.generate_violin_distribution('GDB10to13')"
   ]
  },
  {
   "cell_type": "code",
   "execution_count": null,
   "metadata": {
    "collapsed": true
   },
   "outputs": [],
   "source": [
    "'''\n",
    "eed.plot_error_by_net([(r'$E_T (kcal \\times mol^{-1})$',r'RMSE ($kcal \\times mol^{-1}$)','Eani','Edft'),\n",
    "                       (r'$\\Delta E (kcal \\times mol^{-1})$',r'RMSE ($kcal \\times mol^{-1}$)','dEani','dEdft'),\n",
    "                       (r'$F (kcal \\times mol^{-1}\\AA^{-1})$',r'RMSE ($kcal \\times mol^{-1}$)','Fani','Fdft'),], \n",
    "                         ['GDB07to09', 'GDB10to13', 'DrugBank', 'Tripeptide', 'MDBenchmark', 's66x8'],\n",
    "                         ntwks=['ARC1','ARC2','ARC3','ARC4','ARC5','ARC6','ARC7','ARC8'],\n",
    "                        fontsize=20, bbox_to_anchor=(1.0, 1.0), figsize=(20.0, 30.0), ncol=1, errortype='RMSE',\n",
    "                        storepath='/home/jujuman/Research/DataReductionMethods/train_test/tables/figure_TSALvsANI_RMSE.pdf')\n",
    "'''"
   ]
  },
  {
   "cell_type": "code",
   "execution_count": null,
   "metadata": {
    "collapsed": true
   },
   "outputs": [],
   "source": [
    "Edft1 = eed.get_range_stats(tslist=['GDB-10 (SFCl)'],dkey='dEdft')"
   ]
  },
  {
   "cell_type": "code",
   "execution_count": null,
   "metadata": {
    "collapsed": true
   },
   "outputs": [],
   "source": [
    "plt.hist(Edft1,bins=100)\n",
    "plt.show()"
   ]
  },
  {
   "cell_type": "code",
   "execution_count": null,
   "metadata": {
    "collapsed": true
   },
   "outputs": [],
   "source": [
    "Edft2 = eed.get_range_stats(tslist=['GDB-10 (CHNO)'],dkey='dEdft')"
   ]
  },
  {
   "cell_type": "code",
   "execution_count": null,
   "metadata": {
    "collapsed": true
   },
   "outputs": [],
   "source": [
    "plt.hist(Edft2,bins=100,color='r')\n",
    "plt.show()"
   ]
  },
  {
   "cell_type": "code",
   "execution_count": null,
   "metadata": {
    "collapsed": true
   },
   "outputs": [],
   "source": []
  },
  {
   "cell_type": "code",
   "execution_count": null,
   "metadata": {
    "collapsed": true
   },
   "outputs": [],
   "source": []
  }
 ],
 "metadata": {
  "anaconda-cloud": {},
  "kernelspec": {
   "display_name": "Python 3",
   "language": "python",
   "name": "python3"
  },
  "language_info": {
   "codemirror_mode": {
    "name": "ipython",
    "version": 3
   },
   "file_extension": ".py",
   "mimetype": "text/x-python",
   "name": "python",
   "nbconvert_exporter": "python",
   "pygments_lexer": "ipython3",
   "version": "3.6.3"
  }
 },
 "nbformat": 4,
 "nbformat_minor": 1
}
