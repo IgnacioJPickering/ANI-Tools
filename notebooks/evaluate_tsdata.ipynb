{
 "cells": [
  {
   "cell_type": "code",
   "execution_count": 1,
   "metadata": {
    "collapsed": false
   },
   "outputs": [],
   "source": [
    "import aniensemblestats as aes\n",
    "import pandas as pd\n",
    "import os\n",
    "\n",
    "#import seaborn as sns\n",
    "pd.options.display.float_format = '{:.2f}'.format"
   ]
  },
  {
   "cell_type": "code",
   "execution_count": 2,
   "metadata": {
    "collapsed": false
   },
   "outputs": [
    {
     "name": "stdout",
     "output_type": "stream",
     "text": [
      "/home/jujuman/Research/DataReductionMethods/model6r/error_compare/for_al_pub/tsdata_AL6.h5\n",
      "/home/jujuman/Research/DataReductionMethods/model6r/error_compare/for_al_pub/tsdata_AL3.h5\n",
      "/home/jujuman/Research/DataReductionMethods/model6r/error_compare/for_al_pub/tsdata_AL5.h5\n",
      "/home/jujuman/Research/DataReductionMethods/model6r/error_compare/for_al_pub/tsdata_AL1.h5\n",
      "/home/jujuman/Research/DataReductionMethods/model6r/error_compare/for_al_pub/tsdata_AL2.h5\n",
      "/home/jujuman/Research/DataReductionMethods/model6r/error_compare/for_al_pub/tsdata_AL4.h5\n",
      "/home/jujuman/Research/DataReductionMethods/model6r/error_compare/for_al_pub/tsdata_ANI-1.h5\n"
     ]
    }
   ],
   "source": [
    "errdir = '/home/jujuman/Research/DataReductionMethods/model6r/error_compare/for_al_pub/'\n",
    "#errdir = '/home/jujuman/Research/DataReductionMethods/train_test/error_compare/'\n",
    "tex_store = \"/home/jujuman/Dropbox/ANAKIN-ME-RESEARCH/PUBLICATION-ActiveLearning/tables/AllTests_results_mean.tex\"\n",
    "xls_store = \"/home/jujuman/Dropbox/ANAKIN-ME-RESEARCH/PUBLICATION-ActiveLearning/tables/AllTests_results_mean.xlsx\"\n",
    "#tex_store = \"/home/jujuman/Research/DataReductionMethods/train_test/tables/AllTests_results.tex\"\n",
    "efiles = [errdir+f for f in os.listdir(errdir)]\n",
    "tsname = ['DrugBank',\n",
    "          'Tripeptide',\n",
    "          'GDB07to09',\n",
    "          'MDBenchmark',\n",
    "          'GDB10to13',\n",
    "          's66x8',\n",
    "         ]\n",
    "for i in efiles:\n",
    "    print(i)"
   ]
  },
  {
   "cell_type": "code",
   "execution_count": 3,
   "metadata": {
    "collapsed": false
   },
   "outputs": [
    {
     "name": "stdout",
     "output_type": "stream",
     "text": [
      "[-181845.07923834 -181801.77701013 -181879.13683328 ..., -285583.58146853\n",
      " -285561.02708175 -285561.90377342]\n",
      "[18 18 18 ..., 17 17 17]\n",
      "[-10102.50440213 -10100.09872279 -10104.39649074 ..., -16799.03420403\n",
      " -16797.7074754  -16797.7590455 ]\n",
      "[-181840.97818463 -181791.04501491 -181874.0968137  ..., -285583.56569684\n",
      " -285560.37890521 -285560.57897481]\n",
      "[18 18 18 ..., 17 17 17]\n",
      "[-10102.27656581 -10099.50250083 -10104.11648965 ..., -16799.03327628\n",
      " -16797.66934737 -16797.68111617]\n",
      "[-181844.81103639 -181799.81901186 -181879.38599737 ..., -285582.5461249\n",
      " -285560.25372472 -285559.8368423 ]\n",
      "[18 18 18 ..., 17 17 17]\n",
      "[-10102.48950202 -10099.9899451  -10104.41033319 ..., -16798.97330146\n",
      " -16797.66198381 -16797.63746131]\n",
      "[-181848.48434601 -181811.01740665 -181871.79678846 ..., -285583.90094555\n",
      " -285561.13453346 -285562.12934403]\n",
      "[18 18 18 ..., 17 17 17]\n",
      "[-10102.69357478 -10100.61207815 -10103.98871047 ..., -16799.0529968\n",
      " -16797.71379609 -16797.77231435]\n",
      "[-181846.02881529 -181798.48529744 -181879.52678965 ..., -285584.4394973\n",
      " -285561.97366182 -285562.06794318]\n",
      "[18 18 18 ..., 17 17 17]\n",
      "[-10102.5571564  -10099.91584986 -10104.41815498 ..., -16799.08467631\n",
      " -16797.76315658 -16797.76870254]\n",
      "[-181843.58122044 -181802.03045027 -181879.46976396 ..., -285584.23241567\n",
      " -285562.05083342 -285561.93088461]\n",
      "[18 18 18 ..., 17 17 17]\n",
      "[-10102.42117891 -10100.11280279 -10104.41498689 ..., -16799.07249504\n",
      " -16797.76769608 -16797.76064027]\n",
      "[-181847.13292244 -181800.03422292 -181878.87372647 ..., -285583.1636071\n",
      " -285560.94534892 -285561.3287075 ]\n",
      "[18 18 18 ..., 17 17 17]\n",
      "[-10102.61849569 -10100.00190127 -10104.38187369 ..., -16799.00962395\n",
      " -16797.70266758 -16797.72521809]\n"
     ]
    },
    {
     "data": {
      "text/html": [
       "<div>\n",
       "<style scoped>\n",
       "    .dataframe tbody tr th:only-of-type {\n",
       "        vertical-align: middle;\n",
       "    }\n",
       "\n",
       "    .dataframe tbody tr th {\n",
       "        vertical-align: top;\n",
       "    }\n",
       "\n",
       "    .dataframe thead th {\n",
       "        text-align: right;\n",
       "    }\n",
       "</style>\n",
       "<table border=\"1\" class=\"dataframe\">\n",
       "  <thead>\n",
       "    <tr style=\"text-align: right;\">\n",
       "      <th></th>\n",
       "      <th>E$_\\mathrm{MAE}$$\\mu$</th>\n",
       "      <th>E$_\\mathrm{RMS}$$\\mu$</th>\n",
       "    </tr>\n",
       "  </thead>\n",
       "  <tbody>\n",
       "    <tr>\n",
       "      <th>AL1</th>\n",
       "      <td>0.32</td>\n",
       "      <td>0.55</td>\n",
       "    </tr>\n",
       "    <tr>\n",
       "      <th>AL2</th>\n",
       "      <td>0.34</td>\n",
       "      <td>0.62</td>\n",
       "    </tr>\n",
       "    <tr>\n",
       "      <th>AL3</th>\n",
       "      <td>0.15</td>\n",
       "      <td>0.25</td>\n",
       "    </tr>\n",
       "    <tr>\n",
       "      <th>AL4</th>\n",
       "      <td>0.15</td>\n",
       "      <td>0.23</td>\n",
       "    </tr>\n",
       "    <tr>\n",
       "      <th>AL5</th>\n",
       "      <td>0.09</td>\n",
       "      <td>0.14</td>\n",
       "    </tr>\n",
       "    <tr>\n",
       "      <th>AL6</th>\n",
       "      <td>0.08</td>\n",
       "      <td>0.13</td>\n",
       "    </tr>\n",
       "    <tr>\n",
       "      <th>ANI-1</th>\n",
       "      <td>0.15</td>\n",
       "      <td>0.29</td>\n",
       "    </tr>\n",
       "  </tbody>\n",
       "</table>\n",
       "</div>"
      ],
      "text/plain": [
       "       E$_\\mathrm{MAE}$$\\mu$  E$_\\mathrm{RMS}$$\\mu$\n",
       "AL1                     0.32                   0.55\n",
       "AL2                     0.34                   0.62\n",
       "AL3                     0.15                   0.25\n",
       "AL4                     0.15                   0.23\n",
       "AL5                     0.09                   0.14\n",
       "AL6                     0.08                   0.13\n",
       "ANI-1                   0.15                   0.29"
      ]
     },
     "execution_count": 3,
     "metadata": {},
     "output_type": "execute_result"
    }
   ],
   "source": [
    "eed = aes.evaluate_ensemble_data(efiles)\n",
    "eed.get_totalerrorperatom_table()"
   ]
  },
  {
   "cell_type": "code",
   "execution_count": 4,
   "metadata": {
    "collapsed": false
   },
   "outputs": [
    {
     "name": "stdout",
     "output_type": "stream",
     "text": [
      "[-181845.07923834 -181801.77701013 -181879.13683328 ..., -285583.58146853\n",
      " -285561.02708175 -285561.90377342]\n",
      "[18 18 18 ..., 17 17 17]\n",
      "[-10102.50440213 -10100.09872279 -10104.39649074 ..., -16799.03420403\n",
      " -16797.7074754  -16797.7590455 ]\n",
      "[-181840.97818463 -181791.04501491 -181874.0968137  ..., -285583.56569684\n",
      " -285560.37890521 -285560.57897481]\n",
      "[18 18 18 ..., 17 17 17]\n",
      "[-10102.27656581 -10099.50250083 -10104.11648965 ..., -16799.03327628\n",
      " -16797.66934737 -16797.68111617]\n",
      "[-181844.81103639 -181799.81901186 -181879.38599737 ..., -285582.5461249\n",
      " -285560.25372472 -285559.8368423 ]\n",
      "[18 18 18 ..., 17 17 17]\n",
      "[-10102.48950202 -10099.9899451  -10104.41033319 ..., -16798.97330146\n",
      " -16797.66198381 -16797.63746131]\n",
      "[-181848.48434601 -181811.01740665 -181871.79678846 ..., -285583.90094555\n",
      " -285561.13453346 -285562.12934403]\n",
      "[18 18 18 ..., 17 17 17]\n",
      "[-10102.69357478 -10100.61207815 -10103.98871047 ..., -16799.0529968\n",
      " -16797.71379609 -16797.77231435]\n",
      "[-181846.02881529 -181798.48529744 -181879.52678965 ..., -285584.4394973\n",
      " -285561.97366182 -285562.06794318]\n",
      "[18 18 18 ..., 17 17 17]\n",
      "[-10102.5571564  -10099.91584986 -10104.41815498 ..., -16799.08467631\n",
      " -16797.76315658 -16797.76870254]\n",
      "[-181843.58122044 -181802.03045027 -181879.46976396 ..., -285584.23241567\n",
      " -285562.05083342 -285561.93088461]\n",
      "[18 18 18 ..., 17 17 17]\n",
      "[-10102.42117891 -10100.11280279 -10104.41498689 ..., -16799.07249504\n",
      " -16797.76769608 -16797.76064027]\n",
      "[-181847.13292244 -181800.03422292 -181878.87372647 ..., -285583.1636071\n",
      " -285560.94534892 -285561.3287075 ]\n",
      "[18 18 18 ..., 17 17 17]\n",
      "[-10102.61849569 -10100.00190127 -10104.38187369 ..., -16799.00962395\n",
      " -16797.70266758 -16797.72521809]\n"
     ]
    },
    {
     "data": {
      "text/html": [
       "<div>\n",
       "<style scoped>\n",
       "    .dataframe tbody tr th:only-of-type {\n",
       "        vertical-align: middle;\n",
       "    }\n",
       "\n",
       "    .dataframe tbody tr th {\n",
       "        vertical-align: top;\n",
       "    }\n",
       "\n",
       "    .dataframe thead th {\n",
       "        text-align: right;\n",
       "    }\n",
       "</style>\n",
       "<table border=\"1\" class=\"dataframe\">\n",
       "  <thead>\n",
       "    <tr style=\"text-align: right;\">\n",
       "      <th></th>\n",
       "      <th>E$_\\mathrm{MAE}$$\\mu$</th>\n",
       "      <th>E$_\\mathrm{RMS}$$\\mu$</th>\n",
       "    </tr>\n",
       "  </thead>\n",
       "  <tbody>\n",
       "    <tr>\n",
       "      <th>AL1</th>\n",
       "      <td>0.19</td>\n",
       "      <td>0.38</td>\n",
       "    </tr>\n",
       "    <tr>\n",
       "      <th>AL2</th>\n",
       "      <td>0.18</td>\n",
       "      <td>0.36</td>\n",
       "    </tr>\n",
       "    <tr>\n",
       "      <th>AL3</th>\n",
       "      <td>0.09</td>\n",
       "      <td>0.15</td>\n",
       "    </tr>\n",
       "    <tr>\n",
       "      <th>AL4</th>\n",
       "      <td>0.08</td>\n",
       "      <td>0.12</td>\n",
       "    </tr>\n",
       "    <tr>\n",
       "      <th>AL5</th>\n",
       "      <td>0.07</td>\n",
       "      <td>0.11</td>\n",
       "    </tr>\n",
       "    <tr>\n",
       "      <th>AL6</th>\n",
       "      <td>0.06</td>\n",
       "      <td>0.10</td>\n",
       "    </tr>\n",
       "    <tr>\n",
       "      <th>ANI-1</th>\n",
       "      <td>0.08</td>\n",
       "      <td>0.16</td>\n",
       "    </tr>\n",
       "  </tbody>\n",
       "</table>\n",
       "</div>"
      ],
      "text/plain": [
       "       E$_\\mathrm{MAE}$$\\mu$  E$_\\mathrm{RMS}$$\\mu$\n",
       "AL1                     0.19                   0.38\n",
       "AL2                     0.18                   0.36\n",
       "AL3                     0.09                   0.15\n",
       "AL4                     0.08                   0.12\n",
       "AL5                     0.07                   0.11\n",
       "AL6                     0.06                   0.10\n",
       "ANI-1                   0.08                   0.16"
      ]
     },
     "execution_count": 4,
     "metadata": {},
     "output_type": "execute_result"
    }
   ],
   "source": [
    "eed.get_totalerrorperatom_table(['GDB07to09'])"
   ]
  },
  {
   "cell_type": "code",
   "execution_count": null,
   "metadata": {
    "collapsed": false
   },
   "outputs": [],
   "source": [
    "eed.get_totalerror_table()"
   ]
  },
  {
   "cell_type": "code",
   "execution_count": null,
   "metadata": {
    "collapsed": false,
    "scrolled": false
   },
   "outputs": [],
   "source": [
    "# Create a Pandas Excel writer using XlsxWriter as the engine.\n",
    "writer = pd.ExcelWriter(xls_store, engine='xlsxwriter')\n",
    "\n",
    "# Build latex document\n",
    "header = r'\\documentclass{article}'+'\\n'+r'\\usepackage{booktabs}'+'\\n'+r'\\usepackage[margin=1.0in]{geometry}'+'\\n'+r'\\begin{document}'+'\\n'\n",
    "\n",
    "begtab = r'\\begin{table}'+'\\n'+r'\\centering'+'\\n'+r'\\tiny'+'\\n'\n",
    "endtab = r'\\end{table}'+'\\n'\n",
    "enddoc = r'\\end{document}'\n",
    "styles = []\n",
    "with open(tex_store, \"w\") as text_file:\n",
    "    text_file.write(header)\n",
    "    print('Stats for: Complete benchmark')\n",
    "    etab = eed.get_totalerror_table()\n",
    "    styles.append(etab.style)\n",
    "    text_file.write(begtab+r'\\caption{Data set: Complete benchmark}'+'\\n'+etab.to_latex(escape=False)+endtab)\n",
    "\n",
    "    # Convert the dataframe to an XlsxWriter Excel object.\n",
    "    etab.to_excel(writer, sheet_name=\"Complete Benchmark\")\n",
    "\n",
    "    for k in tsname:\n",
    "        print('Stats for:',k)\n",
    "        etab = eed.get_error_table(k)\n",
    "        etab.to_excel(writer, sheet_name=k)\n",
    "        styles.append(etab.style)\n",
    "        text_file.write(begtab+r'\\caption{Data set: '+k+r'}'+'\\n'+etab.to_latex(escape=False)+endtab)\n",
    "    text_file.write(enddoc)\n",
    "styles[0]\n",
    "\n",
    "# Close the Pandas Excel writer and output the Excel file.\n",
    "writer.save()"
   ]
  },
  {
   "cell_type": "code",
   "execution_count": null,
   "metadata": {
    "collapsed": false
   },
   "outputs": [],
   "source": [
    "#eed.determine_min_error_by_sigma('6.0.0',\n",
    "#                                 1.5, 98.0,\n",
    "#                                 labelx=r'$\\mathrm{\\rho}$ [$\\mathrm{kcal \\times mol^{-1} \\times (\\sqrt{N_a})^{-1}}}$]',\n",
    "#                                 labely=r'$\\mathrm{\\mathcal{E}}$ [$\\mathrm{kcal \\times mol^{-1} \\times (\\sqrt{N_a})^{-1}}$]',\n",
    "#                                 xymax=(6.0,20.0),\n",
    "#                                 figsize=(10.0, 8.0),\n",
    "#                                 storepath='/home/jujuman/Dropbox/ANAKIN-ME-RESEARCH/PUBLICATION-ActiveLearning/Figures/rho_selection_6.0.0.pdf',\n",
    "#                                 )"
   ]
  },
  {
   "cell_type": "code",
   "execution_count": null,
   "metadata": {
    "collapsed": false
   },
   "outputs": [],
   "source": [
    "print(eed.get_net_keys())\n",
    "#print(eed.get_size(\"9.0.5\",\"MDBenchmark\"))\n",
    "#print(eed.get_size(\"9.0.4\",\"Tripeptide\"))\n",
    "#print(eed.get_size(\"9.0.4\",\"GDB07to09\"))\n",
    "#print(eed.get_size(\"9.0.4\",\"GDB10to13\"))"
   ]
  },
  {
   "cell_type": "code",
   "execution_count": null,
   "metadata": {
    "collapsed": false,
    "scrolled": false
   },
   "outputs": [],
   "source": [
    "#eed.generate_correlation_plot('6.0.0','MDBenchmark','Fani','Fdft')\n",
    "#eed.generate_correlation_plot('9.0.5','MDBenchmark','Fani','Fdft')\n",
    "eed.generate_correlation_plot('ANI-1','DrugBank','Fani','Fdft')\n",
    "eed.generate_correlation_plot('AL6','DrugBank','Fani','Fdft')\n",
    "#eed.generate_correlation_plot('ARC1','MDBenchmark','Fani','Fdft')\n",
    "#eed.generate_correlation_plot('ARC8','MDBenchmark','Fani','Fdft')"
   ]
  },
  {
   "cell_type": "code",
   "execution_count": null,
   "metadata": {
    "collapsed": false,
    "scrolled": false
   },
   "outputs": [],
   "source": [
    "#eed.plot_bar_propsbynet([('Total Energy',r'RMSE ($kcal \\times mol^{-1}$)','Eani','Edft',[0.0,23.0]),\n",
    "#                         ('Relative Energy',r'RMSE ($kcal \\times mol^{-1}$)','dEani', 'dEdft',[0.0,12.0]),\n",
    "#                         ('Force',r'RMSE ($kcal \\times mol^{-1} \\times \\AA^{-1}$)','Fani', 'Fdft',[0.0,10.0])], \n",
    "#                         ['GDB07to09', 'GDB10to13', 'DrugBank', 'Tripeptide', 's66x8'],\n",
    "#                         ntwks=['6.0.0','7.0.4','8.0.6','8.3.6','9.0.4','ANI-1'],\n",
    "#                         fontsize=30, bbox_to_anchor=(0.3, 1.0), figsize=(40.0, 32.0), ncol=2, errortype='RMSE')"
   ]
  },
  {
   "cell_type": "code",
   "execution_count": null,
   "metadata": {
    "collapsed": false,
    "scrolled": false
   },
   "outputs": [],
   "source": [
    "eed.plot_error_by_net([(r'$E_T (kcal \\times mol^{-1})$',r'RMSE ($kcal \\times mol^{-1}$)','Eani','Edft'),\n",
    "                       (r'$\\Delta E (kcal \\times mol^{-1})$',r'RMSE ($kcal \\times mol^{-1}$)','dEani','dEdft'),\n",
    "                       (r'$F (kcal \\times mol^{-1}\\AA^{-1})$',r'RMSE ($kcal \\times mol^{-1}$)','Fani','Fdft'),], \n",
    "                         ['GDB07to09', 'GDB10to13', 'DrugBank', 'Tripeptide', 'MDBenchmark', 's66x8'],\n",
    "                         ntwks=['AL1', 'AL2', 'AL3', 'AL4', 'AL5', 'AL6', 'ANI-1'],\n",
    "                         fontsize=20, bbox_to_anchor=(1.0, 1.0), figsize=(30.0, 15.0), ncol=1, errortype='RMSE',\n",
    "                        storepath='/home/jujuman/Dropbox/ANAKIN-ME-RESEARCH/PUBLICATION-ActiveLearning/Figures/figure_TSALvsANI_RMSE.pdf')"
   ]
  },
  {
   "cell_type": "code",
   "execution_count": null,
   "metadata": {
    "collapsed": false
   },
   "outputs": [],
   "source": [
    "eed.plot_error_by_net([(r'$E_T (kcal \\times mol^{-1})$',r'RMSE ($kcal \\times mol^{-1}$)','Eani','Edft'),\n",
    "                       (r'$\\Delta E (kcal \\times mol^{-1})$',r'RMSE ($kcal \\times mol^{-1}$)','dEani','dEdft'),\n",
    "                       (r'$F (kcal \\times mol^{-1}\\AA^{-1})$',r'RMSE ($kcal \\times mol^{-1}$)','Fani','Fdft'),], \n",
    "                         ['GDB07to09', 'GDB10to13', 'DrugBank', 'Tripeptide', 'MDBenchmark', 's66x8'],\n",
    "                         ntwks=['AL1', 'AL2', 'AL3', 'AL4', 'AL5', 'AL6', 'ANI-1'],\n",
    "                         fontsize=20, bbox_to_anchor=(1.0, 1.0), figsize=(30.0, 15.0), ncol=1, errortype='MAE',\n",
    "                        storepath='/home/jujuman/Dropbox/ANAKIN-ME-RESEARCH/PUBLICATION-ActiveLearning/Figures/figure_TSALvsANI_MAE.pdf')\n",
    "#eed.generate_violin_distribution('GDB10to13')"
   ]
  },
  {
   "cell_type": "code",
   "execution_count": null,
   "metadata": {
    "collapsed": false
   },
   "outputs": [],
   "source": [
    "'''\n",
    "eed.plot_error_by_net([(r'$E_T (kcal \\times mol^{-1})$',r'RMSE ($kcal \\times mol^{-1}$)','Eani','Edft'),\n",
    "                       (r'$\\Delta E (kcal \\times mol^{-1})$',r'RMSE ($kcal \\times mol^{-1}$)','dEani','dEdft'),\n",
    "                       (r'$F (kcal \\times mol^{-1}\\AA^{-1})$',r'RMSE ($kcal \\times mol^{-1}$)','Fani','Fdft'),], \n",
    "                         ['GDB07to09', 'GDB10to13', 'DrugBank', 'Tripeptide', 'MDBenchmark', 's66x8'],\n",
    "                         ntwks=['ARC1','ARC2','ARC3','ARC4','ARC5','ARC6','ARC7','ARC8'],\n",
    "                        fontsize=20, bbox_to_anchor=(1.0, 1.0), figsize=(20.0, 30.0), ncol=1, errortype='RMSE',\n",
    "                        storepath='/home/jujuman/Research/DataReductionMethods/train_test/tables/figure_TSALvsANI_RMSE.pdf')\n",
    "'''"
   ]
  },
  {
   "cell_type": "code",
   "execution_count": null,
   "metadata": {
    "collapsed": true
   },
   "outputs": [],
   "source": []
  }
 ],
 "metadata": {
  "anaconda-cloud": {},
  "kernelspec": {
   "display_name": "Python 3",
   "language": "python",
   "name": "python3"
  },
  "language_info": {
   "codemirror_mode": {
    "name": "ipython",
    "version": 3
   },
   "file_extension": ".py",
   "mimetype": "text/x-python",
   "name": "python",
   "nbconvert_exporter": "python",
   "pygments_lexer": "ipython3",
   "version": "3.5.2"
  }
 },
 "nbformat": 4,
 "nbformat_minor": 1
}
