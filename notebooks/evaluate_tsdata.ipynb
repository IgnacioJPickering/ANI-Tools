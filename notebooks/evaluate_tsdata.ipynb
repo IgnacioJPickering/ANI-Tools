{
 "cells": [
  {
   "cell_type": "code",
   "execution_count": 1,
   "metadata": {},
   "outputs": [
    {
     "name": "stdout",
     "output_type": "stream",
     "text": [
      "van Der Waals correction will be unavailable. Please install ased3\n"
     ]
    },
    {
     "name": "stderr",
     "output_type": "stream",
     "text": [
      "/usr/local/anaconda3/lib/python3.6/site-packages/h5py/__init__.py:34: FutureWarning: Conversion of the second argument of issubdtype from `float` to `np.floating` is deprecated. In future, it will be treated as `np.float64 == np.dtype(float).type`.\n",
      "  from ._conv import register_converters as _register_converters\n"
     ]
    }
   ],
   "source": [
    "import aniensemblestats as aes\n",
    "import pandas as pd\n",
    "import os\n",
    "\n",
    "import matplotlib as mpl\n",
    "import matplotlib.pyplot as plt\n",
    "\n",
    "#import seaborn as sns\n",
    "pd.options.display.float_format = '{:.2f}'.format"
   ]
  },
  {
   "cell_type": "code",
   "execution_count": 2,
   "metadata": {},
   "outputs": [
    {
     "name": "stdout",
     "output_type": "stream",
     "text": [
      "/home/jsmith48/scratch/auto_dhl_al/test/tsdata_ANI-1x-DHL-0000.0000.h5\n",
      "/home/jsmith48/scratch/auto_dhl_al/test/tsdata_ANI-1x-DHL-0000.0009.h5\n",
      "/home/jsmith48/scratch/auto_dhl_al/test/tsdata_ANI-1x-DHL-0000.0004.h5\n",
      "/home/jsmith48/scratch/auto_dhl_al/test/tsdata_ANI-1x-DHL-0000.0010.h5\n",
      "/home/jsmith48/scratch/auto_dhl_al/test/tsdata_ANI-1x-DHL-0000.0006.h5\n",
      "/home/jsmith48/scratch/auto_dhl_al/test/tsdata_ANI-1x-DHL-0000.0007.h5\n",
      "/home/jsmith48/scratch/auto_dhl_al/test/tsdata_ANI-1x-DHL-0000.0011.h5\n",
      "/home/jsmith48/scratch/auto_dhl_al/test/tsdata_ANI-1x-DHL-0000.0001.h5\n",
      "/home/jsmith48/scratch/auto_dhl_al/test/tsdata_ANI-1x-DHL-0000.0008.h5\n",
      "/home/jsmith48/scratch/auto_dhl_al/test/tsdata_ANI-1x-DHL-0000.0005.h5\n",
      "/home/jsmith48/scratch/auto_dhl_al/test/tsdata_ANI-1x-DHL-0000.0002.h5\n",
      "/home/jsmith48/scratch/auto_dhl_al/test/tsdata_ANI-1x-DHL-0000.0003.h5\n"
     ]
    }
   ],
   "source": [
    "#errdir = '/home/jsmith48/scratch/transfer_learning/it1_models/stat_files/'\n",
    "errdir = '/home/jsmith48/scratch/auto_dhl_al/test/'\n",
    "#errdir = '/home/jujuman/Research/DataReductionMethods/train_test/error_compare/'\n",
    "tex_store = \"/home/jsmith48/scratch/auto_rxn_al/error_stats/AllTests_results_mean.tex\"\n",
    "xls_store = \"/home/jsmith48/scratch/auto_rxn_al/error_stats/AllTests_results_mean.xlsx\"\n",
    "tex_store = \"/home/jsmith48/scratch/auto_rxn_al/error_stats/AllTests_results.tex\"\n",
    "\n",
    "#errdir = '/home/jujuman/Research/DataReductionMethods/model6r/error_compare/emax_compare/'\n",
    "#tex_store = \"/home/jujuman/Dropbox/ANAKIN-ME-RESEARCH/PUBLICATION-ActiveLearning/tables/Emax_results_mean.tex\"\n",
    "#xls_store = \"/home/jujuman/Dropbox/ANAKIN-ME-RESEARCH/PUBLICATION-ActiveLearning/tables/Emax_results_mean.xlsx\"\n",
    "\n",
    "#errdir = '/home/jujuman/Research/DataReductionMethods/al_working_network/error_compare/'\n",
    "\n",
    "#errdir = '/home/jujuman/Research/DataReductionMethods/train_test/error_compare/'\n",
    "#tex_store = \"/home/jujuman/Research/DataReductionMethods/al_working_network/tables/AllTests_results_mean.tex\"\n",
    "#xls_store = \"/home/jujuman/Research/DataReductionMethods/al_working_network/tables/AllTests_results_mean.xlsx\"\n",
    "\n",
    "efiles = [errdir+f for f in os.listdir(errdir)]\n",
    "tsname = ['DHL_DAT.0001',\n",
    "          'DHL_DAT.0002',\n",
    "          'DHL_DAT.0003',\n",
    "          'DHL_DAT.0004',\n",
    "          'DHL_DAT.0005',\n",
    "          'DHL_DAT.0006',\n",
    "          'DHL_DAT.0007',\n",
    "          'DHL_DAT.0008',\n",
    "          #'r10_ccsd',\n",
    "          #'GDB-10to13',\n",
    "          #'DrugBank',\n",
    "          #'Tripeptide',\n",
    "          #'GDB07to09',\n",
    "          #'MDBenchmark',\n",
    "          #'GDB10to13',\n",
    "          #'s66x8',\n",
    "         ]\n",
    "\n",
    "'''\n",
    "efiles = [errdir+f for f in os.listdir(errdir)]\n",
    "tsname = ['DrugBk (SFCl)',\n",
    "          'DrugBk (CHNO)',\n",
    "          'GDB-07 (SFCl)',\n",
    "          'GDB-08 (SFCl)',\n",
    "          'GDB-09 (SFCl)',\n",
    "          'GDB-10 (SFCl)',\n",
    "          'GDB-11 (SFCl)',\n",
    "          'GDB-07 (CHNO)',\n",
    "          'GDB-08 (CHNO)',\n",
    "          'GDB-09 (CHNO)',\n",
    "          'GDB-10 (CHNO)',\n",
    "          'GDB-11 (CHNO)',\n",
    "         ]\n",
    "'''\n",
    "\n",
    "for i in efiles:\n",
    "    print(i)"
   ]
  },
  {
   "cell_type": "code",
   "execution_count": 3,
   "metadata": {
    "collapsed": true
   },
   "outputs": [],
   "source": [
    "eed = aes.evaluate_ensemble_data(efiles)"
   ]
  },
  {
   "cell_type": "code",
   "execution_count": 4,
   "metadata": {},
   "outputs": [
    {
     "data": {
      "text/html": [
       "<div>\n",
       "<style>\n",
       "    .dataframe thead tr:only-child th {\n",
       "        text-align: right;\n",
       "    }\n",
       "\n",
       "    .dataframe thead th {\n",
       "        text-align: left;\n",
       "    }\n",
       "\n",
       "    .dataframe tbody tr th {\n",
       "        vertical-align: top;\n",
       "    }\n",
       "</style>\n",
       "<table border=\"1\" class=\"dataframe\">\n",
       "  <thead>\n",
       "    <tr style=\"text-align: right;\">\n",
       "      <th></th>\n",
       "      <th>$\\Delta$E$_\\mathrm{MAE}$$\\mu$</th>\n",
       "      <th>$\\Delta$E$_\\mathrm{RMS}$$\\mu$</th>\n",
       "      <th>E$_\\mathrm{MAE}$$\\mu$</th>\n",
       "      <th>E$_\\mathrm{RMS}$$\\mu$</th>\n",
       "    </tr>\n",
       "  </thead>\n",
       "  <tbody>\n",
       "    <tr>\n",
       "      <th>ANI-1x-DHL-0000.0000</th>\n",
       "      <td>319.53</td>\n",
       "      <td>527.50</td>\n",
       "      <td>220.00</td>\n",
       "      <td>401.46</td>\n",
       "    </tr>\n",
       "    <tr>\n",
       "      <th>ANI-1x-DHL-0000.0001</th>\n",
       "      <td>148.78</td>\n",
       "      <td>269.68</td>\n",
       "      <td>113.90</td>\n",
       "      <td>205.61</td>\n",
       "    </tr>\n",
       "    <tr>\n",
       "      <th>ANI-1x-DHL-0000.0002</th>\n",
       "      <td>143.98</td>\n",
       "      <td>264.38</td>\n",
       "      <td>109.43</td>\n",
       "      <td>201.62</td>\n",
       "    </tr>\n",
       "    <tr>\n",
       "      <th>ANI-1x-DHL-0000.0003</th>\n",
       "      <td>143.03</td>\n",
       "      <td>264.96</td>\n",
       "      <td>114.37</td>\n",
       "      <td>204.59</td>\n",
       "    </tr>\n",
       "    <tr>\n",
       "      <th>ANI-1x-DHL-0000.0004</th>\n",
       "      <td>141.19</td>\n",
       "      <td>267.65</td>\n",
       "      <td>107.50</td>\n",
       "      <td>203.01</td>\n",
       "    </tr>\n",
       "    <tr>\n",
       "      <th>ANI-1x-DHL-0000.0005</th>\n",
       "      <td>138.86</td>\n",
       "      <td>262.19</td>\n",
       "      <td>108.48</td>\n",
       "      <td>201.37</td>\n",
       "    </tr>\n",
       "    <tr>\n",
       "      <th>ANI-1x-DHL-0000.0006</th>\n",
       "      <td>135.74</td>\n",
       "      <td>250.39</td>\n",
       "      <td>103.29</td>\n",
       "      <td>190.93</td>\n",
       "    </tr>\n",
       "    <tr>\n",
       "      <th>ANI-1x-DHL-0000.0007</th>\n",
       "      <td>137.63</td>\n",
       "      <td>260.65</td>\n",
       "      <td>106.71</td>\n",
       "      <td>199.90</td>\n",
       "    </tr>\n",
       "    <tr>\n",
       "      <th>ANI-1x-DHL-0000.0008</th>\n",
       "      <td>132.23</td>\n",
       "      <td>254.41</td>\n",
       "      <td>102.86</td>\n",
       "      <td>194.33</td>\n",
       "    </tr>\n",
       "    <tr>\n",
       "      <th>ANI-1x-DHL-0000.0009</th>\n",
       "      <td>130.62</td>\n",
       "      <td>258.29</td>\n",
       "      <td>99.49</td>\n",
       "      <td>195.90</td>\n",
       "    </tr>\n",
       "    <tr>\n",
       "      <th>ANI-1x-DHL-0000.0010</th>\n",
       "      <td>128.17</td>\n",
       "      <td>237.10</td>\n",
       "      <td>97.91</td>\n",
       "      <td>180.29</td>\n",
       "    </tr>\n",
       "    <tr>\n",
       "      <th>ANI-1x-DHL-0000.0011</th>\n",
       "      <td>124.78</td>\n",
       "      <td>250.08</td>\n",
       "      <td>94.66</td>\n",
       "      <td>189.54</td>\n",
       "    </tr>\n",
       "  </tbody>\n",
       "</table>\n",
       "</div>"
      ],
      "text/plain": [
       "                      $\\Delta$E$_\\mathrm{MAE}$$\\mu$  $\\Delta$E$_\\mathrm{RMS}$$\\mu$  E$_\\mathrm{MAE}$$\\mu$  E$_\\mathrm{RMS}$$\\mu$\n",
       "ANI-1x-DHL-0000.0000                         319.53                         527.50                 220.00                 401.46\n",
       "ANI-1x-DHL-0000.0001                         148.78                         269.68                 113.90                 205.61\n",
       "ANI-1x-DHL-0000.0002                         143.98                         264.38                 109.43                 201.62\n",
       "ANI-1x-DHL-0000.0003                         143.03                         264.96                 114.37                 204.59\n",
       "ANI-1x-DHL-0000.0004                         141.19                         267.65                 107.50                 203.01\n",
       "ANI-1x-DHL-0000.0005                         138.86                         262.19                 108.48                 201.37\n",
       "ANI-1x-DHL-0000.0006                         135.74                         250.39                 103.29                 190.93\n",
       "ANI-1x-DHL-0000.0007                         137.63                         260.65                 106.71                 199.90\n",
       "ANI-1x-DHL-0000.0008                         132.23                         254.41                 102.86                 194.33\n",
       "ANI-1x-DHL-0000.0009                         130.62                         258.29                  99.49                 195.90\n",
       "ANI-1x-DHL-0000.0010                         128.17                         237.10                  97.91                 180.29\n",
       "ANI-1x-DHL-0000.0011                         124.78                         250.08                  94.66                 189.54"
      ]
     },
     "execution_count": 4,
     "metadata": {},
     "output_type": "execute_result"
    }
   ],
   "source": [
    "eed.get_totalerrorperatom_table(['DHL_DAT.0008'])"
   ]
  },
  {
   "cell_type": "code",
   "execution_count": 5,
   "metadata": {},
   "outputs": [
    {
     "data": {
      "text/html": [
       "<div>\n",
       "<style>\n",
       "    .dataframe thead tr:only-child th {\n",
       "        text-align: right;\n",
       "    }\n",
       "\n",
       "    .dataframe thead th {\n",
       "        text-align: left;\n",
       "    }\n",
       "\n",
       "    .dataframe tbody tr th {\n",
       "        vertical-align: top;\n",
       "    }\n",
       "</style>\n",
       "<table border=\"1\" class=\"dataframe\">\n",
       "  <thead>\n",
       "    <tr style=\"text-align: right;\">\n",
       "      <th></th>\n",
       "      <th>$\\Delta$E$_\\mathrm{MAE}$$\\mu$</th>\n",
       "      <th>$\\Delta$E$_\\mathrm{MAE}$$\\sigma$</th>\n",
       "      <th>$\\Delta$E$_\\mathrm{RMS}$$\\mu$</th>\n",
       "      <th>$\\Delta$E$_\\mathrm{RMS}$$\\sigma$</th>\n",
       "      <th>E$_\\mathrm{MAE}$$\\mu$</th>\n",
       "      <th>E$_\\mathrm{MAE}$$\\sigma$</th>\n",
       "      <th>E$_\\mathrm{RMS}$$\\mu$</th>\n",
       "      <th>E$_\\mathrm{RMS}$$\\sigma$</th>\n",
       "      <th>F$_\\mathrm{MAE}$$\\mu$</th>\n",
       "      <th>F$_\\mathrm{MAE}$$\\sigma$</th>\n",
       "      <th>F$_\\mathrm{RMS}$$\\mu$</th>\n",
       "      <th>F$_\\mathrm{RMS}$$\\sigma$</th>\n",
       "    </tr>\n",
       "  </thead>\n",
       "  <tbody>\n",
       "    <tr>\n",
       "      <th>DHL_DAT.0008</th>\n",
       "      <td>5.29</td>\n",
       "      <td>0.50</td>\n",
       "      <td>8.78</td>\n",
       "      <td>0.76</td>\n",
       "      <td>3.63</td>\n",
       "      <td>0.44</td>\n",
       "      <td>6.67</td>\n",
       "      <td>0.78</td>\n",
       "      <td>8.48</td>\n",
       "      <td>0.45</td>\n",
       "      <td>24.84</td>\n",
       "      <td>1.76</td>\n",
       "    </tr>\n",
       "  </tbody>\n",
       "</table>\n",
       "</div>"
      ],
      "text/plain": [
       "              $\\Delta$E$_\\mathrm{MAE}$$\\mu$  $\\Delta$E$_\\mathrm{MAE}$$\\sigma$  $\\Delta$E$_\\mathrm{RMS}$$\\mu$  $\\Delta$E$_\\mathrm{RMS}$$\\sigma$  E$_\\mathrm{MAE}$$\\mu$  E$_\\mathrm{MAE}$$\\sigma$  E$_\\mathrm{RMS}$$\\mu$  E$_\\mathrm{RMS}$$\\sigma$  F$_\\mathrm{MAE}$$\\mu$  F$_\\mathrm{MAE}$$\\sigma$  F$_\\mathrm{RMS}$$\\mu$  F$_\\mathrm{RMS}$$\\sigma$\n",
       "DHL_DAT.0008                           5.29                              0.50                           8.78                              0.76                   3.63                      0.44                   6.67                      0.78                   8.48                      0.45                  24.84                      1.76"
      ]
     },
     "execution_count": 5,
     "metadata": {},
     "output_type": "execute_result"
    }
   ],
   "source": [
    "eed.get_ntwrk_error_table('ANI-1x-DHL-0000.0000')"
   ]
  },
  {
   "cell_type": "code",
   "execution_count": 6,
   "metadata": {},
   "outputs": [
    {
     "data": {
      "text/html": [
       "<div>\n",
       "<style>\n",
       "    .dataframe thead tr:only-child th {\n",
       "        text-align: right;\n",
       "    }\n",
       "\n",
       "    .dataframe thead th {\n",
       "        text-align: left;\n",
       "    }\n",
       "\n",
       "    .dataframe tbody tr th {\n",
       "        vertical-align: top;\n",
       "    }\n",
       "</style>\n",
       "<table border=\"1\" class=\"dataframe\">\n",
       "  <thead>\n",
       "    <tr style=\"text-align: right;\">\n",
       "      <th></th>\n",
       "      <th>$\\Delta$E$_\\mathrm{MAE}$$\\mu$</th>\n",
       "      <th>$\\Delta$E$_\\mathrm{MAE}$$\\sigma$</th>\n",
       "      <th>$\\Delta$E$_\\mathrm{RMS}$$\\mu$</th>\n",
       "      <th>$\\Delta$E$_\\mathrm{RMS}$$\\sigma$</th>\n",
       "      <th>E$_\\mathrm{MAE}$$\\mu$</th>\n",
       "      <th>E$_\\mathrm{MAE}$$\\sigma$</th>\n",
       "      <th>E$_\\mathrm{RMS}$$\\mu$</th>\n",
       "      <th>E$_\\mathrm{RMS}$$\\sigma$</th>\n",
       "      <th>F$_\\mathrm{MAE}$$\\mu$</th>\n",
       "      <th>F$_\\mathrm{MAE}$$\\sigma$</th>\n",
       "      <th>F$_\\mathrm{RMS}$$\\mu$</th>\n",
       "      <th>F$_\\mathrm{RMS}$$\\sigma$</th>\n",
       "    </tr>\n",
       "  </thead>\n",
       "  <tbody>\n",
       "    <tr>\n",
       "      <th>DHL_DAT.0008</th>\n",
       "      <td>2.38</td>\n",
       "      <td>0.05</td>\n",
       "      <td>4.56</td>\n",
       "      <td>0.17</td>\n",
       "      <td>1.79</td>\n",
       "      <td>0.04</td>\n",
       "      <td>3.46</td>\n",
       "      <td>0.13</td>\n",
       "      <td>4.19</td>\n",
       "      <td>0.14</td>\n",
       "      <td>6.88</td>\n",
       "      <td>0.23</td>\n",
       "    </tr>\n",
       "  </tbody>\n",
       "</table>\n",
       "</div>"
      ],
      "text/plain": [
       "              $\\Delta$E$_\\mathrm{MAE}$$\\mu$  $\\Delta$E$_\\mathrm{MAE}$$\\sigma$  $\\Delta$E$_\\mathrm{RMS}$$\\mu$  $\\Delta$E$_\\mathrm{RMS}$$\\sigma$  E$_\\mathrm{MAE}$$\\mu$  E$_\\mathrm{MAE}$$\\sigma$  E$_\\mathrm{RMS}$$\\mu$  E$_\\mathrm{RMS}$$\\sigma$  F$_\\mathrm{MAE}$$\\mu$  F$_\\mathrm{MAE}$$\\sigma$  F$_\\mathrm{RMS}$$\\mu$  F$_\\mathrm{RMS}$$\\sigma$\n",
       "DHL_DAT.0008                           2.38                              0.05                           4.56                              0.17                   1.79                      0.04                   3.46                      0.13                   4.19                      0.14                   6.88                      0.23"
      ]
     },
     "execution_count": 6,
     "metadata": {},
     "output_type": "execute_result"
    }
   ],
   "source": [
    "eed.get_ntwrk_error_table('ANI-1x-DHL-0000.0002')"
   ]
  },
  {
   "cell_type": "markdown",
   "metadata": {},
   "source": [
    "# ANI-1x trained to different datasets tested for extensibility"
   ]
  },
  {
   "cell_type": "code",
   "execution_count": 7,
   "metadata": {},
   "outputs": [
    {
     "data": {
      "text/html": [
       "<div>\n",
       "<style>\n",
       "    .dataframe thead tr:only-child th {\n",
       "        text-align: right;\n",
       "    }\n",
       "\n",
       "    .dataframe thead th {\n",
       "        text-align: left;\n",
       "    }\n",
       "\n",
       "    .dataframe tbody tr th {\n",
       "        vertical-align: top;\n",
       "    }\n",
       "</style>\n",
       "<table border=\"1\" class=\"dataframe\">\n",
       "  <thead>\n",
       "    <tr style=\"text-align: right;\">\n",
       "      <th></th>\n",
       "      <th>$\\Delta$E$_\\mathrm{MAE}$$\\mu$</th>\n",
       "      <th>$\\Delta$E$_\\mathrm{MAE}$$\\sigma$</th>\n",
       "      <th>$\\Delta$E$_\\mathrm{RMS}$$\\mu$</th>\n",
       "      <th>$\\Delta$E$_\\mathrm{RMS}$$\\sigma$</th>\n",
       "      <th>E$_\\mathrm{MAE}$$\\mu$</th>\n",
       "      <th>E$_\\mathrm{MAE}$$\\sigma$</th>\n",
       "      <th>E$_\\mathrm{RMS}$$\\mu$</th>\n",
       "      <th>E$_\\mathrm{RMS}$$\\sigma$</th>\n",
       "      <th>F$_\\mathrm{MAE}$$\\mu$</th>\n",
       "      <th>F$_\\mathrm{MAE}$$\\sigma$</th>\n",
       "      <th>F$_\\mathrm{RMS}$$\\mu$</th>\n",
       "      <th>F$_\\mathrm{RMS}$$\\sigma$</th>\n",
       "    </tr>\n",
       "  </thead>\n",
       "  <tbody>\n",
       "    <tr>\n",
       "      <th>ANI-1x-DHL-0000.0000</th>\n",
       "      <td>5.29</td>\n",
       "      <td>0.50</td>\n",
       "      <td>8.78</td>\n",
       "      <td>0.76</td>\n",
       "      <td>3.63</td>\n",
       "      <td>0.44</td>\n",
       "      <td>6.67</td>\n",
       "      <td>0.78</td>\n",
       "      <td>8.48</td>\n",
       "      <td>0.45</td>\n",
       "      <td>24.84</td>\n",
       "      <td>1.76</td>\n",
       "    </tr>\n",
       "    <tr>\n",
       "      <th>ANI-1x-DHL-0000.0001</th>\n",
       "      <td>2.46</td>\n",
       "      <td>0.10</td>\n",
       "      <td>4.67</td>\n",
       "      <td>0.11</td>\n",
       "      <td>1.87</td>\n",
       "      <td>0.11</td>\n",
       "      <td>3.54</td>\n",
       "      <td>0.11</td>\n",
       "      <td>4.38</td>\n",
       "      <td>0.20</td>\n",
       "      <td>7.37</td>\n",
       "      <td>0.51</td>\n",
       "    </tr>\n",
       "    <tr>\n",
       "      <th>ANI-1x-DHL-0000.0002</th>\n",
       "      <td>2.38</td>\n",
       "      <td>0.05</td>\n",
       "      <td>4.56</td>\n",
       "      <td>0.17</td>\n",
       "      <td>1.79</td>\n",
       "      <td>0.04</td>\n",
       "      <td>3.46</td>\n",
       "      <td>0.13</td>\n",
       "      <td>4.19</td>\n",
       "      <td>0.14</td>\n",
       "      <td>6.88</td>\n",
       "      <td>0.23</td>\n",
       "    </tr>\n",
       "    <tr>\n",
       "      <th>ANI-1x-DHL-0000.0003</th>\n",
       "      <td>2.37</td>\n",
       "      <td>0.07</td>\n",
       "      <td>4.60</td>\n",
       "      <td>0.21</td>\n",
       "      <td>1.88</td>\n",
       "      <td>0.08</td>\n",
       "      <td>3.53</td>\n",
       "      <td>0.14</td>\n",
       "      <td>4.05</td>\n",
       "      <td>0.16</td>\n",
       "      <td>6.54</td>\n",
       "      <td>0.34</td>\n",
       "    </tr>\n",
       "    <tr>\n",
       "      <th>ANI-1x-DHL-0000.0004</th>\n",
       "      <td>2.33</td>\n",
       "      <td>0.07</td>\n",
       "      <td>4.64</td>\n",
       "      <td>0.13</td>\n",
       "      <td>1.76</td>\n",
       "      <td>0.10</td>\n",
       "      <td>3.49</td>\n",
       "      <td>0.14</td>\n",
       "      <td>4.02</td>\n",
       "      <td>0.08</td>\n",
       "      <td>6.49</td>\n",
       "      <td>0.16</td>\n",
       "    </tr>\n",
       "    <tr>\n",
       "      <th>ANI-1x-DHL-0000.0005</th>\n",
       "      <td>2.29</td>\n",
       "      <td>0.07</td>\n",
       "      <td>4.54</td>\n",
       "      <td>0.22</td>\n",
       "      <td>1.77</td>\n",
       "      <td>0.05</td>\n",
       "      <td>3.46</td>\n",
       "      <td>0.14</td>\n",
       "      <td>3.97</td>\n",
       "      <td>0.11</td>\n",
       "      <td>6.34</td>\n",
       "      <td>0.28</td>\n",
       "    </tr>\n",
       "    <tr>\n",
       "      <th>ANI-1x-DHL-0000.0006</th>\n",
       "      <td>2.24</td>\n",
       "      <td>0.07</td>\n",
       "      <td>4.33</td>\n",
       "      <td>0.21</td>\n",
       "      <td>1.70</td>\n",
       "      <td>0.05</td>\n",
       "      <td>3.29</td>\n",
       "      <td>0.16</td>\n",
       "      <td>3.89</td>\n",
       "      <td>0.12</td>\n",
       "      <td>6.20</td>\n",
       "      <td>0.25</td>\n",
       "    </tr>\n",
       "    <tr>\n",
       "      <th>ANI-1x-DHL-0000.0007</th>\n",
       "      <td>2.28</td>\n",
       "      <td>0.09</td>\n",
       "      <td>4.53</td>\n",
       "      <td>0.21</td>\n",
       "      <td>1.75</td>\n",
       "      <td>0.09</td>\n",
       "      <td>3.45</td>\n",
       "      <td>0.18</td>\n",
       "      <td>3.96</td>\n",
       "      <td>0.13</td>\n",
       "      <td>6.38</td>\n",
       "      <td>0.20</td>\n",
       "    </tr>\n",
       "    <tr>\n",
       "      <th>ANI-1x-DHL-0000.0008</th>\n",
       "      <td>2.19</td>\n",
       "      <td>0.06</td>\n",
       "      <td>4.43</td>\n",
       "      <td>0.12</td>\n",
       "      <td>1.68</td>\n",
       "      <td>0.08</td>\n",
       "      <td>3.35</td>\n",
       "      <td>0.10</td>\n",
       "      <td>3.78</td>\n",
       "      <td>0.11</td>\n",
       "      <td>6.00</td>\n",
       "      <td>0.21</td>\n",
       "    </tr>\n",
       "    <tr>\n",
       "      <th>ANI-1x-DHL-0000.0009</th>\n",
       "      <td>2.17</td>\n",
       "      <td>0.05</td>\n",
       "      <td>4.52</td>\n",
       "      <td>0.13</td>\n",
       "      <td>1.64</td>\n",
       "      <td>0.07</td>\n",
       "      <td>3.41</td>\n",
       "      <td>0.12</td>\n",
       "      <td>3.73</td>\n",
       "      <td>0.13</td>\n",
       "      <td>5.81</td>\n",
       "      <td>0.24</td>\n",
       "    </tr>\n",
       "    <tr>\n",
       "      <th>ANI-1x-DHL-0000.0010</th>\n",
       "      <td>2.12</td>\n",
       "      <td>0.06</td>\n",
       "      <td>4.13</td>\n",
       "      <td>0.22</td>\n",
       "      <td>1.61</td>\n",
       "      <td>0.05</td>\n",
       "      <td>3.12</td>\n",
       "      <td>0.13</td>\n",
       "      <td>3.69</td>\n",
       "      <td>0.09</td>\n",
       "      <td>5.73</td>\n",
       "      <td>0.19</td>\n",
       "    </tr>\n",
       "    <tr>\n",
       "      <th>ANI-1x-DHL-0000.0011</th>\n",
       "      <td>2.07</td>\n",
       "      <td>0.03</td>\n",
       "      <td>4.39</td>\n",
       "      <td>0.15</td>\n",
       "      <td>1.56</td>\n",
       "      <td>0.04</td>\n",
       "      <td>3.31</td>\n",
       "      <td>0.10</td>\n",
       "      <td>3.61</td>\n",
       "      <td>0.12</td>\n",
       "      <td>5.64</td>\n",
       "      <td>0.21</td>\n",
       "    </tr>\n",
       "  </tbody>\n",
       "</table>\n",
       "</div>"
      ],
      "text/plain": [
       "                      $\\Delta$E$_\\mathrm{MAE}$$\\mu$  $\\Delta$E$_\\mathrm{MAE}$$\\sigma$  $\\Delta$E$_\\mathrm{RMS}$$\\mu$  $\\Delta$E$_\\mathrm{RMS}$$\\sigma$  E$_\\mathrm{MAE}$$\\mu$  E$_\\mathrm{MAE}$$\\sigma$  E$_\\mathrm{RMS}$$\\mu$  E$_\\mathrm{RMS}$$\\sigma$  F$_\\mathrm{MAE}$$\\mu$  F$_\\mathrm{MAE}$$\\sigma$  F$_\\mathrm{RMS}$$\\mu$  F$_\\mathrm{RMS}$$\\sigma$\n",
       "ANI-1x-DHL-0000.0000                           5.29                              0.50                           8.78                              0.76                   3.63                      0.44                   6.67                      0.78                   8.48                      0.45                  24.84                      1.76\n",
       "ANI-1x-DHL-0000.0001                           2.46                              0.10                           4.67                              0.11                   1.87                      0.11                   3.54                      0.11                   4.38                      0.20                   7.37                      0.51\n",
       "ANI-1x-DHL-0000.0002                           2.38                              0.05                           4.56                              0.17                   1.79                      0.04                   3.46                      0.13                   4.19                      0.14                   6.88                      0.23\n",
       "ANI-1x-DHL-0000.0003                           2.37                              0.07                           4.60                              0.21                   1.88                      0.08                   3.53                      0.14                   4.05                      0.16                   6.54                      0.34\n",
       "ANI-1x-DHL-0000.0004                           2.33                              0.07                           4.64                              0.13                   1.76                      0.10                   3.49                      0.14                   4.02                      0.08                   6.49                      0.16\n",
       "ANI-1x-DHL-0000.0005                           2.29                              0.07                           4.54                              0.22                   1.77                      0.05                   3.46                      0.14                   3.97                      0.11                   6.34                      0.28\n",
       "ANI-1x-DHL-0000.0006                           2.24                              0.07                           4.33                              0.21                   1.70                      0.05                   3.29                      0.16                   3.89                      0.12                   6.20                      0.25\n",
       "ANI-1x-DHL-0000.0007                           2.28                              0.09                           4.53                              0.21                   1.75                      0.09                   3.45                      0.18                   3.96                      0.13                   6.38                      0.20\n",
       "ANI-1x-DHL-0000.0008                           2.19                              0.06                           4.43                              0.12                   1.68                      0.08                   3.35                      0.10                   3.78                      0.11                   6.00                      0.21\n",
       "ANI-1x-DHL-0000.0009                           2.17                              0.05                           4.52                              0.13                   1.64                      0.07                   3.41                      0.12                   3.73                      0.13                   5.81                      0.24\n",
       "ANI-1x-DHL-0000.0010                           2.12                              0.06                           4.13                              0.22                   1.61                      0.05                   3.12                      0.13                   3.69                      0.09                   5.73                      0.19\n",
       "ANI-1x-DHL-0000.0011                           2.07                              0.03                           4.39                              0.15                   1.56                      0.04                   3.31                      0.10                   3.61                      0.12                   5.64                      0.21"
      ]
     },
     "execution_count": 7,
     "metadata": {},
     "output_type": "execute_result"
    }
   ],
   "source": [
    "eed.get_totalerror_table() # All errors combined"
   ]
  },
  {
   "cell_type": "code",
   "execution_count": 8,
   "metadata": {
    "scrolled": false
   },
   "outputs": [
    {
     "ename": "KeyError",
     "evalue": "'r10_ccsd'",
     "output_type": "error",
     "traceback": [
      "\u001b[0;31m---------------------------------------------------------------------------\u001b[0m",
      "\u001b[0;31mKeyError\u001b[0m                                  Traceback (most recent call last)",
      "\u001b[0;32m<ipython-input-8-bc1198e15a41>\u001b[0m in \u001b[0;36m<module>\u001b[0;34m()\u001b[0m\n\u001b[0;32m----> 1\u001b[0;31m \u001b[0meed\u001b[0m\u001b[0;34m.\u001b[0m\u001b[0mget_error_table\u001b[0m\u001b[0;34m(\u001b[0m\u001b[0mtskey\u001b[0m\u001b[0;34m=\u001b[0m\u001b[0;34m'r10_ccsd'\u001b[0m\u001b[0;34m)\u001b[0m\u001b[0;34m\u001b[0m\u001b[0m\n\u001b[0m",
      "\u001b[0;32m~/Gits/ANI-Tools/lib/aniensemblestats.py\u001b[0m in \u001b[0;36mget_error_table\u001b[0;34m(self, tskey)\u001b[0m\n\u001b[1;32m    531\u001b[0m         \u001b[0merrors\u001b[0m \u001b[0;34m=\u001b[0m \u001b[0mdict\u001b[0m\u001b[0;34m(\u001b[0m\u001b[0;34m)\u001b[0m\u001b[0;34m\u001b[0m\u001b[0m\n\u001b[1;32m    532\u001b[0m         \u001b[0;32mfor\u001b[0m \u001b[0mk\u001b[0m \u001b[0;32min\u001b[0m \u001b[0mself\u001b[0m\u001b[0;34m.\u001b[0m\u001b[0mfdata\u001b[0m\u001b[0;34m.\u001b[0m\u001b[0mkeys\u001b[0m\u001b[0;34m(\u001b[0m\u001b[0;34m)\u001b[0m\u001b[0;34m:\u001b[0m\u001b[0;34m\u001b[0m\u001b[0m\n\u001b[0;32m--> 533\u001b[0;31m             \u001b[0merrors\u001b[0m\u001b[0;34m[\u001b[0m\u001b[0mk\u001b[0m\u001b[0;34m]\u001b[0m \u001b[0;34m=\u001b[0m \u001b[0mpd\u001b[0m\u001b[0;34m.\u001b[0m\u001b[0mSeries\u001b[0m\u001b[0;34m(\u001b[0m\u001b[0mself\u001b[0m\u001b[0;34m.\u001b[0m\u001b[0mgenerate_total_errors\u001b[0m\u001b[0;34m(\u001b[0m\u001b[0mk\u001b[0m\u001b[0;34m,\u001b[0m\u001b[0mtskey\u001b[0m\u001b[0;34m)\u001b[0m\u001b[0;34m)\u001b[0m\u001b[0;34m\u001b[0m\u001b[0m\n\u001b[0m\u001b[1;32m    534\u001b[0m         \u001b[0mpd\u001b[0m\u001b[0;34m.\u001b[0m\u001b[0mset_option\u001b[0m\u001b[0;34m(\u001b[0m\u001b[0;34m'expand_frame_repr'\u001b[0m\u001b[0;34m,\u001b[0m \u001b[0;32mFalse\u001b[0m\u001b[0;34m)\u001b[0m\u001b[0;34m\u001b[0m\u001b[0m\n\u001b[1;32m    535\u001b[0m         \u001b[0medat\u001b[0m \u001b[0;34m=\u001b[0m \u001b[0mpd\u001b[0m\u001b[0;34m.\u001b[0m\u001b[0mDataFrame\u001b[0m\u001b[0;34m(\u001b[0m\u001b[0merrors\u001b[0m\u001b[0;34m)\u001b[0m\u001b[0;34m.\u001b[0m\u001b[0mtranspose\u001b[0m\u001b[0;34m(\u001b[0m\u001b[0;34m)\u001b[0m\u001b[0;34m\u001b[0m\u001b[0m\n",
      "\u001b[0;32m~/Gits/ANI-Tools/lib/aniensemblestats.py\u001b[0m in \u001b[0;36mgenerate_total_errors\u001b[0;34m(self, ntkey, tskey)\u001b[0m\n\u001b[1;32m    398\u001b[0m     \u001b[0;32mdef\u001b[0m \u001b[0mgenerate_total_errors\u001b[0m\u001b[0;34m(\u001b[0m\u001b[0mself\u001b[0m\u001b[0;34m,\u001b[0m \u001b[0mntkey\u001b[0m\u001b[0;34m,\u001b[0m \u001b[0mtskey\u001b[0m\u001b[0;34m)\u001b[0m\u001b[0;34m:\u001b[0m\u001b[0;34m\u001b[0m\u001b[0m\n\u001b[1;32m    399\u001b[0m         \u001b[0;31m#idx = np.nonzero(self.fdata[ntkey][tskey]['Erdft'])\u001b[0m\u001b[0;34m\u001b[0m\u001b[0;34m\u001b[0m\u001b[0m\n\u001b[0;32m--> 400\u001b[0;31m         \u001b[0mNn\u001b[0m \u001b[0;34m=\u001b[0m \u001b[0mself\u001b[0m\u001b[0;34m.\u001b[0m\u001b[0mfdata\u001b[0m\u001b[0;34m[\u001b[0m\u001b[0mntkey\u001b[0m\u001b[0;34m]\u001b[0m\u001b[0;34m[\u001b[0m\u001b[0mtskey\u001b[0m\u001b[0;34m]\u001b[0m\u001b[0;34m[\u001b[0m\u001b[0;34m'Eani'\u001b[0m\u001b[0;34m]\u001b[0m\u001b[0;34m.\u001b[0m\u001b[0mshape\u001b[0m\u001b[0;34m[\u001b[0m\u001b[0;36m0\u001b[0m\u001b[0;34m]\u001b[0m\u001b[0;34m-\u001b[0m\u001b[0;36m1\u001b[0m\u001b[0;34m\u001b[0m\u001b[0m\n\u001b[0m\u001b[1;32m    401\u001b[0m         return {names[0]: hdt.calculatemeanabserror(self.fdata[ntkey][tskey]['Eani'][Nn,:], self.fdata[ntkey][tskey]['Edft']),\n\u001b[1;32m    402\u001b[0m                 \u001b[0mnames\u001b[0m\u001b[0;34m[\u001b[0m\u001b[0;36m1\u001b[0m\u001b[0;34m]\u001b[0m\u001b[0;34m:\u001b[0m \u001b[0mnp\u001b[0m\u001b[0;34m.\u001b[0m\u001b[0mstd\u001b[0m\u001b[0;34m(\u001b[0m\u001b[0mhdt\u001b[0m\u001b[0;34m.\u001b[0m\u001b[0mcalculatemeanabserror\u001b[0m\u001b[0;34m(\u001b[0m\u001b[0mself\u001b[0m\u001b[0;34m.\u001b[0m\u001b[0mfdata\u001b[0m\u001b[0;34m[\u001b[0m\u001b[0mntkey\u001b[0m\u001b[0;34m]\u001b[0m\u001b[0;34m[\u001b[0m\u001b[0mtskey\u001b[0m\u001b[0;34m]\u001b[0m\u001b[0;34m[\u001b[0m\u001b[0;34m'Eani'\u001b[0m\u001b[0;34m]\u001b[0m\u001b[0;34m[\u001b[0m\u001b[0;36m0\u001b[0m\u001b[0;34m:\u001b[0m\u001b[0mNn\u001b[0m\u001b[0;34m,\u001b[0m\u001b[0;34m:\u001b[0m\u001b[0;34m]\u001b[0m\u001b[0;34m,\u001b[0m \u001b[0mself\u001b[0m\u001b[0;34m.\u001b[0m\u001b[0mfdata\u001b[0m\u001b[0;34m[\u001b[0m\u001b[0mntkey\u001b[0m\u001b[0;34m]\u001b[0m\u001b[0;34m[\u001b[0m\u001b[0mtskey\u001b[0m\u001b[0;34m]\u001b[0m\u001b[0;34m[\u001b[0m\u001b[0;34m'Edft'\u001b[0m\u001b[0;34m]\u001b[0m\u001b[0;34m,\u001b[0m \u001b[0maxis\u001b[0m\u001b[0;34m=\u001b[0m\u001b[0;36m1\u001b[0m\u001b[0;34m)\u001b[0m\u001b[0;34m)\u001b[0m\u001b[0;34m,\u001b[0m\u001b[0;34m\u001b[0m\u001b[0m\n",
      "\u001b[0;31mKeyError\u001b[0m: 'r10_ccsd'"
     ]
    }
   ],
   "source": [
    "eed.get_error_table(tskey='r10_ccsd')"
   ]
  },
  {
   "cell_type": "code",
   "execution_count": null,
   "metadata": {
    "collapsed": true
   },
   "outputs": [],
   "source": [
    "eed.get_error_table(tskey='GDB-10to13')"
   ]
  },
  {
   "cell_type": "code",
   "execution_count": null,
   "metadata": {
    "collapsed": true
   },
   "outputs": [],
   "source": [
    "eed.get_error_table(tskey='DHL_DAT.0001')"
   ]
  },
  {
   "cell_type": "code",
   "execution_count": null,
   "metadata": {
    "collapsed": true
   },
   "outputs": [],
   "source": [
    "eed.get_error_table(tskey='DHL_DAT.0002')"
   ]
  },
  {
   "cell_type": "code",
   "execution_count": null,
   "metadata": {
    "collapsed": true
   },
   "outputs": [],
   "source": [
    "eed.get_error_table(tskey='DHL_DAT.0007')"
   ]
  },
  {
   "cell_type": "code",
   "execution_count": null,
   "metadata": {
    "collapsed": true
   },
   "outputs": [],
   "source": [
    "eed.get_error_table(tskey='DHL_DAT.0008')"
   ]
  },
  {
   "cell_type": "code",
   "execution_count": null,
   "metadata": {
    "collapsed": true
   },
   "outputs": [],
   "source": [
    "#eed.get_error_table(tskey='s66x8')"
   ]
  },
  {
   "cell_type": "code",
   "execution_count": null,
   "metadata": {
    "collapsed": true,
    "scrolled": false
   },
   "outputs": [],
   "source": [
    "# Create a Pandas Excel writer using XlsxWriter as the engine.\n",
    "writer = pd.ExcelWriter(xls_store, engine='xlsxwriter')\n",
    "\n",
    "# Build latex document\n",
    "header = r'\\documentclass{article}'+'\\n'+r'\\usepackage{booktabs}'+'\\n'+r'\\usepackage[margin=1.0in]{geometry}'+'\\n'+r'\\begin{document}'+'\\n'\n",
    "\n",
    "begtab = r'\\begin{table}'+'\\n'+r'\\centering'+'\\n'+r'\\tiny'+'\\n'\n",
    "endtab = r'\\end{table}'+'\\n'\n",
    "enddoc = r'\\end{document}'\n",
    "styles = []\n",
    "with open(tex_store, \"w\") as text_file:\n",
    "    text_file.write(header)\n",
    "    print('Stats for: Complete benchmark')\n",
    "    etab = eed.get_totalerror_table()\n",
    "    styles.append(etab.style)\n",
    "    text_file.write(begtab+r'\\caption{Data set: Complete benchmark}'+'\\n'+etab.to_latex(escape=False)+endtab)\n",
    "\n",
    "    # Convert the dataframe to an XlsxWriter Excel object.\n",
    "    etab.to_excel(writer, sheet_name=\"Complete Benchmark\")\n",
    "\n",
    "    paetab = eed.get_totalerrorperatom_table()\n",
    "    text_file.write(begtab+r'\\caption{Data set: Complete benchmark per atom}'+'\\n'+paetab.to_latex(escape=False)+endtab)\n",
    "    paetab.to_excel(writer, sheet_name=\"Complete Benchmark per atom\")\n",
    "    \n",
    "    \n",
    "    for k in tsname:\n",
    "        print('Stats for:',k)\n",
    "        etab = eed.get_error_table(k)\n",
    "        etab.to_excel(writer, sheet_name=k)\n",
    "        styles.append(etab.style)\n",
    "        text_file.write(begtab+r'\\caption{Data set: '+k+r'}'+'\\n'+etab.to_latex(escape=False)+endtab)\n",
    "    text_file.write(enddoc)\n",
    "styles[0]\n",
    "\n",
    "# Close the Pandas Excel writer and output the Excel file.\n",
    "writer.save()"
   ]
  },
  {
   "cell_type": "code",
   "execution_count": null,
   "metadata": {
    "collapsed": true,
    "scrolled": false
   },
   "outputs": [],
   "source": [
    "cmap = mpl.cm.nipy_spectral\n",
    "for i in range(1,16):\n",
    "    print('Models:',str(i+1).zfill(2))\n",
    "    eed.determine_min_error_by_sigma('ANI-1xTL'+str(i+1).zfill(2),\n",
    "                                     0.5, 50.0,\n",
    "                                     labelx=r'$\\mathrm{\\rho}$ [$\\mathrm{kcal \\times mol^{-1} \\times (\\sqrt{N_a})^{-1}}}$]',\n",
    "                                     labely=r'$\\mathrm{\\mathcal{E}}$ [$\\mathrm{kcal \\times mol^{-1} \\times (\\sqrt{N_a})^{-1}}$]',\n",
    "                                     xyrange=(0.0,2.0,0.0,12.0),\n",
    "                                     figsize=(12.0, 9.0),\n",
    "                                     cmap=cmap,\n",
    "                                     tskeys=['GDB-10to13'],\n",
    "                                     #storepath='/home/jsmith48/scratch/error_stats/rho_selection_6.0.0.pdf',\n",
    "                                     )"
   ]
  },
  {
   "cell_type": "code",
   "execution_count": null,
   "metadata": {
    "collapsed": true
   },
   "outputs": [],
   "source": [
    "cmap = mpl.cm.nipy_spectral\n",
    "eed.determine_min_error_by_sigma('ANI-1xTL_lr-5',\n",
    "                                 0.5, 50.0,\n",
    "                                 labelx=r'$\\mathrm{\\rho}$ [$\\mathrm{kcal \\times mol^{-1} \\times (\\sqrt{N_a})^{-1}}}$]',\n",
    "                                 labely=r'$\\mathrm{\\mathcal{E}}$ [$\\mathrm{kcal \\times mol^{-1} \\times (\\sqrt{N_a})^{-1}}$]',\n",
    "                                 xyrange=(0.0,2.0,0.0,12.0),\n",
    "                                 figsize=(12.0, 9.0),\n",
    "                                 cmap=cmap,\n",
    "                                 tskeys=['GDB-10to13'],\n",
    "                                 #storepath='/home/jsmith48/scratch/error_stats/rho_selection_6.0.0.pdf',\n",
    "                                 )"
   ]
  },
  {
   "cell_type": "code",
   "execution_count": null,
   "metadata": {
    "collapsed": true
   },
   "outputs": [],
   "source": [
    "print(eed.get_net_keys())\n",
    "#print(eed.get_size(\"9.0.5\",\"MDBenchmark\"))\n",
    "#print(eed.get_size(\"9.0.4\",\"Tripeptide\"))\n",
    "#print(eed.get_size(\"9.0.4\",\"GDB07to09\"))\n",
    "#print(eed.get_size(\"9.0.4\",\"GDB10to13\"))"
   ]
  },
  {
   "cell_type": "code",
   "execution_count": null,
   "metadata": {
    "scrolled": false
   },
   "outputs": [],
   "source": [
    "# cmap = mpl.cm.nipy_spectral\n",
    "# Erms  = []\n",
    "# dErms = []\n",
    "# for i in range(1,17):\n",
    "#     print('Models:',str(i).zfill(2))\n",
    "#     Erms.append(eed.generate_rmserror('ANI-1xTL'+str(i).zfill(2),'GDB-10to13','Eani','Edft'))\n",
    "#     dErms.append(eed.generate_rmserror('ANI-1xTL'+str(i).zfill(2),'GDB-10to13','dEani','dEdft'))\n",
    "\n",
    "eed.generate_correlation_plot('ANI-1x-DHL-0000.0000','DHL_DAT.0008','dEani','dEdft')\n",
    "eed.generate_correlation_plot('ANI-1x-DHL-0000.0001','DHL_DAT.0008','dEani','dEdft')\n",
    "eed.generate_correlation_plot('ANI-1x-DHL-0000.0002','DHL_DAT.0008','dEani','dEdft')\n",
    "eed.generate_correlation_plot('ANI-1x-DHL-0000.0003','DHL_DAT.0008','dEani','dEdft')\n",
    "eed.generate_correlation_plot('ANI-1x-DHL-0000.0004','DHL_DAT.0008','dEani','dEdft')\n",
    "eed.generate_correlation_plot('ANI-1x-DHL-0000.0005','DHL_DAT.0008','dEani','dEdft')\n",
    "eed.generate_correlation_plot('ANI-1x-DHL-0000.0006','DHL_DAT.0008','dEani','dEdft')\n",
    "eed.generate_correlation_plot('ANI-1x-DHL-0000.0007','DHL_DAT.0008','dEani','dEdft')\n",
    "eed.generate_correlation_plot('ANI-1x-DHL-0000.0008','DHL_DAT.0008','dEani','dEdft')\n",
    "\n",
    "#eed.generate_correlation_plot('6.0.0','MDBenchmark','Fani','Fdft')\n",
    "#cmap = mpl.cm.nipy_spectral\n",
    "#eed.generate_correlation_plot('ANI-0707.0001.0410_bt5','GDB-11 (SFCl)','Fani','Fdft',cmap=cmap)\n",
    "#eed.generate_correlation_plot('0707.0001.0402','GDB-07 (SFCl)','dEani','dEdft')\n",
    "#eed.generate_correlation_plot('0707.0001.0402','GDB-08 (SFCl)','dEani','dEdft')\n",
    "#eed.generate_correlation_plot('0707.0001.0402','GDB-09 (SFCl)','dEani','dEdft')\n",
    "#eed.generate_correlation_plot('0707.0001.0402','GDB-10 (SFCl)','dEani','dEdft')\n",
    "#eed.generate_correlation_plot('0707.0001.0402','GDB-11 (SFCl)','dEani','dEdft')\n",
    "#eed.generate_correlation_plot('AL6','DrugBank','Fani','Fdft')\n",
    "#eed.generate_correlation_plot('ARC1','MDBenchmark','Fani','Fdft')\n",
    "#eed.generate_correlation_plot('ARC8','MDBenchmark','Fani','Fdft')"
   ]
  },
  {
   "cell_type": "code",
   "execution_count": null,
   "metadata": {
    "collapsed": true
   },
   "outputs": [],
   "source": [
    "import numpy as np\n",
    "from matplotlib import gridspec \n",
    "\n",
    "fig = plt.subplots(figsize=[15,6])\n",
    "gs  = gridspec.GridSpec(1, 2, width_ratios=[0.5, 0.5])\n",
    "\n",
    "ax1 = plt.subplot(gs[0])\n",
    "ax2 = plt.subplot(gs[1])\n",
    "\n",
    "ax1.plot(np.arange(1,17),Erms,marker='o')\n",
    "ax1.set_title(r'E improvment with ensemble size')\n",
    "ax1.set_xlabel('Number of members')\n",
    "ax1.set_ylabel('RMSE error (kcal/mol)')\n",
    "\n",
    "ax2.plot(np.arange(1,17),dErms,marker='o')\n",
    "ax2.set_title(r'$\\Delta$E improvment with ensemble size')\n",
    "ax2.set_xlabel('Number of members')\n",
    "ax2.set_ylabel('RMSE error (kcal/mol)')\n",
    "\n",
    "plt.show()"
   ]
  },
  {
   "cell_type": "code",
   "execution_count": null,
   "metadata": {
    "collapsed": true,
    "scrolled": false
   },
   "outputs": [],
   "source": [
    "#eed.plot_bar_propsbynet([('Total Energy',r'RMSE ($kcal \\times mol^{-1}$)','Eani','Edft',[0.0,23.0]),\n",
    "#                         ('Relative Energy',r'RMSE ($kcal \\times mol^{-1}$)','dEani', 'dEdft',[0.0,12.0]),\n",
    "#                         ('Force',r'RMSE ($kcal \\times mol^{-1} \\times \\AA^{-1}$)','Fani', 'Fdft',[0.0,10.0])], \n",
    "#                         ['GDB07to09', 'GDB10to13', 'DrugBank', 'Tripeptide', 's66x8'],\n",
    "#                         ntwks=['6.0.0','7.0.4','8.0.6','8.3.6','9.0.4','ANI-1'],\n",
    "#                         fontsize=30, bbox_to_anchor=(0.3, 1.0), figsize=(40.0, 32.0), ncol=2, errortype='RMSE')"
   ]
  },
  {
   "cell_type": "code",
   "execution_count": null,
   "metadata": {
    "collapsed": true
   },
   "outputs": [],
   "source": [
    "eed.plot_error_by_net([(r'$E (kcal \\times mol^{-1})$',r'RMSE ($kcal \\times mol^{-1}$)','Eani','Edft'),\n",
    "                       (r'$\\Delta E (kcal \\times mol^{-1})$',r'RMSE ($kcal \\times mol^{-1}$)','dEani','dEdft'),\n",
    "                       (r'$F (kcal \\times mol^{-1}\\AA^{-1})$',r'RMSE ($kcal \\times mol^{-1}$)','Fani','Fdft'),], \n",
    "                         ['DHL_DAT.0001', 'DHL_DAT.0002','DHL_DAT.0003',],\n",
    "                         ntwks=['ANI-1x-DHL-0000.0000','ANI-1x-DHL-0000.0001','ANI-1x-DHL-0000.0002'],\n",
    "                         fontsize=20, bbox_to_anchor=(1.0, 1.0), figsize=(30.0, 15.0), ncol=1, errortype='RMSE',\n",
    "                        #storepath='/home/jujuman/Dropbox/ANAKIN-ME-RESEARCH/PUBLICATION-ActiveLearning/Figures/figure_TSALvsANI_RMSE.pdf',\n",
    "                      )"
   ]
  },
  {
   "cell_type": "code",
   "execution_count": null,
   "metadata": {
    "collapsed": true,
    "scrolled": false
   },
   "outputs": [],
   "source": [
    "eed.plot_error_by_net([(r'$E (kcal \\times mol^{-1})$',r'RMSE ($kcal \\times mol^{-1}$)','Eani','Edft'),\n",
    "                       (r'$\\Delta E (kcal \\times mol^{-1})$',r'RMSE ($kcal \\times mol^{-1}$)','dEani','dEdft'),\n",
    "                       (r'$F (kcal \\times mol^{-1}\\AA^{-1})$',r'RMSE ($kcal \\times mol^{-1}$)','Fani','Fdft'),], \n",
    "                         ['GDB07to09', 'GDB10to13', 'DrugBank', 'Tripeptide', 'MDBenchmark', 's66x8'],\n",
    "                         ntwks=['AL1', 'AL2', 'AL3', 'AL4', 'AL5', 'AL6', 'ANI-1'],\n",
    "                         fontsize=20, bbox_to_anchor=(1.0, 1.0), figsize=(30.0, 15.0), ncol=1, errortype='RMSE',\n",
    "                        #storepath='/home/jujuman/Dropbox/ANAKIN-ME-RESEARCH/PUBLICATION-ActiveLearning/Figures/figure_TSALvsANI_RMSE.pdf')"
   ]
  },
  {
   "cell_type": "code",
   "execution_count": null,
   "metadata": {
    "collapsed": true
   },
   "outputs": [],
   "source": [
    "eed.plot_error_by_net([(r'$E (kcal \\times mol^{-1})$',r'RMSE ($kcal \\times mol^{-1}$)','Eani','Edft'),\n",
    "                       (r'$\\Delta E (kcal \\times mol^{-1})$',r'RMSE ($kcal \\times mol^{-1}$)','dEani','dEdft'),\n",
    "                       (r'$F (kcal \\times mol^{-1}\\AA^{-1})$',r'RMSE ($kcal \\times mol^{-1}$)','Fani','Fdft'),], \n",
    "                         ['GDB07to09', 'GDB10to13', 'DrugBank', 'Tripeptide', 'MDBenchmark', 's66x8'],\n",
    "                         ntwks=['AL1', 'AL2', 'AL3', 'AL4', 'AL5', 'AL6', 'ANI-1'],\n",
    "                         fontsize=20, bbox_to_anchor=(1.0, 1.0), figsize=(30.0, 15.0), ncol=1, errortype='MAE',\n",
    "                        #storepath='/home/jujuman/Dropbox/ANAKIN-ME-RESEARCH/PUBLICATION-ActiveLearning/Figures/figure_TSALvsANI_MAE.pdf')\n",
    "#eed.generate_violin_distribution('GDB10to13')"
   ]
  },
  {
   "cell_type": "code",
   "execution_count": null,
   "metadata": {
    "collapsed": true
   },
   "outputs": [],
   "source": [
    "'''\n",
    "eed.plot_error_by_net([(r'$E_T (kcal \\times mol^{-1})$',r'RMSE ($kcal \\times mol^{-1}$)','Eani','Edft'),\n",
    "                       (r'$\\Delta E (kcal \\times mol^{-1})$',r'RMSE ($kcal \\times mol^{-1}$)','dEani','dEdft'),\n",
    "                       (r'$F (kcal \\times mol^{-1}\\AA^{-1})$',r'RMSE ($kcal \\times mol^{-1}$)','Fani','Fdft'),], \n",
    "                         ['GDB07to09', 'GDB10to13', 'DrugBank', 'Tripeptide', 'MDBenchmark', 's66x8'],\n",
    "                         ntwks=['ARC1','ARC2','ARC3','ARC4','ARC5','ARC6','ARC7','ARC8'],\n",
    "                        fontsize=20, bbox_to_anchor=(1.0, 1.0), figsize=(20.0, 30.0), ncol=1, errortype='RMSE',\n",
    "                        storepath='/home/jujuman/Research/DataReductionMethods/train_test/tables/figure_TSALvsANI_RMSE.pdf')\n",
    "'''"
   ]
  },
  {
   "cell_type": "code",
   "execution_count": null,
   "metadata": {
    "collapsed": true
   },
   "outputs": [],
   "source": [
    "Edft1 = eed.get_range_stats(tslist=['DHL_DAT.0002'],dkey='Fdft')\n",
    "plt.hist(Edft1,bins=20, log=True, edgecolor='black')\n",
    "plt.show()"
   ]
  },
  {
   "cell_type": "code",
   "execution_count": null,
   "metadata": {
    "collapsed": true
   },
   "outputs": [],
   "source": [
    "Edft1 = eed.get_range_stats(tslist=['GDB-10to13'],dkey='Na')\n",
    "plt.hist(Edft1,bins=18, log=True, edgecolor='black')\n",
    "plt.show()"
   ]
  },
  {
   "cell_type": "code",
   "execution_count": null,
   "metadata": {
    "collapsed": true
   },
   "outputs": [],
   "source": [
    "Edft2 = eed.get_range_stats(tslist=['r10_ccsd'],dkey='Edft')\n",
    "plt.hist(Edft2,bins=16,color='r', log=True, edgecolor='black')\n",
    "plt.show()"
   ]
  },
  {
   "cell_type": "code",
   "execution_count": null,
   "metadata": {
    "collapsed": true
   },
   "outputs": [],
   "source": [
    "Edft2 = eed.get_range_stats(tslist=['r10_ccsd'],dkey='Na')\n",
    "plt.hist(Edft2,bins=16, log=True,color='r', edgecolor='black')\n",
    "plt.show()"
   ]
  },
  {
   "cell_type": "code",
   "execution_count": null,
   "metadata": {
    "collapsed": true
   },
   "outputs": [],
   "source": []
  },
  {
   "cell_type": "code",
   "execution_count": null,
   "metadata": {
    "collapsed": true
   },
   "outputs": [],
   "source": []
  }
 ],
 "metadata": {
  "anaconda-cloud": {},
  "kernelspec": {
   "display_name": "Python 3",
   "language": "python",
   "name": "python3"
  },
  "language_info": {
   "codemirror_mode": {
    "name": "ipython",
    "version": 3
   },
   "file_extension": ".py",
   "mimetype": "text/x-python",
   "name": "python",
   "nbconvert_exporter": "python",
   "pygments_lexer": "ipython3",
   "version": "3.6.3"
  }
 },
 "nbformat": 4,
 "nbformat_minor": 1
}
