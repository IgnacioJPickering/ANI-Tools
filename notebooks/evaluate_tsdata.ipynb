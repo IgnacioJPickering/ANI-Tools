{
 "cells": [
  {
   "cell_type": "code",
   "execution_count": 1,
   "metadata": {
    "collapsed": false
   },
   "outputs": [],
   "source": [
    "import aniensemblestats as aes\n",
    "import pandas as pd\n",
    "import os\n",
    "\n",
    "import matplotlib as mpl\n",
    "import matplotlib.pyplot as plt\n",
    "\n",
    "#import seaborn as sns\n",
    "pd.options.display.float_format = '{:.2f}'.format"
   ]
  },
  {
   "cell_type": "code",
   "execution_count": 2,
   "metadata": {
    "collapsed": false
   },
   "outputs": [
    {
     "name": "stdout",
     "output_type": "stream",
     "text": [
      "/home/jujuman/Research/DataReductionMethods/model6r/error_compare/for_al_pub/tsdata_AL6.h5\n",
      "/home/jujuman/Research/DataReductionMethods/model6r/error_compare/for_al_pub/tsdata_AL3.h5\n",
      "/home/jujuman/Research/DataReductionMethods/model6r/error_compare/for_al_pub/tsdata_AL5.h5\n",
      "/home/jujuman/Research/DataReductionMethods/model6r/error_compare/for_al_pub/tsdata_AL1.h5\n",
      "/home/jujuman/Research/DataReductionMethods/model6r/error_compare/for_al_pub/tsdata_AL2.h5\n",
      "/home/jujuman/Research/DataReductionMethods/model6r/error_compare/for_al_pub/tsdata_AL4.h5\n",
      "/home/jujuman/Research/DataReductionMethods/model6r/error_compare/for_al_pub/tsdata_ANI-1.h5\n"
     ]
    }
   ],
   "source": [
    "errdir = '/home/jujuman/Research/DataReductionMethods/model6r/error_compare/for_al_pub/'\n",
    "#errdir = '/home/jujuman/Research/DataReductionMethods/train_test/error_compare/'\n",
    "tex_store = \"/home/jujuman/Dropbox/ANAKIN-ME-RESEARCH/PUBLICATION-ActiveLearning/tables/AllTests_results_mean.tex\"\n",
    "xls_store = \"/home/jujuman/Dropbox/ANAKIN-ME-RESEARCH/PUBLICATION-ActiveLearning/tables/AllTests_results_mean.xlsx\"\n",
    "tex_store = \"/home/jujuman/Research/DataReductionMethods/train_test/tables/AllTests_results.tex\"\n",
    "\n",
    "#errdir = '/home/jujuman/Research/DataReductionMethods/model6r/error_compare/emax_compare/'\n",
    "#tex_store = \"/home/jujuman/Dropbox/ANAKIN-ME-RESEARCH/PUBLICATION-ActiveLearning/tables/Emax_results_mean.tex\"\n",
    "#xls_store = \"/home/jujuman/Dropbox/ANAKIN-ME-RESEARCH/PUBLICATION-ActiveLearning/tables/Emax_results_mean.xlsx\"\n",
    "\n",
    "#errdir = '/home/jujuman/Research/DataReductionMethods/al_working_network/error_compare/'\n",
    "\n",
    "#errdir = '/home/jujuman/Research/DataReductionMethods/train_test/error_compare/'\n",
    "#tex_store = \"/home/jujuman/Research/DataReductionMethods/al_working_network/tables/AllTests_results_mean.tex\"\n",
    "#xls_store = \"/home/jujuman/Research/DataReductionMethods/al_working_network/tables/AllTests_results_mean.xlsx\"\n",
    "\n",
    "efiles = [errdir+f for f in os.listdir(errdir)]\n",
    "tsname = ['DrugBank',\n",
    "          'Tripeptide',\n",
    "          'GDB07to09',\n",
    "          'MDBenchmark',\n",
    "          'GDB10to13',\n",
    "          's66x8',\n",
    "         ]\n",
    "\n",
    "'''\n",
    "efiles = [errdir+f for f in os.listdir(errdir)]\n",
    "tsname = ['GDB-07 (SFCl)',\n",
    "          'GDB-08 (SFCl)',\n",
    "          'GDB-09 (SFCl)',\n",
    "          'GDB-10 (SFCl)',\n",
    "          'GDB-11 (SFCl)',\n",
    "          'GDB-07 (CHNO)',\n",
    "          'GDB-08 (CHNO)',\n",
    "          'GDB-09 (CHNO)',\n",
    "          'GDB-10 (CHNO)',\n",
    "          'GDB-11 (CHNO)',\n",
    "         ]\n",
    "'''\n",
    "\n",
    "for i in efiles:\n",
    "    print(i)"
   ]
  },
  {
   "cell_type": "code",
   "execution_count": 3,
   "metadata": {
    "collapsed": false
   },
   "outputs": [
    {
     "data": {
      "text/html": [
       "<div>\n",
       "<style scoped>\n",
       "    .dataframe tbody tr th:only-of-type {\n",
       "        vertical-align: middle;\n",
       "    }\n",
       "\n",
       "    .dataframe tbody tr th {\n",
       "        vertical-align: top;\n",
       "    }\n",
       "\n",
       "    .dataframe thead th {\n",
       "        text-align: right;\n",
       "    }\n",
       "</style>\n",
       "<table border=\"1\" class=\"dataframe\">\n",
       "  <thead>\n",
       "    <tr style=\"text-align: right;\">\n",
       "      <th></th>\n",
       "      <th>$\\Delta$E$_\\mathrm{MAE}$$\\mu$</th>\n",
       "      <th>$\\Delta$E$_\\mathrm{RMS}$$\\mu$</th>\n",
       "      <th>E$_\\mathrm{MAE}$$\\mu$</th>\n",
       "      <th>E$_\\mathrm{RMS}$$\\mu$</th>\n",
       "    </tr>\n",
       "  </thead>\n",
       "  <tbody>\n",
       "    <tr>\n",
       "      <th>AL1</th>\n",
       "      <td>116.64</td>\n",
       "      <td>172.40</td>\n",
       "      <td>693.18</td>\n",
       "      <td>962.16</td>\n",
       "    </tr>\n",
       "    <tr>\n",
       "      <th>AL2</th>\n",
       "      <td>120.38</td>\n",
       "      <td>176.21</td>\n",
       "      <td>724.16</td>\n",
       "      <td>1015.04</td>\n",
       "    </tr>\n",
       "    <tr>\n",
       "      <th>AL3</th>\n",
       "      <td>85.19</td>\n",
       "      <td>121.36</td>\n",
       "      <td>309.92</td>\n",
       "      <td>438.42</td>\n",
       "    </tr>\n",
       "    <tr>\n",
       "      <th>AL4</th>\n",
       "      <td>84.46</td>\n",
       "      <td>116.30</td>\n",
       "      <td>325.59</td>\n",
       "      <td>414.10</td>\n",
       "    </tr>\n",
       "    <tr>\n",
       "      <th>AL5</th>\n",
       "      <td>53.35</td>\n",
       "      <td>76.68</td>\n",
       "      <td>68.78</td>\n",
       "      <td>169.16</td>\n",
       "    </tr>\n",
       "    <tr>\n",
       "      <th>AL6</th>\n",
       "      <td>52.05</td>\n",
       "      <td>88.18</td>\n",
       "      <td>65.47</td>\n",
       "      <td>186.11</td>\n",
       "    </tr>\n",
       "    <tr>\n",
       "      <th>ANI-1</th>\n",
       "      <td>86.40</td>\n",
       "      <td>133.49</td>\n",
       "      <td>329.85</td>\n",
       "      <td>537.10</td>\n",
       "    </tr>\n",
       "  </tbody>\n",
       "</table>\n",
       "</div>"
      ],
      "text/plain": [
       "       $\\Delta$E$_\\mathrm{MAE}$$\\mu$  $\\Delta$E$_\\mathrm{RMS}$$\\mu$  E$_\\mathrm{MAE}$$\\mu$  E$_\\mathrm{RMS}$$\\mu$\n",
       "AL1                           116.64                         172.40                 693.18                 962.16\n",
       "AL2                           120.38                         176.21                 724.16                1015.04\n",
       "AL3                            85.19                         121.36                 309.92                 438.42\n",
       "AL4                            84.46                         116.30                 325.59                 414.10\n",
       "AL5                            53.35                          76.68                  68.78                 169.16\n",
       "AL6                            52.05                          88.18                  65.47                 186.11\n",
       "ANI-1                          86.40                         133.49                 329.85                 537.10"
      ]
     },
     "execution_count": 3,
     "metadata": {},
     "output_type": "execute_result"
    }
   ],
   "source": [
    "eed = aes.evaluate_ensemble_data(efiles)\n",
    "eed.get_totalerrorperatom_table(['DrugBank'])"
   ]
  },
  {
   "cell_type": "code",
   "execution_count": 4,
   "metadata": {
    "collapsed": false
   },
   "outputs": [],
   "source": [
    "#eed.get_ntwrk_error_table('0707.0001.0400')"
   ]
  },
  {
   "cell_type": "code",
   "execution_count": null,
   "metadata": {
    "collapsed": false
   },
   "outputs": [],
   "source": [
    "#eed.get_ntwrk_error_table('0707.0001.0402')"
   ]
  },
  {
   "cell_type": "code",
   "execution_count": null,
   "metadata": {
    "collapsed": false
   },
   "outputs": [],
   "source": [
    "#eed.get_ntwrk_error_table('0707.0001.0408')"
   ]
  },
  {
   "cell_type": "code",
   "execution_count": null,
   "metadata": {
    "collapsed": false
   },
   "outputs": [],
   "source": [
    "eed.get_totalerror_table()"
   ]
  },
  {
   "cell_type": "code",
   "execution_count": null,
   "metadata": {
    "collapsed": false,
    "scrolled": true
   },
   "outputs": [],
   "source": [
    "eed.get_error_table(tskey='Tripeptide')"
   ]
  },
  {
   "cell_type": "code",
   "execution_count": null,
   "metadata": {
    "collapsed": false,
    "scrolled": false
   },
   "outputs": [],
   "source": [
    "# Create a Pandas Excel writer using XlsxWriter as the engine.\n",
    "writer = pd.ExcelWriter(xls_store, engine='xlsxwriter')\n",
    "\n",
    "# Build latex document\n",
    "header = r'\\documentclass{article}'+'\\n'+r'\\usepackage{booktabs}'+'\\n'+r'\\usepackage[margin=1.0in]{geometry}'+'\\n'+r'\\begin{document}'+'\\n'\n",
    "\n",
    "begtab = r'\\begin{table}'+'\\n'+r'\\centering'+'\\n'+r'\\tiny'+'\\n'\n",
    "endtab = r'\\end{table}'+'\\n'\n",
    "enddoc = r'\\end{document}'\n",
    "styles = []\n",
    "with open(tex_store, \"w\") as text_file:\n",
    "    text_file.write(header)\n",
    "    print('Stats for: Complete benchmark')\n",
    "    etab = eed.get_totalerror_table()\n",
    "    styles.append(etab.style)\n",
    "    text_file.write(begtab+r'\\caption{Data set: Complete benchmark}'+'\\n'+etab.to_latex(escape=False)+endtab)\n",
    "\n",
    "    # Convert the dataframe to an XlsxWriter Excel object.\n",
    "    etab.to_excel(writer, sheet_name=\"Complete Benchmark\")\n",
    "\n",
    "    paetab = eed.get_totalerrorperatom_table()\n",
    "    text_file.write(begtab+r'\\caption{Data set: Complete benchmark per atom}'+'\\n'+paetab.to_latex(escape=False)+endtab)\n",
    "    paetab.to_excel(writer, sheet_name=\"Complete Benchmark per atom\")\n",
    "    \n",
    "    \n",
    "    for k in tsname:\n",
    "        print('Stats for:',k)\n",
    "        etab = eed.get_error_table(k)\n",
    "        etab.to_excel(writer, sheet_name=k)\n",
    "        styles.append(etab.style)\n",
    "        text_file.write(begtab+r'\\caption{Data set: '+k+r'}'+'\\n'+etab.to_latex(escape=False)+endtab)\n",
    "    text_file.write(enddoc)\n",
    "styles[0]\n",
    "\n",
    "# Close the Pandas Excel writer and output the Excel file.\n",
    "writer.save()"
   ]
  },
  {
   "cell_type": "code",
   "execution_count": 6,
   "metadata": {
    "collapsed": false
   },
   "outputs": [
    {
     "name": "stdout",
     "output_type": "stream",
     "text": [
      "Step: 16546 S: 0.229786570766   -Perc over: 98.06108620869384 Total 58.730555555555554\n",
      "RMSE Over:   7.35198825498\n",
      "RMSE Under:  1.51040968703\n"
     ]
    }
   ],
   "source": [
    "cmap = mpl.cm.nipy_spectral\n",
    "eed.determine_min_error_by_sigma('AL1',\n",
    "                                 1.5, 98.0,\n",
    "                                 labelx=r'$\\mathrm{\\rho}$ [$\\mathrm{kcal \\times mol^{-1} \\times (\\sqrt{N_a})^{-1}}}$]',\n",
    "                                 labely=r'$\\mathrm{\\mathcal{E}}$ [$\\mathrm{kcal \\times mol^{-1} \\times (\\sqrt{N_a})^{-1}}$]',\n",
    "                                 xymax=(7.0,22.0),\n",
    "                                 figsize=(12.0, 9.0),\n",
    "                                 cmap=cmap,\n",
    "                                 tskeys=['GDB07to09'],\n",
    "                                 storepath='/home/jujuman/Dropbox/ANAKIN-ME-RESEARCH/PUBLICATION-ActiveLearning/Figures/rho_selection_6.0.0.pdf',\n",
    "                                 )"
   ]
  },
  {
   "cell_type": "code",
   "execution_count": null,
   "metadata": {
    "collapsed": false
   },
   "outputs": [],
   "source": [
    "print(eed.get_net_keys())\n",
    "#print(eed.get_size(\"9.0.5\",\"MDBenchmark\"))\n",
    "#print(eed.get_size(\"9.0.4\",\"Tripeptide\"))\n",
    "#print(eed.get_size(\"9.0.4\",\"GDB07to09\"))\n",
    "#print(eed.get_size(\"9.0.4\",\"GDB10to13\"))"
   ]
  },
  {
   "cell_type": "code",
   "execution_count": null,
   "metadata": {
    "collapsed": false,
    "scrolled": false
   },
   "outputs": [],
   "source": [
    "#eed.generate_correlation_plot('6.0.0','MDBenchmark','Fani','Fdft')\n",
    "cmap = mpl.cm.nipy_spectral\n",
    "eed.generate_correlation_plot('ANI-0707.0001.0410_bt5','GDB-11 (SFCl)','Fani','Fdft',cmap=cmap)\n",
    "#eed.generate_correlation_plot('0707.0001.0402','GDB-07 (SFCl)','dEani','dEdft')\n",
    "#eed.generate_correlation_plot('0707.0001.0402','GDB-08 (SFCl)','dEani','dEdft')\n",
    "#eed.generate_correlation_plot('0707.0001.0402','GDB-09 (SFCl)','dEani','dEdft')\n",
    "#eed.generate_correlation_plot('0707.0001.0402','GDB-10 (SFCl)','dEani','dEdft')\n",
    "#eed.generate_correlation_plot('0707.0001.0402','GDB-11 (SFCl)','dEani','dEdft')\n",
    "#eed.generate_correlation_plot('AL6','DrugBank','Fani','Fdft')\n",
    "#eed.generate_correlation_plot('ARC1','MDBenchmark','Fani','Fdft')\n",
    "#eed.generate_correlation_plot('ARC8','MDBenchmark','Fani','Fdft')"
   ]
  },
  {
   "cell_type": "code",
   "execution_count": null,
   "metadata": {
    "collapsed": false,
    "scrolled": false
   },
   "outputs": [],
   "source": [
    "#eed.plot_bar_propsbynet([('Total Energy',r'RMSE ($kcal \\times mol^{-1}$)','Eani','Edft',[0.0,23.0]),\n",
    "#                         ('Relative Energy',r'RMSE ($kcal \\times mol^{-1}$)','dEani', 'dEdft',[0.0,12.0]),\n",
    "#                         ('Force',r'RMSE ($kcal \\times mol^{-1} \\times \\AA^{-1}$)','Fani', 'Fdft',[0.0,10.0])], \n",
    "#                         ['GDB07to09', 'GDB10to13', 'DrugBank', 'Tripeptide', 's66x8'],\n",
    "#                         ntwks=['6.0.0','7.0.4','8.0.6','8.3.6','9.0.4','ANI-1'],\n",
    "#                         fontsize=30, bbox_to_anchor=(0.3, 1.0), figsize=(40.0, 32.0), ncol=2, errortype='RMSE')"
   ]
  },
  {
   "cell_type": "code",
   "execution_count": null,
   "metadata": {
    "collapsed": false
   },
   "outputs": [],
   "source": [
    "eed.plot_error_by_net([(r'$E (kcal \\times mol^{-1})$',r'RMSE ($kcal \\times mol^{-1}$)','Eani','Edft'),\n",
    "                       (r'$\\Delta E (kcal \\times mol^{-1})$',r'RMSE ($kcal \\times mol^{-1}$)','dEani','dEdft'),\n",
    "                       (r'$F (kcal \\times mol^{-1}\\AA^{-1})$',r'RMSE ($kcal \\times mol^{-1}$)','Fani','Fdft'),], \n",
    "                         ['GDB07to09', 'GDB10to13', 'DrugBank', 'Tripeptide', 'MDBenchmark', 's66x8'],\n",
    "                         ntwks=['AL1', 'AL2', 'AL3', 'AL4', 'AL5', 'AL6', 'ANI-1'],\n",
    "                         fontsize=20, bbox_to_anchor=(1.0, 1.0), figsize=(30.0, 15.0), ncol=1, errortype='RMSE',\n",
    "                        #storepath='/home/jujuman/Dropbox/ANAKIN-ME-RESEARCH/PUBLICATION-ActiveLearning/Figures/figure_TSALvsANI_RMSE.pdf',\n",
    "                      )"
   ]
  },
  {
   "cell_type": "code",
   "execution_count": null,
   "metadata": {
    "collapsed": false,
    "scrolled": false
   },
   "outputs": [],
   "source": [
    "eed.plot_error_by_net([(r'$E (kcal \\times mol^{-1})$',r'RMSE ($kcal \\times mol^{-1}$)','Eani','Edft'),\n",
    "                       (r'$\\Delta E (kcal \\times mol^{-1})$',r'RMSE ($kcal \\times mol^{-1}$)','dEani','dEdft'),\n",
    "                       (r'$F (kcal \\times mol^{-1}\\AA^{-1})$',r'RMSE ($kcal \\times mol^{-1}$)','Fani','Fdft'),], \n",
    "                         ['GDB07to09', 'GDB10to13', 'DrugBank', 'Tripeptide', 'MDBenchmark', 's66x8'],\n",
    "                         ntwks=['AL1', 'AL2', 'AL3', 'AL4', 'AL5', 'AL6', 'ANI-1'],\n",
    "                         fontsize=20, bbox_to_anchor=(1.0, 1.0), figsize=(30.0, 15.0), ncol=1, errortype='RMSE',\n",
    "                        #storepath='/home/jujuman/Dropbox/ANAKIN-ME-RESEARCH/PUBLICATION-ActiveLearning/Figures/figure_TSALvsANI_RMSE.pdf')"
   ]
  },
  {
   "cell_type": "code",
   "execution_count": null,
   "metadata": {
    "collapsed": false
   },
   "outputs": [],
   "source": [
    "eed.plot_error_by_net([(r'$E (kcal \\times mol^{-1})$',r'RMSE ($kcal \\times mol^{-1}$)','Eani','Edft'),\n",
    "                       (r'$\\Delta E (kcal \\times mol^{-1})$',r'RMSE ($kcal \\times mol^{-1}$)','dEani','dEdft'),\n",
    "                       (r'$F (kcal \\times mol^{-1}\\AA^{-1})$',r'RMSE ($kcal \\times mol^{-1}$)','Fani','Fdft'),], \n",
    "                         ['GDB07to09', 'GDB10to13', 'DrugBank', 'Tripeptide', 'MDBenchmark', 's66x8'],\n",
    "                         ntwks=['AL1', 'AL2', 'AL3', 'AL4', 'AL5', 'AL6', 'ANI-1'],\n",
    "                         fontsize=20, bbox_to_anchor=(1.0, 1.0), figsize=(30.0, 15.0), ncol=1, errortype='MAE',\n",
    "                        #storepath='/home/jujuman/Dropbox/ANAKIN-ME-RESEARCH/PUBLICATION-ActiveLearning/Figures/figure_TSALvsANI_MAE.pdf')\n",
    "#eed.generate_violin_distribution('GDB10to13')"
   ]
  },
  {
   "cell_type": "code",
   "execution_count": null,
   "metadata": {
    "collapsed": false
   },
   "outputs": [],
   "source": [
    "'''\n",
    "eed.plot_error_by_net([(r'$E_T (kcal \\times mol^{-1})$',r'RMSE ($kcal \\times mol^{-1}$)','Eani','Edft'),\n",
    "                       (r'$\\Delta E (kcal \\times mol^{-1})$',r'RMSE ($kcal \\times mol^{-1}$)','dEani','dEdft'),\n",
    "                       (r'$F (kcal \\times mol^{-1}\\AA^{-1})$',r'RMSE ($kcal \\times mol^{-1}$)','Fani','Fdft'),], \n",
    "                         ['GDB07to09', 'GDB10to13', 'DrugBank', 'Tripeptide', 'MDBenchmark', 's66x8'],\n",
    "                         ntwks=['ARC1','ARC2','ARC3','ARC4','ARC5','ARC6','ARC7','ARC8'],\n",
    "                        fontsize=20, bbox_to_anchor=(1.0, 1.0), figsize=(20.0, 30.0), ncol=1, errortype='RMSE',\n",
    "                        storepath='/home/jujuman/Research/DataReductionMethods/train_test/tables/figure_TSALvsANI_RMSE.pdf')\n",
    "'''"
   ]
  },
  {
   "cell_type": "code",
   "execution_count": null,
   "metadata": {
    "collapsed": false
   },
   "outputs": [],
   "source": [
    "Edft1 = eed.get_range_stats(tslist=['GDB-10 (CHNO)'],dkey='dEdft')"
   ]
  },
  {
   "cell_type": "code",
   "execution_count": null,
   "metadata": {
    "collapsed": false
   },
   "outputs": [],
   "source": [
    "plt.hist(Edft1,bins=100)\n",
    "plt.show()"
   ]
  },
  {
   "cell_type": "code",
   "execution_count": null,
   "metadata": {
    "collapsed": true
   },
   "outputs": [],
   "source": [
    "Edft2 = eed.get_range_stats(tslist=['GDB-10 (SFCl)'],dkey='dEdft')"
   ]
  },
  {
   "cell_type": "code",
   "execution_count": null,
   "metadata": {
    "collapsed": false
   },
   "outputs": [],
   "source": [
    "plt.hist(Edft2,bins=100,color='r')\n",
    "plt.hist(Edft1,bins=50,color='b')\n",
    "plt.show()"
   ]
  },
  {
   "cell_type": "code",
   "execution_count": null,
   "metadata": {
    "collapsed": true
   },
   "outputs": [],
   "source": []
  }
 ],
 "metadata": {
  "anaconda-cloud": {},
  "kernelspec": {
   "display_name": "Python 3",
   "language": "python",
   "name": "python3"
  },
  "language_info": {
   "codemirror_mode": {
    "name": "ipython",
    "version": 3
   },
   "file_extension": ".py",
   "mimetype": "text/x-python",
   "name": "python",
   "nbconvert_exporter": "python",
   "pygments_lexer": "ipython3",
   "version": "3.5.2"
  }
 },
 "nbformat": 4,
 "nbformat_minor": 1
}
