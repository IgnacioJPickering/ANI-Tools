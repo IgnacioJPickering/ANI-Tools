{
 "cells": [
  {
   "cell_type": "code",
   "execution_count": 10,
   "metadata": {},
   "outputs": [],
   "source": [
    "import aniensemblestats as aes\n",
    "import pandas as pd\n",
    "import os\n",
    "\n",
    "#import seaborn as sns\n",
    "pd.options.display.float_format = '{:.2f}'.format"
   ]
  },
  {
   "cell_type": "code",
   "execution_count": 11,
   "metadata": {},
   "outputs": [
    {
     "name": "stdout",
     "output_type": "stream",
     "text": [
      "/home/jsmith48/scratch/train_test/network_arch_hps4/error_stats/tsdata_0707.0001.0410_2058.h5\n",
      "/home/jsmith48/scratch/train_test/network_arch_hps4/error_stats/tsdata_0707.0001.0410_0512.h5\n",
      "/home/jsmith48/scratch/train_test/network_arch_hps4/error_stats/tsdata_0808.0000.0402.h5\n",
      "/home/jsmith48/scratch/train_test/network_arch_hps4/error_stats/tsdata_0707.0001.0410_1024.h5\n",
      "/home/jsmith48/scratch/train_test/network_arch_hps4/error_stats/tsdata_0707.0001.0410_1536.h5\n"
     ]
    }
   ],
   "source": [
    "#errdir = '/home/jujuman/Research/DataReductionMethods/model6r/error_compare/for_al_pub/'\n",
    "#errdir = '/home/jujuman/Research/DataReductionMethods/train_test/error_compare/'\n",
    "#tex_store = \"/home/jujuman/Dropbox/ANAKIN-ME-RESEARCH/PUBLICATION-ActiveLearning/tables/AllTests_results_mean.tex\"\n",
    "#xls_store = \"/home/jujuman/Dropbox/ANAKIN-ME-RESEARCH/PUBLICATION-ActiveLearning/tables/AllTests_results_mean.xlsx\"\n",
    "#tex_store = \"/home/jujuman/Research/DataReductionMethods/train_test/tables/AllTests_results.tex\"\n",
    "\n",
    "errdir = '/home/jsmith48/scratch/train_test/network_arch_hps4/error_stats/'\n",
    "tex_store = \"/home/jsmith48/scratch/train_test/network_arch_hps4/tables/AllTests_results_mean.tex\"\n",
    "xls_store = \"/home/jsmith48/scratch/train_test/network_arch_hps4/tables/AllTests_results_mean.xlsx\"\n",
    "\n",
    "#efiles = [errdir+f for f in os.listdir(errdir)]\n",
    "#tsname = ['DrugBank',\n",
    "#          'Tripeptide',\n",
    "#          'GDB07to09',\n",
    "#          'MDBenchmark',\n",
    "#          'GDB10to13',\n",
    "#          's66x8',\n",
    "#         ]\n",
    "\n",
    "efiles = [errdir+f for f in os.listdir(errdir)]\n",
    "tsname = ['GDB-07',\n",
    "          'GDB-08',\n",
    "          'GDB-09',\n",
    "          'GDB-10',\n",
    "          'GDB-11',\n",
    "         ]\n",
    "for i in efiles:\n",
    "    print(i)"
   ]
  },
  {
   "cell_type": "code",
   "execution_count": 12,
   "metadata": {},
   "outputs": [
    {
     "data": {
      "text/html": [
       "<div>\n",
       "<style>\n",
       "    .dataframe thead tr:only-child th {\n",
       "        text-align: right;\n",
       "    }\n",
       "\n",
       "    .dataframe thead th {\n",
       "        text-align: left;\n",
       "    }\n",
       "\n",
       "    .dataframe tbody tr th {\n",
       "        vertical-align: top;\n",
       "    }\n",
       "</style>\n",
       "<table border=\"1\" class=\"dataframe\">\n",
       "  <thead>\n",
       "    <tr style=\"text-align: right;\">\n",
       "      <th></th>\n",
       "      <th>E$_\\mathrm{MAE}$$\\mu$</th>\n",
       "      <th>E$_\\mathrm{RMS}$$\\mu$</th>\n",
       "    </tr>\n",
       "  </thead>\n",
       "  <tbody>\n",
       "    <tr>\n",
       "      <th>0707.0001.0410_0512</th>\n",
       "      <td>0.12</td>\n",
       "      <td>0.21</td>\n",
       "    </tr>\n",
       "    <tr>\n",
       "      <th>0707.0001.0410_1024</th>\n",
       "      <td>0.13</td>\n",
       "      <td>0.22</td>\n",
       "    </tr>\n",
       "    <tr>\n",
       "      <th>0707.0001.0410_1536</th>\n",
       "      <td>0.13</td>\n",
       "      <td>0.22</td>\n",
       "    </tr>\n",
       "    <tr>\n",
       "      <th>0707.0001.0410_2058</th>\n",
       "      <td>0.13</td>\n",
       "      <td>0.23</td>\n",
       "    </tr>\n",
       "    <tr>\n",
       "      <th>0808.0000.0402</th>\n",
       "      <td>0.10</td>\n",
       "      <td>0.15</td>\n",
       "    </tr>\n",
       "  </tbody>\n",
       "</table>\n",
       "</div>"
      ],
      "text/plain": [
       "                     E$_\\mathrm{MAE}$$\\mu$  E$_\\mathrm{RMS}$$\\mu$\n",
       "0707.0001.0410_0512                   0.12                   0.21\n",
       "0707.0001.0410_1024                   0.13                   0.22\n",
       "0707.0001.0410_1536                   0.13                   0.22\n",
       "0707.0001.0410_2058                   0.13                   0.23\n",
       "0808.0000.0402                        0.10                   0.15"
      ]
     },
     "execution_count": 12,
     "metadata": {},
     "output_type": "execute_result"
    }
   ],
   "source": [
    "eed = aes.evaluate_ensemble_data(efiles)\n",
    "eed.get_totalerrorperatom_table()"
   ]
  },
  {
   "cell_type": "code",
   "execution_count": 13,
   "metadata": {},
   "outputs": [],
   "source": [
    "#eed.get_ntwrk_error_table('0707.0001.0400')"
   ]
  },
  {
   "cell_type": "code",
   "execution_count": 14,
   "metadata": {},
   "outputs": [],
   "source": [
    "#eed.get_ntwrk_error_table('0707.0001.0402')"
   ]
  },
  {
   "cell_type": "code",
   "execution_count": 15,
   "metadata": {},
   "outputs": [],
   "source": [
    "#eed.get_ntwrk_error_table('0707.0001.0408')"
   ]
  },
  {
   "cell_type": "code",
   "execution_count": 16,
   "metadata": {},
   "outputs": [],
   "source": [
    "#eed.get_ntwrk_error_table('7.0.4')"
   ]
  },
  {
   "cell_type": "code",
   "execution_count": 17,
   "metadata": {
    "scrolled": true
   },
   "outputs": [
    {
     "data": {
      "text/html": [
       "<div>\n",
       "<style>\n",
       "    .dataframe thead tr:only-child th {\n",
       "        text-align: right;\n",
       "    }\n",
       "\n",
       "    .dataframe thead th {\n",
       "        text-align: left;\n",
       "    }\n",
       "\n",
       "    .dataframe tbody tr th {\n",
       "        vertical-align: top;\n",
       "    }\n",
       "</style>\n",
       "<table border=\"1\" class=\"dataframe\">\n",
       "  <thead>\n",
       "    <tr style=\"text-align: right;\">\n",
       "      <th></th>\n",
       "      <th>$\\Delta$E$_\\mathrm{MAE}$$\\mu$</th>\n",
       "      <th>$\\Delta$E$_\\mathrm{MAE}$$\\sigma$</th>\n",
       "      <th>$\\Delta$E$_\\mathrm{RMS}$$\\mu$</th>\n",
       "      <th>$\\Delta$E$_\\mathrm{RMS}$$\\sigma$</th>\n",
       "      <th>E$_\\mathrm{MAE}$$\\mu$</th>\n",
       "      <th>E$_\\mathrm{MAE}$$\\sigma$</th>\n",
       "      <th>E$_\\mathrm{RMS}$$\\mu$</th>\n",
       "      <th>E$_\\mathrm{RMS}$$\\sigma$</th>\n",
       "      <th>F$_\\mathrm{MAE}$$\\mu$</th>\n",
       "      <th>F$_\\mathrm{MAE}$$\\sigma$</th>\n",
       "      <th>F$_\\mathrm{RMS}$$\\mu$</th>\n",
       "      <th>F$_\\mathrm{RMS}$$\\sigma$</th>\n",
       "    </tr>\n",
       "  </thead>\n",
       "  <tbody>\n",
       "    <tr>\n",
       "      <th>0707.0001.0410_0512</th>\n",
       "      <td>4.48</td>\n",
       "      <td>0.22</td>\n",
       "      <td>6.93</td>\n",
       "      <td>0.80</td>\n",
       "      <td>4.65</td>\n",
       "      <td>0.33</td>\n",
       "      <td>7.35</td>\n",
       "      <td>0.35</td>\n",
       "      <td>5.58</td>\n",
       "      <td>0.11</td>\n",
       "      <td>10.61</td>\n",
       "      <td>1.31</td>\n",
       "    </tr>\n",
       "    <tr>\n",
       "      <th>0707.0001.0410_1024</th>\n",
       "      <td>4.43</td>\n",
       "      <td>0.21</td>\n",
       "      <td>6.47</td>\n",
       "      <td>0.53</td>\n",
       "      <td>4.86</td>\n",
       "      <td>0.18</td>\n",
       "      <td>7.30</td>\n",
       "      <td>0.77</td>\n",
       "      <td>5.61</td>\n",
       "      <td>0.16</td>\n",
       "      <td>10.21</td>\n",
       "      <td>1.04</td>\n",
       "    </tr>\n",
       "    <tr>\n",
       "      <th>0707.0001.0410_1536</th>\n",
       "      <td>4.29</td>\n",
       "      <td>0.25</td>\n",
       "      <td>6.18</td>\n",
       "      <td>0.70</td>\n",
       "      <td>4.74</td>\n",
       "      <td>0.43</td>\n",
       "      <td>7.04</td>\n",
       "      <td>1.29</td>\n",
       "      <td>5.39</td>\n",
       "      <td>0.18</td>\n",
       "      <td>9.66</td>\n",
       "      <td>1.00</td>\n",
       "    </tr>\n",
       "    <tr>\n",
       "      <th>0707.0001.0410_2058</th>\n",
       "      <td>4.19</td>\n",
       "      <td>0.20</td>\n",
       "      <td>6.05</td>\n",
       "      <td>0.57</td>\n",
       "      <td>4.41</td>\n",
       "      <td>0.39</td>\n",
       "      <td>6.48</td>\n",
       "      <td>0.69</td>\n",
       "      <td>5.28</td>\n",
       "      <td>0.15</td>\n",
       "      <td>9.40</td>\n",
       "      <td>0.50</td>\n",
       "    </tr>\n",
       "    <tr>\n",
       "      <th>0808.0000.0402</th>\n",
       "      <td>3.67</td>\n",
       "      <td>0.16</td>\n",
       "      <td>5.15</td>\n",
       "      <td>0.36</td>\n",
       "      <td>3.20</td>\n",
       "      <td>0.25</td>\n",
       "      <td>4.54</td>\n",
       "      <td>0.45</td>\n",
       "      <td>4.86</td>\n",
       "      <td>0.22</td>\n",
       "      <td>8.14</td>\n",
       "      <td>0.56</td>\n",
       "    </tr>\n",
       "  </tbody>\n",
       "</table>\n",
       "</div>"
      ],
      "text/plain": [
       "                     $\\Delta$E$_\\mathrm{MAE}$$\\mu$  $\\Delta$E$_\\mathrm{MAE}$$\\sigma$  $\\Delta$E$_\\mathrm{RMS}$$\\mu$  $\\Delta$E$_\\mathrm{RMS}$$\\sigma$  E$_\\mathrm{MAE}$$\\mu$  E$_\\mathrm{MAE}$$\\sigma$  E$_\\mathrm{RMS}$$\\mu$  E$_\\mathrm{RMS}$$\\sigma$  F$_\\mathrm{MAE}$$\\mu$  F$_\\mathrm{MAE}$$\\sigma$  F$_\\mathrm{RMS}$$\\mu$  F$_\\mathrm{RMS}$$\\sigma$\n",
       "0707.0001.0410_0512                           4.48                              0.22                           6.93                              0.80                   4.65                      0.33                   7.35                      0.35                   5.58                      0.11                  10.61                      1.31\n",
       "0707.0001.0410_1024                           4.43                              0.21                           6.47                              0.53                   4.86                      0.18                   7.30                      0.77                   5.61                      0.16                  10.21                      1.04\n",
       "0707.0001.0410_1536                           4.29                              0.25                           6.18                              0.70                   4.74                      0.43                   7.04                      1.29                   5.39                      0.18                   9.66                      1.00\n",
       "0707.0001.0410_2058                           4.19                              0.20                           6.05                              0.57                   4.41                      0.39                   6.48                      0.69                   5.28                      0.15                   9.40                      0.50\n",
       "0808.0000.0402                                3.67                              0.16                           5.15                              0.36                   3.20                      0.25                   4.54                      0.45                   4.86                      0.22                   8.14                      0.56"
      ]
     },
     "execution_count": 17,
     "metadata": {},
     "output_type": "execute_result"
    }
   ],
   "source": [
    "eed.get_error_table('GDB-11 (CHNO)')"
   ]
  },
  {
   "cell_type": "code",
   "execution_count": 22,
   "metadata": {},
   "outputs": [
    {
     "data": {
      "text/html": [
       "<div>\n",
       "<style>\n",
       "    .dataframe thead tr:only-child th {\n",
       "        text-align: right;\n",
       "    }\n",
       "\n",
       "    .dataframe thead th {\n",
       "        text-align: left;\n",
       "    }\n",
       "\n",
       "    .dataframe tbody tr th {\n",
       "        vertical-align: top;\n",
       "    }\n",
       "</style>\n",
       "<table border=\"1\" class=\"dataframe\">\n",
       "  <thead>\n",
       "    <tr style=\"text-align: right;\">\n",
       "      <th></th>\n",
       "      <th>$\\Delta$E$_\\mathrm{MAE}$$\\mu$</th>\n",
       "      <th>$\\Delta$E$_\\mathrm{MAE}$$\\sigma$</th>\n",
       "      <th>$\\Delta$E$_\\mathrm{RMS}$$\\mu$</th>\n",
       "      <th>$\\Delta$E$_\\mathrm{RMS}$$\\sigma$</th>\n",
       "      <th>E$_\\mathrm{MAE}$$\\mu$</th>\n",
       "      <th>E$_\\mathrm{MAE}$$\\sigma$</th>\n",
       "      <th>E$_\\mathrm{RMS}$$\\mu$</th>\n",
       "      <th>E$_\\mathrm{RMS}$$\\sigma$</th>\n",
       "      <th>F$_\\mathrm{MAE}$$\\mu$</th>\n",
       "      <th>F$_\\mathrm{MAE}$$\\sigma$</th>\n",
       "      <th>F$_\\mathrm{RMS}$$\\mu$</th>\n",
       "      <th>F$_\\mathrm{RMS}$$\\sigma$</th>\n",
       "    </tr>\n",
       "  </thead>\n",
       "  <tbody>\n",
       "    <tr>\n",
       "      <th>0707.0001.0410_0512</th>\n",
       "      <td>0.97</td>\n",
       "      <td>0.02</td>\n",
       "      <td>1.51</td>\n",
       "      <td>0.04</td>\n",
       "      <td>1.12</td>\n",
       "      <td>0.06</td>\n",
       "      <td>1.54</td>\n",
       "      <td>0.06</td>\n",
       "      <td>2.57</td>\n",
       "      <td>0.06</td>\n",
       "      <td>4.04</td>\n",
       "      <td>0.09</td>\n",
       "    </tr>\n",
       "    <tr>\n",
       "      <th>0707.0001.0410_1024</th>\n",
       "      <td>0.96</td>\n",
       "      <td>0.03</td>\n",
       "      <td>1.57</td>\n",
       "      <td>0.05</td>\n",
       "      <td>1.19</td>\n",
       "      <td>0.06</td>\n",
       "      <td>1.66</td>\n",
       "      <td>0.07</td>\n",
       "      <td>2.56</td>\n",
       "      <td>0.12</td>\n",
       "      <td>3.98</td>\n",
       "      <td>0.20</td>\n",
       "    </tr>\n",
       "    <tr>\n",
       "      <th>0707.0001.0410_1536</th>\n",
       "      <td>0.98</td>\n",
       "      <td>0.04</td>\n",
       "      <td>1.55</td>\n",
       "      <td>0.05</td>\n",
       "      <td>1.20</td>\n",
       "      <td>0.05</td>\n",
       "      <td>1.65</td>\n",
       "      <td>0.05</td>\n",
       "      <td>2.52</td>\n",
       "      <td>0.09</td>\n",
       "      <td>3.96</td>\n",
       "      <td>0.09</td>\n",
       "    </tr>\n",
       "    <tr>\n",
       "      <th>0707.0001.0410_2058</th>\n",
       "      <td>0.96</td>\n",
       "      <td>0.03</td>\n",
       "      <td>1.51</td>\n",
       "      <td>0.07</td>\n",
       "      <td>1.24</td>\n",
       "      <td>0.06</td>\n",
       "      <td>1.66</td>\n",
       "      <td>0.07</td>\n",
       "      <td>2.53</td>\n",
       "      <td>0.06</td>\n",
       "      <td>3.98</td>\n",
       "      <td>0.09</td>\n",
       "    </tr>\n",
       "    <tr>\n",
       "      <th>0808.0000.0402</th>\n",
       "      <td>0.95</td>\n",
       "      <td>0.02</td>\n",
       "      <td>1.50</td>\n",
       "      <td>0.08</td>\n",
       "      <td>1.04</td>\n",
       "      <td>0.05</td>\n",
       "      <td>1.45</td>\n",
       "      <td>0.06</td>\n",
       "      <td>2.53</td>\n",
       "      <td>0.06</td>\n",
       "      <td>3.94</td>\n",
       "      <td>0.09</td>\n",
       "    </tr>\n",
       "  </tbody>\n",
       "</table>\n",
       "</div>"
      ],
      "text/plain": [
       "                     $\\Delta$E$_\\mathrm{MAE}$$\\mu$  $\\Delta$E$_\\mathrm{MAE}$$\\sigma$  $\\Delta$E$_\\mathrm{RMS}$$\\mu$  $\\Delta$E$_\\mathrm{RMS}$$\\sigma$  E$_\\mathrm{MAE}$$\\mu$  E$_\\mathrm{MAE}$$\\sigma$  E$_\\mathrm{RMS}$$\\mu$  E$_\\mathrm{RMS}$$\\sigma$  F$_\\mathrm{MAE}$$\\mu$  F$_\\mathrm{MAE}$$\\sigma$  F$_\\mathrm{RMS}$$\\mu$  F$_\\mathrm{RMS}$$\\sigma$\n",
       "0707.0001.0410_0512                           0.97                              0.02                           1.51                              0.04                   1.12                      0.06                   1.54                      0.06                   2.57                      0.06                   4.04                      0.09\n",
       "0707.0001.0410_1024                           0.96                              0.03                           1.57                              0.05                   1.19                      0.06                   1.66                      0.07                   2.56                      0.12                   3.98                      0.20\n",
       "0707.0001.0410_1536                           0.98                              0.04                           1.55                              0.05                   1.20                      0.05                   1.65                      0.05                   2.52                      0.09                   3.96                      0.09\n",
       "0707.0001.0410_2058                           0.96                              0.03                           1.51                              0.07                   1.24                      0.06                   1.66                      0.07                   2.53                      0.06                   3.98                      0.09\n",
       "0808.0000.0402                                0.95                              0.02                           1.50                              0.08                   1.04                      0.05                   1.45                      0.06                   2.53                      0.06                   3.94                      0.09"
      ]
     },
     "execution_count": 22,
     "metadata": {},
     "output_type": "execute_result"
    }
   ],
   "source": [
    "eed.get_error_table('GDB-07 (SFCl)')"
   ]
  },
  {
   "cell_type": "code",
   "execution_count": null,
   "metadata": {
    "scrolled": false
   },
   "outputs": [],
   "source": [
    "# Create a Pandas Excel writer using XlsxWriter as the engine.\n",
    "writer = pd.ExcelWriter(xls_store, engine='xlsxwriter')\n",
    "\n",
    "# Build latex document\n",
    "header = r'\\documentclass{article}'+'\\n'+r'\\usepackage{booktabs}'+'\\n'+r'\\usepackage[margin=1.0in]{geometry}'+'\\n'+r'\\begin{document}'+'\\n'\n",
    "\n",
    "begtab = r'\\begin{table}'+'\\n'+r'\\centering'+'\\n'+r'\\tiny'+'\\n'\n",
    "endtab = r'\\end{table}'+'\\n'\n",
    "enddoc = r'\\end{document}'\n",
    "styles = []\n",
    "with open(tex_store, \"w\") as text_file:\n",
    "    text_file.write(header)\n",
    "    print('Stats for: Complete benchmark')\n",
    "    etab = eed.get_totalerror_table()\n",
    "    styles.append(etab.style)\n",
    "    text_file.write(begtab+r'\\caption{Data set: Complete benchmark}'+'\\n'+etab.to_latex(escape=False)+endtab)\n",
    "\n",
    "    # Convert the dataframe to an XlsxWriter Excel object.\n",
    "    etab.to_excel(writer, sheet_name=\"Complete Benchmark\")\n",
    "\n",
    "    for k in tsname:\n",
    "        print('Stats for:',k)\n",
    "        etab = eed.get_error_table(k)\n",
    "        etab.to_excel(writer, sheet_name=k)\n",
    "        styles.append(etab.style)\n",
    "        text_file.write(begtab+r'\\caption{Data set: '+k+r'}'+'\\n'+etab.to_latex(escape=False)+endtab)\n",
    "    text_file.write(enddoc)\n",
    "styles[0]\n",
    "\n",
    "# Close the Pandas Excel writer and output the Excel file.\n",
    "writer.save()"
   ]
  },
  {
   "cell_type": "code",
   "execution_count": null,
   "metadata": {},
   "outputs": [],
   "source": [
    "#eed.determine_min_error_by_sigma('6.0.0',\n",
    "#                                 1.5, 98.0,\n",
    "#                                 labelx=r'$\\mathrm{\\rho}$ [$\\mathrm{kcal \\times mol^{-1} \\times (\\sqrt{N_a})^{-1}}}$]',\n",
    "#                                 labely=r'$\\mathrm{\\mathcal{E}}$ [$\\mathrm{kcal \\times mol^{-1} \\times (\\sqrt{N_a})^{-1}}$]',\n",
    "#                                 xymax=(6.0,20.0),\n",
    "#                                 figsize=(10.0, 8.0),\n",
    "#                                 storepath='/home/jujuman/Dropbox/ANAKIN-ME-RESEARCH/PUBLICATION-ActiveLearning/Figures/rho_selection_6.0.0.pdf',\n",
    "#                                 )"
   ]
  },
  {
   "cell_type": "code",
   "execution_count": null,
   "metadata": {},
   "outputs": [],
   "source": [
    "print(eed.get_net_keys())\n",
    "#print(eed.get_size(\"9.0.5\",\"MDBenchmark\"))\n",
    "#print(eed.get_size(\"9.0.4\",\"Tripeptide\"))\n",
    "#print(eed.get_size(\"9.0.4\",\"GDB07to09\"))\n",
    "#print(eed.get_size(\"9.0.4\",\"GDB10to13\"))"
   ]
  },
  {
   "cell_type": "code",
   "execution_count": null,
   "metadata": {
    "scrolled": false
   },
   "outputs": [],
   "source": [
    "#eed.generate_correlation_plot('6.0.0','MDBenchmark','Fani','Fdft')\n",
    "#eed.generate_correlation_plot('9.0.5','MDBenchmark','Fani','Fdft')\n",
    "eed.generate_correlation_plot('0707.0001.0402','GDB-07 (SFCl)','dEani','dEdft')\n",
    "eed.generate_correlation_plot('0707.0001.0402','GDB-08 (SFCl)','dEani','dEdft')\n",
    "eed.generate_correlation_plot('0707.0001.0402','GDB-09 (SFCl)','dEani','dEdft')\n",
    "eed.generate_correlation_plot('0707.0001.0402','GDB-10 (SFCl)','dEani','dEdft')\n",
    "eed.generate_correlation_plot('0707.0001.0402','GDB-11 (SFCl)','dEani','dEdft')\n",
    "#eed.generate_correlation_plot('AL6','DrugBank','Fani','Fdft')\n",
    "#eed.generate_correlation_plot('ARC1','MDBenchmark','Fani','Fdft')\n",
    "#eed.generate_correlation_plot('ARC8','MDBenchmark','Fani','Fdft')"
   ]
  },
  {
   "cell_type": "code",
   "execution_count": null,
   "metadata": {
    "scrolled": false
   },
   "outputs": [],
   "source": [
    "#eed.plot_bar_propsbynet([('Total Energy',r'RMSE ($kcal \\times mol^{-1}$)','Eani','Edft',[0.0,23.0]),\n",
    "#                         ('Relative Energy',r'RMSE ($kcal \\times mol^{-1}$)','dEani', 'dEdft',[0.0,12.0]),\n",
    "#                         ('Force',r'RMSE ($kcal \\times mol^{-1} \\times \\AA^{-1}$)','Fani', 'Fdft',[0.0,10.0])], \n",
    "#                         ['GDB07to09', 'GDB10to13', 'DrugBank', 'Tripeptide', 's66x8'],\n",
    "#                         ntwks=['6.0.0','7.0.4','8.0.6','8.3.6','9.0.4','ANI-1'],\n",
    "#                         fontsize=30, bbox_to_anchor=(0.3, 1.0), figsize=(40.0, 32.0), ncol=2, errortype='RMSE')"
   ]
  },
  {
   "cell_type": "code",
   "execution_count": null,
   "metadata": {
    "scrolled": false
   },
   "outputs": [],
   "source": [
    "eed.plot_error_by_net([(r'$E_T (kcal \\times mol^{-1})$',r'RMSE ($kcal \\times mol^{-1}$)','Eani','Edft'),\n",
    "                       (r'$\\Delta E (kcal \\times mol^{-1})$',r'RMSE ($kcal \\times mol^{-1}$)','dEani','dEdft'),\n",
    "                       (r'$F (kcal \\times mol^{-1}\\AA^{-1})$',r'RMSE ($kcal \\times mol^{-1}$)','Fani','Fdft'),], \n",
    "                         ['GDB07to09', 'GDB10to13', 'DrugBank', 'Tripeptide', 'MDBenchmark', 's66x8'],\n",
    "                         ntwks=['AL1', 'AL2', 'AL3', 'AL4', 'AL5', 'AL6', 'ANI-1'],\n",
    "                         fontsize=20, bbox_to_anchor=(1.0, 1.0), figsize=(30.0, 15.0), ncol=1, errortype='RMSE',\n",
    "                        storepath='/home/jujuman/Dropbox/ANAKIN-ME-RESEARCH/PUBLICATION-ActiveLearning/Figures/figure_TSALvsANI_RMSE.pdf')"
   ]
  },
  {
   "cell_type": "code",
   "execution_count": null,
   "metadata": {},
   "outputs": [],
   "source": [
    "eed.plot_error_by_net([(r'$E_T (kcal \\times mol^{-1})$',r'RMSE ($kcal \\times mol^{-1}$)','Eani','Edft'),\n",
    "                       (r'$\\Delta E (kcal \\times mol^{-1})$',r'RMSE ($kcal \\times mol^{-1}$)','dEani','dEdft'),\n",
    "                       (r'$F (kcal \\times mol^{-1}\\AA^{-1})$',r'RMSE ($kcal \\times mol^{-1}$)','Fani','Fdft'),], \n",
    "                         ['GDB07to09', 'GDB10to13', 'DrugBank', 'Tripeptide', 'MDBenchmark', 's66x8'],\n",
    "                         ntwks=['AL1', 'AL2', 'AL3', 'AL4', 'AL5', 'AL6', 'ANI-1'],\n",
    "                         fontsize=20, bbox_to_anchor=(1.0, 1.0), figsize=(30.0, 15.0), ncol=1, errortype='MAE',\n",
    "                        storepath='/home/jujuman/Dropbox/ANAKIN-ME-RESEARCH/PUBLICATION-ActiveLearning/Figures/figure_TSALvsANI_MAE.pdf')\n",
    "#eed.generate_violin_distribution('GDB10to13')"
   ]
  },
  {
   "cell_type": "code",
   "execution_count": null,
   "metadata": {},
   "outputs": [],
   "source": [
    "'''\n",
    "eed.plot_error_by_net([(r'$E_T (kcal \\times mol^{-1})$',r'RMSE ($kcal \\times mol^{-1}$)','Eani','Edft'),\n",
    "                       (r'$\\Delta E (kcal \\times mol^{-1})$',r'RMSE ($kcal \\times mol^{-1}$)','dEani','dEdft'),\n",
    "                       (r'$F (kcal \\times mol^{-1}\\AA^{-1})$',r'RMSE ($kcal \\times mol^{-1}$)','Fani','Fdft'),], \n",
    "                         ['GDB07to09', 'GDB10to13', 'DrugBank', 'Tripeptide', 'MDBenchmark', 's66x8'],\n",
    "                         ntwks=['ARC1','ARC2','ARC3','ARC4','ARC5','ARC6','ARC7','ARC8'],\n",
    "                        fontsize=20, bbox_to_anchor=(1.0, 1.0), figsize=(20.0, 30.0), ncol=1, errortype='RMSE',\n",
    "                        storepath='/home/jujuman/Research/DataReductionMethods/train_test/tables/figure_TSALvsANI_RMSE.pdf')\n",
    "'''"
   ]
  },
  {
   "cell_type": "code",
   "execution_count": null,
   "metadata": {
    "collapsed": true
   },
   "outputs": [],
   "source": []
  }
 ],
 "metadata": {
  "anaconda-cloud": {},
  "kernelspec": {
   "display_name": "Python 3",
   "language": "python",
   "name": "python3"
  },
  "language_info": {
   "codemirror_mode": {
    "name": "ipython",
    "version": 3
   },
   "file_extension": ".py",
   "mimetype": "text/x-python",
   "name": "python",
   "nbconvert_exporter": "python",
   "pygments_lexer": "ipython3",
   "version": "3.6.3"
  }
 },
 "nbformat": 4,
 "nbformat_minor": 1
}
