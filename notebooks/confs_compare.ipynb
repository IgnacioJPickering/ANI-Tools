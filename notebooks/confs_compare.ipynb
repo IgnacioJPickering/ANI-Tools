{
 "cells": [
  {
   "cell_type": "code",
   "execution_count": 19,
   "metadata": {},
   "outputs": [],
   "source": [
    "import hdnntools as hdt\n",
    "import re\n",
    "import numpy as np\n",
    "import matplotlib.pyplot as plt"
   ]
  },
  {
   "cell_type": "code",
   "execution_count": 10,
   "metadata": {},
   "outputs": [],
   "source": [
    "def read_energies(text):\n",
    "    r = re.compile('comment:(.+?),')\n",
    "    it = r.findall(text)\n",
    "    return np.fromiter(it,dtype=np.float64)"
   ]
  },
  {
   "cell_type": "code",
   "execution_count": 21,
   "metadata": {},
   "outputs": [],
   "source": [
    "f = open('/scratch/Research/confs_test/aceclofenac.xyz').read()\n",
    "Eani = read_energies(f)"
   ]
  },
  {
   "cell_type": "code",
   "execution_count": 22,
   "metadata": {},
   "outputs": [],
   "source": [
    "data = hdt.readncdat('/scratch/Research/confs_test/aceclofenac.dat')"
   ]
  },
  {
   "cell_type": "code",
   "execution_count": 23,
   "metadata": {},
   "outputs": [],
   "source": [
    "Edft = hdt.hatokcal*(data[2]-data[2].min())"
   ]
  },
  {
   "cell_type": "code",
   "execution_count": 27,
   "metadata": {},
   "outputs": [
    {
     "data": {
      "image/png": "[encoded data removed]",
      "text/plain": [
       "<matplotlib.figure.Figure at 0x7f25b13b19b0>"
      ]
     },
     "metadata": {},
     "output_type": "display_data"
    }
   ],
   "source": [
    "plt.plot(Edft,Edft,'black')\n",
    "plt.scatter(Edft,Eani)\n",
    "plt.show()"
   ]
  },
  {
   "cell_type": "code",
   "execution_count": 26,
   "metadata": {},
   "outputs": [
    {
     "data": {
      "text/plain": [
       "1.1935515260810377"
      ]
     },
     "execution_count": 26,
     "metadata": {},
     "output_type": "execute_result"
    }
   ],
   "source": [
    "hdt.calculaterootmeansqrerror(Eani,Edft)"
   ]
  },
  {
   "cell_type": "code",
   "execution_count": 31,
   "metadata": {},
   "outputs": [
    {
     "name": "stdout",
     "output_type": "stream",
     "text": [
      "0 -0.47530704731748863\n",
      "1 -0.47298757769217664\n",
      "2 -0.47091746753387925\n",
      "3 0.8154285068093433\n",
      "4 0.8165967557139828\n",
      "5 0.8182297560738181\n",
      "6 0.8191479520908501\n",
      "7 0.967450847862435\n",
      "8 0.9677230083111923\n",
      "9 -0.909637207124889\n",
      "10 0.7028305494778382\n",
      "11 1.178171847206884\n",
      "12 1.048656548619262\n",
      "13 0.8374914610398903\n",
      "14 1.1547240779769197\n",
      "15 1.1518030039218419\n",
      "16 1.9941870220808144\n",
      "17 1.99335570724102\n",
      "18 1.9912336153644243\n",
      "19 1.9938550272822422\n",
      "20 1.989227947949302\n",
      "21 2.000229031555378\n",
      "22 -0.08624975529414902\n",
      "23 -0.08628987738012173\n",
      "24 -0.08254740525580306\n",
      "25 2.946222379528114\n",
      "26 -1.1755815333478292\n",
      "27 -1.1722621101359616\n",
      "28 -1.0434478988618467\n",
      "29 0.6767292163005276\n",
      "30 -0.12392536395520537\n",
      "31 -2.4976212813461904\n",
      "32 -0.601901632828242\n",
      "33 0.13392854541531918\n",
      "34 0.1392642459480964\n",
      "35 0.6208497356202702\n",
      "36 0.6186600646277691\n",
      "37 0.6579877859467445\n",
      "38 -0.6077368378863621\n",
      "39 0.7723719524925396\n",
      "40 -0.21551621576431224\n",
      "41 -0.28461642293550327\n",
      "42 -0.3115625228840724\n",
      "43 1.4236438789552803\n",
      "44 1.4448938714484392\n",
      "45 -1.175350587621855\n",
      "46 1.1425514174753957\n",
      "47 1.8889315338947679\n",
      "48 0.8786891602050773\n",
      "49 1.3423332967643038\n"
     ]
    }
   ],
   "source": [
    "for i,(ed,ea) in enumerate(zip(Edft,Eani)):\n",
    "    print(i,ea-ed)"
   ]
  },
  {
   "cell_type": "code",
   "execution_count": null,
   "metadata": {},
   "outputs": [],
   "source": []
  }
 ],
 "metadata": {
  "kernelspec": {
   "display_name": "Python 3",
   "language": "python",
   "name": "python3"
  },
  "language_info": {
   "codemirror_mode": {
    "name": "ipython",
    "version": 3
   },
   "file_extension": ".py",
   "mimetype": "text/x-python",
   "name": "python",
   "nbconvert_exporter": "python",
   "pygments_lexer": "ipython3",
   "version": "3.6.4"
  }
 },
 "nbformat": 4,
 "nbformat_minor": 2
}
