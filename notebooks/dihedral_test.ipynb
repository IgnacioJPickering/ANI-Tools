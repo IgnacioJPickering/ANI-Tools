{
 "cells": [
  {
   "cell_type": "code",
   "execution_count": 1,
   "metadata": {},
   "outputs": [
    {
     "name": "stdout",
     "output_type": "stream",
     "text": [
      "van Der Waals correction will be unavailable. Please install ased3\n"
     ]
    }
   ],
   "source": [
    "from rdkit import Chem\n",
    "import pyaniasetools as pya\n",
    "\n",
    "from ase_interface import ANIENS,ensemblemolecule\n",
    "import hdnntools as hdt\n",
    "import numpy as np\n",
    "\n",
    "import matplotlib as mpl\n",
    "import matplotlib.pyplot as plt"
   ]
  },
  {
   "cell_type": "code",
   "execution_count": 2,
   "metadata": {},
   "outputs": [],
   "source": [
    "nets = dict()\n",
    "\n",
    "ntdir = '/nh/nest/u/jsmith/scratch/Research/ccsd_extrapolation/test_dft_networks/arc11/'\n",
    "nets['ANI-1x(wb97x/DZ)']= {'cns' : ntdir + 'rHCNO-4.6R_16-3.1A_a4-8.params',\n",
    "                           'sae' : ntdir + 'sae_wb97x-631gd.dat',\n",
    "                           'nnf' : ntdir + 'train',\n",
    "                           'Nn'  : 5}"
   ]
  },
  {
   "cell_type": "code",
   "execution_count": 3,
   "metadata": {},
   "outputs": [],
   "source": [
    "ens = ensemblemolecule(nets['ANI-1x(wb97x/DZ)']['cns'], nets['ANI-1x(wb97x/DZ)']['sae'], nets['ANI-1x(wb97x/DZ)']['nnf'], nets['ANI-1x(wb97x/DZ)']['Nn'], 0)"
   ]
  },
  {
   "cell_type": "code",
   "execution_count": null,
   "metadata": {},
   "outputs": [],
   "source": [
    "suppl = Chem.SDMolSupplier('/nh/nest/u/jsmith/scratch/Research/ccsd_extrapolation/ccsd_testcase/QM_MM_Gas_Phase_Torsion_Scan_Individual_Results_with_CCSD_T_CBS_baseline.sdf', removeHs=False)\n",
    "for i,mol in enumerate(suppl):\n",
    "    props = mol.GetPropsAsDict()\n",
    "    \n",
    "    if props['deltaE'] < 1.0e-3 and props['MinMethod'] == 'CCSD_T_CBS_MP2':\n",
    "        print(props['ScanVar_1'],props['deltaE'], props['SMILES'])\n",
    "        print(props.keys())\n",
    "        didx = np.fromstring(props['ScanAtoms_1'], dtype=np.uint32, sep=' ')\n",
    "    \n",
    "        ts = pya.ani_tortion_scanner(ens)\n",
    "    \n",
    "        p,e = ts.scan_tortion(mol, didx, 5.0, 72)\n",
    "    \n",
    "        plt.plot(p,e)\n",
    "        plt.show()\n"
   ]
  },
  {
   "cell_type": "code",
   "execution_count": 9,
   "metadata": {},
   "outputs": [
    {
     "name": "stdout",
     "output_type": "stream",
     "text": [
      "-119.98458089227644\n"
     ]
    },
    {
     "name": "stderr",
     "output_type": "stream",
     "text": [
      "/scratch/Gits/ase/ase/atoms.py:1358: UserWarning: Please use new API (which will return the angle in degrees): atoms_obj.get_dihedral(a1,a2,a3,a4)*pi/180 instead of atoms_obj.get_dihedral([a1,a2,a3,a4])\n",
      "  'Please use new API (which will return the angle in degrees): '\n"
     ]
    },
    {
     "name": "stdout",
     "output_type": "stream",
     "text": [
      "Phi value (degrees), energy (kcal/mol)=  240.02 -621824.01\n",
      "Phi value (degrees), energy (kcal/mol)=  235.02 -621824.30\n",
      "Phi value (degrees), energy (kcal/mol)=  230.02 -621824.50\n",
      "Phi value (degrees), energy (kcal/mol)=  225.02 -621824.62\n",
      "Phi value (degrees), energy (kcal/mol)=  220.02 -621824.60\n",
      "Phi value (degrees), energy (kcal/mol)=  215.02 -621824.79\n",
      "Phi value (degrees), energy (kcal/mol)=  210.02 -621825.01\n",
      "Phi value (degrees), energy (kcal/mol)=  205.02 -621825.15\n",
      "Phi value (degrees), energy (kcal/mol)=  200.02 -621825.33\n",
      "Phi value (degrees), energy (kcal/mol)=  195.02 -621825.40\n",
      "Phi value (degrees), energy (kcal/mol)=  190.02 -621825.42\n",
      "Phi value (degrees), energy (kcal/mol)=  185.02 -621825.87\n",
      "Phi value (degrees), energy (kcal/mol)=  180.02 -621826.33\n",
      "Phi value (degrees), energy (kcal/mol)=  175.02 -621826.79\n",
      "Phi value (degrees), energy (kcal/mol)=  170.02 -621827.22\n",
      "Phi value (degrees), energy (kcal/mol)=  165.02 -621827.49\n",
      "Phi value (degrees), energy (kcal/mol)=  160.02 -621827.90\n",
      "Phi value (degrees), energy (kcal/mol)=  155.02 -621828.27\n",
      "Phi value (degrees), energy (kcal/mol)=  150.02 -621828.63\n",
      "Phi value (degrees), energy (kcal/mol)=  145.02 -621828.97\n",
      "Phi value (degrees), energy (kcal/mol)=  140.02 -621829.29\n",
      "Phi value (degrees), energy (kcal/mol)=  135.02 -621829.57\n",
      "Phi value (degrees), energy (kcal/mol)=  130.02 -621829.80\n",
      "Phi value (degrees), energy (kcal/mol)=  125.02 -621829.99\n",
      "Phi value (degrees), energy (kcal/mol)=  120.02 -621830.15\n",
      "Phi value (degrees), energy (kcal/mol)=  115.02 -621830.25\n",
      "Phi value (degrees), energy (kcal/mol)=  110.02 -621830.29\n",
      "Phi value (degrees), energy (kcal/mol)=  105.02 -621830.25\n",
      "Phi value (degrees), energy (kcal/mol)=  100.02 -621830.14\n",
      "Phi value (degrees), energy (kcal/mol)=  95.02 -621830.02\n",
      "Phi value (degrees), energy (kcal/mol)=  90.02 -621829.88\n",
      "Phi value (degrees), energy (kcal/mol)=  85.02 -621829.69\n",
      "Phi value (degrees), energy (kcal/mol)=  80.02 -621829.54\n",
      "Phi value (degrees), energy (kcal/mol)=  75.02 -621829.36\n",
      "Phi value (degrees), energy (kcal/mol)=  70.02 -621829.05\n",
      "Phi value (degrees), energy (kcal/mol)=  65.02 -621828.82\n",
      "Phi value (degrees), energy (kcal/mol)=  60.02 -621828.63\n",
      "Phi value (degrees), energy (kcal/mol)=  55.02 -621828.32\n",
      "Phi value (degrees), energy (kcal/mol)=  50.02 -621828.01\n",
      "Phi value (degrees), energy (kcal/mol)=  45.02 -621827.89\n",
      "Phi value (degrees), energy (kcal/mol)=  40.02 -621828.02\n",
      "Phi value (degrees), energy (kcal/mol)=  35.02 -621827.94\n",
      "Phi value (degrees), energy (kcal/mol)=  30.02 -621828.02\n",
      "Phi value (degrees), energy (kcal/mol)=  25.02 -621828.06\n",
      "Phi value (degrees), energy (kcal/mol)=  20.02 -621828.02\n",
      "Phi value (degrees), energy (kcal/mol)=  15.02 -621827.88\n",
      "Phi value (degrees), energy (kcal/mol)=  10.02 -621827.91\n",
      "Phi value (degrees), energy (kcal/mol)=  5.02 -621827.98\n",
      "Phi value (degrees), energy (kcal/mol)=  0.02 -621828.01\n",
      "Phi value (degrees), energy (kcal/mol)=  355.02 -621827.98\n",
      "Phi value (degrees), energy (kcal/mol)=  350.02 -621827.88\n",
      "Phi value (degrees), energy (kcal/mol)=  345.02 -621827.74\n",
      "Phi value (degrees), energy (kcal/mol)=  340.02 -621827.12\n",
      "Phi value (degrees), energy (kcal/mol)=  335.02 -621827.06\n",
      "Phi value (degrees), energy (kcal/mol)=  330.02 -621826.89\n",
      "Phi value (degrees), energy (kcal/mol)=  325.02 -621826.59\n",
      "Phi value (degrees), energy (kcal/mol)=  320.02 -621827.70\n",
      "Phi value (degrees), energy (kcal/mol)=  315.02 -621827.73\n",
      "Phi value (degrees), energy (kcal/mol)=  310.02 -621827.68\n",
      "Phi value (degrees), energy (kcal/mol)=  305.02 -621827.60\n",
      "Phi value (degrees), energy (kcal/mol)=  300.02 -621827.61\n",
      "Phi value (degrees), energy (kcal/mol)=  295.02 -621827.58\n",
      "Phi value (degrees), energy (kcal/mol)=  290.02 -621827.47\n",
      "Phi value (degrees), energy (kcal/mol)=  285.02 -621819.61\n",
      "Phi value (degrees), energy (kcal/mol)=  280.02 -621820.21\n",
      "Phi value (degrees), energy (kcal/mol)=  275.02 -621820.71\n",
      "Phi value (degrees), energy (kcal/mol)=  270.02 -621821.14\n",
      "Phi value (degrees), energy (kcal/mol)=  265.02 -621821.65\n",
      "Phi value (degrees), energy (kcal/mol)=  260.02 -621822.14\n",
      "Phi value (degrees), energy (kcal/mol)=  255.02 -621822.63\n",
      "Phi value (degrees), energy (kcal/mol)=  250.02 -621823.19\n",
      "Phi value (degrees), energy (kcal/mol)=  245.02 -621823.65\n"
     ]
    },
    {
     "data": {
      "image/png": "[encoded data removed]",
      "text/plain": [
       "<Figure size 432x288 with 1 Axes>"
      ]
     },
     "metadata": {},
     "output_type": "display_data"
    }
   ],
   "source": [
    "mol = Chem.MolFromMolFile('/auto/nest/nest/u/jsmith/Downloads/drugbank-1250.ipt.mol', removeHs=False)\n",
    "\n",
    "ts = pya.ani_tortion_scanner(ens)\n",
    "    \n",
    "p,e = ts.scan_tortion(mol, [11,12,13,15], 5.0, 72)"
   ]
  },
  {
   "cell_type": "code",
   "execution_count": 11,
   "metadata": {},
   "outputs": [
    {
     "data": {
      "image/png": "[encoded data removed]",
      "text/plain": [
       "<Figure size 432x288 with 1 Axes>"
      ]
     },
     "metadata": {},
     "output_type": "display_data"
    }
   ],
   "source": [
    "idx = np.argsort(p)\n",
    "\n",
    "plt.plot(p[idx],e[idx])\n",
    "plt.show()"
   ]
  },
  {
   "cell_type": "code",
   "execution_count": null,
   "metadata": {},
   "outputs": [],
   "source": []
  }
 ],
 "metadata": {
  "kernelspec": {
   "display_name": "Python 3",
   "language": "python",
   "name": "python3"
  },
  "language_info": {
   "codemirror_mode": {
    "name": "ipython",
    "version": 3
   },
   "file_extension": ".py",
   "mimetype": "text/x-python",
   "name": "python",
   "nbconvert_exporter": "python",
   "pygments_lexer": "ipython3",
   "version": "3.6.4"
  }
 },
 "nbformat": 4,
 "nbformat_minor": 2
}
