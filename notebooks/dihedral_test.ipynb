{
 "cells": [
  {
   "cell_type": "code",
   "execution_count": 5,
   "metadata": {},
   "outputs": [],
   "source": [
    "from rdkit import Chem\n",
    "import pyaniasetools as pya\n",
    "\n",
    "from ase_interface import ANIENS,ensemblemolecule\n",
    "import hdnntools as hdt\n",
    "import numpy as np\n",
    "\n",
    "import matplotlib as mpl\n",
    "import matplotlib.pyplot as plt"
   ]
  },
  {
   "cell_type": "code",
   "execution_count": 6,
   "metadata": {
    "collapsed": true
   },
   "outputs": [],
   "source": [
    "nets = dict()\n",
    "\n",
    "ntdir = '/home/jsmith48/scratch/transfer_learning/train_ens_DFTTZ/'\n",
    "nets['ANI-1x(DFTDZ)']= {'cns' : ntdir + 'rHCNO-4.6R_16-3.1A_a4-8.params',\n",
    "                                 'sae' : ntdir + 'sae_linfit.dat',\n",
    "                                 'nnf' : ntdir + 'train',\n",
    "                                 'Nn'  : 5}"
   ]
  },
  {
   "cell_type": "code",
   "execution_count": 7,
   "metadata": {
    "collapsed": true
   },
   "outputs": [],
   "source": [
    "ens = ensemblemolecule(nets['ANI-1x(DFTDZ)']['cns'], nets['ANI-1x(DFTDZ)']['sae'], nets['ANI-1x(DFTDZ)']['nnf'], nets['ANI-1x(DFTDZ)']['Nn'], 0)"
   ]
  },
  {
   "cell_type": "code",
   "execution_count": 4,
   "metadata": {},
   "outputs": [
    {
     "name": "stdout",
     "output_type": "stream",
     "text": [
      "-119.98458089227644\n"
     ]
    },
    {
     "name": "stderr",
     "output_type": "stream",
     "text": [
      "/scratch/Gits/ase/ase/atoms.py:1358: UserWarning: Please use new API (which will return the angle in degrees): atoms_obj.get_dihedral(a1,a2,a3,a4)*pi/180 instead of atoms_obj.get_dihedral([a1,a2,a3,a4])\n",
      "  'Please use new API (which will return the angle in degrees): '\n"
     ]
    },
    {
     "name": "stdout",
     "output_type": "stream",
     "text": [
      "Phi value (degrees), energy (kcal/mol)=  180.00 -117296.05\n",
      "Phi value (degrees), energy (kcal/mol)=  175.00 -117295.98\n",
      "Phi value (degrees), energy (kcal/mol)=  170.00 -117295.75\n",
      "Phi value (degrees), energy (kcal/mol)=  165.00 -117295.41\n",
      "Phi value (degrees), energy (kcal/mol)=  160.00 -117294.98\n",
      "Phi value (degrees), energy (kcal/mol)=  155.00 -117294.47\n",
      "Phi value (degrees), energy (kcal/mol)=  150.00 -117293.92\n",
      "Phi value (degrees), energy (kcal/mol)=  145.00 -117293.36\n",
      "Phi value (degrees), energy (kcal/mol)=  140.00 -117292.84\n",
      "Phi value (degrees), energy (kcal/mol)=  135.00 -117292.41\n",
      "Phi value (degrees), energy (kcal/mol)=  130.00 -117292.08\n",
      "Phi value (degrees), energy (kcal/mol)=  125.00 -117291.89\n",
      "Phi value (degrees), energy (kcal/mol)=  120.00 -117291.86\n",
      "Phi value (degrees), energy (kcal/mol)=  115.00 -117291.97\n",
      "Phi value (degrees), energy (kcal/mol)=  110.00 -117292.19\n",
      "Phi value (degrees), energy (kcal/mol)=  105.00 -117292.56\n",
      "Phi value (degrees), energy (kcal/mol)=  100.00 -117293.08\n",
      "Phi value (degrees), energy (kcal/mol)=  95.00 -117293.72\n",
      "Phi value (degrees), energy (kcal/mol)=  90.00 -117294.35\n",
      "Phi value (degrees), energy (kcal/mol)=  85.00 -117294.87\n",
      "Phi value (degrees), energy (kcal/mol)=  80.00 -117295.24\n",
      "Phi value (degrees), energy (kcal/mol)=  75.00 -117295.51\n",
      "Phi value (degrees), energy (kcal/mol)=  70.00 -117295.68\n",
      "Phi value (degrees), energy (kcal/mol)=  65.00 -117295.69\n",
      "Phi value (degrees), energy (kcal/mol)=  60.00 -117295.55\n",
      "Phi value (degrees), energy (kcal/mol)=  55.00 -117295.37\n",
      "Phi value (degrees), energy (kcal/mol)=  50.00 -117295.19\n",
      "Phi value (degrees), energy (kcal/mol)=  45.00 -117294.91\n",
      "Phi value (degrees), energy (kcal/mol)=  40.00 -117294.47\n",
      "Phi value (degrees), energy (kcal/mol)=  35.00 -117293.90\n",
      "Phi value (degrees), energy (kcal/mol)=  30.00 -117293.23\n",
      "Phi value (degrees), energy (kcal/mol)=  25.00 -117292.53\n",
      "Phi value (degrees), energy (kcal/mol)=  20.00 -117291.83\n",
      "Phi value (degrees), energy (kcal/mol)=  15.00 -117291.16\n",
      "Phi value (degrees), energy (kcal/mol)=  10.00 -117290.57\n",
      "Phi value (degrees), energy (kcal/mol)=  5.00 -117290.12\n",
      "Phi value (degrees), energy (kcal/mol)=  360.00 -117289.93\n",
      "Phi value (degrees), energy (kcal/mol)=  355.00 -117290.12\n",
      "Phi value (degrees), energy (kcal/mol)=  350.00 -117290.57\n",
      "Phi value (degrees), energy (kcal/mol)=  345.00 -117291.16\n",
      "Phi value (degrees), energy (kcal/mol)=  340.00 -117291.83\n",
      "Phi value (degrees), energy (kcal/mol)=  335.00 -117292.53\n",
      "Phi value (degrees), energy (kcal/mol)=  330.00 -117293.23\n",
      "Phi value (degrees), energy (kcal/mol)=  325.00 -117293.90\n",
      "Phi value (degrees), energy (kcal/mol)=  320.00 -117294.47\n",
      "Phi value (degrees), energy (kcal/mol)=  315.00 -117294.91\n",
      "Phi value (degrees), energy (kcal/mol)=  310.00 -117295.19\n",
      "Phi value (degrees), energy (kcal/mol)=  305.00 -117295.37\n",
      "Phi value (degrees), energy (kcal/mol)=  300.00 -117295.55\n",
      "Phi value (degrees), energy (kcal/mol)=  295.00 -117295.69\n",
      "Phi value (degrees), energy (kcal/mol)=  290.00 -117295.68\n",
      "Phi value (degrees), energy (kcal/mol)=  285.00 -117295.51\n",
      "Phi value (degrees), energy (kcal/mol)=  280.00 -117295.24\n",
      "Phi value (degrees), energy (kcal/mol)=  275.00 -117294.87\n",
      "Phi value (degrees), energy (kcal/mol)=  270.00 -117294.35\n",
      "Phi value (degrees), energy (kcal/mol)=  265.00 -117293.72\n",
      "Phi value (degrees), energy (kcal/mol)=  260.00 -117293.08\n",
      "Phi value (degrees), energy (kcal/mol)=  255.00 -117292.56\n",
      "Phi value (degrees), energy (kcal/mol)=  250.00 -117292.19\n",
      "Phi value (degrees), energy (kcal/mol)=  245.00 -117291.97\n",
      "Phi value (degrees), energy (kcal/mol)=  240.00 -117291.86\n",
      "Phi value (degrees), energy (kcal/mol)=  235.00 -117291.89\n",
      "Phi value (degrees), energy (kcal/mol)=  230.00 -117292.08\n",
      "Phi value (degrees), energy (kcal/mol)=  225.00 -117292.41\n",
      "Phi value (degrees), energy (kcal/mol)=  220.00 -117292.84\n",
      "Phi value (degrees), energy (kcal/mol)=  215.00 -117293.36\n",
      "Phi value (degrees), energy (kcal/mol)=  210.00 -117293.92\n",
      "Phi value (degrees), energy (kcal/mol)=  205.00 -117294.47\n",
      "Phi value (degrees), energy (kcal/mol)=  200.00 -117294.98\n",
      "Phi value (degrees), energy (kcal/mol)=  195.00 -117295.41\n",
      "Phi value (degrees), energy (kcal/mol)=  190.00 -117295.75\n",
      "Phi value (degrees), energy (kcal/mol)=  185.00 -117295.98\n"
     ]
    },
    {
     "data": {
      "image/png": "[encoded data removed]",
      "text/plain": [
       "<matplotlib.figure.Figure at 0x2acb95d5ff28>"
      ]
     },
     "metadata": {},
     "output_type": "display_data"
    }
   ],
   "source": [
    "mol = Chem.MolFromMolFile('/auto/nest/nest/u/jsmith/Downloads/drugbank-1250.ipt.mol', removeHs=False)\n",
    "\n",
    "ts = pya.ani_tortion_scanner(ens)\n",
    "    \n",
    "p,e = ts.scan_tortion(mol, [11,12,13,15], 5.0, 72)"
   ]
  },
  {
   "cell_type": "code",
   "execution_count": null,
   "metadata": {
    "collapsed": true
   },
   "outputs": [],
   "source": []
  },
  {
   "cell_type": "code",
   "execution_count": null,
   "metadata": {
    "collapsed": true
   },
   "outputs": [],
   "source": []
  }
 ],
 "metadata": {
  "kernelspec": {
   "display_name": "Python 3",
   "language": "python",
   "name": "python3"
  },
  "language_info": {
   "codemirror_mode": {
    "name": "ipython",
    "version": 3
   },
   "file_extension": ".py",
   "mimetype": "text/x-python",
   "name": "python",
   "nbconvert_exporter": "python",
   "pygments_lexer": "ipython3",
   "version": "3.6.3"
  }
 },
 "nbformat": 4,
 "nbformat_minor": 2
}
