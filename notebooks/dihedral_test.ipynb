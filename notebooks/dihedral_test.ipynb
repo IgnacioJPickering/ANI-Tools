{
 "cells": [
  {
   "cell_type": "code",
   "execution_count": 1,
   "metadata": {},
   "outputs": [
    {
     "name": "stdout",
     "output_type": "stream",
     "text": [
      "van Der Waals correction will be unavailable. Please install ased3\n"
     ]
    }
   ],
   "source": [
    "from rdkit import Chem\n",
    "import pyaniasetools as pya\n",
    "\n",
    "from ase_interface import ANIENS,ensemblemolecule\n",
    "import hdnntools as hdt\n",
    "import numpy as np\n",
    "\n",
    "import matplotlib as mpl\n",
    "import matplotlib.pyplot as plt"
   ]
  },
  {
   "cell_type": "code",
   "execution_count": 2,
   "metadata": {
    "collapsed": true
   },
   "outputs": [],
   "source": [
    "nets = dict()\n",
    "\n",
    "ntdir = '/home/jsmith48/scratch/ANI-AL_retrain/arc6/'\n",
    "nets['ANI-1x(wb97x/TZ)']= {'cns' : ntdir + 'rHCNO-4.6R_16-3.1A_a4-8.params',\n",
    "                           'sae' : ntdir + 'sae_linfit.dat',\n",
    "                           'nnf' : ntdir + 'train',\n",
    "                           'Nn'  : 5}"
   ]
  },
  {
   "cell_type": "code",
   "execution_count": 3,
   "metadata": {},
   "outputs": [],
   "source": [
    "ens = ensemblemolecule(nets['ANI-1x(wb97x/TZ)']['cns'], nets['ANI-1x(wb97x/TZ)']['sae'], nets['ANI-1x(wb97x/TZ)']['nnf'], nets['ANI-1x(wb97x/TZ)']['Nn'], 3)"
   ]
  },
  {
   "cell_type": "code",
   "execution_count": 5,
   "metadata": {},
   "outputs": [
    {
     "name": "stdout",
     "output_type": "stream",
     "text": [
      "180.0 0.0 CCCC\n",
      "dict_keys(['SMILES', 'MinMethod', 'ScanVar_1', 'deltaE', 'Category', 'Energy', 'minE', 'ScanAtoms_1', 'ddE_CCSD', 'ddE_CCSD_lowE', 'WATER', 'Number'])\n",
      "180.0\n"
     ]
    },
    {
     "name": "stderr",
     "output_type": "stream",
     "text": [
      "/apps/ase/ase/atoms.py:1358: UserWarning: Please use new API (which will return the angle in degrees): atoms_obj.get_dihedral(a1,a2,a3,a4)*pi/180 instead of atoms_obj.get_dihedral([a1,a2,a3,a4])\n",
      "  'Please use new API (which will return the angle in degrees): '\n"
     ]
    },
    {
     "name": "stdout",
     "output_type": "stream",
     "text": [
      "Phi value (degrees), energy (kcal/mol)=  180.00 -117296.22\n",
      "Phi value (degrees), energy (kcal/mol)=  175.00 -117296.16\n",
      "Phi value (degrees), energy (kcal/mol)=  170.00 -117295.96\n",
      "Phi value (degrees), energy (kcal/mol)=  165.00 -117295.65\n",
      "Phi value (degrees), energy (kcal/mol)=  160.00 -117295.25\n",
      "Phi value (degrees), energy (kcal/mol)=  155.00 -117294.78\n",
      "Phi value (degrees), energy (kcal/mol)=  150.00 -117294.26\n",
      "Phi value (degrees), energy (kcal/mol)=  145.00 -117293.74\n",
      "Phi value (degrees), energy (kcal/mol)=  140.00 -117293.24\n",
      "Phi value (degrees), energy (kcal/mol)=  135.00 -117292.80\n",
      "Phi value (degrees), energy (kcal/mol)=  130.00 -117292.48\n",
      "Phi value (degrees), energy (kcal/mol)=  125.00 -117292.28\n",
      "Phi value (degrees), energy (kcal/mol)=  120.00 -117292.22\n",
      "Phi value (degrees), energy (kcal/mol)=  115.00 -117292.28\n",
      "Phi value (degrees), energy (kcal/mol)=  110.00 -117292.48\n",
      "Phi value (degrees), energy (kcal/mol)=  105.00 -117292.83\n",
      "Phi value (degrees), energy (kcal/mol)=  100.00 -117293.30\n",
      "Phi value (degrees), energy (kcal/mol)=  95.00 -117293.88\n",
      "Phi value (degrees), energy (kcal/mol)=  90.00 -117294.44\n",
      "Phi value (degrees), energy (kcal/mol)=  85.00 -117294.93\n",
      "Phi value (degrees), energy (kcal/mol)=  80.00 -117295.32\n",
      "Phi value (degrees), energy (kcal/mol)=  75.00 -117295.61\n",
      "Phi value (degrees), energy (kcal/mol)=  70.00 -117295.77\n",
      "Phi value (degrees), energy (kcal/mol)=  65.00 -117295.80\n",
      "Phi value (degrees), energy (kcal/mol)=  60.00 -117295.72\n",
      "Phi value (degrees), energy (kcal/mol)=  55.00 -117295.55\n",
      "Phi value (degrees), energy (kcal/mol)=  50.00 -117295.36\n",
      "Phi value (degrees), energy (kcal/mol)=  45.00 -117295.07\n",
      "Phi value (degrees), energy (kcal/mol)=  40.00 -117294.67\n",
      "Phi value (degrees), energy (kcal/mol)=  35.00 -117294.15\n",
      "Phi value (degrees), energy (kcal/mol)=  30.00 -117293.55\n",
      "Phi value (degrees), energy (kcal/mol)=  25.00 -117292.87\n",
      "Phi value (degrees), energy (kcal/mol)=  20.00 -117292.17\n",
      "Phi value (degrees), energy (kcal/mol)=  15.00 -117291.50\n",
      "Phi value (degrees), energy (kcal/mol)=  10.00 -117290.94\n",
      "Phi value (degrees), energy (kcal/mol)=  5.00 -117290.56\n",
      "Phi value (degrees), energy (kcal/mol)=  360.00 -117290.43\n",
      "Phi value (degrees), energy (kcal/mol)=  355.00 -117290.56\n",
      "Phi value (degrees), energy (kcal/mol)=  350.00 -117290.94\n",
      "Phi value (degrees), energy (kcal/mol)=  345.00 -117291.50\n",
      "Phi value (degrees), energy (kcal/mol)=  340.00 -117292.17\n",
      "Phi value (degrees), energy (kcal/mol)=  335.00 -117292.87\n",
      "Phi value (degrees), energy (kcal/mol)=  330.00 -117293.55\n",
      "Phi value (degrees), energy (kcal/mol)=  325.00 -117294.15\n",
      "Phi value (degrees), energy (kcal/mol)=  320.00 -117294.67\n",
      "Phi value (degrees), energy (kcal/mol)=  315.00 -117295.07\n",
      "Phi value (degrees), energy (kcal/mol)=  310.00 -117295.36\n",
      "Phi value (degrees), energy (kcal/mol)=  305.00 -117295.55\n",
      "Phi value (degrees), energy (kcal/mol)=  300.00 -117295.72\n",
      "Phi value (degrees), energy (kcal/mol)=  295.00 -117295.80\n",
      "Phi value (degrees), energy (kcal/mol)=  290.00 -117295.77\n",
      "Phi value (degrees), energy (kcal/mol)=  285.00 -117295.61\n",
      "Phi value (degrees), energy (kcal/mol)=  280.00 -117295.32\n",
      "Phi value (degrees), energy (kcal/mol)=  275.00 -117294.93\n",
      "Phi value (degrees), energy (kcal/mol)=  270.00 -117294.44\n",
      "Phi value (degrees), energy (kcal/mol)=  265.00 -117293.88\n",
      "Phi value (degrees), energy (kcal/mol)=  260.00 -117293.30\n",
      "Phi value (degrees), energy (kcal/mol)=  255.00 -117292.83\n",
      "Phi value (degrees), energy (kcal/mol)=  250.00 -117292.48\n",
      "Phi value (degrees), energy (kcal/mol)=  245.00 -117292.28\n",
      "Phi value (degrees), energy (kcal/mol)=  240.00 -117292.22\n",
      "Phi value (degrees), energy (kcal/mol)=  235.00 -117292.28\n",
      "Phi value (degrees), energy (kcal/mol)=  230.00 -117292.48\n",
      "Phi value (degrees), energy (kcal/mol)=  225.00 -117292.80\n",
      "Phi value (degrees), energy (kcal/mol)=  220.00 -117293.24\n",
      "Phi value (degrees), energy (kcal/mol)=  215.00 -117293.74\n",
      "Phi value (degrees), energy (kcal/mol)=  210.00 -117294.26\n",
      "Phi value (degrees), energy (kcal/mol)=  205.00 -117294.78\n",
      "Phi value (degrees), energy (kcal/mol)=  200.00 -117295.25\n",
      "Phi value (degrees), energy (kcal/mol)=  195.00 -117295.65\n",
      "Phi value (degrees), energy (kcal/mol)=  190.00 -117295.96\n",
      "Phi value (degrees), energy (kcal/mol)=  185.00 -117296.16\n"
     ]
    },
    {
     "data": {
      "image/png": "[encoded data removed]",
      "text/plain": [
       "<matplotlib.figure.Figure at 0x2ae9bd4053c8>"
      ]
     },
     "metadata": {},
     "output_type": "display_data"
    }
   ],
   "source": [
    "suppl = Chem.SDMolSupplier('/home/jsmith48/scratch/ccsd_extrapolation/ccsd_testcase/QM_MM_Gas_Phase_Torsion_Scan_Individual_Results_with_CCSD_T_CBS_baseline.sdf', removeHs=False)\n",
    "for i,mol in enumerate(suppl):\n",
    "    props = mol.GetPropsAsDict()\n",
    "    \n",
    "    if props['deltaE'] < 1.0e-3 and props['MinMethod'] == 'CCSD_T_CBS_MP2' and props['SMILES']=='CCCC':\n",
    "        print(props['ScanVar_1'],props['deltaE'], props['SMILES'])\n",
    "        print(props.keys())\n",
    "        didx = np.fromstring(props['ScanAtoms_1'], dtype=np.uint32, sep=' ')\n",
    "    \n",
    "        ts = pya.ani_tortion_scanner(ens)\n",
    "    \n",
    "        p,e = ts.scan_tortion(mol, didx, 5.0, 72)\n",
    "    \n",
    "        plt.plot(p,e)\n",
    "        plt.show()\n"
   ]
  },
  {
   "cell_type": "code",
   "execution_count": null,
   "metadata": {},
   "outputs": [],
   "source": []
  },
  {
   "cell_type": "code",
   "execution_count": null,
   "metadata": {
    "collapsed": true
   },
   "outputs": [],
   "source": []
  }
 ],
 "metadata": {
  "kernelspec": {
   "display_name": "Python 3",
   "language": "python",
   "name": "python3"
  },
  "language_info": {
   "codemirror_mode": {
    "name": "ipython",
    "version": 3
   },
   "file_extension": ".py",
   "mimetype": "text/x-python",
   "name": "python",
   "nbconvert_exporter": "python",
   "pygments_lexer": "ipython3",
   "version": "3.6.3"
  }
 },
 "nbformat": 4,
 "nbformat_minor": 2
}
