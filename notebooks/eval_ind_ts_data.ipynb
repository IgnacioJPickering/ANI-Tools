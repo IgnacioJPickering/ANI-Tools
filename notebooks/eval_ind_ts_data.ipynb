{
 "cells": [
  {
   "cell_type": "code",
   "execution_count": 1,
   "metadata": {},
   "outputs": [
    {
     "name": "stderr",
     "output_type": "stream",
     "text": [
      "/usr/local/anaconda3/lib/python3.6/site-packages/h5py/__init__.py:36: FutureWarning: Conversion of the second argument of issubdtype from `float` to `np.floating` is deprecated. In future, it will be treated as `np.float64 == np.dtype(float).type`.\n",
      "  from ._conv import register_converters as _register_converters\n"
     ]
    },
    {
     "name": "stdout",
     "output_type": "stream",
     "text": [
      "0.20.3\n"
     ]
    }
   ],
   "source": [
    "import pyanitools as pyt\n",
    "import pyaniasetools as aat\n",
    "import hdnntools as hdt\n",
    "import numpy as np\n",
    "\n",
    "import matplotlib.pyplot as plt\n",
    "import matplotlib as mpl\n",
    "import aniensemblestats as ens\n",
    "\n",
    "import os\n",
    "import pandas as pd\n",
    "\n",
    "import time\n",
    "\n",
    "import seaborn as sns\n",
    "print(pd.__version__)\n",
    "\n",
    "#import seaborn as sns\n",
    "pd.options.display.float_format = '{:.2f}'.format\n",
    "cm = sns.light_palette(\"green\", as_cmap=True)"
   ]
  },
  {
   "cell_type": "code",
   "execution_count": 2,
   "metadata": {
    "collapsed": true
   },
   "outputs": [],
   "source": [
    "tex_store = '/home/jujuman/Dropbox/CONJCtest_ANI-9.0.5.tex'\n",
    "xls_store = '/home/jujuman/Dropbox/CONJCtest_ANI-9.0.5.xlsx'\n",
    "frc_xlsx = '/home/jujuman/Dropbox/CONJCtest_frcErrorperMolecule_ANI-9.0.5.xlsx'\n",
    "ani_version = 'ANI-2x'\n",
    "\n",
    "fdir_wb97 = '/home/jujuman/Research/conjugation_check/split_files/data/'\n",
    "\n",
    "wkdir = '/home/jsmith48/scratch/ANI-2x_retrain/train/ANI-2x_v62318/'\n",
    "#wkdir = '/home/jujuman/Research/ANI-validation/'\n",
    "cnstfile = wkdir + 'train0/rHCNOSFCl-5.2R_16-3.8A_a4-8.params'\n",
    "saefile  = wkdir + 'train0/sae_linfit.dat'\n",
    "nnfdir   = wkdir + '/train'\n",
    "Nn = 8"
   ]
  },
  {
   "cell_type": "code",
   "execution_count": 3,
   "metadata": {
    "collapsed": true
   },
   "outputs": [],
   "source": [
    "# Define the conformer cross validator class\n",
    "anicv = aat.anicrossvalidationmolecule(cnstfile,saefile,nnfdir,Nn,gpuid=6)"
   ]
  },
  {
   "cell_type": "code",
   "execution_count": 4,
   "metadata": {},
   "outputs": [
    {
     "ename": "FileNotFoundError",
     "evalue": "[Errno 2] No such file or directory: '/home/jujuman/Research/conjugation_check/split_files/data/'",
     "output_type": "error",
     "traceback": [
      "\u001b[0;31m---------------------------------------------------------------------------\u001b[0m",
      "\u001b[0;31mFileNotFoundError\u001b[0m                         Traceback (most recent call last)",
      "\u001b[0;32m<ipython-input-4-927d93251e56>\u001b[0m in \u001b[0;36m<module>\u001b[0;34m()\u001b[0m\n\u001b[0;32m----> 1\u001b[0;31m \u001b[0mfiles\u001b[0m \u001b[0;34m=\u001b[0m \u001b[0mos\u001b[0m\u001b[0;34m.\u001b[0m\u001b[0mlistdir\u001b[0m\u001b[0;34m(\u001b[0m\u001b[0mfdir_wb97\u001b[0m\u001b[0;34m)\u001b[0m\u001b[0;34m\u001b[0m\u001b[0m\n\u001b[0m\u001b[1;32m      2\u001b[0m \u001b[0;34m\u001b[0m\u001b[0m\n\u001b[1;32m      3\u001b[0m \u001b[0mstats1\u001b[0m \u001b[0;34m=\u001b[0m \u001b[0mdict\u001b[0m\u001b[0;34m(\u001b[0m\u001b[0;34m)\u001b[0m\u001b[0;34m\u001b[0m\u001b[0m\n\u001b[1;32m      4\u001b[0m \u001b[0mstats4\u001b[0m \u001b[0;34m=\u001b[0m \u001b[0mdict\u001b[0m\u001b[0;34m(\u001b[0m\u001b[0;34m)\u001b[0m\u001b[0;34m\u001b[0m\u001b[0m\n\u001b[1;32m      5\u001b[0m \u001b[0mstyle_F\u001b[0m \u001b[0;34m=\u001b[0m \u001b[0mdict\u001b[0m\u001b[0;34m(\u001b[0m\u001b[0;34m)\u001b[0m\u001b[0;34m\u001b[0m\u001b[0m\n",
      "\u001b[0;31mFileNotFoundError\u001b[0m: [Errno 2] No such file or directory: '/home/jujuman/Research/conjugation_check/split_files/data/'"
     ]
    }
   ],
   "source": [
    "files = os.listdir(fdir_wb97)\n",
    "\n",
    "stats1 = dict()\n",
    "stats4 = dict()\n",
    "style_F = dict()\n",
    "Forces = dict({'ANI':[],\n",
    "               'DFT':[],})\n",
    "\n",
    "forces = dict({'ANI':{},\n",
    "               'DFT':{},})\n",
    "\n",
    "\n",
    "denegy = dict({'ANI':{},\n",
    "               'DFT':{},})\n",
    "\n",
    "enegy = dict({'ANI':{},\n",
    "               'DFT':{},})\n",
    "\n",
    "for f in files:\n",
    "    name = f.split('_')[0]\n",
    "    data_wb97 = hdt.readncdatall(fdir_wb97+f)\n",
    "    \n",
    "    start = time.time()\n",
    "    Eani, Fani, Sani = anicv.compute_stats_multi_molecule(X=data_wb97['coordinates'],S=data_wb97['species'])\n",
    "    end = time.time()\n",
    "    comp_time = end - start\n",
    "    \n",
    "    Sani = np.std(Eani,axis=0)\n",
    "    print(Sani.shape)\n",
    "    Eani = np.mean(Eani,axis=0)\n",
    "    Fani = np.mean(Fani,axis=0)\n",
    "    \n",
    "    Ewb97 = hdt.hatokcal*data_wb97['energies']\n",
    "    Fwb97 = hdt.hatokcal*data_wb97['forces']\n",
    "    \n",
    "    print(name,Ewb97.size,' Time: ', comp_time)\n",
    "    #print(data['species'])\n",
    "    #print((Fani-Fdft)[0][12])\n",
    "    #print(Fani[0][12])\n",
    "    #print(Fdft[0][12])\n",
    "\n",
    "    frc_error = dict()\n",
    "    dF = np.linalg.norm(Fani - Fwb97,axis=2)\n",
    "    #dF = np.mean(dF,axis=1)\n",
    "    print(dF.shape)\n",
    "    for j,F in enumerate(dF):\n",
    "        Fstore = dict()\n",
    "        for i,(s,x) in enumerate(zip(data_wb97['species'],F)):\n",
    "            Fstore[str(i).zfill(3)+' '+s] = x\n",
    "        #Fstore['Total'] = np.mean(dF,axis=1)\n",
    "        #print(np.mean(dF,axis=1).shape)\n",
    "        frc_error[str(j).zfill(3)] = pd.Series(Fstore)\n",
    "    style_F[name] = pd.DataFrame(frc_error).transpose().style.background_gradient(cmap=cm)\n",
    "    \n",
    "    #np.random.shuffle(Fwb97)\n",
    "    \n",
    "    Fani = Fani.flatten()\n",
    "    Fwb97 = Fwb97.flatten()\n",
    "    \n",
    "    Forces['ANI'].append(Fani)\n",
    "    Forces['DFT'].append(Fwb97)\n",
    "\n",
    "    forces['ANI'].update({name : Fani})\n",
    "    forces['DFT'].update({name : Fwb97})\n",
    "\n",
    "    dEani = hdt.calculatedmat(Eani)\n",
    "    dEwb97 = hdt.calculatedmat(Ewb97)\n",
    "    \n",
    "    denegy['ANI'].update({name : dEani})\n",
    "    denegy['DFT'].update({name : dEwb97})\n",
    "    \n",
    "    enegy['ANI'].update({name : Eani})\n",
    "    enegy['DFT'].update({name : Ewb97})\n",
    "    \n",
    "    Na = len(data_wb97['species'])\n",
    "    \n",
    "    stats1[name] = pd.Series({'$\\mathrm{Atoms}$': int(Na),\n",
    "                              '$\\mathrm{E_{MAE}}$'   : hdt.calculatemeanabserror(Eani,Ewb97),\n",
    "                              '$\\mathrm{E_{RMS}}$'   : hdt.calculaterootmeansqrerror(Eani,Ewb97),\n",
    "                              '$\\mathrm{E_{range}}$'   : np.abs(Ewb97.max()-Ewb97.min()),\n",
    "                              '$\\mathrm{\\Delta E_{MAE}}$'  : hdt.calculatemeanabserror(dEani,dEwb97),\n",
    "                              '$\\mathrm{\\Delta E_{RMS}}$'  : hdt.calculaterootmeansqrerror(dEani,dEwb97),\n",
    "                              '$\\mathrm{\\Delta E_{range}}$'   : np.abs(dEwb97.max()-dEwb97.min()),\n",
    "                              '$\\mathrm{F_{MAE}}$'   : hdt.calculatemeanabserror(Fani,Fwb97),\n",
    "                              '$\\mathrm{F_{RMS}}$'   : hdt.calculaterootmeansqrerror(Fani,Fwb97),\n",
    "                              '$\\mathrm{F_{range}}$'   : np.abs(Fwb97.max()-Fwb97.min()),\n",
    "                              'time(ms)/mol' : 1000*comp_time/Ewb97.size,\n",
    "                              })\n",
    " \n",
    "    stats4[name] = pd.Series({'$\\mathrm{Atoms}$': int(Na),\n",
    "                              '$\\mathrm{E_{RMS}/ atom}$'   : hdt.calculaterootmeansqrerror(Eani/Na,Ewb97/Na),\n",
    "                              '$\\mathrm{E_{RMS}/ \\sqrt{atom}}$'   : hdt.calculaterootmeansqrerror(Eani,Ewb97)/np.sqrt(Na),\n",
    "                              '$\\mathrm{\\sigma / \\sqrt{atom}}$'   : np.mean(Sani/np.sqrt(Na)),\n",
    "                              '$\\mathrm{\\Delta E_{RMS}/ atom}$'  : hdt.calculaterootmeansqrerror(dEani,dEwb97)/Na,\n",
    "                              '$\\mathrm{\\Delta E_{RMS}/ \\sqrt{atom}}$'  : hdt.calculaterootmeansqrerror(dEani,dEwb97)/np.sqrt(Na),\n",
    "                              })\n",
    "\n",
    "for k in Forces.keys():\n",
    "    Forces[k] = np.concatenate(Forces[k])\n",
    "    \n",
    "edat1 = pd.DataFrame(stats1)\n",
    "edat4 = pd.DataFrame(stats4)\n",
    "    \n",
    "#dat4['mean'] = edat4.mean(axis=1)\n",
    "\n",
    "edat1 = edat1.transpose()\n",
    "edat4 = edat4.transpose()"
   ]
  },
  {
   "cell_type": "code",
   "execution_count": null,
   "metadata": {
    "collapsed": true
   },
   "outputs": [],
   "source": [
    "#edat = pd.DataFrame(stats).transpose()\n",
    "pd.set_option('expand_frame_repr', False)\n",
    "edat1 = edat1.sort_values(['$\\mathrm{Atoms}$'])\n",
    "edat4 = edat4.sort_values(['$\\mathrm{Atoms}$']).transpose()\n",
    "edat4['mean'] = edat4.mean(axis=1)\n",
    "edat4 = edat4.transpose()\n",
    "#edat2 = edat2.sort_values(['$\\mathrm{Atoms}$'])\n",
    "#edat3 = edat3.sort_values(['$\\mathrm{Atoms}$'])\n",
    "\n",
    "# Build latex document\n",
    "header = r'\\documentclass{article}'+'\\n'+r'\\usepackage{booktabs}'+'\\n'+r'\\usepackage[margin=0.5in]{geometry}'+'\\n'+r'\\begin{document}'+'\\n'\n",
    "\n",
    "begtab = r'\\begin{table}'+'\\n'+r'\\tiny'+'\\n'+r'\\centering'+'\\n'\n",
    "endtab = r'\\end{table}'+'\\n'\n",
    "enddoc = r'\\end{document}'\n",
    "with open(tex_store, \"w\") as text_file:\n",
    "    text_file.write(header)\n",
    "    text_file.write(begtab+r'\\caption{'+ani_version+r'}'+'\\n'+edat1.to_latex(escape=False)+endtab)\n",
    "    text_file.write(begtab+r'\\caption{'+'ANI per atom errors'+r'}'+'\\n'+edat4.to_latex(escape=False)+endtab)\n",
    "    text_file.write(enddoc)\n",
    "    \n",
    "\n",
    "# Create a Pandas Excel writer using XlsxWriter as the engine.\n",
    "writer = pd.ExcelWriter(xls_store, engine='xlsxwriter')\n",
    "\n",
    "# Convert the dataframe to an XlsxWriter Excel object.\n",
    "edat1.to_excel(writer, sheet_name=ani_version)\n",
    "edat4.to_excel(writer, sheet_name='Per atom errors')\n",
    "\n",
    "# Close the Pandas Excel writer and output the Excel file.\n",
    "writer.save()"
   ]
  },
  {
   "cell_type": "code",
   "execution_count": null,
   "metadata": {},
   "outputs": [],
   "source": [
    "edat1 = edat1.sort_values(['$\\mathrm{Atoms}$'])\n",
    "edat1.style"
   ]
  },
  {
   "cell_type": "code",
   "execution_count": null,
   "metadata": {
    "scrolled": true
   },
   "outputs": [],
   "source": [
    "edat4.transpose().style"
   ]
  },
  {
   "cell_type": "code",
   "execution_count": null,
   "metadata": {
    "collapsed": true
   },
   "outputs": [],
   "source": []
  },
  {
   "cell_type": "code",
   "execution_count": null,
   "metadata": {
    "collapsed": true
   },
   "outputs": [],
   "source": []
  },
  {
   "cell_type": "code",
   "execution_count": null,
   "metadata": {
    "collapsed": true,
    "scrolled": true
   },
   "outputs": [],
   "source": [
    "# Create a Pandas Excel writer using XlsxWriter as the engine.\n",
    "writer = pd.ExcelWriter(frc_xlsx, engine='xlsxwriter')\n",
    "\n",
    "\n",
    "for k in style_F:\n",
    "    # Convert the dataframe to an XlsxWriter Excel object.\n",
    "    style_F[k].to_excel(writer, sheet_name=k+'_'+ani_version)\n",
    "\n",
    "# Close the Pandas Excel writer and output the Excel file.\n",
    "writer.save()"
   ]
  },
  {
   "cell_type": "code",
   "execution_count": null,
   "metadata": {
    "collapsed": true
   },
   "outputs": [],
   "source": [
    "import aniensemblestats as aes\n",
    "import matplotlib as mpl\n",
    "\n",
    "from matplotlib.backends.backend_pdf import PdfPages"
   ]
  },
  {
   "cell_type": "code",
   "execution_count": null,
   "metadata": {},
   "outputs": [],
   "source": [
    "storepath = '/home/jujuman/Dropbox/ANAKIN-ME-RESEARCH/PUBLICATION-ActiveLearning/Figures/force_ANIMD_compare.pdf'\n",
    "\n",
    "label_size = 20\n",
    "mpl.rcParams['xtick.labelsize'] = label_size\n",
    "mpl.rcParams['ytick.labelsize'] = label_size\n",
    "\n",
    "#'$F_{dft}$' + r' $(kcal \\times mol^{-1} \\times \\AA^{-1})$'\n",
    "\n",
    "fig, axes = plt.subplots(1, 3, figsize=[30,8], sharex=True, sharey=True, gridspec_kw = {'width_ratios':[1, 1, 1.2]})\n",
    "cmap = mpl.cm.viridis\n",
    "\n",
    "bin1 = aes.plot_corr_dist_axes(axes[0], Forces['ANI'], Forces['DFT'], cmap, r'ANI-AL6 Force ($kcal \\times mol^{-1} \\times \\AA^{-1}$)', r'DFT Force ($kcal \\times mol^{-1} \\times \\AA^{-1}$)')\n",
    "heights = bin1[0]\n",
    "bin2 = aes.plot_corr_dist_axes(axes[1], Forces['DFTB'], Forces['DFT'], cmap, r'DFTB Force ($kcal \\times mol^{-1} \\times \\AA^{-1}$)', '', 1, heights.max())\n",
    "bin3 = aes.plot_corr_dist_axes(axes[2], Forces['PM6'], Forces['DFT'], cmap, r'PM6 Force ($kcal \\times mol^{-1} \\times \\AA^{-1}$)', '', 1, heights.max())\n",
    "\n",
    "cb1 = fig.colorbar(bin2[-1], cmap=cmap)\n",
    "cb1.set_label('Count', fontsize=20)\n",
    "\n",
    "#aes.add_inset_histogram(Forces['ANI'], Forces['DFT'], pos=[0.15, 0.636, .07, .235], ylim=[0, 1200], xlim=[-25, 25])\n",
    "#aes.add_inset_histogram(Forces['DFTB'], Forces['DFT'], pos=[0.41, 0.636, .07, .235], ylim=[0, 1200], xlim=[-25, 25])\n",
    "#aes.add_inset_histogram(Forces['PM6'], Forces['DFT'], pos=[0.67, 0.636, .07, .235], ylim=[0, 1200], xlim=[-25, 25])\n",
    "#add_inset_histogram(ax, Xa, Xp)\n",
    "#add_inset_histogram(ax, Xa, Xp)\n",
    "\n",
    "plt.show()\n",
    "#pp = PdfPages(storepath)\n",
    "#pp.savefig(fig)\n",
    "#pp.close()"
   ]
  },
  {
   "cell_type": "code",
   "execution_count": null,
   "metadata": {
    "collapsed": true
   },
   "outputs": [],
   "source": [
    "storepath = '/home/jujuman/Dropbox/ANAKIN-ME-RESEARCH/PUBLICATION-ActiveLearning/Figures/denergy_ANIMD_compare.pdf'\n",
    "\n",
    "label_size = 20\n",
    "mpl.rcParams['xtick.labelsize'] = label_size\n",
    "mpl.rcParams['ytick.labelsize'] = label_size\n",
    "\n",
    "#'$F_{dft}$' + r' $(kcal \\times mol^{-1} \\times \\AA^{-1})$'\n",
    "\n",
    "fig, axes = plt.subplots(1, 1, figsize=[10,8])\n",
    "cmap = mpl.cm.viridis\n",
    "\n",
    "bin1 = aes.plot_corr_dist_axes(axes, forces['ANI']['Fentanyl'], forces['DFT']['Fentanyl'], cmap, r'ANI-AL6 $\\Delta$E ($kcal \\times mol^{-1}$)', r'DFT $\\Delta$E ($kcal \\times mol^{-1}$)')\n",
    "\n",
    "cb1 = fig.colorbar(bin1[-1], cmap=cmap)\n",
    "cb1.set_label('Count', fontsize=20)\n",
    "\n",
    "#aes.add_inset_histogram(Forces['ANI'], Forces['DFT'], pos=[0.15, 0.636, .07, .235], ylim=[0, 1200], xlim=[-25, 25])\n",
    "#aes.add_inset_histogram(Forces['DFTB'], Forces['DFT'], pos=[0.41, 0.636, .07, .235], ylim=[0, 1200], xlim=[-25, 25])\n",
    "#aes.add_inset_histogram(Forces['PM6'], Forces['DFT'], pos=[0.67, 0.636, .07, .235], ylim=[0, 1200], xlim=[-25, 25])\n",
    "#add_inset_histogram(ax, Xa, Xp)\n",
    "#add_inset_histogram(ax, Xa, Xp)\n",
    "\n",
    "plt.show()\n",
    "#pp = PdfPages(storepath)\n",
    "#pp.savefig(fig)\n",
    "#pp.close()"
   ]
  },
  {
   "cell_type": "code",
   "execution_count": null,
   "metadata": {
    "collapsed": true
   },
   "outputs": [],
   "source": [
    "plt.hist(Forces['DFTB'] - Forces['DFT'],bins=100)\n",
    "plt.hist(Forces['ANI'] - Forces['DFT'],bins=100, alpha=0.5)\n",
    "\n",
    "plt.show()"
   ]
  },
  {
   "cell_type": "code",
   "execution_count": null,
   "metadata": {
    "collapsed": true
   },
   "outputs": [],
   "source": [
    "Ed = forces['DFT']['Retinol']\n",
    "Ea = forces['ANI']['Retinol']\n",
    "\n",
    "fig = plt.figure(figsize=[8,8])\n",
    "plt.scatter(Ed, Ea)\n",
    "plt.plot([Ed.min(), Ed.max()], [Ed.min(), Ed.max()],'--',c='r')\n",
    "plt.xlim([Ed.min(), Ed.max()])\n",
    "plt.ylim([Ed.min(), Ed.max()])\n",
    "plt.xlabel(r\"E DFT ($kcal \\times mol^{-1}$)\", fontsize=18)\n",
    "plt.ylabel(r\"E ani ($kcal \\times mol^{-1}$)\", fontsize=18)\n",
    "plt.show()\n",
    "#pp = PdfPages(\"/home/jujuman/Dropbox/ANAKIN-ME-RESEARCH/Figures/NEW-11-30-17/fent_ecorr_plot.pdf\")\n",
    "#pp.savefig(fig)\n",
    "#pp.close()"
   ]
  },
  {
   "cell_type": "code",
   "execution_count": null,
   "metadata": {
    "collapsed": true
   },
   "outputs": [],
   "source": []
  },
  {
   "cell_type": "code",
   "execution_count": null,
   "metadata": {
    "collapsed": true
   },
   "outputs": [],
   "source": []
  },
  {
   "cell_type": "code",
   "execution_count": null,
   "metadata": {
    "collapsed": true
   },
   "outputs": [],
   "source": []
  }
 ],
 "metadata": {
  "kernelspec": {
   "display_name": "Python 3",
   "language": "python",
   "name": "python3"
  },
  "language_info": {
   "codemirror_mode": {
    "name": "ipython",
    "version": 3
   },
   "file_extension": ".py",
   "mimetype": "text/x-python",
   "name": "python",
   "nbconvert_exporter": "python",
   "pygments_lexer": "ipython3",
   "version": "3.6.3"
  }
 },
 "nbformat": 4,
 "nbformat_minor": 1
}
