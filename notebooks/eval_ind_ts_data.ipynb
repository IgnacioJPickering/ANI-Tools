{
 "cells": [
  {
   "cell_type": "code",
   "execution_count": 1,
   "metadata": {
    "collapsed": true
   },
   "outputs": [],
   "source": [
    "import pyanitools as pyt\n",
    "import pyaniasetools as aat\n",
    "import hdnntools as hdt\n",
    "import numpy as np\n",
    "\n",
    "import matplotlib.pyplot as plt\n",
    "import aniensemblestats as ens\n",
    "\n",
    "import os\n",
    "import pandas as pd"
   ]
  },
  {
   "cell_type": "code",
   "execution_count": 2,
   "metadata": {
    "collapsed": true
   },
   "outputs": [],
   "source": [
    "fdir = '/home/jujuman/Research/extensibility_test_sets/ani_md_benchmark/data_big/data/'\n",
    "\n",
    "wkdir = '/home/jujuman/Research/DataReductionMethods/model6r/model-gdb_r06_comb09_1/cv4/'\n",
    "#kdir = '/home/jujuman/Research/ANI-validation/'\n",
    "cnstfile = wkdir + 'rHCNO-4.6A_16-3.1A_a4-8.params'\n",
    "saefile  = wkdir + 'sae_6-31gd.dat'\n",
    "nnfdir   = wkdir + '/train'\n",
    "Nn = 5"
   ]
  },
  {
   "cell_type": "code",
   "execution_count": 3,
   "metadata": {
    "collapsed": false
   },
   "outputs": [],
   "source": [
    "# Define the conformer cross validator class\n",
    "anicv = aat.anicrossvalidationconformer(cnstfile,saefile,nnfdir,Nn,0,False)"
   ]
  },
  {
   "cell_type": "code",
   "execution_count": 4,
   "metadata": {
    "collapsed": false
   },
   "outputs": [],
   "source": [
    "files = os.listdir(fdir)\n",
    "\n",
    "stats = dict()\n",
    "for f in files:\n",
    "    name = f.split('_')[0]\n",
    "    data = hdt.readncdatall(fdir+f)\n",
    "    \n",
    "    Eani, Fani = anicv.compute_energy_conformations(X=data['coordinates'],S=data['species'])\n",
    "    \n",
    "    Eani = np.mean(Eani,axis=0)\n",
    "    Fani = -np.mean(Fani,axis=0)\n",
    "    \n",
    "    Edft = hdt.hatokcal*data['energies']\n",
    "    Fdft = hdt.hatokcal*data['forces']\n",
    "    \n",
    "    #print(name)\n",
    "    #print(data['species'])\n",
    "    #print((Fani-Fdft)[0][12])\n",
    "    #print(Fani[0][12])\n",
    "    #print(Fdft[0][12])\n",
    "\n",
    "    Fani = Fani.flatten()\n",
    "    Fdft = Fdft.flatten()\n",
    "    \n",
    "    dEani = hdt.calculatedmat(Eani)\n",
    "    dEdft = hdt.calculatedmat(Edft)\n",
    "    \n",
    "    Na = len(data['species'])\n",
    "    \n",
    "    stats[name] = pd.Series({'# Atoms': int(Na),\n",
    "                             'EMAE'   : hdt.calculatemeanabserror(Eani,Edft),\n",
    "                             'ERMS'   : hdt.calculaterootmeansqrerror(Eani,Edft),\n",
    "                             'ERNG'   : np.abs(Edft.min()-Edft.max()),\n",
    "                             'dEMAE'  : hdt.calculatemeanabserror(dEani,dEdft),\n",
    "                             'dERMS'  : hdt.calculaterootmeansqrerror(dEani,dEdft),\n",
    "                             'dERNG'  : np.abs(dEdft.min()-dEdft.max()),\n",
    "                             'FMAE'   : hdt.calculatemeanabserror(Fani,Fdft),\n",
    "                             'FRMS'   : hdt.calculaterootmeansqrerror(Fani,Fdft),\n",
    "                             'FRNG'   : np.abs(Fdft.min()-Fdft.max())\n",
    "                            })\n",
    "    \n",
    "edat = pd.DataFrame(stats).transpose()"
   ]
  },
  {
   "cell_type": "code",
   "execution_count": 5,
   "metadata": {
    "collapsed": false
   },
   "outputs": [
    {
     "name": "stdout",
     "output_type": "stream",
     "text": [
      "           # Atoms  EMAE  ERMS  ERNG  FMAE  FRMS   FRNG  dEMAE  dERMS  dERNG\n",
      "Capsaicin    49.00  1.62  2.13 25.79  2.06  2.95 231.13   2.08   2.66  50.26\n"
     ]
    }
   ],
   "source": [
    "print(edat.sort_values(['# Atoms']))"
   ]
  },
  {
   "cell_type": "code",
   "execution_count": null,
   "metadata": {
    "collapsed": false
   },
   "outputs": [],
   "source": []
  },
  {
   "cell_type": "code",
   "execution_count": null,
   "metadata": {
    "collapsed": true
   },
   "outputs": [],
   "source": []
  },
  {
   "cell_type": "code",
   "execution_count": null,
   "metadata": {
    "collapsed": false
   },
   "outputs": [],
   "source": []
  },
  {
   "cell_type": "code",
   "execution_count": null,
   "metadata": {
    "collapsed": false
   },
   "outputs": [],
   "source": []
  },
  {
   "cell_type": "code",
   "execution_count": null,
   "metadata": {
    "collapsed": false
   },
   "outputs": [],
   "source": []
  },
  {
   "cell_type": "code",
   "execution_count": null,
   "metadata": {
    "collapsed": true
   },
   "outputs": [],
   "source": []
  }
 ],
 "metadata": {
  "kernelspec": {
   "display_name": "Python 3",
   "language": "python",
   "name": "python3"
  },
  "language_info": {
   "codemirror_mode": {
    "name": "ipython",
    "version": 3
   },
   "file_extension": ".py",
   "mimetype": "text/x-python",
   "name": "python",
   "nbconvert_exporter": "python",
   "pygments_lexer": "ipython3",
   "version": "3.5.2"
  }
 },
 "nbformat": 4,
 "nbformat_minor": 1
}
