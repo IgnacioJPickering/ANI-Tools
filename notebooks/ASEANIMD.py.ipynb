{
 "cells": [
  {
   "cell_type": "code",
   "execution_count": 10,
   "metadata": {
    "collapsed": true
   },
   "outputs": [],
   "source": [
    "from ase_interface import ANIENS\n",
    "from ase_interface import ensemblemolecule_multigpu\n",
    "from ase_interface import ensemblemolecule\n",
    "\n",
    "import pyNeuroChem as pync\n",
    "import pyaniasetools as pya\n",
    "import hdnntools as hdt\n",
    "\n",
    "import numpy as np\n",
    "import  ase\n",
    "\n",
    "import time\n",
    "\n",
    "import os\n",
    "os.environ[\"OMP_NUM_THREADS\"] = \"8\"\n",
    "\n",
    "import  ase\n",
    "from ase.md.langevin import Langevin\n",
    "from ase.md.verlet import VelocityVerlet\n",
    "from ase.io.trajectory import Trajectory\n",
    "from ase import units\n",
    "\n",
    "from ase.optimize.fire import FIRE as QuasiNewton\n",
    "from ase.optimize import LBFGS\n",
    "\n",
    "from ase.md.nvtberendsen import NVTBerendsen\n",
    "from ase.md import MDLogger\n",
    "\n",
    "from ase.io import read, write\n",
    "\n",
    "from ase.parallel import world"
   ]
  },
  {
   "cell_type": "code",
   "execution_count": 31,
   "metadata": {
    "collapsed": true
   },
   "outputs": [],
   "source": [
    "dir = '/home/jsmith48/scratch/carbon_nano_tube/new_test/'\n",
    "\n",
    "fname = '19_0'\n",
    "\n",
    "# Molecule file\n",
    "molfile = dir + fname + '.xyz'\n",
    "\n",
    "# Dynamics file\n",
    "xyzfile = dir + 'mdcrd.xyz'\n",
    "\n",
    "# Trajectory file\n",
    "trajfile = dir + 'traj.dat'\n",
    "\n",
    "# Optimized structure out:\n",
    "optfile = dir + 'opt_' +  fname +'.xyz'\n",
    "\n",
    "dt = 0.2\n",
    "C = 0.0001 # Optimization convergence\n",
    "\n",
    "ntdir = '/home/jsmith48/scratch/ccsd_extrapolation/final_train_models_3/ani-1x_dft_x8ens/'\n",
    "cns = ntdir + 'rHCNO-5.2R_16-3.5A_a4-8.params'\n",
    "sae = ntdir + 'sae_linfit.dat'\n",
    "nnf = ntdir + 'train'\n",
    "Nn = 8"
   ]
  },
  {
   "cell_type": "code",
   "execution_count": 32,
   "metadata": {
    "scrolled": true
   },
   "outputs": [],
   "source": [
    "tvec = np.loadtxt('/home/jsmith48/scratch/carbon_nano_tube/new_test/'+fname+'.tvec',dtype=str)\n",
    "tvec = np.array(tvec[:,1:],dtype=np.float64)"
   ]
  },
  {
   "cell_type": "code",
   "execution_count": 33,
   "metadata": {},
   "outputs": [
    {
     "data": {
      "text/plain": [
       "array([[24.885329,  0.      ,  0.      ],\n",
       "       [ 0.      , 24.885329,  0.      ],\n",
       "       [ 0.      ,  0.      , 12.789   ]])"
      ]
     },
     "execution_count": 33,
     "metadata": {},
     "output_type": "execute_result"
    }
   ],
   "source": [
    "tvec"
   ]
  },
  {
   "cell_type": "code",
   "execution_count": 34,
   "metadata": {},
   "outputs": [
    {
     "name": "stdout",
     "output_type": "stream",
     "text": [
      "Total time: 0.040746450424194336\n",
      "-236419.61761202803\n",
      "228\n"
     ]
    }
   ],
   "source": [
    "# Load molecule\n",
    "mol = read(molfile)\n",
    "# L = 40.0\n",
    "# mol.set_cell(([[100.0, 0, 0],\n",
    "#                [0, 35.0, 0],\n",
    "#                [0, 0, 35.0]]))\n",
    "\n",
    "mol.set_cell((tvec))\n",
    "\n",
    "\n",
    "mol.set_pbc((True, True, True))\n",
    "#mol.set_pbc((False, False, False))\n",
    "\n",
    "# Set NC\n",
    "aens = ensemblemolecule(cns, sae, nnf, Nn, 5)\n",
    "#aens = ensemblemolecule(cns, sae, nnf, Nn, 1)\n",
    "\n",
    "# Set ANI calculator\n",
    "mol.set_calculator(ANIENS(aens))\n",
    "\n",
    "s_time = time.time()\n",
    "E = mol.get_potential_energy()\n",
    "F = mol.get_forces()\n",
    "print('Total time:',time.time()-s_time)\n",
    "\n",
    "print(E)\n",
    "\n",
    "spc = mol.get_chemical_symbols()\n",
    "print(len(spc))"
   ]
  },
  {
   "cell_type": "code",
   "execution_count": 35,
   "metadata": {},
   "outputs": [
    {
     "name": "stdout",
     "output_type": "stream",
     "text": [
      "       Step     Time          Energy         fmax\n",
      "LBFGS:    0 16:37:00  -236419.617612        0.1233\n",
      "LBFGS:    1 16:37:00  -236419.644898        0.0948\n",
      "LBFGS:    2 16:37:00  -236419.680602        0.1024\n",
      "LBFGS:    3 16:37:00  -236420.178946        0.1340\n",
      "LBFGS:    4 16:37:00  -236420.284326        0.0574\n",
      "LBFGS:    5 16:37:00  -236420.289025        0.0177\n",
      "LBFGS:    6 16:37:00  -236420.289365        0.0025\n",
      "LBFGS:    7 16:37:00  -236420.289377        0.0012\n",
      "LBFGS:    8 16:37:00  -236420.289475        0.0002\n",
      "LBFGS:    9 16:37:00  -236420.289470        0.0001\n",
      "LBFGS:   10 16:37:00  -236420.289472        0.0001\n",
      "LBFGS:   11 16:37:00  -236420.289481        0.0002\n",
      "LBFGS:   12 16:37:00  -236420.289483        0.0001\n",
      "LBFGS:   13 16:37:00  -236420.289488        0.0002\n",
      "LBFGS:   14 16:37:00  -236420.289466        0.0001\n",
      "LBFGS:   15 16:37:00  -236420.289488        0.0004\n",
      "LBFGS:   16 16:37:00  -236420.289473        0.0002\n",
      "LBFGS:   17 16:37:00  -236420.289488        0.0002\n",
      "LBFGS:   18 16:37:00  -236420.289474        0.0001\n",
      "LBFGS:   19 16:37:00  -236420.289477        0.0003\n",
      "LBFGS:   20 16:37:00  -236420.289467        0.0001\n",
      "LBFGS:   21 16:37:00  -236420.289487        0.0003\n",
      "LBFGS:   22 16:37:00  -236420.289480        0.0001\n",
      "LBFGS:   23 16:37:00  -236420.289464        0.0004\n",
      "LBFGS:   24 16:37:00  -236420.289468        0.0001\n",
      "LBFGS:   25 16:37:00  -236420.289483        0.0003\n",
      "LBFGS:   26 16:37:00  -236420.289471        0.0001\n",
      "LBFGS:   27 16:37:00  -236420.289472        0.0004\n",
      "LBFGS:   28 16:37:00  -236420.289477        0.0001\n",
      "LBFGS:   29 16:37:00  -236420.289491        0.0003\n",
      "LBFGS:   30 16:37:00  -236420.289474        0.0001\n",
      "LBFGS:   31 16:37:00  -236420.289470        0.0004\n",
      "LBFGS:   32 16:37:00  -236420.289476        0.0001\n",
      "LBFGS:   33 16:37:00  -236420.289486        0.0002\n",
      "LBFGS:   34 16:37:00  -236420.289473        0.0001\n",
      "LBFGS:   35 16:37:00  -236420.289488        0.0003\n",
      "LBFGS:   36 16:37:00  -236420.289482        0.0001\n",
      "[ANI Total time: 0.3267223834991455 seconds]\n"
     ]
    }
   ],
   "source": [
    "# Optimize molecule\n",
    "start_time = time.time()\n",
    "dyn = LBFGS(mol)\n",
    "dyn.run(fmax=C,steps=3000)\n",
    "print('[ANI Total time:', time.time() - start_time, 'seconds]')\n",
    "\n",
    "# Save optimized mol\n",
    "spc = mol.get_chemical_symbols()\n",
    "pos = mol.get_positions(wrap=True).reshape(1,len(spc),3)\n",
    "\n",
    "\n",
    "hdt.writexyzfile(optfile, pos, spc)"
   ]
  },
  {
   "cell_type": "code",
   "execution_count": null,
   "metadata": {
    "collapsed": true
   },
   "outputs": [],
   "source": [
    "# We want to run MD with constant energy using the VelocityVerlet algorithm.\n",
    "#dyn = NVTBerendsen(mol, 1 * units.fs, 100.0, taut=1.0*1000*units.fs)\n",
    "# coefficient to 0.04 atomic units.\n",
    "dyn = Langevin(mol, dt * units.fs, 1.0 * units.kB, 0.04)"
   ]
  },
  {
   "cell_type": "code",
   "execution_count": null,
   "metadata": {
    "collapsed": true
   },
   "outputs": [],
   "source": [
    "# Open MD output\n",
    "mdcrd = open(xyzfile,'w')\n",
    "\n",
    "# Open MD output\n",
    "traj = open(trajfile,'w')\n",
    "\n",
    "# Define the printer\n",
    "def storeenergy(a=mol, d=dyn, b=mdcrd, t=traj):  # store a reference to atoms in the definition.\n",
    "    \"\"\"Function to print the potential, kinetic and total energy.\"\"\"\n",
    "    epot = a.get_potential_energy() / len(a)\n",
    "    ekin = a.get_kinetic_energy() / len(a)\n",
    "\n",
    "    stddev =  hdt.evtokcal*a.calc.stddev\n",
    "\n",
    "    t.write(str(d.get_number_of_steps()) + ' ' + str(ekin / (1.5 * units.kB)) + ' ' + str(epot) + ' ' + str(ekin) + ' ' + str(epot+ekin) + ' ' + str(stddev) + '\\n')\n",
    "    b.write(str(len(a)) + '\\n' + str(ekin / (1.5 * units.kB)) + ' Step: ' + str(d.get_number_of_steps()) + '\\n')\n",
    "    c = a.get_positions(wrap=True)\n",
    "    for j, i in zip(a, c):\n",
    "        b.write(str(j.symbol) + ' ' + str(i[0]) + ' ' + str(i[1]) + ' ' + str(i[2]) + '\\n')\n",
    "\n",
    "    print('Step: %d Energy per atom: Epot = %.3f  Ekin = %.3f (T=%.3fK)  '\n",
    "          'Etot = %.6f Esig = %.6f' % (d.get_number_of_steps(), epot, ekin, ekin / (1.5 * units.kB), epot + ekin, stddev))\n",
    "    \n",
    "# Set the printer\n",
    "dyn.attach(storeenergy, interval=50)"
   ]
  },
  {
   "cell_type": "code",
   "execution_count": null,
   "metadata": {
    "collapsed": true,
    "scrolled": true
   },
   "outputs": [],
   "source": [
    "start_time = time.time()\n",
    "dyn.set_temperature(50. * units.kB)\n",
    "dyn.run(25000)\n",
    "print('[Heat1 Total time:', time.time() - start_time, 'seconds]')\n",
    "\n",
    "start_time = time.time()\n",
    "dyn.set_temperature(100. * units.kB)\n",
    "dyn.run(25000)\n",
    "print('[Heat2 Total time:', time.time() - start_time, 'seconds]')\n",
    "\n",
    "dyn.set_temperature(150. * units.kB)\n",
    "dyn.run(25000)\n",
    "\n",
    "dyn.set_temperature(200. * units.kB)\n",
    "dyn.run(25000)\n",
    "\n",
    "dyn.set_temperature(250. * units.kB)\n",
    "dyn.run(25000)\n",
    "\n",
    "dyn.set_temperature(300. * units.kB)\n",
    "dyn.run(25000)\n",
    "\n",
    "dyn.set_temperature(325. * units.kB)\n",
    "dyn.run(25000)\n",
    "\n",
    "start_time = time.time()\n",
    "dyn.set_temperature(325. * units.kB)\n",
    "dyn.run(250000000)\n",
    "print('[ANI Total time:', time.time() - start_time, 'seconds]')"
   ]
  },
  {
   "cell_type": "code",
   "execution_count": null,
   "metadata": {
    "collapsed": true
   },
   "outputs": [],
   "source": []
  },
  {
   "cell_type": "code",
   "execution_count": null,
   "metadata": {
    "collapsed": true
   },
   "outputs": [],
   "source": []
  }
 ],
 "metadata": {
  "kernelspec": {
   "display_name": "Python 3",
   "language": "python",
   "name": "python3"
  },
  "language_info": {
   "codemirror_mode": {
    "name": "ipython",
    "version": 3
   },
   "file_extension": ".py",
   "mimetype": "text/x-python",
   "name": "python",
   "nbconvert_exporter": "python",
   "pygments_lexer": "ipython3",
   "version": "3.6.4"
  }
 },
 "nbformat": 4,
 "nbformat_minor": 2
}
