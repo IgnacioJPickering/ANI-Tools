{
 "cells": [
  {
   "cell_type": "code",
   "execution_count": 1,
   "metadata": {},
   "outputs": [
    {
     "name": "stdout",
     "output_type": "stream",
     "text": [
      "van Der Waals correction will be unavailable. Please install ased3\n"
     ]
    }
   ],
   "source": [
    "from ase_interface import ANIENS\n",
    "from ase_interface import ensemblemolecule\n",
    "\n",
    "import pyNeuroChem as pync\n",
    "import pyaniasetools as pya\n",
    "import hdnntools as hdt\n",
    "\n",
    "import numpy as np\n",
    "import  ase\n",
    "\n",
    "import time\n",
    "\n",
    "import  ase\n",
    "from ase.md.langevin import Langevin\n",
    "from ase.md.verlet import VelocityVerlet\n",
    "from ase.io.trajectory import Trajectory\n",
    "from ase import units\n",
    "\n",
    "from ase.optimize.fire import FIRE as QuasiNewton\n",
    "\n",
    "from ase.md.nvtberendsen import NVTBerendsen\n",
    "from ase.md import MDLogger\n",
    "\n",
    "from ase.io import read, write"
   ]
  },
  {
   "cell_type": "code",
   "execution_count": 2,
   "metadata": {
    "collapsed": true
   },
   "outputs": [],
   "source": [
    "dir = '/home/jujuman/Research/MD_TEST/2luf_big/'\n",
    "\n",
    "# Molecule file\n",
    "molfile = dir + '2luf_solv.pdb'\n",
    "#molfile = dir + 'optmol.xyz'\n",
    "\n",
    "# Dynamics file\n",
    "xyzfile = dir + 'mdcrd.xyz'\n",
    "\n",
    "# Trajectory file\n",
    "trajfile = dir + 'traj.dat'\n",
    "\n",
    "# Optimized structure out:\n",
    "optfile = dir + 'optmol.xyz'\n",
    "\n",
    "T = 300.0 # Temperature\n",
    "dt = 0.5\n",
    "C = 0.1 # Optimization convergence\n",
    "steps = 1000\n",
    "\n",
    "ntdir = '/home/jujuman/Research/ANI-AL_retrain/arc3/'\n",
    "cns = ntdir + 'rHCNO-4.6R_16-3.1A_a4-8_3.params'\n",
    "sae = ntdir + 'sae_linfit.dat'\n",
    "nnf = ntdir + 'train'\n",
    "Nn = 1"
   ]
  },
  {
   "cell_type": "code",
   "execution_count": 3,
   "metadata": {
    "collapsed": true,
    "scrolled": true
   },
   "outputs": [],
   "source": [
    "# Load molecule\n",
    "mol = read(molfile)\n",
    "L = 100.00\n",
    "mol.set_cell(([[L, 0, 0],\n",
    "               [0, L, 0],\n",
    "               [0, 0, L]]))\n",
    "\n",
    "mol.set_pbc((True, True, True))"
   ]
  },
  {
   "cell_type": "code",
   "execution_count": 4,
   "metadata": {
    "collapsed": true
   },
   "outputs": [],
   "source": [
    "# Set NC\n",
    "aens = ensemblemolecule(cns, sae, nnf, Nn, 0)\n",
    "\n",
    "# Set ANI calculator\n",
    "mol.set_calculator(ANIENS(aens,sdmx=20000000.0))"
   ]
  },
  {
   "cell_type": "code",
   "execution_count": null,
   "metadata": {
    "collapsed": true
   },
   "outputs": [],
   "source": [
    "def erg_rsix (Rmag):\n",
    "    return np.power(Rmag,-4)\n",
    "\n",
    "def frc_rsix (Rmag,R):\n",
    "    F = 4.0*np.power(Rmag,-6)*R                                                                                                                                                                                                                                                                                                                                                                                                                                                                                                                                                                                                                                                                                                                                                                                                                                        \n",
    "    return F\n",
    "\n",
    "#mol.calc.set_pairwise(erg_rsix, frc_rsix)"
   ]
  },
  {
   "cell_type": "code",
   "execution_count": null,
   "metadata": {},
   "outputs": [
    {
     "name": "stdout",
     "output_type": "stream",
     "text": [
      "      Step     Time          Energy         fmax\n",
      "FIRE:    0 11:49:17 -48307981.485590      244.8915\n"
     ]
    }
   ],
   "source": [
    "# Optimize molecule\n",
    "start_time = time.time()\n",
    "dyn = QuasiNewton(mol)\n",
    "dyn.run(fmax=C)\n",
    "print('[ANI Total time:', time.time() - start_time, 'seconds]')\n",
    "\n",
    "# Save optimized mol\n",
    "spc = mol.get_chemical_symbols()\n",
    "pos = mol.get_positions(wrap=False).reshape(1,len(spc),3)\n",
    "\n",
    "hdt.writexyzfile(optfile, pos, spc)"
   ]
  },
  {
   "cell_type": "code",
   "execution_count": null,
   "metadata": {
    "collapsed": true
   },
   "outputs": [],
   "source": [
    "# We want to run MD with constant energy using the VelocityVerlet algorithm.\n",
    "dyn = Langevin(mol, dt * units.fs, T * units.kB, 0.04)"
   ]
  },
  {
   "cell_type": "code",
   "execution_count": null,
   "metadata": {
    "collapsed": true
   },
   "outputs": [],
   "source": [
    "# Open MD output\n",
    "mdcrd = open(xyzfile,'w')\n",
    "\n",
    "# Open MD output\n",
    "traj = open(trajfile,'w')\n",
    "\n",
    "# Define the printer\n",
    "def storeenergy(a=mol, d=dyn, b=mdcrd, t=traj):  # store a reference to atoms in the definition.\n",
    "    \"\"\"Function to print the potential, kinetic and total energy.\"\"\"\n",
    "    epot = a.get_potential_energy() / len(a)\n",
    "    ekin = a.get_kinetic_energy() / len(a)\n",
    "\n",
    "    stddev =  hdt.evtokcal*a.calc.stddev\n",
    "\n",
    "    t.write(str(d.get_number_of_steps()) + ' ' + str(ekin / (1.5 * units.kB)) + ' ' + str(epot) + ' ' + str(ekin) + ' ' + str(epot+ekin) + ' ' + str(stddev) + '\\n')\n",
    "    b.write(str(len(a)) + '\\n' + str(ekin / (1.5 * units.kB)) + ' Step: ' + str(d.get_number_of_steps()) + '\\n')\n",
    "    c = a.get_positions()\n",
    "    for j, i in zip(a, c):\n",
    "        b.write(str(j.symbol) + ' ' + str(i[0]) + ' ' + str(i[1]) + ' ' + str(i[2]) + '\\n')\n",
    "\n",
    "    print('Step: %d Energy per atom: Epot = %.3f  Ekin = %.3f (T=%.3fK)  '\n",
    "          'Etot = %.6f' % (d.get_number_of_steps(), epot, ekin, ekin / (1.5 * units.kB), epot + ekin))\n",
    "dyn.attach(storeenergy, interval=100)"
   ]
  },
  {
   "cell_type": "code",
   "execution_count": null,
   "metadata": {
    "scrolled": false
   },
   "outputs": [],
   "source": [
    "start_time = time.time()\n",
    "dyn.run(steps)\n",
    "print('[ANI Total time:   ', time.time() - start_time, 'seconds]')\n",
    "print('[ANI per step time:', 1000.0*(time.time() - start_time)/steps, 'ms]')"
   ]
  },
  {
   "cell_type": "code",
   "execution_count": null,
   "metadata": {
    "collapsed": true
   },
   "outputs": [],
   "source": []
  },
  {
   "cell_type": "code",
   "execution_count": null,
   "metadata": {
    "collapsed": true
   },
   "outputs": [],
   "source": []
  }
 ],
 "metadata": {
  "kernelspec": {
   "display_name": "Python 3",
   "language": "python",
   "name": "python3"
  },
  "language_info": {
   "codemirror_mode": {
    "name": "ipython",
    "version": 3
   },
   "file_extension": ".py",
   "mimetype": "text/x-python",
   "name": "python",
   "nbconvert_exporter": "python",
   "pygments_lexer": "ipython3",
   "version": "3.6.2"
  }
 },
 "nbformat": 4,
 "nbformat_minor": 2
}
