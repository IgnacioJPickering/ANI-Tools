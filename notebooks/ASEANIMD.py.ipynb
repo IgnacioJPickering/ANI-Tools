{
 "cells": [
  {
   "cell_type": "code",
   "execution_count": null,
   "metadata": {
    "collapsed": true
   },
   "outputs": [],
   "source": [
    "from ase_interface import ANIENS\n",
    "from ase_interface import ensemblemolecule_multigpu\n",
    "from ase_interface import ensemblemolecule\n",
    "\n",
    "import pyNeuroChem as pync\n",
    "import pyaniasetools as pya\n",
    "import hdnntools as hdt\n",
    "\n",
    "import numpy as np\n",
    "import  ase\n",
    "\n",
    "import time\n",
    "\n",
    "import os\n",
    "os.environ[\"OMP_NUM_THREADS\"] = \"8\"\n",
    "\n",
    "import  ase\n",
    "from ase.md.langevin import Langevin\n",
    "from ase.md.verlet import VelocityVerlet\n",
    "from ase.io.trajectory import Trajectory\n",
    "from ase import units\n",
    "\n",
    "from ase.optimize.fire import FIRE as QuasiNewton\n",
    "from ase.optimize import LBFGS\n",
    "\n",
    "from ase.md.nvtberendsen import NVTBerendsen\n",
    "from ase.md import MDLogger\n",
    "\n",
    "from ase.io import read, write\n",
    "\n",
    "from ase.parallel import world"
   ]
  },
  {
   "cell_type": "code",
   "execution_count": null,
   "metadata": {
    "collapsed": true
   },
   "outputs": [],
   "source": [
    "dir = '/home/jsmith48/scratch/ANI-2x_retrain/ANI-2x_MDDATA/'\n",
    "\n",
    "\n",
    "fname = 'GSK1107112A'\n",
    "\n",
    "# Molecule file\n",
    "molfile = dir + fname + '.xyz'\n",
    "\n",
    "# Dynamics file\n",
    "xyzfile = dir + 'mdcrd.xyz'\n",
    "\n",
    "# Trajectory file\n",
    "trajfile = dir + 'traj.dat'\n",
    "\n",
    "# Optimized structure out:\n",
    "optfile = dir + 'opt_' +  fname +'.xyz'\n",
    "\n",
    "dt = 0.4\n",
    "C = 0.0001 # Optimization convergence\n",
    "\n",
    "ntdir = '/home/jsmith48/scratch/ANI-2x_retrain/train/ANI-2x_v62518/'\n",
    "cns = ntdir + 'rHCNOSFCl-5.2R_16-3.8A_a4-8.params'\n",
    "sae = ntdir + 'sae_linfit.dat'\n",
    "nnf = ntdir + 'train'\n",
    "Nn = 8"
   ]
  },
  {
   "cell_type": "code",
   "execution_count": null,
   "metadata": {
    "collapsed": true,
    "scrolled": true
   },
   "outputs": [],
   "source": [
    "#tvec = np.loadtxt(dir+'/'+fname+'.tvec',dtype=str)\n",
    "#tvec = np.array(tvec[:,1:],dtype=np.float64)"
   ]
  },
  {
   "cell_type": "code",
   "execution_count": null,
   "metadata": {},
   "outputs": [],
   "source": [
    "#tvec"
   ]
  },
  {
   "cell_type": "code",
   "execution_count": null,
   "metadata": {},
   "outputs": [],
   "source": [
    "# Load molecule\n",
    "mol = read(molfile)\n",
    "#mol = read('/home/jsmith48/scratch/dipole_training/water.xyz')\n",
    "#L=40.0\n",
    "# mol.set_cell(([[100.0, 0, 0],\n",
    "#                 [0, 35.0, 0],\n",
    "#                 [0, 0, 35.0]]))\n",
    "\n",
    "#mol.set_cell((tvec))\n",
    "\n",
    "\n",
    "#mol.set_pbc((True, True, True))\n",
    "mol.set_pbc((False, False, False))\n",
    "\n",
    "# Set NC\n",
    "aens = ensemblemolecule(cns, sae, nnf, Nn, 1)\n",
    "#aens = ensemblemolecule(cns, sae, nnf, Nn, 1)\n",
    "\n",
    "# Set ANI calculator\n",
    "mol.set_calculator(ANIENS(aens))\n",
    "\n",
    "s_time = time.time()\n",
    "E = mol.get_potential_energy()\n",
    "F = mol.get_forces()\n",
    "print('Total time:',time.time()-s_time)\n",
    "\n",
    "print(E)\n",
    "\n",
    "spc = mol.get_chemical_symbols()\n",
    "print(len(spc))"
   ]
  },
  {
   "cell_type": "code",
   "execution_count": null,
   "metadata": {},
   "outputs": [],
   "source": [
    "# Optimize molecule\n",
    "start_time = time.time()\n",
    "dyn = LBFGS(mol)\n",
    "dyn.run(fmax=C,steps=3000)\n",
    "print('[ANI Total time:', time.time() - start_time, 'seconds]')\n",
    "\n",
    "# Save optimized mol\n",
    "spc = mol.get_chemical_symbols()\n",
    "pos = mol.get_positions(wrap=False).reshape(1,len(spc),3)\n",
    "\n",
    "# printf (\"Aj: %i\\n\",Aj);\n",
    "hdt.writexyzfile(optfile, pos, spc)"
   ]
  },
  {
   "cell_type": "code",
   "execution_count": null,
   "metadata": {
    "collapsed": true
   },
   "outputs": [],
   "source": [
    "# We want to run MD with constant energy using the VelocityVerlet algorithm.\n",
    "#dyn = NVTBerendsen(mol, 1 * units.fs, 100.0, taut=1.0*1000*units.fs)\n",
    "# coefficient to 0.04 atomic units.\n",
    "dyn = Langevin(mol, dt * units.fs, 1.0 * units.kB, 0.04)"
   ]
  },
  {
   "cell_type": "code",
   "execution_count": null,
   "metadata": {
    "collapsed": true
   },
   "outputs": [],
   "source": [
    "# Open MD output\n",
    "mdcrd = open(xyzfile,'w')\n",
    "\n",
    "# Open MD output\n",
    "traj = open(trajfile,'w')\n",
    "\n",
    "# Define the printer\n",
    "def storeenergy(a=mol, d=dyn, b=mdcrd, t=traj):  # store a reference to atoms in the definition.\n",
    "    \"\"\"Function to print the potential, kinetic and total energy.\"\"\"\n",
    "    epot = a.get_potential_energy() / len(a)\n",
    "    ekin = a.get_kinetic_energy() / len(a)\n",
    "\n",
    "    stddev =  hdt.evtokcal*a.calc.stddev\n",
    "    Fstddev =  hdt.evtokcal*a.calc.Fstddev\n",
    "\n",
    "    t.write(str(d.get_number_of_steps()) + ' ' + str(ekin / (1.5 * units.kB)) + ' ' + str(epot) + ' ' + str(ekin) + ' ' + str(epot+ekin) + ' ' + str(stddev) + '\\n')\n",
    "    b.write(str(len(a)) + '\\n' + str(ekin / (1.5 * units.kB)) + ' Step: ' + str(d.get_number_of_steps()) + '\\n')\n",
    "    c = a.get_positions(wrap=False)\n",
    "    for j, i in zip(a, c):\n",
    "        b.write(str(j.symbol) + ' ' + str(i[0]) + ' ' + str(i[1]) + ' ' + str(i[2]) + '\\n')\n",
    "\n",
    "    print('Step: %d Energy per atom: Epot = %.3f  Ekin = %.3f (T=%.3fK)  '\n",
    "          'Etot = %.6f Esig = %.3f Fsig = %.3f' % (d.get_number_of_steps(), epot, ekin, ekin / (1.5 * units.kB), epot + ekin, stddev,Fstddev))\n",
    "    \n",
    "# Set the printer\n",
    "dyn.attach(storeenergy, interval=25)"
   ]
  },
  {
   "cell_type": "code",
   "execution_count": null,
   "metadata": {
    "scrolled": true
   },
   "outputs": [],
   "source": [
    "start_time = time.time()\n",
    "dyn.set_temperature(300. * units.kB)\n",
    "dyn.run(1250000)\n",
    "print('[ANI Total time:', time.time() - start_time, 'seconds]')"
   ]
  },
  {
   "cell_type": "code",
   "execution_count": null,
   "metadata": {
    "collapsed": true
   },
   "outputs": [],
   "source": []
  },
  {
   "cell_type": "code",
   "execution_count": null,
   "metadata": {
    "collapsed": true
   },
   "outputs": [],
   "source": []
  }
 ],
 "metadata": {
  "kernelspec": {
   "display_name": "Python 3",
   "language": "python",
   "name": "python3"
  },
  "language_info": {
   "codemirror_mode": {
    "name": "ipython",
    "version": 3
   },
   "file_extension": ".py",
   "mimetype": "text/x-python",
   "name": "python",
   "nbconvert_exporter": "python",
   "pygments_lexer": "ipython3",
   "version": "3.6.4"
  }
 },
 "nbformat": 4,
 "nbformat_minor": 2
}
