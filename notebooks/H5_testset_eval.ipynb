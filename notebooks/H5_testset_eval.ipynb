{
 "cells": [
  {
   "cell_type": "code",
   "execution_count": 1,
   "metadata": {},
   "outputs": [
    {
     "name": "stdout",
     "output_type": "stream",
     "text": [
      "van Der Waals correction will be unavailable. Please install ased3\n"
     ]
    },
    {
     "name": "stderr",
     "output_type": "stream",
     "text": [
      "/usr/local/anaconda3/lib/python3.6/site-packages/h5py/__init__.py:34: FutureWarning: Conversion of the second argument of issubdtype from `float` to `np.floating` is deprecated. In future, it will be treated as `np.float64 == np.dtype(float).type`.\n",
      "  from ._conv import register_converters as _register_converters\n"
     ]
    }
   ],
   "source": [
    "from ase_interface import ANIENS\n",
    "from ase_interface import ensemblemolecule\n",
    "\n",
    "import aniensemblestats as aes\n",
    "import pyaniasetools as aat\n",
    "\n",
    "import pyanitools as pyt\n",
    "\n",
    "import numpy as np\n",
    "import ase\n",
    "\n",
    "#from ase.neb import NEBtools\n",
    "from ase.io import read, write\n",
    "\n",
    "import matplotlib\n",
    "import matplotlib as mpl\n",
    "from matplotlib import gridspec \n",
    "import matplotlib.pyplot as plt\n",
    "\n",
    "import hdnntools as hdt\n",
    "\n",
    "from scipy import stats\n",
    "\n",
    "import os"
   ]
  },
  {
   "cell_type": "code",
   "execution_count": 2,
   "metadata": {
    "collapsed": true
   },
   "outputs": [],
   "source": [
    "#ntdir = '/home/jsmith48/scratch/TZData/train_L2T1E-6_ba/'\n",
    "#ntdir = '/home/jsmith48/scratch/TZData_force/train_msecost_1.0_0.25/'\n",
    "ntdir1 = '/home/jsmith48/scratch/ccsd_extrapolation/learning_cases/dft_DZ_retrain/retrain_dft_f02/'\n",
    "cns1 = ntdir1 + 'rHCNO-4.6R_16-3.1A_a4-8.params'\n",
    "sae1 = ntdir1 + 'sae_linfit.dat'\n",
    "nnf1 = ntdir1 + 'train'\n",
    "Nn1 = 5\n",
    "\n",
    "ntdir2 = '/home/jsmith48/scratch/ccsd_extrapolation/learning_cases/ful_train/'\n",
    "cns2 = ntdir2 + 'rHCNO-4.6R_16-3.1A_a4-8.params'\n",
    "sae2 = ntdir2 + 'sae_linfit.dat'\n",
    "nnf2 = ntdir2 + 'train'\n",
    "Nn2 = 5\n",
    "\n",
    "ntdir3 = '/home/jsmith48/scratch/ANI-2x_retrain/model2/'\n",
    "cns3 = ntdir3 + 'rHCNOSFCl-4.6R_16-3.1A_a4-8.params'\n",
    "sae3 = ntdir3 + 'sae_linfit.dat'\n",
    "nnf3 = ntdir3 + 'train'\n",
    "Nn3 = 5\n",
    "\n",
    "dftsae = '/home/jsmith48/scratch/ccsd_extrapolation/atomization_files/sae_wb97x-631gd.dat'\n",
    "ccssae = '/home/jsmith48/scratch/ccsd_extrapolation/atomization_files/ccsd_atmz.dat'\n",
    "\n",
    "ts = '/home/jsmith48/scratch/ccsd_extrapolation/h5files_holdout_split/testset/r10_ccsd_test.h5'\n",
    "\n",
    "dftdir = '/home/jsmith48/scratch/ccsd_extrapolation/h5files_holdout_split/testset/xyz/'"
   ]
  },
  {
   "cell_type": "code",
   "execution_count": 3,
   "metadata": {
    "collapsed": true
   },
   "outputs": [],
   "source": [
    "dftfiles = [f for f in os.listdir(dftdir) if f[-4:] == '.dat']\n",
    "dftdata = dict()\n",
    "for f in dftfiles:\n",
    "    data = hdt.readncdatall(dftdir+f)\n",
    "    dftdata.update({f.rsplit('.',1)[0]:data})\n",
    "    "
   ]
  },
  {
   "cell_type": "code",
   "execution_count": 4,
   "metadata": {
    "collapsed": true
   },
   "outputs": [],
   "source": [
    "# Set NC\n",
    "aens_1 = aat.anicrossvalidationconformer(cns1, sae1, nnf1, Nn1, 2)\n",
    "aens_2 = aat.anicrossvalidationconformer(cns2, sae2, nnf2, Nn2, 2)\n",
    "aens_3 = aat.anicrossvalidationconformer(cns3, sae3, nnf3, Nn3, 2)"
   ]
  },
  {
   "cell_type": "code",
   "execution_count": 5,
   "metadata": {
    "collapsed": true
   },
   "outputs": [],
   "source": [
    "adl = pyt.anidataloader(ts)"
   ]
  },
  {
   "cell_type": "code",
   "execution_count": 6,
   "metadata": {
    "scrolled": true
   },
   "outputs": [
    {
     "name": "stdout",
     "output_type": "stream",
     "text": [
      "Computing: 0 16 /mol_10076 10\n",
      "Computing: 1 17 /mol_1008 10\n",
      "Computing: 2 20 /mol_10080 10\n",
      "Computing: 3 23 /mol_10102 10\n",
      "Computing: 4 24 /mol_10110 10\n",
      "Computing: 5 22 /mol_10111 10\n",
      "Computing: 6 22 /mol_10117 10\n",
      "Computing: 7 21 /mol_10124 10\n",
      "Computing: 8 20 /mol_10132 10\n",
      "Computing: 9 21 /mol_10179 10\n",
      "Computing: 10 22 /mol_10190 10\n",
      "Computing: 11 20 /mol_10198 10\n",
      "Computing: 12 19 /mol_10200 10\n",
      "Computing: 13 20 /mol_10223 10\n",
      "Computing: 14 18 /mol_10233 10\n"
     ]
    },
    {
     "ename": "RuntimeError",
     "evalue": "unidentifiable C++ exception",
     "output_type": "error",
     "traceback": [
      "\u001b[0;31m---------------------------------------------------------------------------\u001b[0m",
      "\u001b[0;31mRuntimeError\u001b[0m                              Traceback (most recent call last)",
      "\u001b[0;32m<ipython-input-6-eb461e34a332>\u001b[0m in \u001b[0;36m<module>\u001b[0;34m()\u001b[0m\n\u001b[1;32m     27\u001b[0m \u001b[0;34m\u001b[0m\u001b[0m\n\u001b[1;32m     28\u001b[0m         \u001b[0;31m# Compute energies and forces\u001b[0m\u001b[0;34m\u001b[0m\u001b[0;34m\u001b[0m\u001b[0m\n\u001b[0;32m---> 29\u001b[0;31m         \u001b[0mEa1_t\u001b[0m\u001b[0;34m,\u001b[0m\u001b[0mFa1_t\u001b[0m\u001b[0;34m,\u001b[0m\u001b[0mSa1\u001b[0m \u001b[0;34m=\u001b[0m \u001b[0maens_1\u001b[0m\u001b[0;34m.\u001b[0m\u001b[0mcompute_energyandforce_conformations\u001b[0m\u001b[0;34m(\u001b[0m\u001b[0mX\u001b[0m\u001b[0;34m,\u001b[0m\u001b[0mS\u001b[0m\u001b[0;34m)\u001b[0m\u001b[0;34m\u001b[0m\u001b[0m\n\u001b[0m\u001b[1;32m     30\u001b[0m         \u001b[0mEa2_t\u001b[0m\u001b[0;34m,\u001b[0m\u001b[0mFa2_t\u001b[0m\u001b[0;34m,\u001b[0m\u001b[0mSa2\u001b[0m \u001b[0;34m=\u001b[0m \u001b[0maens_2\u001b[0m\u001b[0;34m.\u001b[0m\u001b[0mcompute_energyandforce_conformations\u001b[0m\u001b[0;34m(\u001b[0m\u001b[0mX\u001b[0m\u001b[0;34m,\u001b[0m\u001b[0mS\u001b[0m\u001b[0;34m)\u001b[0m\u001b[0;34m\u001b[0m\u001b[0m\n\u001b[1;32m     31\u001b[0m         \u001b[0mEa3_t\u001b[0m\u001b[0;34m,\u001b[0m\u001b[0mFa3_t\u001b[0m\u001b[0;34m,\u001b[0m\u001b[0mSa3\u001b[0m \u001b[0;34m=\u001b[0m \u001b[0maens_3\u001b[0m\u001b[0;34m.\u001b[0m\u001b[0mcompute_energyandforce_conformations\u001b[0m\u001b[0;34m(\u001b[0m\u001b[0mX\u001b[0m\u001b[0;34m,\u001b[0m\u001b[0mS\u001b[0m\u001b[0;34m)\u001b[0m\u001b[0;34m\u001b[0m\u001b[0m\n",
      "\u001b[0;32m~/Gits/ANI-Tools/lib/pyaniasetools.py\u001b[0m in \u001b[0;36mcompute_energyandforce_conformations\u001b[0;34m(self, X, S, ensemble)\u001b[0m\n\u001b[1;32m    146\u001b[0m             \u001b[0mnc\u001b[0m\u001b[0;34m.\u001b[0m\u001b[0msetConformers\u001b[0m\u001b[0;34m(\u001b[0m\u001b[0mconfs\u001b[0m\u001b[0;34m=\u001b[0m\u001b[0mX\u001b[0m\u001b[0;34m,\u001b[0m\u001b[0mtypes\u001b[0m\u001b[0;34m=\u001b[0m\u001b[0mlist\u001b[0m\u001b[0;34m(\u001b[0m\u001b[0mS\u001b[0m\u001b[0;34m)\u001b[0m\u001b[0;34m)\u001b[0m\u001b[0;34m\u001b[0m\u001b[0m\n\u001b[1;32m    147\u001b[0m             \u001b[0menergy\u001b[0m\u001b[0;34m[\u001b[0m\u001b[0mi\u001b[0m\u001b[0;34m]\u001b[0m \u001b[0;34m=\u001b[0m \u001b[0mnc\u001b[0m\u001b[0;34m.\u001b[0m\u001b[0menergy\u001b[0m\u001b[0;34m(\u001b[0m\u001b[0;34m)\u001b[0m\u001b[0;34m.\u001b[0m\u001b[0mcopy\u001b[0m\u001b[0;34m(\u001b[0m\u001b[0;34m)\u001b[0m\u001b[0;34m\u001b[0m\u001b[0m\n\u001b[0;32m--> 148\u001b[0;31m             \u001b[0mforces\u001b[0m\u001b[0;34m[\u001b[0m\u001b[0mi\u001b[0m\u001b[0;34m]\u001b[0m \u001b[0;34m=\u001b[0m \u001b[0mnc\u001b[0m\u001b[0;34m.\u001b[0m\u001b[0mforce\u001b[0m\u001b[0;34m(\u001b[0m\u001b[0;34m)\u001b[0m\u001b[0;34m.\u001b[0m\u001b[0mcopy\u001b[0m\u001b[0;34m(\u001b[0m\u001b[0;34m)\u001b[0m\u001b[0;34m\u001b[0m\u001b[0m\n\u001b[0m\u001b[1;32m    149\u001b[0m \u001b[0;34m\u001b[0m\u001b[0m\n\u001b[1;32m    150\u001b[0m         \u001b[0msigmap\u001b[0m \u001b[0;34m=\u001b[0m \u001b[0mhdt\u001b[0m\u001b[0;34m.\u001b[0m\u001b[0mhatokcal\u001b[0m \u001b[0;34m*\u001b[0m \u001b[0mnp\u001b[0m\u001b[0;34m.\u001b[0m\u001b[0mstd\u001b[0m\u001b[0;34m(\u001b[0m\u001b[0menergy\u001b[0m\u001b[0;34m,\u001b[0m\u001b[0maxis\u001b[0m\u001b[0;34m=\u001b[0m\u001b[0;36m0\u001b[0m\u001b[0;34m)\u001b[0m \u001b[0;34m/\u001b[0m \u001b[0mnp\u001b[0m\u001b[0;34m.\u001b[0m\u001b[0msqrt\u001b[0m\u001b[0;34m(\u001b[0m\u001b[0mX\u001b[0m\u001b[0;34m.\u001b[0m\u001b[0mshape\u001b[0m\u001b[0;34m[\u001b[0m\u001b[0;36m1\u001b[0m\u001b[0;34m]\u001b[0m\u001b[0;34m)\u001b[0m\u001b[0;34m\u001b[0m\u001b[0m\n",
      "\u001b[0;31mRuntimeError\u001b[0m: unidentifiable C++ exception"
     ]
    }
   ],
   "source": [
    "Eal=[]\n",
    "dEal=[]\n",
    "Emin=[]\n",
    "\n",
    "Na = []\n",
    "for i,data in enumerate(adl):\n",
    "    #if i  == 100:\n",
    "    #    break\n",
    "    if data['path'][1:] in dftdata:\n",
    "        \n",
    "        # Get reference data\n",
    "        X = np.array(data['coordinates'],dtype=np.float32)\n",
    "        S = data['species']\n",
    "        E = hdt.hatokcal*data['energies']\n",
    "        Na.append(len(S))\n",
    "        \n",
    "        # Compute SAE lin fit\n",
    "        Esae= hdt.hatokcal*hdt.compute_sae(file=ccssae,spc=S)\n",
    "        Esae_dft= hdt.hatokcal*hdt.compute_sae(file=dftsae,spc=S)\n",
    "        \n",
    "        # Define Eref\n",
    "        Eref = E-Esae\n",
    "        \n",
    "        # Define DFT comparison\n",
    "        dft = dftdata[data['path'][1:]]\n",
    "        Edft = hdt.hatokcal*dft['energies']-Esae_dft\n",
    "\n",
    "        # Compute energies and forces\n",
    "        Ea1_t,Fa1_t,Sa1 = aens_1.compute_energyandforce_conformations(X,S)\n",
    "        Ea2_t,Fa2_t,Sa2 = aens_2.compute_energyandforce_conformations(X,S)\n",
    "        Ea3_t,Fa3_t,Sa3 = aens_3.compute_energyandforce_conformations(X,S)\n",
    "\n",
    "        idx = np.where(Sa1 < 500.0)\n",
    "        \n",
    "        print('Computing:',i,len(S),data['path'],idx[0].size)\n",
    "        \n",
    "        if idx[0].size != 0:\n",
    "\n",
    "            # Define NN shifted energies\n",
    "            Eal1 = Ea1_t[idx]-Esae\n",
    "            Eal2 = Ea2_t[idx]-Esae\n",
    "            Eal3 = Ea3_t[idx]-Esae_dft\n",
    "\n",
    "            # Define NN E distmats\n",
    "            dEal1 = hdt.calculatedmat(Ea1_t[idx])\n",
    "            dEal2 = hdt.calculatedmat(Ea2_t[idx])\n",
    "            dEal3 = hdt.calculatedmat(Ea3_t[idx])\n",
    "\n",
    "            # Store E mins\n",
    "            Emin.append(np.array([[Eref[idx].min(),Eal1.min(),Eal2.min(),Eal3.min(),Edft[idx].min()]]))\n",
    "\n",
    "            # Store E and dE\n",
    "            Eal.append(np.vstack([Eref[idx],Eal1,Eal2,Eal3,Edft[idx]]))\n",
    "            dEal.append(np.vstack([hdt.calculatedmat(Eref[idx]),dEal1,dEal2,dEal3,hdt.calculatedmat(Edft[idx])]))\n",
    "            #print(dEal[-1].shape)\n",
    "        \n",
    "Eal = np.hstack(Eal)\n",
    "dEal = np.hstack(dEal)\n",
    "#print(dEal.shape,dEal)\n",
    "Na = np.array(Na)\n",
    "Emin=np.vstack(Emin)"
   ]
  },
  {
   "cell_type": "code",
   "execution_count": null,
   "metadata": {},
   "outputs": [],
   "source": [
    "#print(Eal1.shape,len(Edl))\n",
    "print(Emin[:,0].min(),Emin[:,1].min(),Emin[:,2].min(),Emin[:,3].min())"
   ]
  },
  {
   "cell_type": "code",
   "execution_count": null,
   "metadata": {},
   "outputs": [],
   "source": [
    "print('E error')\n",
    "rms = hdt.calculaterootmeansqrerror(Eal[1,:],Eal[0,:])\n",
    "mae = hdt.calculatemeanabserror(Eal[1,:],Eal[0,:])\n",
    "print(mae,rms)\n",
    "rms = hdt.calculaterootmeansqrerror(Eal[2,:],Eal[0,:])\n",
    "mae = hdt.calculatemeanabserror(Eal[2,:],Eal[0,:])\n",
    "print(mae,rms)\n",
    "rms = hdt.calculaterootmeansqrerror(Eal[3,:],Eal[0,:])\n",
    "mae = hdt.calculatemeanabserror(Eal[3,:],Eal[0,:])\n",
    "print(mae,rms)\n",
    "rms = hdt.calculaterootmeansqrerror(Eal[4,:],Eal[0,:])\n",
    "mae = hdt.calculatemeanabserror(Eal[4,:],Eal[0,:])\n",
    "print(mae,rms)"
   ]
  },
  {
   "cell_type": "code",
   "execution_count": null,
   "metadata": {},
   "outputs": [],
   "source": [
    "print('dE error')\n",
    "rms = hdt.calculaterootmeansqrerror(dEal[1,:],dEal[0,:])\n",
    "mae = hdt.calculatemeanabserror(dEal[1,:],dEal[0,:])\n",
    "print(mae,rms)\n",
    "rms = hdt.calculaterootmeansqrerror(dEal[2,:],dEal[0,:])\n",
    "mae = hdt.calculatemeanabserror(dEal[2,:],dEal[0,:])\n",
    "print(mae,rms)\n",
    "rms = hdt.calculaterootmeansqrerror(dEal[3,:],dEal[0,:])\n",
    "mae = hdt.calculatemeanabserror(dEal[3,:],dEal[0,:])\n",
    "print(mae,rms)\n",
    "rms = hdt.calculaterootmeansqrerror(dEal[4,:],dEal[0,:])\n",
    "mae = hdt.calculatemeanabserror(dEal[4,:],dEal[0,:])\n",
    "print(mae,rms)"
   ]
  },
  {
   "cell_type": "code",
   "execution_count": null,
   "metadata": {
    "collapsed": true
   },
   "outputs": [],
   "source": []
  },
  {
   "cell_type": "code",
   "execution_count": null,
   "metadata": {
    "scrolled": false
   },
   "outputs": [],
   "source": [
    "#dft_shift = Edl.mean()-Eal3.mean()\n",
    "\n",
    "aes.plot_corr_dist(dEal[1,:],dEal[0,:],xlabel=r'$E_{CCSD} (kcal \\times mol^{-1})$',ylabel=r'$E_{ANI} (kcal \\times mol^{-1})$')\n",
    "aes.plot_corr_dist(dEal[2,:],dEal[0,:],xlabel=r'$E_{CCSD} (kcal \\times mol^{-1})$',ylabel=r'$E_{ANI} (kcal \\times mol^{-1})$')\n",
    "aes.plot_corr_dist(dEal[3,:],dEal[0,:],xlabel=r'$E_{CCSD} (kcal \\times mol^{-1})$',ylabel=r'$E_{DFT} (kcal \\times mol^{-1})$')\n",
    "aes.plot_corr_dist(dEal[4,:],dEal[0,:],xlabel=r'$E_{CCSD} (kcal \\times mol^{-1})$',ylabel=r'$E_{DFT} (kcal \\times mol^{-1})$')\n",
    "aes.plot_corr_dist(dEal[3,:],dEal[4,:],xlabel=r'$E_{CCSD} (kcal \\times mol^{-1})$',ylabel=r'$E_{DFT} (kcal \\times mol^{-1})$')"
   ]
  },
  {
   "cell_type": "code",
   "execution_count": null,
   "metadata": {
    "scrolled": false
   },
   "outputs": [],
   "source": [
    "f = plt.subplots(figsize=[20,15])\n",
    "gs  = gridspec.GridSpec(2, 2, width_ratios=[.85, .85])\n",
    "ax1 = plt.subplot(gs[0])\n",
    "ax2 = plt.subplot(gs[1])\n",
    "ax3 = plt.subplot(gs[2])\n",
    "ax4 = plt.subplot(gs[3])\n",
    "\n",
    "print((Eal[0,:]-Eal[3,:]).mean(),(Eal[0,:]-Eal[4,:]).mean())\n",
    "\n",
    "bin1 = aes.plot_corr_dist_axes(ax1,Eal[0,:],Eal[1,:],labelx=r'$E_{CCSD(T)/CBS} (kcal \\times mol^{-1})$',labely=r'$E_{ANI} (kcal \\times mol^{-1})$',plabel='CCSD(T)/CBS Transfer NN',cmap=mpl.cm.viridis)\n",
    "bin2 = aes.plot_corr_dist_axes(ax2,Eal[0,:],Eal[2,:],labelx=r'$E_{CCSD(T)/CBS} (kcal \\times mol^{-1})$',labely=r'$E_{ANI} (kcal \\times mol^{-1})$',plabel='CCSD(T)/CBS Trained NN',cmap=mpl.cm.viridis)\n",
    "bin3 = aes.plot_corr_dist_axes(ax3,Eal[0,:],Eal[3,:]+(Eal[0,:]-Eal[3,:]).mean(),labelx=r'$E_{CCSD(T)/CBS} (kcal \\times mol^{-1})$',labely=r'$E_{ANI} (kcal \\times mol^{-1})$',plabel='DFT/DZ Trained NN',cmap=mpl.cm.viridis)\n",
    "bin4 = aes.plot_corr_dist_axes(ax4,Eal[0,:],Eal[4,:]+(Eal[0,:]-Eal[4,:]).mean(),labelx=r'$E_{CCSD(T)/CBS} (kcal \\times mol^{-1})$',labely=r'$E_{DFT} (kcal \\times mol^{-1})$',plabel='DFT/DZ QM',cmap=mpl.cm.viridis)\n",
    "\n",
    "f[0].subplots_adjust(right=0.8)\n",
    "cbar_ax = f[0].add_axes([0.825, 0.15, 0.025, 0.7])\n",
    "cb1 = f[0].colorbar(bin1[-1], cmap=mpl.cm.viridis, cax=cbar_ax)\n",
    "\n",
    "cb1.set_label('Count', fontsize=20)\n",
    "plt.show()"
   ]
  },
  {
   "cell_type": "code",
   "execution_count": null,
   "metadata": {
    "collapsed": true
   },
   "outputs": [],
   "source": [
    "#slope, intercept, r_value, p_value, std_err = stats.linregress(hdt.hatokcal*(Edl),hdt.hatokcal*(Eal2))\n",
    "#print(r_value**2)"
   ]
  },
  {
   "cell_type": "code",
   "execution_count": null,
   "metadata": {},
   "outputs": [],
   "source": [
    "f = plt.subplots(figsize=[23,18])\n",
    "gs  = gridspec.GridSpec(2, 2, width_ratios=[.85, .85])\n",
    "ax1 = plt.subplot(gs[0])\n",
    "ax2 = plt.subplot(gs[1])\n",
    "ax3 = plt.subplot(gs[2])\n",
    "ax4 = plt.subplot(gs[3])\n",
    "\n",
    "bin1 = aes.plot_corr_dist_axes(ax1,dEal[0,:],dEal[1,:],labelx=r'$\\Delta E_{CCSD(T)/CBS}(kcal \\times mol^{-1})$',labely=r'$\\Delta E_{ANI} (kcal \\times mol^{-1})$',plabel='CCSD(T) Transfer NN',cmap=mpl.cm.viridis)\n",
    "bin2 = aes.plot_corr_dist_axes(ax2,dEal[0,:],dEal[2,:],labelx=r'$\\Delta E_{CCSD(T)/CBS} (kcal \\times mol^{-1})$',labely=r'$\\Delta E_{ANI} (kcal \\times mol^{-1})$',plabel='CCSD(T) Trained NN',cmap=mpl.cm.viridis)\n",
    "bin3 = aes.plot_corr_dist_axes(ax3,dEal[0,:],dEal[3,:],labelx=r'$\\Delta E_{CCSD(T)/CBS} (kcal \\times mol^{-1})$',labely=r'$\\Delta E_{ANI} (kcal \\times mol^{-1})$',plabel='DFT/DZ Trained NN',cmap=mpl.cm.viridis)\n",
    "bin4 = aes.plot_corr_dist_axes(ax4,dEal[0,:],dEal[4,:],labelx=r'$\\Delta E_{CCSD(T)/CBS} (kcal \\times mol^{-1})$',labely=r'$\\Delta E_{DFT/DZ} (kcal \\times mol^{-1})$',plabel='DFT/DZ',cmap=mpl.cm.viridis)\n",
    "\n",
    "f[0].subplots_adjust(right=0.8)\n",
    "cbar_ax = f[0].add_axes([0.82, 0.15, 0.025, 0.7])\n",
    "cb1 = f[0].colorbar(bin4[-1], cmap=mpl.cm.viridis, cax=cbar_ax)\n",
    "\n",
    "cb1.set_label('Count', fontsize=20)\n",
    "plt.show()"
   ]
  },
  {
   "cell_type": "code",
   "execution_count": null,
   "metadata": {},
   "outputs": [],
   "source": [
    "f = plt.subplots(figsize=[32,10])\n",
    "gs  = gridspec.GridSpec(1, 3, width_ratios=[.85, .85, 1.0])\n",
    "ax1 = plt.subplot(gs[0])\n",
    "ax2 = plt.subplot(gs[1])\n",
    "ax3 = plt.subplot(gs[2])\n",
    "\n",
    "Emin_ref = hdt.calculatedmat(Emin[:,0])\n",
    "\n",
    "bin1 = aes.plot_corr_dist_axes(ax1,hdt.calculatedmat(Emin[:,1]),Emin_ref,labelx=r'$\\Delta E_{CCSD(T)/CBS}(kcal \\times mol^{-1})$',labely=r'$\\Delta E_{ANI} (kcal \\times mol^{-1})$',plabel='CCSD(T) from DFT/DZ',cmap=mpl.cm.viridis)\n",
    "bin2 = aes.plot_corr_dist_axes(ax2,hdt.calculatedmat(Emin[:,2]),Emin_ref,labelx=r'$\\Delta E_{CCSD(T)/CBS} (kcal \\times mol^{-1})$',labely=r'$\\Delta E_{ANI} (kcal \\times mol^{-1})$',plabel='CCSD(T) Only',cmap=mpl.cm.viridis)\n",
    "bin3 = aes.plot_corr_dist_axes(ax3,hdt.calculatedmat(Emin[:,3]),Emin_ref,labelx=r'$\\Delta E_{CCSD(T)/CBS} (kcal \\times mol^{-1})$',labely=r'$\\Delta E_{ANI} (kcal \\times mol^{-1})$',plabel='DFT/DZ',cmap=mpl.cm.viridis)\n",
    "cb1 = f[0].colorbar(bin1[-1], cmap=mpl.cm.viridis)\n",
    "cb1.set_label('Count', fontsize=20)\n",
    "plt.show()"
   ]
  },
  {
   "cell_type": "code",
   "execution_count": null,
   "metadata": {},
   "outputs": [],
   "source": [
    "plt.hist(Na, bins=16)\n",
    "plt.show()"
   ]
  },
  {
   "cell_type": "code",
   "execution_count": null,
   "metadata": {},
   "outputs": [],
   "source": [
    "# f = plt.subplots(figsize=[24,10])\n",
    "# gs  = gridspec.GridSpec(1, 2, width_ratios=[.85, 1.0])\n",
    "# ax1 = plt.subplot(gs[0])\n",
    "\n",
    "# ax1.hist(dEdl-dEal1,bins=75, range=[-10,10], edgecolor='black', linewidth=1.2, ls='dashed', fc=(0, 0, 1, 0.4),label='Layer 1 and 3 frozen')\n",
    "# ax1.hist(dEdl-dEal2,bins=75, range=[-10,10], edgecolor='black', linewidth=1.2, ls='dashed', fc=(1, 0, 0, 0.4),label='Full model retrained')\n",
    "# ax1.set_title('Error Distributions', fontsize=24)\n",
    "# ax1.legend(fontsize=16)\n",
    "# ax1.set_xlabel(r'$\\Delta E$ ($kcal \\times mol^{-1}$)',fontsize=20)\n",
    "# ax1.set_ylabel('Count',fontsize=20)\n",
    "\n",
    "# ax2 = plt.subplot(gs[1])\n",
    "# ax2.hist(Na,bins=16, ls='dashed', edgecolor='black', linewidth=1.2, fc=(1, 0, 0, 0.4))\n",
    "# ax2.set_title('System sizes', fontsize=24)\n",
    "# ax2.set_xlabel('Numer of atoms',fontsize=20)\n",
    "\n",
    "# plt.show()"
   ]
  },
  {
   "cell_type": "code",
   "execution_count": null,
   "metadata": {
    "collapsed": true
   },
   "outputs": [],
   "source": [
    "adl = pyt.anidataloader('/home/jsmith48/scratch/extensibility_test_sets/COMP6v1/s66x8/s66x8_wb97x6-31gd.h5')"
   ]
  },
  {
   "cell_type": "code",
   "execution_count": null,
   "metadata": {
    "collapsed": true
   },
   "outputs": [],
   "source": [
    "sdir = '/home/jsmith48/scratch/extensibility_test_sets/COMP6v1/s66x8/xyz_splits/'"
   ]
  },
  {
   "cell_type": "code",
   "execution_count": null,
   "metadata": {
    "collapsed": true
   },
   "outputs": [],
   "source": [
    "ani_opt1 = aat.anienscomputetool(cns1, sae1, nnf1, Nn1, 2)\n",
    "ani_opt2 = aat.anienscomputetool(cns2, sae2, nnf2, Nn2, 2)\n",
    "ani_opt3 = aat.anienscomputetool(cns3, sae3, nnf3, Nn3, 2)"
   ]
  },
  {
   "cell_type": "code",
   "execution_count": null,
   "metadata": {
    "scrolled": false
   },
   "outputs": [],
   "source": [
    "ccsd = open('/home/jsmith48/scratch/extensibility_test_sets/COMP6v1/s66x8/ccsd_t_energies.dat')\n",
    "R = [0.9, 0.95, 1.0, 1.05, 1.1, 1.25, 1.5, 2.0]\n",
    "Es66 = []\n",
    "for j,data in enumerate(adl):\n",
    "    print(data['path'])\n",
    "    \n",
    "    if j < 66:\n",
    "\n",
    "        Ecc = np.zeros(8,dtype=np.float64)\n",
    "        for i in range(8):\n",
    "            Ecc[i] = float(ccsd.readline().split()[-1])\n",
    "\n",
    "        S = data['species']\n",
    "        X = data['coordinates']\n",
    "        Edft = hdt.hatokcal*data['energies']\n",
    "\n",
    "        # Compute SAE lin fit\n",
    "        Esae_ccs= hdt.hatokcal*hdt.compute_sae(file=ccssae,spc=S)\n",
    "        Esae_dft= hdt.hatokcal*hdt.compute_sae(file=dftsae,spc=S)\n",
    "        \n",
    "        #print(Edft-Edft.min(),Ecc-Ecc.min())\n",
    "\n",
    "        Ea1_t,Fa1_t,Sa1 = aens_1.compute_energyandforce_conformations(X,S)\n",
    "        Ea2_t,Fa2_t,Sa2 = aens_2.compute_energyandforce_conformations(X,S)\n",
    "        Ea3_t,Fa3_t,Sa3 = aens_3.compute_energyandforce_conformations(X,S)\n",
    "\n",
    "        #print(os.listdir(sdir))\n",
    "        \n",
    "        X1,S1,Na1,C1 = hdt.readxyz2(sdir+'s66x8_'+str(j).zfill(2)+'-1.xyz')\n",
    "        X1o,CNV = ani_opt1.optimize_molecule(X1[0],S1,fmax=0.0001)\n",
    "        Ea1s1_t,Fa1s1_t,Sas11 = aens_1.compute_energyandforce_conformations(X1o[np.newaxis,:,:],S1)\n",
    "        X1o,CNV = ani_opt2.optimize_molecule(X1[0],S1,fmax=0.0001)\n",
    "        Ea2s1_t,Fa2s1_t,Sas12 = aens_2.compute_energyandforce_conformations(X1o[np.newaxis,:,:],S1)\n",
    "        X1o,CNV = ani_opt3.optimize_molecule(X1[0],S1,fmax=0.0001)\n",
    "        Ea3s1_t,Fa3s1_t,Sas13 = aens_3.compute_energyandforce_conformations(X1o[np.newaxis,:,:],S1)\n",
    "\n",
    "        X2,S2,Na2,C2 = hdt.readxyz2(sdir+'s66x8_'+str(j).zfill(2)+'-2.xyz')\n",
    "        X2o,CNV = ani_opt1.optimize_molecule(X2[0],S2,fmax=0.0001)\n",
    "        Ea1s2_t,Fa1s2_t,Sas21 = aens_1.compute_energyandforce_conformations(X2o[np.newaxis,:,:],S2)\n",
    "        X2o,CNV = ani_opt1.optimize_molecule(X2[0],S2,fmax=0.0001)\n",
    "        Ea2s2_t,Fa2s2_t,Sas22 = aens_2.compute_energyandforce_conformations(X2o[np.newaxis,:,:],S2)\n",
    "        X2o,CNV = ani_opt1.optimize_molecule(X2[0],S2,fmax=0.0001)\n",
    "        Ea3s2_t,Fa3s2_t,Sas23 = aens_3.compute_energyandforce_conformations(X2o[np.newaxis,:,:],S2)\n",
    "        \n",
    "        print(Ea1s1_t+Ea1s2_t, Ea1_t)\n",
    "        \n",
    "        Ea1s = Ea1s1_t + Ea1s2_t\n",
    "        Ea2s = Ea2s1_t + Ea2s2_t\n",
    "        Ea3s = Ea3s1_t + Ea3s2_t\n",
    "        \n",
    "        #plt.plot(Edft,label='DFT/DZ')\n",
    "        plt.plot(R,Ecc,label='CCSD(T)')\n",
    "        plt.plot(R,Ea1_t-Ea1_t[-1]+Ecc[-1],label='ANI TL')\n",
    "        plt.plot(R,Ea2_t-Ea2_t[-1]+Ecc[-1],label='ANI CC')\n",
    "        plt.plot(R,Ea3_t-Ea3_t[-1]+Ecc[-1],label='ANI DT')\n",
    "        \n",
    "        Es66.append(np.array([Ecc,Ea1_t-Ea1_t[-1]+Ecc[-1],Ea2_t-Ea2_t[-1]+Ecc[-1],Ea3_t-Ea3_t[-1]+Ecc[-1],Edft-Edft.min()]))\n",
    "\n",
    "        plt.legend()\n",
    "        plt.show()\n",
    "Es66 = np.hstack(Es66)"
   ]
  },
  {
   "cell_type": "code",
   "execution_count": null,
   "metadata": {},
   "outputs": [],
   "source": [
    "print('E error -- s66x8 hydrogen bonding error')\n",
    "print('        MAE               RMSE')\n",
    "rms = hdt.calculaterootmeansqrerror(Es66[1,:],Es66[0,:])\n",
    "mae = hdt.calculatemeanabserror(Es66[1,:],Es66[0,:])\n",
    "print(mae,rms)\n",
    "rms = hdt.calculaterootmeansqrerror(Es66[2,:],Es66[0,:])\n",
    "mae = hdt.calculatemeanabserror(Es66[2,:],Es66[0,:])\n",
    "print(mae,rms)\n",
    "rms = hdt.calculaterootmeansqrerror(Es66[3,:],Es66[0,:])\n",
    "mae = hdt.calculatemeanabserror(Es66[3,:],Es66[0,:])\n",
    "print(mae,rms)\n",
    "rms = hdt.calculaterootmeansqrerror(Es66[4,:],Es66[0,:])\n",
    "mae = hdt.calculatemeanabserror(Es66[4,:],Es66[0,:])\n",
    "print(mae,rms)"
   ]
  },
  {
   "cell_type": "code",
   "execution_count": null,
   "metadata": {},
   "outputs": [],
   "source": [
    "f = plt.subplots(figsize=[20,15])\n",
    "gs  = gridspec.GridSpec(2, 2, width_ratios=[.85, .85])\n",
    "ax1 = plt.subplot(gs[0])\n",
    "ax2 = plt.subplot(gs[1])\n",
    "ax3 = plt.subplot(gs[2])\n",
    "ax4 = plt.subplot(gs[3])\n",
    "\n",
    "bin1 = aes.plot_corr_dist_axes(ax1,Es66[0,:],Es66[1,:],labelx=r'$E_{CCSD(T)/CBS} (kcal \\times mol^{-1})$',labely=r'$E_{ANI} (kcal \\times mol^{-1})$',plabel='CCSD(T)/CBS Transfer NN',cmap=mpl.cm.viridis)\n",
    "bin2 = aes.plot_corr_dist_axes(ax2,Es66[0,:],Es66[2,:],labelx=r'$E_{CCSD(T)/CBS} (kcal \\times mol^{-1})$',labely=r'$E_{ANI} (kcal \\times mol^{-1})$',plabel='CCSD(T)/CBS Trained NN',cmap=mpl.cm.viridis)\n",
    "bin3 = aes.plot_corr_dist_axes(ax3,Es66[0,:],Es66[3,:],labelx=r'$E_{CCSD(T)/CBS} (kcal \\times mol^{-1})$',labely=r'$E_{ANI} (kcal \\times mol^{-1})$',plabel='DFT/DZ Trained NN',cmap=mpl.cm.viridis)\n",
    "bin4 = aes.plot_corr_dist_axes(ax4,Es66[0,:],Es66[4,:],labelx=r'$E_{CCSD(T)/CBS} (kcal \\times mol^{-1})$',labely=r'$E_{DFT} (kcal \\times mol^{-1})$',plabel='DFT/DZ QM',cmap=mpl.cm.viridis)\n",
    "\n",
    "f[0].subplots_adjust(right=0.8)\n",
    "cbar_ax = f[0].add_axes([0.825, 0.15, 0.025, 0.7])\n",
    "cb1 = f[0].colorbar(bin1[-1], cmap=mpl.cm.viridis, cax=cbar_ax)\n",
    "\n",
    "cb1.set_label('Count', fontsize=20)\n",
    "plt.show()"
   ]
  },
  {
   "cell_type": "code",
   "execution_count": null,
   "metadata": {
    "collapsed": true
   },
   "outputs": [],
   "source": []
  }
 ],
 "metadata": {
  "kernelspec": {
   "display_name": "Python 3",
   "language": "python",
   "name": "python3"
  },
  "language_info": {
   "codemirror_mode": {
    "name": "ipython",
    "version": 3
   },
   "file_extension": ".py",
   "mimetype": "text/x-python",
   "name": "python",
   "nbconvert_exporter": "python",
   "pygments_lexer": "ipython3",
   "version": "3.6.3"
  }
 },
 "nbformat": 4,
 "nbformat_minor": 2
}
