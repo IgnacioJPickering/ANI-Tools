{
 "cells": [
  {
   "cell_type": "code",
   "execution_count": 1,
   "metadata": {},
   "outputs": [
    {
     "name": "stdout",
     "output_type": "stream",
     "text": [
      "van Der Waals correction will be unavailable. Please install ased3\n"
     ]
    }
   ],
   "source": [
    "import pyaniasetools as pya\n",
    "from rdkit import Chem\n",
    "from rdkit.Chem import AllChem\n",
    "import hdnntools as hdt\n",
    "import numpy as np"
   ]
  },
  {
   "cell_type": "code",
   "execution_count": 2,
   "metadata": {},
   "outputs": [],
   "source": [
    "netdir = '/scratch/Gits/ANI-Networks/networks/al_networks/ANI-AL-0808.0303.0400/'\n",
    "cns = netdir+'train0/rHCNOSFCl-4.6A_16-3.1A_a4-8.params'\n",
    "sae = netdir+'train0/sae_wb97x-631gd.dat'\n",
    "nnf = netdir+'train'\n",
    "Nn = 5"
   ]
  },
  {
   "cell_type": "code",
   "execution_count": 3,
   "metadata": {},
   "outputs": [],
   "source": [
    "cmp = pya.anienscomputetool(cns,sae,nnf,Nn,0)"
   ]
  },
  {
   "cell_type": "code",
   "execution_count": 4,
   "metadata": {},
   "outputs": [
    {
     "name": "stdout",
     "output_type": "stream",
     "text": [
      "50\n",
      "Confid: 0\n",
      "Confid: 1\n",
      "Confid: 2\n",
      "Confid: 3\n",
      "Confid: 4\n",
      "Confid: 5\n",
      "Confid: 6\n",
      "Confid: 7\n",
      "Confid: 8\n",
      "Confid: 9\n",
      "Confid: 10\n",
      "Confid: 11\n",
      "Confid: 12\n",
      "Confid: 13\n",
      "Confid: 14\n",
      "Confid: 15\n",
      "Confid: 16\n",
      "Confid: 17\n",
      "Confid: 18\n",
      "Confid: 19\n",
      "Confid: 20\n",
      "Confid: 21\n",
      "Confid: 22\n",
      "Confid: 23\n",
      "Confid: 24\n",
      "Confid: 25\n",
      "Confid: 26\n",
      "Confid: 27\n",
      "Confid: 28\n",
      "Confid: 29\n",
      "Confid: 30\n",
      "Confid: 31\n",
      "Confid: 32\n",
      "Confid: 33\n",
      "Confid: 34\n",
      "Confid: 35\n",
      "Confid: 36\n",
      "Confid: 37\n",
      "Confid: 38\n",
      "Confid: 39\n",
      "Confid: 40\n",
      "Confid: 41\n",
      "Confid: 42\n",
      "Confid: 43\n",
      "Confid: 44\n",
      "Confid: 45\n",
      "Confid: 46\n",
      "Confid: 47\n",
      "Confid: 48\n",
      "Confid: 49\n",
      "[2.346998358221117, 3.882753298387711, 3.4135364893479574, 3.1240679558105247, 3.705360247974471, 3.9279631444220175, 3.0325541352388186, 2.644137280140896, 3.6856467739004666, 2.124798967684887, 2.9123091072508296, 3.64328618149378, 3.1627332038397964, 2.8360422338794633, 3.0841272804773183, 1.9919957187095272, 1.5748800301635502, 2.0010284084234113, 2.253964310785545, 2.991535445237471, 4.029106591042163, 3.5587623505725183, 3.1329865527693084, 3.4202687188786194, 3.5527012180122104, 2.7132695780113356, 3.7165218337494705, 3.1831848167755874, 2.4451264357442164, 3.4798698379728754, 2.6545611808640164, 3.7076379926054783, 2.6258144438109414, 3.954237517935488, 2.8237971789454535, 2.954307442673525, 3.9834875231695923, 1.7238531674442192, 3.83304041235683, 3.9025958295739867, 3.4644548457032984, 3.703927613052664, 3.6140869026307514, 2.4430617145034734, 3.6119918807693296, 2.194445901587418, 3.525676989836666, 3.2943818394655233, 3.1142881202274113]\n"
     ]
    }
   ],
   "source": [
    "m = Chem.MolFromSmiles('COC1=CC=CC(=C1)N1CCN(CC1)C1=NC2=C(C=CC=C2F)[C@H](CC(O)=O)N1C1=CC(=CC=C1OC)C(F)(F)F')\n",
    "m2=Chem.AddHs(m)\n",
    "# run distance geometry 10 times\n",
    "cids = AllChem.EmbedMultipleConfs(m2, useExpTorsionAnglePrefs=True, useBasicKnowledge=True, numConfs=50)\n",
    "print(len(cids))\n",
    "for cid in cids:\n",
    "    print('Confid:',cid)\n",
    "    _ = AllChem.MMFFOptimizeMolecule(m2, confId=cid)\n",
    "    _ = cmp.optimize_rdkit_molecule(m2, cid=cid, fmax=0.001)\n",
    "rmslist = []\n",
    "AllChem.AlignMolConformers(m2, RMSlist=rmslist)\n",
    "print(rmslist)"
   ]
  },
  {
   "cell_type": "code",
   "execution_count": 5,
   "metadata": {},
   "outputs": [
    {
     "ename": "AttributeError",
     "evalue": "'ensemblemolecule' object has no attribute 'compute_mean_energies'",
     "output_type": "error",
     "traceback": [
      "\u001b[0;31m---------------------------------------------------------------------------\u001b[0m",
      "\u001b[0;31mAttributeError\u001b[0m                            Traceback (most recent call last)",
      "\u001b[0;32m<ipython-input-5-9cf2744b65ee>\u001b[0m in \u001b[0;36m<module>\u001b[0;34m()\u001b[0m\n\u001b[0;32m----> 1\u001b[0;31m \u001b[0mE\u001b[0m\u001b[0;34m,\u001b[0m\u001b[0mV\u001b[0m \u001b[0;34m=\u001b[0m \u001b[0mcmp\u001b[0m\u001b[0;34m.\u001b[0m\u001b[0menergy_rdkit_conformers\u001b[0m\u001b[0;34m(\u001b[0m\u001b[0mm2\u001b[0m\u001b[0;34m,\u001b[0m\u001b[0mcids\u001b[0m\u001b[0;34m)\u001b[0m\u001b[0;34m\u001b[0m\u001b[0m\n\u001b[0m\u001b[1;32m      2\u001b[0m \u001b[0mE\u001b[0m \u001b[0;34m=\u001b[0m \u001b[0mhdt\u001b[0m\u001b[0;34m.\u001b[0m\u001b[0mhatokcal\u001b[0m\u001b[0;34m*\u001b[0m\u001b[0;34m(\u001b[0m\u001b[0mE\u001b[0m\u001b[0;34m-\u001b[0m\u001b[0mE\u001b[0m\u001b[0;34m.\u001b[0m\u001b[0mmin\u001b[0m\u001b[0;34m(\u001b[0m\u001b[0;34m)\u001b[0m\u001b[0;34m)\u001b[0m\u001b[0;34m\u001b[0m\u001b[0m\n\u001b[1;32m      3\u001b[0m \u001b[0mefile\u001b[0m \u001b[0;34m=\u001b[0m \u001b[0mopen\u001b[0m\u001b[0;34m(\u001b[0m\u001b[0;34m'/nh/nest/u/jsmith/scratch/Research/confs_test/fentanyl.xyz'\u001b[0m\u001b[0;34m)\u001b[0m\u001b[0;34m\u001b[0m\u001b[0m\n\u001b[1;32m      4\u001b[0m \u001b[0midx\u001b[0m \u001b[0;34m=\u001b[0m \u001b[0mnp\u001b[0m\u001b[0;34m.\u001b[0m\u001b[0margsort\u001b[0m\u001b[0;34m(\u001b[0m\u001b[0mE\u001b[0m\u001b[0;34m)\u001b[0m\u001b[0;34m\u001b[0m\u001b[0m\n\u001b[1;32m      5\u001b[0m \u001b[0mprint\u001b[0m\u001b[0;34m(\u001b[0m\u001b[0mE\u001b[0m\u001b[0;34m,\u001b[0m\u001b[0midx\u001b[0m\u001b[0;34m)\u001b[0m\u001b[0;34m\u001b[0m\u001b[0m\n",
      "\u001b[0;32m/scratch/Gits/ANI-Tools/lib/pyaniasetools.py\u001b[0m in \u001b[0;36menergy_rdkit_conformers\u001b[0;34m(self, mol, cids)\u001b[0m\n\u001b[1;32m    310\u001b[0m             \u001b[0mX\u001b[0m\u001b[0;34m,\u001b[0m \u001b[0mS\u001b[0m \u001b[0;34m=\u001b[0m \u001b[0m__convert_rdkitmol_to_nparr__\u001b[0m\u001b[0;34m(\u001b[0m\u001b[0mmol\u001b[0m\u001b[0;34m,\u001b[0m\u001b[0mconfId\u001b[0m\u001b[0;34m=\u001b[0m\u001b[0mcid\u001b[0m\u001b[0;34m)\u001b[0m\u001b[0;34m\u001b[0m\u001b[0m\n\u001b[1;32m    311\u001b[0m             \u001b[0mself\u001b[0m\u001b[0;34m.\u001b[0m\u001b[0mens\u001b[0m\u001b[0;34m.\u001b[0m\u001b[0mset_molecule\u001b[0m\u001b[0;34m(\u001b[0m\u001b[0mX\u001b[0m\u001b[0;34m=\u001b[0m\u001b[0mX\u001b[0m\u001b[0;34m,\u001b[0m \u001b[0mS\u001b[0m\u001b[0;34m=\u001b[0m\u001b[0mlist\u001b[0m\u001b[0;34m(\u001b[0m\u001b[0mS\u001b[0m\u001b[0;34m)\u001b[0m\u001b[0;34m)\u001b[0m\u001b[0;34m\u001b[0m\u001b[0m\n\u001b[0;32m--> 312\u001b[0;31m             \u001b[0me\u001b[0m\u001b[0;34m,\u001b[0m\u001b[0mv\u001b[0m \u001b[0;34m=\u001b[0m \u001b[0mself\u001b[0m\u001b[0;34m.\u001b[0m\u001b[0mens\u001b[0m\u001b[0;34m.\u001b[0m\u001b[0mcompute_mean_energies\u001b[0m\u001b[0;34m(\u001b[0m\u001b[0;34m)\u001b[0m\u001b[0;34m\u001b[0m\u001b[0m\n\u001b[0m\u001b[1;32m    313\u001b[0m             \u001b[0mE\u001b[0m\u001b[0;34m.\u001b[0m\u001b[0mappend\u001b[0m\u001b[0;34m(\u001b[0m\u001b[0me\u001b[0m\u001b[0;34m)\u001b[0m\u001b[0;34m\u001b[0m\u001b[0m\n\u001b[1;32m    314\u001b[0m             \u001b[0mV\u001b[0m\u001b[0;34m.\u001b[0m\u001b[0mappend\u001b[0m\u001b[0;34m(\u001b[0m\u001b[0mv\u001b[0m\u001b[0;34m)\u001b[0m\u001b[0;34m\u001b[0m\u001b[0m\n",
      "\u001b[0;31mAttributeError\u001b[0m: 'ensemblemolecule' object has no attribute 'compute_mean_energies'"
     ]
    }
   ],
   "source": [
    "E,V = cmp.energy_rdkit_conformers(m2,cids)\n",
    "E = hdt.hatokcal*(E-E.min())\n",
    "efile = open('/nh/nest/u/jsmith/scratch/Research/confs_test/fentanyl.xyz')\n",
    "idx = np.argsort(E)\n",
    "print(E,idx)"
   ]
  },
  {
   "cell_type": "code",
   "execution_count": null,
   "metadata": {},
   "outputs": [],
   "source": [
    "X,S = pya.__convert_rdkitconfs_to_nparr__(m2)\n",
    "Xs = X[idx]\n",
    "Es = E[idx]\n",
    "Vs = V[idx]"
   ]
  },
  {
   "cell_type": "code",
   "execution_count": null,
   "metadata": {},
   "outputs": [],
   "source": [
    "comments = [str(es)+','+str(vs) for es,vs in zip(Es,Vs)]\n",
    "hdt.writexyzfilewc('/nh/nest/u/jsmith/scratch/Research/confs_test/Letermovir.xyz',Xs,S,comments)"
   ]
  },
  {
   "cell_type": "code",
   "execution_count": null,
   "metadata": {},
   "outputs": [],
   "source": []
  }
 ],
 "metadata": {
  "kernelspec": {
   "display_name": "Python 3",
   "language": "python",
   "name": "python3"
  },
  "language_info": {
   "codemirror_mode": {
    "name": "ipython",
    "version": 3
   },
   "file_extension": ".py",
   "mimetype": "text/x-python",
   "name": "python",
   "nbconvert_exporter": "python",
   "pygments_lexer": "ipython3",
   "version": "3.6.4"
  }
 },
 "nbformat": 4,
 "nbformat_minor": 2
}
