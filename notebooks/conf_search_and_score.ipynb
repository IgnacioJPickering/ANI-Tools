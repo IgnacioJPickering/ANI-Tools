{
 "cells": [
  {
   "cell_type": "code",
   "execution_count": 1,
   "metadata": {},
   "outputs": [
    {
     "name": "stdout",
     "output_type": "stream",
     "text": [
      "van Der Waals correction will be unavailable. Please install ased3\n"
     ]
    }
   ],
   "source": [
    "import pyaniasetools as pya\n",
    "from rdkit import Chem\n",
    "from rdkit.Chem import AllChem\n",
    "import hdnntools as hdt\n",
    "import numpy as np"
   ]
  },
  {
   "cell_type": "code",
   "execution_count": 2,
   "metadata": {},
   "outputs": [],
   "source": [
    "netdir = '/scratch/Gits/ANI-Networks/networks/al_networks/ANI-AL-0808.0303.0400/'\n",
    "cns = netdir+'train0/rHCNOSFCl-4.6A_16-3.1A_a4-8.params'\n",
    "sae = netdir+'train0/sae_wb97x-631gd.dat'\n",
    "nnf = netdir+'train'\n",
    "Nn = 5"
   ]
  },
  {
   "cell_type": "code",
   "execution_count": null,
   "metadata": {},
   "outputs": [],
   "source": [
    "cmp = pya.anienscomputetool(cns,sae,nnf,Nn,0)"
   ]
  },
  {
   "cell_type": "code",
   "execution_count": null,
   "metadata": {},
   "outputs": [
    {
     "name": "stdout",
     "output_type": "stream",
     "text": [
      "50\n",
      "Confid: 0\n",
      "Did not converge: 3000\n",
      "Confid: 1\n",
      "Did not converge: 3000\n",
      "Confid: 2\n",
      "Did not converge: 3000\n",
      "Confid: 3\n",
      "Did not converge: 3000\n",
      "Confid: 4\n",
      "Did not converge: 3000\n",
      "Confid: 5\n",
      "Did not converge: 3000\n",
      "Confid: 6\n"
     ]
    }
   ],
   "source": [
    "m = Chem.MolFromSmiles('OC(=O)COC(=O)CC1=CC=CC=C1NC1=C(Cl)C=CC=C1Cl')\n",
    "m2=Chem.AddHs(m)\n",
    "# run distance geometry 10 times\n",
    "cids = AllChem.EmbedMultipleConfs(m2, useExpTorsionAnglePrefs=True, useBasicKnowledge=True, numConfs=50)\n",
    "print(len(cids))\n",
    "for cid in cids:\n",
    "    print('Confid:',cid)\n",
    "    _ = cmp.optimize_rdkit_molecule(m2, cid=cid)\n",
    "rmslist = []\n",
    "AllChem.AlignMolConformers(m2, RMSlist=rmslist)\n",
    "print(rmslist)"
   ]
  },
  {
   "cell_type": "code",
   "execution_count": null,
   "metadata": {},
   "outputs": [],
   "source": [
    "E,V = cmp.energy_rdkit_conformers(m2,cids)\n",
    "E = hdt.hatokcal*(E-E.min())\n",
    "efile = open('/nh/nest/u/jsmith/scratch/Research/confs_test/fentanyl.xyz')\n",
    "idx = np.argsort(E)\n",
    "print(E,idx)"
   ]
  },
  {
   "cell_type": "code",
   "execution_count": null,
   "metadata": {},
   "outputs": [],
   "source": [
    "X,S = pya.__convert_rdkitconfs_to_nparr__(m2)\n",
    "Xs = X[idx]\n",
    "Es = E[idx]\n",
    "Vs = V[idx]"
   ]
  },
  {
   "cell_type": "code",
   "execution_count": null,
   "metadata": {},
   "outputs": [],
   "source": [
    "comments = [str(es)+','+str(vs) for es,vs in zip(Es,Vs)]\n",
    "hdt.writexyzfilewc('/nh/nest/u/jsmith/scratch/Research/confs_test/aceclofenac.xyz',Xs,S,comments)"
   ]
  },
  {
   "cell_type": "code",
   "execution_count": null,
   "metadata": {},
   "outputs": [],
   "source": []
  }
 ],
 "metadata": {
  "kernelspec": {
   "display_name": "Python 3",
   "language": "python",
   "name": "python3"
  },
  "language_info": {
   "codemirror_mode": {
    "name": "ipython",
    "version": 3
   },
   "file_extension": ".py",
   "mimetype": "text/x-python",
   "name": "python",
   "nbconvert_exporter": "python",
   "pygments_lexer": "ipython3",
   "version": "3.6.4"
  }
 },
 "nbformat": 4,
 "nbformat_minor": 2
}
