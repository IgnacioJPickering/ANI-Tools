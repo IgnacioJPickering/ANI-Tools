{
 "cells": [
  {
   "cell_type": "code",
   "execution_count": 1,
   "metadata": {},
   "outputs": [
    {
     "name": "stdout",
     "output_type": "stream",
     "text": [
      "van Der Waals correction will be unavailable. Please install ased3\n"
     ]
    }
   ],
   "source": [
    "import pyaniasetools as pya\n",
    "from rdkit import Chem\n",
    "from rdkit.Chem import AllChem\n",
    "import hdnntools as hdt\n",
    "import numpy as np"
   ]
  },
  {
   "cell_type": "code",
   "execution_count": 2,
   "metadata": {},
   "outputs": [],
   "source": [
    "netdir = '/scratch/Gits/ANI-Networks/networks/al_networks/ANI-AL-0808.0303.0400/'\n",
    "cns = netdir+'train0/rHCNOSFCl-4.6A_16-3.1A_a4-8.params'\n",
    "sae = netdir+'train0/sae_wb97x-631gd.dat'\n",
    "nnf = netdir+'train'\n",
    "Nn = 5"
   ]
  },
  {
   "cell_type": "code",
   "execution_count": 3,
   "metadata": {},
   "outputs": [],
   "source": [
    "cmp = pya.anienscomputetool(cns,sae,nnf,Nn,0)"
   ]
  },
  {
   "cell_type": "code",
   "execution_count": 4,
   "metadata": {},
   "outputs": [
    {
     "name": "stdout",
     "output_type": "stream",
     "text": [
      "50\n",
      "Confid: 0\n",
      "Confid: 1\n",
      "Confid: 2\n",
      "Confid: 3\n",
      "Confid: 4\n",
      "Confid: 5\n",
      "Confid: 6\n",
      "Confid: 7\n",
      "Confid: 8\n",
      "Confid: 9\n",
      "Confid: 10\n",
      "Confid: 11\n",
      "Confid: 12\n",
      "Confid: 13\n",
      "Confid: 14\n",
      "Confid: 15\n",
      "Confid: 16\n",
      "Confid: 17\n",
      "Confid: 18\n",
      "Confid: 19\n",
      "Confid: 20\n",
      "Confid: 21\n",
      "Confid: 22\n",
      "Confid: 23\n",
      "Confid: 24\n",
      "Confid: 25\n",
      "Confid: 26\n",
      "Confid: 27\n",
      "Confid: 28\n",
      "Confid: 29\n",
      "Confid: 30\n",
      "Confid: 31\n",
      "Confid: 32\n",
      "Confid: 33\n",
      "Confid: 34\n",
      "Confid: 35\n",
      "Confid: 36\n",
      "Confid: 37\n",
      "Confid: 38\n",
      "Confid: 39\n",
      "Confid: 40\n",
      "Confid: 41\n",
      "Confid: 42\n",
      "Confid: 43\n",
      "Confid: 44\n",
      "Confid: 45\n",
      "Confid: 46\n",
      "Confid: 47\n",
      "Confid: 48\n",
      "Confid: 49\n",
      "[2.2561698466953484, 1.830117374070418, 2.000370546810922, 2.419403375874553, 2.44550785465001, 2.1373976176847207, 2.3231307085116617, 0.8606803991540505, 1.6615644488037156, 1.9547217913284627, 1.4147772824731413, 1.9719629307309046, 2.652593264695597, 2.4868333791582273, 1.5952031021245472, 1.5175666090363984, 1.0358469680190825, 1.871934098219737, 2.747646649948246, 1.1617214151412192, 0.4177668328451919, 2.3230716046007887, 1.3916569774672891, 2.316440580531738, 2.0912147912652492, 1.8915742453762594, 2.6911087186952827, 2.1720557473282573, 2.3069430159846873, 2.2676211834907, 2.534446581493563, 1.9681002527592275, 2.677718604372259, 2.019967105291233, 2.103192883890334, 1.5305621123467021, 2.1473608682484966, 1.9230452117565342, 2.017208459828677, 2.175406559190366, 1.1978049178015029, 2.353312008859705, 1.5533410407395747, 1.8445242738362386, 2.162349286988504, 2.215064203025585, 2.24209669979602, 1.0794868682201404, 1.5814700617930173]\n"
     ]
    }
   ],
   "source": [
    "m = Chem.MolFromSmiles('OC(=O)COC(=O)CC1=CC=CC=C1NC1=C(Cl)C=CC=C1Cl')\n",
    "m2=Chem.AddHs(m)\n",
    "# run distance geometry 10 times\n",
    "cids = AllChem.EmbedMultipleConfs(m2, useExpTorsionAnglePrefs=True, useBasicKnowledge=True, numConfs=50)\n",
    "print(len(cids))\n",
    "for cid in cids:\n",
    "    print('Confid:',cid)\n",
    "    _ = cmp.optimize_rdkit_molecule(m2, cid=cid)\n",
    "rmslist = []\n",
    "AllChem.AlignMolConformers(m2, RMSlist=rmslist)\n",
    "print(rmslist)"
   ]
  },
  {
   "cell_type": "code",
   "execution_count": 5,
   "metadata": {},
   "outputs": [
    {
     "name": "stdout",
     "output_type": "stream",
     "text": [
      "[3.28542581e+00 5.80821927e+00 8.79861339e+00 4.35814106e+00\n",
      " 4.33479864e+00 1.12659352e+00 6.64961562e+00 8.18943641e-01\n",
      " 3.45528823e+00 3.45427790e+00 1.74996755e+00 8.01240300e+00\n",
      " 7.63224186e+00 2.84882246e+00 1.05043338e+01 3.28627204e+00\n",
      " 1.25357129e+01 7.63223999e+00 3.28542908e+00 2.39103108e+00\n",
      " 4.33473599e+00 3.28547817e+00 8.18917459e-01 9.71090661e+00\n",
      " 9.71240551e+00 7.23372126e+00 9.99849427e+00 1.88011649e+00\n",
      " 3.28552679e+00 1.42883870e+01 1.19685848e+01 8.01254139e+00\n",
      " 3.08539501e+00 1.87958023e+00 0.00000000e+00 8.18957667e-01\n",
      " 8.69356619e+00 3.28592606e+00 3.08549226e+00 3.45493431e+00\n",
      " 4.16102293e-05 3.88040200e+00 1.03282032e+01 9.54450251e+00\n",
      " 9.98678870e+00 1.12671508e+00 1.66441060e-04 8.68613058e+00\n",
      " 8.19147952e-01 6.12633250e+00] [34 40 46 22  7 35 48  5 45 10 33 27 19 13 32 38  0 18 21 28 37 15  9 39\n",
      "  8 41 20  4  3  1 49  6 25 17 12 11 31 47 36  2 43 23 24 44 26 42 14 30\n",
      " 16 29]\n"
     ]
    }
   ],
   "source": [
    "E,V = cmp.energy_rdkit_conformers(m2,cids)\n",
    "E = hdt.hatokcal*(E-E.min())\n",
    "efile = open('/nh/nest/u/jsmith/scratch/Research/confs_test/fentanyl.xyz')\n",
    "idx = np.argsort(E)\n",
    "print(E,idx)"
   ]
  },
  {
   "cell_type": "code",
   "execution_count": 6,
   "metadata": {},
   "outputs": [],
   "source": [
    "X,S = pya.__convert_rdkitconfs_to_nparr__(m2)\n",
    "Xs = X[idx]\n",
    "Es = E[idx]\n",
    "Vs = V[idx]"
   ]
  },
  {
   "cell_type": "code",
   "execution_count": 8,
   "metadata": {},
   "outputs": [],
   "source": [
    "comments = [str(es)+','+str(vs) for es,vs in zip(Es,Vs)]\n",
    "hdt.writexyzfilewc('/nh/nest/u/jsmith/scratch/Research/confs_test/aceclofenac.xyz',Xs,S,comments)"
   ]
  },
  {
   "cell_type": "code",
   "execution_count": null,
   "metadata": {},
   "outputs": [],
   "source": []
  }
 ],
 "metadata": {
  "kernelspec": {
   "display_name": "Python 3",
   "language": "python",
   "name": "python3"
  },
  "language_info": {
   "codemirror_mode": {
    "name": "ipython",
    "version": 3
   },
   "file_extension": ".py",
   "mimetype": "text/x-python",
   "name": "python",
   "nbconvert_exporter": "python",
   "pygments_lexer": "ipython3",
   "version": "3.6.4"
  }
 },
 "nbformat": 4,
 "nbformat_minor": 2
}
