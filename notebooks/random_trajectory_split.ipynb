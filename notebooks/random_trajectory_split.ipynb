{
 "cells": [
  {
   "cell_type": "code",
   "execution_count": 1,
   "metadata": {
    "collapsed": true
   },
   "outputs": [],
   "source": [
    "import hdnntools as hdt\n",
    "import numpy as np\n",
    "import os"
   ]
  },
  {
   "cell_type": "code",
   "execution_count": 2,
   "metadata": {
    "collapsed": true
   },
   "outputs": [],
   "source": [
    "lfile = '/home/jujuman/Research/extensibility_test_sets/ani_md_benchmark/split_dir/'\n",
    "sfile = '/home/jujuman/Research/extensibility_test_sets/ani_md_benchmark/split_dir/'"
   ]
  },
  {
   "cell_type": "code",
   "execution_count": 3,
   "metadata": {
    "collapsed": false
   },
   "outputs": [
    {
     "name": "stdout",
     "output_type": "stream",
     "text": [
      "1\n"
     ]
    }
   ],
   "source": [
    "files = [f for f in os.listdir(lfile) if \"_crd.xyz\" in f]\n",
    "print(len(files))"
   ]
  },
  {
   "cell_type": "code",
   "execution_count": 4,
   "metadata": {
    "collapsed": false
   },
   "outputs": [
    {
     "name": "stdout",
     "output_type": "stream",
     "text": [
      "Retinol_crd.xyz\n",
      "[   59   384   914  1173  1547  1852  2070  2413  2472  3293  3562  3636\n",
      "  3850  4640  4715  4795  5096  5257  5935  6993  7864  8061  8413  8895\n",
      "  9021  9431  9734  9814 10272 10296 10477 10575 10917 11204 11562 11820\n",
      " 11840 11952 11954 12077 12184 12606 12692 12708 12940 13303 13624 14364\n",
      " 15214 15229 16382 16419 16633 16863 16981 17079 17361 17725 18196 18983\n",
      " 20065 20114 20488 20800 22024 22123 23228 23502 24039 24136 24190 24463\n",
      " 24709 24920 24941 25440 25880 26194 26427 26753 26901 27334 27368 27585\n",
      " 27842 28039 28562 28662 28805 29673 30374 30463 30892 30940 31057 31099\n",
      " 31178 31858 32336 32369 32420 32834 33476 33649 33800 33846 33945 34914\n",
      " 35030 35319 35391 35411 35638 35739 35853 36068 36638 36837 36986 37234\n",
      " 37339 37491 38129 38158 38287 38720 39676 39681]\n"
     ]
    }
   ],
   "source": [
    "for f in files:\n",
    "    print(f)\n",
    "    X,S,Na,c = hdt.readxyz2(lfile+f)\n",
    "    idx = np.arange(X.shape[0])\n",
    "    np.random.shuffle(idx)\n",
    "    ridx = idx[0:128].copy()\n",
    "    ridx.sort()\n",
    "    print(ridx)\n",
    "    Xn = X[ridx]\n",
    "    hdt.writexyzfile(sfile+f,Xn,S)"
   ]
  },
  {
   "cell_type": "code",
   "execution_count": null,
   "metadata": {
    "collapsed": false
   },
   "outputs": [],
   "source": []
  },
  {
   "cell_type": "code",
   "execution_count": null,
   "metadata": {
    "collapsed": true
   },
   "outputs": [],
   "source": []
  },
  {
   "cell_type": "code",
   "execution_count": null,
   "metadata": {
    "collapsed": false
   },
   "outputs": [],
   "source": []
  },
  {
   "cell_type": "code",
   "execution_count": null,
   "metadata": {
    "collapsed": true
   },
   "outputs": [],
   "source": []
  }
 ],
 "metadata": {
  "kernelspec": {
   "display_name": "Python 3",
   "language": "python",
   "name": "python3"
  },
  "language_info": {
   "codemirror_mode": {
    "name": "ipython",
    "version": 3
   },
   "file_extension": ".py",
   "mimetype": "text/x-python",
   "name": "python",
   "nbconvert_exporter": "python",
   "pygments_lexer": "ipython3",
   "version": "3.5.2"
  }
 },
 "nbformat": 4,
 "nbformat_minor": 1
}
