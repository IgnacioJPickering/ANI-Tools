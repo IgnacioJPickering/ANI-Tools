{
 "cells": [
  {
   "cell_type": "code",
   "execution_count": 3,
   "metadata": {
    "collapsed": true
   },
   "outputs": [],
   "source": [
    "import hdnntools as hdt\n",
    "import numpy as np\n",
    "import os"
   ]
  },
  {
   "cell_type": "code",
   "execution_count": 4,
   "metadata": {
    "collapsed": true
   },
   "outputs": [],
   "source": [
    "lfile = '/home/jujuman/Research/extensibility_test_sets/ani_md_benchmark/split_dir/'\n",
    "sfile = '/home/jujuman/Research/extensibility_test_sets/ani_md_benchmark/data_big/'"
   ]
  },
  {
   "cell_type": "code",
   "execution_count": 5,
   "metadata": {
    "collapsed": false
   },
   "outputs": [
    {
     "name": "stdout",
     "output_type": "stream",
     "text": [
      "1\n"
     ]
    }
   ],
   "source": [
    "files = [f for f in os.listdir(lfile) if \"_crd.xyz\" in f]\n",
    "print(len(files))"
   ]
  },
  {
   "cell_type": "code",
   "execution_count": 6,
   "metadata": {
    "collapsed": false
   },
   "outputs": [
    {
     "name": "stdout",
     "output_type": "stream",
     "text": [
      "TrpCage1L2Y_crd.xyz\n",
      "[  217   594   806  1301  1416  1849  2007  2285  2836  3095  3474  3557\n",
      "  3813  4133  4208  4301  4338  4359  4561  4641  5489  6073  6123  6186\n",
      "  6285  6502  6635  7339  7946  8448  9194  9336 10154 10536 10601 10667\n",
      " 11308 11331 11765 11876 12158 12588 12875 13383 13415 13905 14908 15092\n",
      " 15318 15526 15911 16024 16521 16697 16735 16761 16857 16880 17251 17379\n",
      " 17545 17650 18070 18320 18323 19013 19956 20315 20474 21045 21349 21456\n",
      " 21816 21910 22161 22730 24031 24859 24912 26026 26150 26196 26197 26242\n",
      " 26283 26462 26505 26694 26765 27270 27566 27926 28280 28290 28755 29142\n",
      " 30184 30584 30703 30906 30935 30967 31583 31792 32292 32312 32372 33094\n",
      " 33419 33487 33635 34814 34862 35233 35514 35669 36403 37055 37656 37816\n",
      " 38100 38478 39025 39398 39452 39564 39608 39973]\n"
     ]
    }
   ],
   "source": [
    "for f in files:\n",
    "    print(f)\n",
    "    X,S,Na,c = hdt.readxyz2(lfile+f)\n",
    "    idx = np.arange(X.shape[0])\n",
    "    np.random.shuffle(idx)\n",
    "    ridx = idx[0:128].copy()\n",
    "    ridx.sort()\n",
    "    print(ridx)\n",
    "    Xn = X[ridx]\n",
    "    hdt.writexyzfile(sfile+f,Xn,S)"
   ]
  },
  {
   "cell_type": "code",
   "execution_count": null,
   "metadata": {
    "collapsed": false
   },
   "outputs": [],
   "source": []
  },
  {
   "cell_type": "code",
   "execution_count": null,
   "metadata": {
    "collapsed": true
   },
   "outputs": [],
   "source": []
  },
  {
   "cell_type": "code",
   "execution_count": null,
   "metadata": {
    "collapsed": false
   },
   "outputs": [],
   "source": []
  },
  {
   "cell_type": "code",
   "execution_count": null,
   "metadata": {
    "collapsed": true
   },
   "outputs": [],
   "source": []
  }
 ],
 "metadata": {
  "kernelspec": {
   "display_name": "Python 3",
   "language": "python",
   "name": "python3"
  },
  "language_info": {
   "codemirror_mode": {
    "name": "ipython",
    "version": 3
   },
   "file_extension": ".py",
   "mimetype": "text/x-python",
   "name": "python",
   "nbconvert_exporter": "python",
   "pygments_lexer": "ipython3",
   "version": "3.5.2"
  }
 },
 "nbformat": 4,
 "nbformat_minor": 1
}
