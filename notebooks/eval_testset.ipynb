{
 "cells": [
  {
   "cell_type": "code",
   "execution_count": 2,
   "metadata": {},
   "outputs": [
    {
     "name": "stderr",
     "output_type": "stream",
     "text": [
      "/scratch/Anaconda/anaconda3/envs/my-rdkit-env/lib/python3.6/site-packages/h5py/__init__.py:36: FutureWarning: Conversion of the second argument of issubdtype from `float` to `np.floating` is deprecated. In future, it will be treated as `np.float64 == np.dtype(float).type`.\n",
      "  from ._conv import register_converters as _register_converters\n"
     ]
    },
    {
     "name": "stdout",
     "output_type": "stream",
     "text": [
      "van Der Waals correction will be unavailable. Please install ased3\n"
     ]
    }
   ],
   "source": [
    "import pyanitools as pyt\n",
    "import pyaniasetools as aat\n",
    "import pyNeuroChem as pyc\n",
    "import hdnntools as hdt\n",
    "import numpy as np\n",
    "\n",
    "from ase_interface import ANIENS\n",
    "from ase_interface import ensemblemolecule\n",
    "from ase.atoms import Atoms\n",
    "\n",
    "import matplotlib.pyplot as plt\n",
    "import aniensemblestats as ens"
   ]
  },
  {
   "cell_type": "code",
   "execution_count": 3,
   "metadata": {},
   "outputs": [],
   "source": [
    "#h5files = '/home/jujuman/Research/DataReductionMethods/modelCNOSFCl/initial/cv1/testset/testset1.h5'\n",
    "#h5files = '/home/jujuman/Seagate2TB/Research/ANI-DATASET/h5data/ani_data_c10test.h5'\n",
    "#h5files = '/home/jujuman/Research/extensibility_test_sets/gdb-10/gdb11_10_test500.h5'\n",
    "h5files = '/nh/nest/u/jsmith/Research/gutzwiller_research/new_converged_data/20180723-MD/N100/U10.0-N100.h5'\n",
    "\n",
    "#wkdir = '/nh/nest/u/jsmith/scratch/Research/levi_test/ANI-2x_v62518'\n",
    "wkdir = '/nh/nest/u/jsmith/Research/gutzwiller_research/new_converged_data/20180723-MD/model-gutz-U10.000-N33_new-x8'\n",
    "\n",
    "cns = wkdir + '/train0/rX-2.95R_32-2.2A_a8-8.params'\n",
    "sae = wkdir + '/train0/sae.dat'\n",
    "nnf = wkdir + '/train'\n",
    "Nn = 1"
   ]
  },
  {
   "cell_type": "code",
   "execution_count": 4,
   "metadata": {},
   "outputs": [],
   "source": [
    "# Set NC\n",
    "aens = ensemblemolecule(cns, sae, nnf, Nn, 0)"
   ]
  },
  {
   "cell_type": "code",
   "execution_count": 5,
   "metadata": {},
   "outputs": [],
   "source": [
    "#anicv = aat.anicrossvalidationconformer(cns, sae, nnf, Nn, [0])\n",
    "#nc = pyc.molecule(cns,sae,nnf+str(0)+'/networks/', 0)\n",
    "\n",
    "L=8.682536\n",
    "cell = np.array([[L, 0, 0],\n",
    "                 [0, L, 0],\n",
    "                 [0, 0, L]],dtype=np.float32)\n",
    "\n",
    "celi = (np.linalg.inv(cell)).astype(np.float32)\n",
    "\n",
    "aens.set_pbc(True,True,True)\n",
    "aens.set_cell((cell).astype(np.float32), celi)"
   ]
  },
  {
   "cell_type": "code",
   "execution_count": 6,
   "metadata": {},
   "outputs": [],
   "source": [
    "adl = pyt.anidataloader(h5files)"
   ]
  },
  {
   "cell_type": "code",
   "execution_count": 7,
   "metadata": {},
   "outputs": [],
   "source": [
    "hfile = '/nh/nest/u/jsmith/Research/gutzwiller_research/new_converged_data/20180723-MD/N100/U10.0-N10-ANI.h5'\n",
    "dpack = pyt.datapacker(hfile)"
   ]
  },
  {
   "cell_type": "code",
   "execution_count": 8,
   "metadata": {},
   "outputs": [
    {
     "name": "stderr",
     "output_type": "stream",
     "text": [
      "/scratch/Gits/NeuroChem/build/lib/ase_interface.py:516: RuntimeWarning: invalid value encountered in true_divide\n",
      "  v2 = np.sum(np.sum(np.power(dF, 2), axis=0) / (self.Nn * (self.Nn - 1)))\n"
     ]
    },
    {
     "name": "stdout",
     "output_type": "stream",
     "text": [
      "(510, 100, 3)\n",
      "(510, 100, 3)\n"
     ]
    }
   ],
   "source": [
    "Eani_t = []\n",
    "Edft_t = []\n",
    "dEani_t = []\n",
    "dEdft_t = []\n",
    "Fani_t = []\n",
    "Fdft_t = []\n",
    "for i,data in enumerate(adl):\n",
    "    X = data['coordinates']\n",
    "    S = data['species']\n",
    "    Edft = data['energies']\n",
    "    Fdft = data['forces']\n",
    "    \n",
    "\n",
    "    #Fdft = data['forces']\n",
    "\n",
    "    #if 'N' in S:\n",
    "    Eani = []\n",
    "    Fani = []\n",
    "    for x in X:\n",
    "        aens.set_molecule(x.astype(np.float32), S)\n",
    "        energy, force, stddev, Fstddev = aens.compute_mean_props()\n",
    "        Eani.append(energy)\n",
    "        Fani.append(force.reshape(1,-1,3))\n",
    "\n",
    "    Eani = np.array(Eani)\n",
    "    Fani = np.vstack(Fani)\n",
    "    \n",
    "    print(Fani.shape)\n",
    "    #Eani, Fani, Sig = anicv.compute_energyandforce_conformations(X=np.array(X,dtype=np.float32),S=S)\n",
    "    #print(Fdft)\n",
    "    #Eani = np.asarray(np.mean(Eani,axis=1))\n",
    "    #print(Eani.shape,Edft.shape)\n",
    "    #idx = np.where((Edft - Edft.min() < 300.0))\n",
    "    #print(np.abs(Edft-Eani), len(S))\n",
    "    \n",
    "    #mina = Eani.min()\n",
    "    #mind = Edft.min()\n",
    "    \n",
    "    #Esae1 = hdt.hatokcal*hdt.compute_sae(sae,S)\n",
    "    #Esae2 = hdt.hatokcal*hdt.compute_sae('/nh/nest/u/jsmith/scratch/Research/levi_test/train/sae_linfit.dat',S)\n",
    "    \n",
    "    Eani_t.append(Eani-Eani.min())\n",
    "    Edft_t.append(Edft-Edft.min())\n",
    "    \n",
    "    Fani_t.append(Fani)\n",
    "    Fdft_t.append(Fdft)\n",
    "    \n",
    "    #dEani_t.append(hdt.calculatedmat(Eani))\n",
    "    #dEdft_t.append(hdt.calculatedmat(Edft))\n",
    "    #print(np.abs(-Fani[0]-hdt.hatokcal*Fdft))\n",
    "\n",
    "Eani_t = np.concatenate(Eani_t)\n",
    "Edft_t = np.concatenate(Edft_t)\n",
    "Fani_t = np.vstack(Fani_t)\n",
    "Fdft_t = np.vstack(Fdft_t)\n",
    "#dEani_t = np.concatenate(dEani_t)\n",
    "#dEdft_t = np.concatenate(dEdft_t)\n",
    "\n",
    "print(Fani_t.shape)\n",
    "\n",
    "new_data = dict()\n",
    "\n",
    "new_data[\"species\"] = S\n",
    "new_data[\"coordinates\"] = X\n",
    "new_data[\"energies\"] = Eani_t\n",
    "new_data[\"forces\"] = Fani_t\n",
    "\n",
    "dpack.store_data('/kt015/ANI',**new_data)\n",
    "dpack.cleanup()"
   ]
  },
  {
   "cell_type": "code",
   "execution_count": null,
   "metadata": {},
   "outputs": [],
   "source": [
    "print(,Fani_t)\n",
    "#Eani_t = np.concatenate(Eani_t)\n",
    "#Edft_t = np.concatenate(Edft_t)\n",
    "#print(Eani_t.shape, Edft_t.shape)\n",
    "\n",
    "print('ERMS:',hdt.calculaterootmeansqrerror(Eani_t,Edft_t))\n",
    "print('EMAE:',hdt.calculatemeanabserror(Eani_t,Edft_t))\n",
    "print('FRMS:',hdt.calculaterootmeansqrerror(Fani_t,Fdft_t))\n",
    "print('FMAE:',hdt.calculatemeanabserror(Fani_t,Fdft_t))#\n",
    "#print(hdt.calculaterootmeansqrerror(dEani_t,dEdft_t))\n",
    "#print(hdt.calculatemeanabserror(dEani_t,dEdft_t))\n",
    "#print(Eani_t.size)"
   ]
  },
  {
   "cell_type": "code",
   "execution_count": null,
   "metadata": {},
   "outputs": [],
   "source": [
    "ens.plot_corr_dist(Fdft_t,Fani_t,xlabel='Target Force',ylabel='Predicted Force')"
   ]
  },
  {
   "cell_type": "code",
   "execution_count": null,
   "metadata": {},
   "outputs": [],
   "source": [
    "ens.plot_corr_dist(Edft_t,Eani_t,xlabel='Target Energy',ylabel='Predicted Energy', inset=False)"
   ]
  },
  {
   "cell_type": "code",
   "execution_count": null,
   "metadata": {},
   "outputs": [],
   "source": [
    "fig = plt.figure(figsize=[10,10])\n",
    "plt.hist(Fdft_t,bins=100)\n",
    "plt.yscale(\"log\")\n",
    "plt.show()"
   ]
  },
  {
   "cell_type": "code",
   "execution_count": null,
   "metadata": {},
   "outputs": [],
   "source": [
    "fig = plt.figure(figsize=[10,10])\n",
    "plt.hist(np.linalg.norm(Fdft_t,axis=1),bins=100)\n",
    "plt.yscale(\"log\")\n",
    "plt.xlabel(\"Gutz force magnitude\")\n",
    "plt.ylabel(\"Count\")\n",
    "plt.show()"
   ]
  },
  {
   "cell_type": "code",
   "execution_count": null,
   "metadata": {},
   "outputs": [],
   "source": []
  },
  {
   "cell_type": "markdown",
   "metadata": {},
   "source": []
  },
  {
   "cell_type": "code",
   "execution_count": null,
   "metadata": {},
   "outputs": [],
   "source": []
  },
  {
   "cell_type": "code",
   "execution_count": null,
   "metadata": {},
   "outputs": [],
   "source": []
  }
 ],
 "metadata": {
  "kernelspec": {
   "display_name": "Python 3",
   "language": "python",
   "name": "python3"
  },
  "language_info": {
   "codemirror_mode": {
    "name": "ipython",
    "version": 3
   },
   "file_extension": ".py",
   "mimetype": "text/x-python",
   "name": "python",
   "nbconvert_exporter": "python",
   "pygments_lexer": "ipython3",
   "version": "3.6.4"
  }
 },
 "nbformat": 4,
 "nbformat_minor": 1
}
