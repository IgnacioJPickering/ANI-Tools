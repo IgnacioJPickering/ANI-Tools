{
 "cells": [
  {
   "cell_type": "code",
   "execution_count": 1,
   "metadata": {},
   "outputs": [
    {
     "name": "stderr",
     "output_type": "stream",
     "text": [
      "/scratch/Anaconda/anaconda3/envs/my-rdkit-env/lib/python3.6/site-packages/h5py/__init__.py:36: FutureWarning: Conversion of the second argument of issubdtype from `float` to `np.floating` is deprecated. In future, it will be treated as `np.float64 == np.dtype(float).type`.\n",
      "  from ._conv import register_converters as _register_converters\n"
     ]
    },
    {
     "name": "stdout",
     "output_type": "stream",
     "text": [
      "van Der Waals correction will be unavailable. Please install ased3\n"
     ]
    }
   ],
   "source": [
    "import pyanitools as pyt\n",
    "import pyaniasetools as aat\n",
    "import hdnntools as hdt\n",
    "import numpy as np\n",
    "\n",
    "from ase_interface import ANIENS\n",
    "from ase_interface import ensemblemolecule\n",
    "from ase.atoms import Atoms\n",
    "\n",
    "import matplotlib.pyplot as plt\n",
    "import aniensemblestats as ens"
   ]
  },
  {
   "cell_type": "code",
   "execution_count": 2,
   "metadata": {},
   "outputs": [],
   "source": [
    "#h5files = '/home/jujuman/Research/DataReductionMethods/modelCNOSFCl/initial/cv1/testset/testset1.h5'\n",
    "#h5files = '/home/jujuman/Seagate2TB/Research/ANI-DATASET/h5data/ani_data_c10test.h5'\n",
    "#h5files = '/home/jujuman/Research/extensibility_test_sets/gdb-10/gdb11_10_test500.h5'\n",
    "h5files = '/scratch/Research/confs_test/testset0.h5'\n",
    "\n",
    "#wkdir = '/home/jujuman/Research/DataReductionMethods/model6r/model-gdb_r06_comb09_1/cv4/'\n",
    "#wkdir = '/home/jujuman/Research/DataReductionMethods/train_test/ANI-9.0.4_netarch7/'\n",
    "wkdir = '/scratch/Research/confs_test/arc13/'\n",
    "#wkdir = '/nh/nest/u/jsmith/scratch/Gits/ANI-Networks/networks/ANI-1x/ANI-9.0.4_netarch8/'\n",
    "#wkdir = '/home/jujuman/Research/DataReductionMethods/al_working_network/ANI-AL-0707.0000.0401'\n",
    "#cnstfile = wkdir + '/train0/rHCNOSFCl-4.6A_16-3.1A_a4-8.params'\n",
    "#saefile  = wkdir + '/train0/sae_wb97x-631gd.dat'\n",
    "\n",
    "cns = wkdir + '/rHCNO-4.6R_16-3.1A_a4-8.params'\n",
    "sae  = wkdir + '/sae_linfit.dat'\n",
    "#cns = wkdir + '/rHCNO-4.6A_16-3.1A_a4-8.params'\n",
    "#sae  = wkdir + '/sae_6-31gd.dat'\n",
    "nnf   = wkdir + '/train'\n",
    "Nn = 5"
   ]
  },
  {
   "cell_type": "code",
   "execution_count": 3,
   "metadata": {},
   "outputs": [],
   "source": [
    "# Set NC\n",
    "aens = ensemblemolecule(cns, sae, nnf, Nn, 0)"
   ]
  },
  {
   "cell_type": "code",
   "execution_count": null,
   "metadata": {},
   "outputs": [],
   "source": []
  },
  {
   "cell_type": "code",
   "execution_count": 4,
   "metadata": {},
   "outputs": [],
   "source": [
    "adl = pyt.anidataloader(h5files)"
   ]
  },
  {
   "cell_type": "code",
   "execution_count": 12,
   "metadata": {
    "scrolled": false
   },
   "outputs": [
    {
     "data": {
      "image/png": "[encoded data removed]",
      "text/plain": [
       "<Figure size 432x288 with 1 Axes>"
      ]
     },
     "metadata": {},
     "output_type": "display_data"
    },
    {
     "data": {
      "image/png": "[encoded data removed]",
      "text/plain": [
       "<Figure size 432x288 with 1 Axes>"
      ]
     },
     "metadata": {},
     "output_type": "display_data"
    },
    {
     "data": {
      "image/png": "[encoded data removed]",
      "text/plain": [
       "<Figure size 432x288 with 1 Axes>"
      ]
     },
     "metadata": {},
     "output_type": "display_data"
    },
    {
     "name": "stdout",
     "output_type": "stream",
     "text": [
      "[[-0.00389825 -0.01767386 -0.00345554]\n",
      " [-0.0106125   0.00828709  0.00712211]\n",
      " [ 0.00933307 -0.01802214  0.00530441]\n",
      " [-0.009929    0.00553715 -0.00972992]\n",
      " [-0.00151122  0.00827564  0.00582649]\n",
      " [ 0.00244337  0.01500489 -0.0183642 ]\n",
      " [ 0.00485508  0.02978705  0.010836  ]\n",
      " [-0.00667851  0.01362561  0.01380202]\n",
      " [ 0.0022975  -0.00555972 -0.00375783]\n",
      " [-0.00745296 -0.02607372 -0.00583305]\n",
      " [-0.01155137 -0.01904841  0.02173   ]\n",
      " [-0.01606833  0.00936807 -0.00665198]\n",
      " [ 0.00039343  0.0068957   0.00531966]\n",
      " [ 0.00807869  0.00724811 -0.01591651]\n",
      " [-0.00684821  0.00395094  0.00896124]\n",
      " [ 0.00763432  0.00284528 -0.00267044]] 0.8473968942140209\n",
      "3.6051912\n",
      "3.6037815577135266\n",
      "0.009418136625631743\n"
     ]
    }
   ],
   "source": [
    "Eani_t = []\n",
    "Edft_t = []\n",
    "for i,data in enumerate(adl):\n",
    "    if i == 1:\n",
    "        break\n",
    "    \n",
    "    X = data['coordinates']\n",
    "    S = data['species']\n",
    "    Edft = hdt.hatokcal*data['energies']\n",
    "    Fdft = hdt.hatokcal*data['forces']\n",
    "   \n",
    "    #Fdft = data['forces']\n",
    "\n",
    "    #if 'N' in S:\n",
    "    mol = Atoms(S,X[0])\n",
    "    mol.set_calculator(ANIENS(aens))\n",
    "    Fnum = -hdt.evtokcal*mol.calc.calculate_numerical_forces(mol,d=0.004)\n",
    "    \n",
    "    aens.set_molecule(X[0],S)\n",
    "    E, Fani, sig = aens.compute_mean_props()\n",
    "    Fani = -Fani*hdt.hatokcal\n",
    "    \n",
    "    alpha = np.abs(Fani.min()-Fani.max())/np.abs(Fnum.min()-Fnum.max())\n",
    "    \n",
    "    plt.plot(Fdft[0].flatten(),Fdft[0].flatten())\n",
    "    plt.scatter(alpha*Fnum.flatten(),Fdft[0].flatten())\n",
    "    plt.show()\n",
    "\n",
    "    plt.plot(Fdft[0].flatten(),Fdft[0].flatten())\n",
    "    plt.scatter(Fani.flatten(),Fdft[0].flatten())\n",
    "    plt.show()\n",
    "\n",
    "    plt.plot(Fani.flatten(),Fani.flatten())\n",
    "    plt.scatter(alpha*Fnum.flatten(),Fani.flatten())\n",
    "    plt.show()\n",
    "    \n",
    "    print(Fani-alpha*Fnum,alpha)\n",
    "    \n",
    "    print(hdt.calculatemeanabserror(Fani.flatten(),Fdft[0].flatten()))\n",
    "    print(hdt.calculatemeanabserror(alpha*Fnum.flatten(),Fdft[0].flatten()))\n",
    "    print(hdt.calculatemeanabserror(alpha*Fnum.flatten(),Fani.flatten()))\n",
    "    #print(hdt.calculatemeanabserror(Fanic.flatten(),Fdft.flatten()))\n",
    "    \n",
    "    #print(Fdft)\n",
    "    #Eani = np.asarray(np.mean(Eani,axis=0))\n",
    "    #print(Eani,Edft)\n",
    "    #idx = np.where((Edft - Edft.min() < 300.0))\n",
    "    #print(np.abs(Edft-Eani), len(S))\n",
    "    \n",
    "    #mina = Eani.min()\n",
    "    #mind = Edft.min()\n",
    "    \n",
    "    #Eani_t.append(Eani)\n",
    "    #Edft_t.append(Edft)\n",
    "    #print(np.abs(-Fani[0]-hdt.hatokcal*Fdft))"
   ]
  },
  {
   "cell_type": "raw",
   "metadata": {
    "scrolled": true
   },
   "source": [
    "# 240\n",
    "[[ -33.683956   -22.239965    26.824894 ]\n",
    " [ -20.120586   -75.45558    104.16521  ]\n",
    " [  47.483387  -102.00527   -141.86407  ]\n",
    " [  17.835007    14.832611   -50.140064 ]\n",
    " [ -66.46089     63.567738    93.04827  ]\n",
    " [  60.173824   -51.25629    -54.523235 ]\n",
    " [  -0.541695    26.488585    -5.9759927]\n",
    " [ -10.598503    41.799454     6.509105 ]\n",
    " [   9.183896    31.715014   -31.79883  ]\n",
    " [  16.814486    -7.615733   -14.271962 ]\n",
    " [   9.64393    -53.502106   -18.424196 ]\n",
    " [  -8.887456    14.37268      6.4860754]\n",
    " [ -30.997202    82.21917    142.09613  ]\n",
    " [   7.1051617   21.523285   -69.90118  ]\n",
    " [   6.1916847   57.69853     -3.8132167]\n",
    " [  -3.1410718  -42.14214     11.583065 ]]\n",
    "[[ -35.64393     -34.185844     22.98329   ]\n",
    " [ -17.639387    -97.42595     106.236015  ]\n",
    " [  39.31679     -88.222435   -150.92256   ]\n",
    " [  11.344351     17.141201    -45.66208   ]\n",
    " [ -54.294186     56.2806       82.606186  ]\n",
    " [  52.37819     -42.346306    -51.859028  ]\n",
    " [  -0.39056802   30.840628     -5.8431673 ]\n",
    " [ -10.504224     42.571556      7.606584  ]\n",
    " [   8.985563     32.014744    -29.794582  ]\n",
    " [  10.884353     -9.993246    -12.723635  ]\n",
    " [   9.226137    -45.94049     -13.481368  ]\n",
    " [  -6.7209373    14.746196      4.371544  ]\n",
    " [ -26.775524     85.51491     147.7832    ]\n",
    " [   9.004926     25.069145    -72.4253    ]\n",
    " [   9.240226     54.119106      0.30764025]\n",
    " [   1.5882244   -40.183815     10.817251  ]]\n",
    "[[  1.9599724   11.945879     3.8416042 ]\n",
    " [ -2.4811993   21.970367    -2.0708084 ]\n",
    " [  8.166595   -13.782837     9.058487  ]\n",
    " [  6.490656    -2.30859     -4.4779854 ]\n",
    " [-12.166706     7.287136    10.442085  ]\n",
    " [  7.795635    -8.909985    -2.6642075 ]\n",
    " [ -0.15112698  -4.352043    -0.13282537]\n",
    " [ -0.09427929  -0.77210236  -1.0974789 ]\n",
    " [  0.19833279  -0.2997303   -2.0042477 ]\n",
    " [  5.930133     2.377513    -1.5483274 ]\n",
    " [  0.41779327  -7.561615    -4.942828  ]\n",
    " [ -2.1665187   -0.37351608   2.1145315 ]\n",
    " [ -4.221678    -3.2957382   -5.6870728 ]\n",
    " [ -1.8997641   -3.5458603    2.5241241 ]\n",
    " [ -3.048541     3.579422    -4.120857  ]\n",
    " [ -4.729296    -1.9583244    0.7658138 ]]\n",
    "4.4527535\n"
   ]
  },
  {
   "cell_type": "code",
   "execution_count": null,
   "metadata": {},
   "outputs": [],
   "source": []
  },
  {
   "cell_type": "code",
   "execution_count": null,
   "metadata": {},
   "outputs": [],
   "source": [
    "ens.plot_corr_dist(Eani_t-Eani_t.min(),Edft_t-Edft_t.min())"
   ]
  },
  {
   "cell_type": "code",
   "execution_count": null,
   "metadata": {},
   "outputs": [],
   "source": []
  },
  {
   "cell_type": "code",
   "execution_count": null,
   "metadata": {},
   "outputs": [],
   "source": []
  },
  {
   "cell_type": "markdown",
   "metadata": {},
   "source": []
  }
 ],
 "metadata": {
  "kernelspec": {
   "display_name": "Python 3",
   "language": "python",
   "name": "python3"
  },
  "language_info": {
   "codemirror_mode": {
    "name": "ipython",
    "version": 3
   },
   "file_extension": ".py",
   "mimetype": "text/x-python",
   "name": "python",
   "nbconvert_exporter": "python",
   "pygments_lexer": "ipython3",
   "version": "3.6.4"
  }
 },
 "nbformat": 4,
 "nbformat_minor": 1
}
