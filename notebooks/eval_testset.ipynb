{
 "cells": [
  {
   "cell_type": "code",
   "execution_count": 1,
   "metadata": {
    "collapsed": false
   },
   "outputs": [],
   "source": [
    "import pyanitools as pyt\n",
    "import pyaniasetools as aat\n",
    "import hdnntools as hdt\n",
    "import numpy as np\n",
    "\n",
    "import matplotlib.pyplot as plt\n",
    "import aniensemblestats as ens"
   ]
  },
  {
   "cell_type": "code",
   "execution_count": 2,
   "metadata": {
    "collapsed": true
   },
   "outputs": [],
   "source": [
    "h5files = '/home/jujuman/Research/DataReductionMethods/modelCNOSFCl/initial/cv1/testset/testset1.h5'\n",
    "\n",
    "wkdir = '/home/jujuman/Research/DataReductionMethods/modelCNOSFCl/initial/cv1'\n",
    "#kdir = '/home/jujuman/Research/ANI-validation/'\n",
    "cnstfile = wkdir + '/rHCNOSFCl-4.6A_16-3.1A_a4-8.params'\n",
    "saefile  = wkdir + '/sae_wb97x-631gd.dat'\n",
    "nnfdir   = wkdir + '/train'\n",
    "Nn = 5"
   ]
  },
  {
   "cell_type": "code",
   "execution_count": 3,
   "metadata": {
    "collapsed": false
   },
   "outputs": [],
   "source": [
    "# Define the conformer cross validator class\n",
    "anicv = aat.anicrossvalidationconformer(cnstfile,saefile,nnfdir,Nn,0,False)"
   ]
  },
  {
   "cell_type": "code",
   "execution_count": 4,
   "metadata": {
    "collapsed": false
   },
   "outputs": [],
   "source": [
    "adl = pyt.anidataloader(h5files)"
   ]
  },
  {
   "cell_type": "code",
   "execution_count": 18,
   "metadata": {
    "collapsed": false
   },
   "outputs": [],
   "source": [
    "Eani_t = []\n",
    "Edft_t = []\n",
    "for data in adl:\n",
    "    X = data['coordinates']\n",
    "    S = data['species']\n",
    "    Edft = data['energies']\n",
    "    Fdft = data['forces']\n",
    "\n",
    "    if 'N' in S:\n",
    "        Eani, Fani = anicv.compute_energy_conformations(X=X,S=S)\n",
    "        Eani_t.append(Eani[0])\n",
    "        Edft_t.append(hdt.hatokcal*Edft)\n",
    "        #print(S)\n",
    "        #print(np.abs(-Fani[0]-hdt.hatokcal*Fdft))\n",
    "\n",
    "Eani_t = np.concatenate(Eani_t)\n",
    "Edft_t = np.concatenate(Edft_t)"
   ]
  },
  {
   "cell_type": "code",
   "execution_count": 19,
   "metadata": {
    "collapsed": false
   },
   "outputs": [
    {
     "name": "stdout",
     "output_type": "stream",
     "text": [
      "1.41574844548\n"
     ]
    }
   ],
   "source": [
    "print(hdt.calculaterootmeansqrerror(Eani_t,Edft_t))"
   ]
  },
  {
   "cell_type": "code",
   "execution_count": null,
   "metadata": {
    "collapsed": true
   },
   "outputs": [],
   "source": []
  }
 ],
 "metadata": {
  "kernelspec": {
   "display_name": "Python 3",
   "language": "python",
   "name": "python3"
  },
  "language_info": {
   "codemirror_mode": {
    "name": "ipython",
    "version": 3
   },
   "file_extension": ".py",
   "mimetype": "text/x-python",
   "name": "python",
   "nbconvert_exporter": "python",
   "pygments_lexer": "ipython3",
   "version": "3.5.2"
  }
 },
 "nbformat": 4,
 "nbformat_minor": 1
}
