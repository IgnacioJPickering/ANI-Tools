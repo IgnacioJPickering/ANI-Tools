{
 "cells": [
  {
   "cell_type": "code",
   "execution_count": 1,
   "metadata": {
    "collapsed": false
   },
   "outputs": [],
   "source": [
    "import pyanitools as pyt\n",
    "import pyaniasetools as aat\n",
    "import hdnntools as hdt\n",
    "import numpy as np\n",
    "\n",
    "import matplotlib.pyplot as plt\n",
    "import aniensemblestats as ens"
   ]
  },
  {
   "cell_type": "code",
   "execution_count": 2,
   "metadata": {
    "collapsed": true
   },
   "outputs": [],
   "source": [
    "#h5files = '/home/jujuman/Research/DataReductionMethods/modelCNOSFCl/initial/cv1/testset/testset1.h5'\n",
    "#h5files = '/home/jujuman/Seagate2TB/Research/ANI-DATASET/h5data/ani_data_c10test.h5'\n",
    "#h5files = '/home/jujuman/Research/extensibility_test_sets/gdb-10/gdb11_10_test500.h5'\n",
    "h5files = '/home/jujuman/Seagate2TB/Research/GDB-11-wB97X-6-31gd/dnntsgdb11_10/new_h5_gdb10_ts.h5'\n",
    "\n",
    "#wkdir = '/home/jujuman/Research/DataReductionMethods/model6r/model-gdb_r06_comb09_1/cv4/'\n",
    "#wkdir = '/home/jujuman/Research/DataReductionMethods/train_test/ANI-9.0.4_netarch7/'\n",
    "wkdir = '/home/jujuman/Research/ANI-validation/'\n",
    "#wkdir = '/home/jujuman/Research/DataReductionMethods/al_working_network/ANI-AL-0707.0000.0401'\n",
    "#cnstfile = wkdir + '/train0/rHCNOSFCl-4.6A_16-3.1A_a4-8.params'\n",
    "#saefile  = wkdir + '/train0/sae_wb97x-631gd.dat'\n",
    "\n",
    "cnstfile = wkdir + '/rHCNO-4.6A_16-3.1A_a4-8.params'\n",
    "saefile  = wkdir + '/sae_6-31gd.dat'\n",
    "nnfdir   = wkdir + '/train'\n",
    "Nn = 5"
   ]
  },
  {
   "cell_type": "code",
   "execution_count": 3,
   "metadata": {
    "collapsed": false
   },
   "outputs": [],
   "source": [
    "# Define the conformer cross validator class\n",
    "anicv = aat.anicrossvalidationconformer(cnstfile,saefile,nnfdir,Nn,0,False)"
   ]
  },
  {
   "cell_type": "code",
   "execution_count": 4,
   "metadata": {
    "collapsed": false
   },
   "outputs": [],
   "source": [
    "adl = pyt.anidataloader(h5files)"
   ]
  },
  {
   "cell_type": "code",
   "execution_count": 5,
   "metadata": {
    "collapsed": false
   },
   "outputs": [
    {
     "name": "stdout",
     "output_type": "stream",
     "text": [
      "0.792075662737 25 ['[H]C(C(=O)N([H])[H])=C([H])C([H])([H])C(C([H])([H])[H])(C([H])([H])[H])C([H])([H])[H]']\n",
      "1.33980583596 28 ['[H]OC(C([H])([H])[H])(C([H])([H])[H])C([H])(N([H])[H])C([H])([H])C([H])(N([H])[H])C([H])([H])[H]']\n",
      "0.874884689285 26 ['[H]N(C([H])(C([H])([H])[H])C([H])([H])[H])C(C([H])([H])[H])(C([H])([H])[H])C([H])([H])C#N']\n",
      "1.39473715589 24 ['[H]OC([H])([H])C([H])([H])C(OC(=O)C([H])([H])[H])(C([H])([H])[H])C([H])([H])[H]']\n",
      "1.64102246174 23 ['[H]N=C(N([H])C(=N[H])C([H])([H])[H])N([H])N(C([H])([H])[H])C([H])([H])[H]']\n",
      "1.33539391324 23 ['[H]C([H])=C(C([H])=C(C([H])([H])[H])C([H])([H])[H])N([H])C(=O)C([H])([H])[H]']\n",
      "6.33429379158 22 ['[H]OC1(C([H])([H])[H])C([H])([H])C2(O[H])C([H])([H])C2(O[H])C1([H])[H]']\n",
      "1.42621439579 20 ['[H]N=C(C(=O)C(O[H])(C([H])([H])[H])C([H])([H])[H])N([H])O[H]']\n",
      "1.18906843113 24 ['[H]C([H])=C([H])C(C([H])([H])[H])(C([H])([H])[H])C([H])(C(=O)N([H])[H])N([H])[H]']\n",
      "2.28757248157 22 ['[H]C(=O)C(N(C(=O)N([H])[H])C([H])([H])[H])(C([H])([H])[H])C([H])([H])[H]']\n",
      "1.0159765687 32 ['[H]C([H])([H])C([H])([H])C(C([H])([H])[H])(C([H])([H])C([H])([H])[H])C([H])([H])C([H])(C([H])([H])[H])C([H])([H])[H]']\n",
      "1.24353539031 29 ['[H]C([H])=C([H])C(N([H])C([H])(C([H])([H])[H])C([H])([H])[H])(C([H])([H])[H])C([H])([H])C([H])([H])[H]']\n",
      "1.3874152431 25 ['[H]C([H])=C([H])C(N([H])C([H])([H])[H])(C([H])([H])[H])C([H])([H])C(=O)C([H])([H])[H]']\n",
      "1.32615360095 22 ['[H]C#CC(C([H])([H])[H])(C([H])([H])O[H])C([H])([H])C(=O)C([H])([H])[H]']\n",
      "1.62517872228 27 ['[H]N([H])C1(C([H])([H])[H])C([H])([H])C1([H])C(OC([H])([H])[H])(C([H])([H])[H])C([H])([H])[H]']\n",
      "1.34940836518 26 ['[H]C([H])=C(C([H])=C([H])OC([H])([H])[H])C(C([H])([H])[H])(C([H])([H])[H])C([H])([H])[H]']\n",
      "1.43699963467 24 ['[H]C#CC([H])=C([H])C(=C([H])[H])C(C([H])([H])[H])(C([H])([H])[H])C([H])([H])[H]']\n",
      "1.82184919611 23 ['[H]OC(C(=NN([H])[H])N([H])C([H])=C([H])[H])(C([H])([H])[H])C([H])([H])[H]']\n",
      "3.0347688077 22 ['[H]ON=C(ON=C([H])[H])C(C([H])([H])[H])(C([H])([H])[H])C([H])([H])[H]']\n",
      "0.578840284896 23 ['[H]N([H])C([H])([H])C#CC#CC(C([H])([H])[H])(C([H])([H])[H])C([H])([H])[H]']\n",
      "1.45824852898 23 ['[H]OC(C([H])([H])[H])(C([H])([H])OC([H])=O)C([H])([H])N([H])C([H])([H])[H]']\n",
      "0.905926578783 25 ['[H]N=C([H])N([H])C(C([H])=C([H])C([H])([H])N([H])[H])(C([H])([H])[H])C([H])([H])[H]']\n",
      "1.13429401006 24 ['[H]OC([H])(C([H])([H])[H])C(C#CC([H])([H])C([H])([H])[H])(O[H])C([H])([H])[H]']\n",
      "1.39293140234 28 ['[H]OC([H])(C([H])([H])[H])C([H])([H])C([H])([H])C([H])([H])C([H])([H])C([H])(O[H])C([H])([H])[H]']\n",
      "1.1510101049 24 ['[H]N([H])C(=O)N([H])C([H])([H])C([H])([H])OC([H])(C([H])([H])[H])C([H])([H])[H]']\n",
      "1.59645525324 20 ['[H]N=C(N([H])[H])C([H])([H])N([H])C([H])=C([H])C(=O)N([H])[H]']\n",
      "0.883395045651 26 ['[H]C([H])=C(C([H])([H])[H])C1([H])N([H])C([H])(C([H])([H])[H])C1(N([H])[H])C([H])([H])[H]']\n",
      "1.23382564362 22 ['[H]N([H])C(=O)C1([H])OC([H])(C([H])([H])[H])C1(N([H])[H])C([H])([H])[H]']\n",
      "0.905571152293 20 ['[H]C1([H])OC(=O)C([H])([H])C(C([H])([H])[H])(C([H])([H])[H])C1=O']\n",
      "1.70029055366 22 ['[H]C1=NN([H])C(C([H])([H])[H])(C([H])([H])[H])C([H])([H])C(=O)C1([H])[H]']\n",
      "1.93664222078 22 ['[H]N=C1N([H])N([H])C([H])=NC(C([H])([H])[H])(C([H])([H])[H])C1([H])[H]']\n",
      "1.49561841479 25 ['[H]C1=NN([H])C([H])([H])C(N([H])[H])(C([H])([H])[H])C([H])([H])C1([H])C([H])([H])[H]']\n",
      "0.851265879046 24 ['[H]C([H])=C(OC1([H])C([H])([H])OC1(C([H])([H])[H])C([H])([H])[H])C([H])([H])[H]']\n",
      "1.90518182548 29 ['[H]N([H])C([H])([H])C([H])([H])N([H])C([H])(C([H])([H])[H])C([H])([H])C([H])(N([H])[H])C([H])([H])[H]']\n",
      "1.73933907952 23 ['[H]N(OC([H])([H])C([H])([H])[H])C(=O)N([H])N(C([H])([H])[H])C([H])([H])[H]']\n",
      "2.28017543931 21 ['[H]OC(=O)C([H])([H])N(N=C([H])C([H])([H])N([H])[H])C([H])([H])[H]']\n",
      "1.35608413086 17 ['[H]N([H])C(=O)N([H])C([H])(C#CC#N)C([H])([H])[H]']\n",
      "1.36346554634 25 ['[H]C([H])=C(OC(=C([H])C([H])([H])C([H])([H])N([H])[H])C([H])([H])[H])C([H])([H])[H]']\n",
      "1.69998441739 20 ['[H]C(=O)N([H])C([H])([H])C(=C([H])C(=O)C([H])([H])[H])N([H])[H]']\n",
      "1.59506932683 23 ['[H]ON=C([H])C([H])([H])C(=C([H])C([H])(O[H])C([H])([H])[H])C([H])([H])[H]']\n",
      "1.6656570641 24 ['[H]C(=NN([H])[H])C([H])([H])C(=NN(C([H])([H])[H])C([H])([H])[H])C([H])([H])[H]']\n",
      "0.700421564487 23 ['[H]OC1(C([H])([H])[H])C([H])([H])C2(O[H])C([H])([H])C2([H])C1([H])N([H])[H]']\n",
      "1.14056443867 25 ['[H]OC1([H])C2([H])C([H])([H])C1(N([H])[H])C([H])([H])C2(C([H])([H])[H])C([H])([H])[H]']\n",
      "0.649241005311 26 ['[H]N1C([H])([H])C([H])([H])C([H])([H])C2(N([H])[H])C([H])([H])C1(C([H])([H])[H])C2([H])[H]']\n",
      "1.71068885404 23 ['[H]C#CC(N([H])[H])(C([H])([H])[H])C([H])([H])N([H])C([H])=NC([H])([H])[H]']\n",
      "1.36410055689 18 ['[H]C(C#N)=C([H])OC(C#N)(C([H])([H])[H])C([H])([H])[H]']\n",
      "0.95243321239 22 ['[H]C#CC([H])([H])C([H])=C([H])C(O[H])(C([H])([H])[H])C([H])([H])O[H]']\n",
      "0.914330506815 25 ['[H]N(C([H])([H])[H])C(C#CC([H])([H])OC([H])([H])[H])(C([H])([H])[H])C([H])([H])[H]']\n",
      "2.11377866563 17 ['[H]ON=C([H])C(C#N)(ON=C([H])[H])C([H])([H])[H]']\n",
      "1.25498306302 20 ['[H]OC([H])([H])C(C#CC([H])([H])[H])(C(=O)N([H])[H])N([H])[H]']\n",
      "0.967929108058 24 ['[H]C#CC(OC([H])(C([H])([H])[H])C([H])(C([H])([H])[H])C([H])([H])[H])=C([H])[H]']\n",
      "1.32639923373 24 ['[H]OC([H])([H])C([H])(N([H])N(C(=O)C([H])([H])[H])C([H])([H])[H])C([H])([H])[H]']\n",
      "1.20860189723 18 ['[H]ON(C(=O)N([H])C(=O)N([H])N([H])[H])C([H])([H])[H]']\n",
      "4.24597949957 21 ['[H]C#CC(=C([H])[H])N([H])C(=N[H])C([H])(N([H])[H])C([H])([H])[H]']\n",
      "2.14886326954 21 ['[H]OC([H])(C([H])=C([H])[H])C([H])([H])C(C(=O)N([H])[H])=C([H])[H]']\n",
      "2.03442661834 26 ['[H]C([H])=C(C(=C([H])[H])C([H])([H])C(=C([H])[H])C([H])([H])C([H])([H])[H])C([H])([H])[H]']\n",
      "1.62723571297 22 ['[H]C([H])=C(C(=O)C([H])([H])[H])C([H])([H])C(=O)C([H])([H])C([H])([H])[H]']\n",
      "1.41652368504 15 ['[H]C#CC(=O)OC(C(=O)N([H])[H])=C([H])[H]']\n",
      "1.44020936365 27 ['[H]C(=C([H])C1([H])C([H])([H])C(C([H])([H])[H])(C([H])([H])[H])C1([H])N([H])[H])C([H])([H])[H]']\n",
      "1.21164389709 24 ['[H]OC1(C([H])([H])[H])C([H])([H])C([H])([H])OC([H])(OC([H])([H])[H])C1([H])[H]']\n",
      "1.1814161298 21 ['[H]OC1(C([H])([H])[H])C([H])([H])C1([H])C(=C([H])[H])N([H])C([H])=O']\n",
      "1.83549505656 19 ['[H]C(=O)OC(=O)C1([H])C([H])([H])C1(N([H])[H])C([H])([H])[H]']\n",
      "3.13609028196 21 ['[H]C1=NOC(C([H])([H])[H])(C([H])([H])[H])C([H])=C([H])C1=C([H])[H]']\n",
      "1.24930613273 24 ['[H]N=C([H])N(C([H])([H])[H])C1([H])C([H])(C([H])([H])[H])C1(O[H])C([H])([H])[H]']\n",
      "1.86948644498 21 ['[H]C([H])=C(C#N)OC1([H])C([H])([H])C1(C([H])([H])[H])C([H])([H])[H]']\n",
      "1.27501964193 20 ['[H]OC1(C([H])([H])[H])C(N([H])[H])=NC([H])(C([H])=O)C1([H])[H]']\n",
      "0.826735128331 21 ['[H]ON=C1C([H])([H])C(=C([H])[H])C(O[H])(C([H])([H])[H])C1([H])[H]']\n",
      "0.731832481144 19 ['[H]C(=O)C1=C([H])C(=O)C(C([H])([H])[H])(C([H])([H])[H])N1[H]']\n",
      "1.14935883591 25 ['[H]C([H])=C1C([H])([H])C([H])(C([H])([H])[H])OC([H])([H])C1(N([H])[H])C([H])([H])[H]']\n",
      "0.629397413649 27 ['[H]C1=C([H])C(C([H])([H])[H])(C([H])([H])[H])C([H])(C([H])([H])[H])C([H])([H])C1([H])N([H])[H]']\n",
      "1.65272836537 23 ['[H]C#CC([H])([H])N(C([H])([H])[H])C([H])([H])C([H])([H])C(=O)C([H])([H])[H]']\n",
      "1.5461251547 19 ['[H]C([H])=NOC(=O)C([H])([H])OC(=C([H])[H])C([H])([H])[H]']\n",
      "2.58367398112 25 ['[H]N=C(N(C(=C([H])[H])C([H])([H])[H])C([H])([H])[H])C([H])(N([H])[H])C([H])([H])[H]']\n",
      "3.13204328348 20 ['[H]N=C(C([H])=C([H])C([H])(C(=O)N([H])[H])N([H])[H])N([H])[H]']\n",
      "0.970851767442 26 ['[H]OC1(C([H])([H])C([H])([H])N([H])[H])C([H])([H])C([H])(C([H])([H])[H])C1([H])N([H])[H]']\n",
      "1.09068606604 22 ['[H]OC([H])([H])C([H])([H])C1(C([H])([H])[H])C([H])([H])C(=O)C1([H])O[H]']\n",
      "1.05772844805 23 ['[H]C([H])=C([H])C([H])([H])C1(C([H])([H])[H])C(=O)N(C([H])([H])[H])C1([H])[H]']\n",
      "0.854961820456 21 ['[H]ON1C(=O)C(C([H])([H])[H])(C([H])([H])C([H])=C([H])[H])C1([H])[H]']\n",
      "1.19117801186 26 ['[H]C([H])=C([H])C([H])([H])C1(C([H])([H])[H])C([H])([H])C1([H])C(=C([H])[H])C([H])([H])[H]']\n",
      "1.07912629435 21 ['[H]OC1(C([H])=C([H])C([H])([H])[H])C([H])([H])C(=O)N([H])C1([H])[H]']\n",
      "1.1985168215 20 ['[H]N=C1C([H])=C([H])C(C([H])=NN([H])[H])(C([H])([H])[H])N1[H]']\n",
      "1.48908237232 22 ['[H]OC1([H])C([H])([H])C1(C(=O)N(C([H])([H])[H])C([H])([H])[H])N([H])[H]']\n",
      "0.837700095189 24 ['[H]C1=NN(C([H])([H])[H])C([H])([H])C1(C(=C([H])[H])C([H])([H])[H])C([H])([H])[H]']\n",
      "0.553241070979 29 ['[H]N([H])C([H])([H])C([H])([H])C1(C([H])([H])[H])C([H])([H])C([H])([H])C1(C([H])([H])[H])C([H])([H])[H]']\n",
      "1.23193449009 21 ['[H]C([H])=C(OC([H])([H])[H])C([H])([H])ON([H])C(=O)C([H])([H])[H]']\n",
      "2.23189963648 26 ['[H]C([H])=C([H])C(=C([H])[H])C([H])([H])C([H])([H])C([H])([H])C(=C([H])[H])C([H])([H])[H]']\n",
      "1.76933740478 20 ['[H]OC([H])(C([H])=NOC(=O)C([H])([H])N([H])[H])C([H])([H])[H]']\n",
      "1.08278880999 24 ['[H]C([H])=C(OC([H])([H])[H])C([H])([H])C#CC([H])(C([H])([H])[H])C([H])([H])[H]']\n",
      "1.16501590658 21 ['[H]C(=O)N(C([H])=C([H])C([H])([H])C(=O)C([H])([H])[H])C([H])([H])[H]']\n",
      "2.08945661928 18 ['[H]N=C(ON=C([H])C(=N[H])N([H])N([H])[H])N([H])[H]']\n",
      "1.62288353886 21 ['[H]C([H])([H])OC(=O)C([H])([H])ON=C(C([H])([H])[H])C([H])([H])[H]']\n",
      "2.6354462617 20 ['[H]C(=O)C(=NN=C([H])C(=C([H])[H])C([H])([H])[H])C([H])([H])[H]']\n",
      "1.45460224213 25 ['[H]OC([H])([H])C([H])([H])C([H])(N([H])[H])C([H])([H])C([H])(O[H])C([H])([H])O[H]']\n",
      "1.22624723111 25 ['[H]N=C(OC([H])([H])[H])N([H])C([H])(C([H])([H])[H])C([H])([H])N([H])C([H])([H])[H]']\n",
      "0.967933899065 21 ['[H]OC([H])(C([H])([H])C#N)C([H])([H])C(=C([H])[H])C([H])=C([H])[H]']\n",
      "1.42402968426 21 ['[H]N=C(N([H])C(=O)N([H])C([H])=C([H])[H])C([H])([H])C([H])([H])[H]']\n",
      "1.4470217495 16 ['[H]C(=O)N([H])C(OC(C#N)=C([H])[H])=C([H])[H]']\n",
      "1.65817259336 21 ['[H]ON=C([H])C(=C([H])[H])C([H])([H])N(N=C([H])[H])C([H])([H])[H]']\n",
      "2.57198512692 20 ['[H]C(=NN([H])[H])C(=O)OC(=C([H])[H])C([H])([H])C([H])([H])[H]']\n",
      "1.66903169637 22 ['[H]OC([H])([H])C(=NN(C([H])=NN([H])[H])C([H])([H])[H])C([H])([H])[H]']\n",
      "3.49643115632 21 ['[H]C(C#N)=C(C([H])=C(OC([H])([H])[H])C([H])([H])[H])C([H])([H])[H]']\n",
      "1.65458145688 24 ['[H]C#CC([H])=C(C([H])=C(C([H])([H])[H])C([H])([H])C([H])([H])[H])C([H])([H])[H]']\n",
      "1.52509970495 28 ['[H]C(=C(C([H])([H])[H])C([H])([H])C([H])([H])N([H])[H])C([H])(C([H])([H])[H])C([H])([H])N([H])[H]']\n",
      "2.22798048689 26 ['[H]OC([H])([H])C([H])(C([H])=C(C([H])([H])[H])C([H])([H])C([H])=C([H])[H])C([H])([H])[H]']\n",
      "1.36540750172 21 ['[H]N=C(C([H])=C(C([H])=NN([H])[H])C([H])([H])[H])N([H])N([H])[H]']\n",
      "1.1360940558 29 ['[H]OC([H])([H])C([H])(C([H])([H])[H])C([H])(N([H])C([H])(C([H])([H])[H])C([H])([H])[H])C([H])([H])[H]']\n",
      "1.11509869652 21 ['[H]C([H])=C([H])C(=O)C([H])(N([H])C(=O)C([H])([H])[H])C([H])([H])[H]']\n",
      "1.91808556691 15 ['[H]N=C(OC(=O)N(O[H])C([H])=O)N([H])[H]']\n",
      "2.40577373851 23 ['[H]N=C(N=C(N(N([H])[H])C([H])([H])C([H])([H])[H])C([H])([H])[H])N([H])[H]']\n",
      "1.05815080183 28 ['[H]N(C([H])([H])[H])C1(C([H])([H])[H])C([H])([H])C([H])([H])C1([H])N(C([H])([H])[H])C([H])([H])[H]']\n",
      "0.811142753048 26 ['[H]OC([H])([H])C1([H])C([H])(C([H])([H])[H])OC1(C([H])([H])[H])C([H])([H])C([H])([H])[H]']\n",
      "1.04626196159 23 ['[H]N=C1N([H])N([H])C([H])([H])C(O[H])(C([H])([H])C([H])([H])[H])C1([H])[H]']\n",
      "1.10524829073 20 ['[H]OC1(C([H])=O)C([H])([H])C([H])=C([H])C(=C([H])[H])C1([H])[H]']\n",
      "1.52658960991 25 ['[H]C(=NC([H])([H])[H])N1C([H])([H])C(N([H])C([H])([H])[H])(C([H])([H])[H])C1([H])[H]']\n",
      "2.95617928657 25 ['[H]C([H])=C(C([H])([H])OC([H])([H])[H])C([H])([H])C1(N([H])[H])C([H])([H])C1([H])[H]']\n",
      "1.20538374896 24 ['[H]N(C(=O)C([H])([H])C1(N([H])[H])C([H])([H])C1([H])[H])C([H])([H])C([H])([H])[H]']\n",
      "1.42925659548 24 ['[H]N([H])C(=O)C([H])([H])N1C([H])([H])C1(C([H])([H])[H])C([H])([H])C([H])([H])[H]']\n",
      "1.42775532945 22 ['[H]C([H])=C([H])C1(C([H])([H])[H])N(C([H])([H])[H])N([H])C(=O)C1([H])[H]']\n",
      "1.63119524736 19 ['[H]OC1(C([H])=C([H])[H])C(=O)C([H])=C(N([H])[H])C1([H])[H]']\n",
      "1.21771605051 27 ['[H]OC([H])(C([H])([H])C([H])(N([H])[H])C([H])([H])[H])C1(C([H])([H])[H])C([H])([H])C1([H])[H]']\n",
      "0.916974851933 23 ['[H]N([H])C1(C(=O)OC([H])(C([H])([H])[H])C([H])([H])[H])C([H])([H])C1([H])[H]']\n",
      "3.27667004066 23 ['[H]N=C([H])N([H])N(C([H])=N[H])C([H])([H])C([H])(N([H])[H])C([H])([H])[H]']\n",
      "3.03106298031 18 ['[H]OC([H])([H])C([H])(ON=C([H])[H])OC(=O)N([H])[H]']\n",
      "0.86978323011 23 ['[H]N=C([H])N(N=C([H])C([H])([H])[H])C([H])([H])C([H])(O[H])C([H])([H])[H]']\n",
      "1.34817492236 20 ['[H]N=C(N([H])C(=NN([H])[H])C([H])=NN([H])[H])C([H])([H])[H]']\n",
      "2.05779296545 18 ['[H]N=C(N=C(N([H])C([H])=O)C([H])([H])O[H])N([H])[H]']\n",
      "1.93510123536 16 ['[H]N([H])C(=O)N([H])C(C#N)=NOC([H])([H])[H]']\n",
      "0.953819967344 25 ['[H]ON=C([H])C(=C([H])C([H])(C([H])([H])[H])C([H])([H])[H])C([H])([H])C([H])([H])[H]']\n",
      "0.626614003204 29 ['[H]OC([H])([H])C([H])(C([H])([H])C([H])(N([H])[H])C([H])([H])[H])C([H])(C([H])([H])[H])C([H])([H])[H]']\n",
      "3.07408596762 23 ['[H]N=C([H])N(N([H])C(=O)C([H])([H])[H])C([H])(C([H])([H])[H])C([H])([H])[H]']\n",
      "1.38104749661 21 ['[H]N=C(C([H])=C(C(=N[H])N([H])[H])C([H])([H])N([H])[H])N([H])[H]']\n",
      "1.01403037436 27 ['[H]N([H])C([H])([H])C([H])([H])C1(C([H])([H])C([H])(C([H])([H])[H])C([H])([H])[H])OC1([H])[H]']\n",
      "2.66991138261 25 ['[H]N(C([H])([H])[H])C([H])([H])C1(C([H])([H])C(=O)C([H])([H])[H])C([H])([H])C1([H])[H]']\n",
      "1.5895039069 18 ['[H]OC(=O)C([H])([H])C1(C([H])([H])C#N)N([H])C1([H])[H]']\n",
      "1.16074748724 28 ['[H]N(C([H])([H])[H])C1(C([H])(C([H])([H])[H])C([H])([H])[H])C([H])([H])N(C([H])([H])[H])C1([H])[H]']\n",
      "0.965921818835 25 ['[H]C([H])=NOC(C([H])([H])[H])(C([H])([H])[H])C1([H])C([H])([H])C1([H])C([H])([H])[H]']\n",
      "0.527217552838 24 ['[H]N([H])C1([H])C(=O)N(C([H])([H])[H])C([H])([H])C1(C([H])([H])[H])C([H])([H])[H]']\n",
      "0.632839977717 25 ['[H]C([H])=C1C([H])(N([H])[H])C([H])=C([H])C(C([H])([H])[H])(C([H])([H])[H])C1([H])[H]']\n"
     ]
    }
   ],
   "source": [
    "Eani_t = []\n",
    "Edft_t = []\n",
    "for data in adl:\n",
    "    X = data['coordinates']\n",
    "    S = data['species']\n",
    "    Edft = hdt.hatokcal*data['energies']\n",
    "\n",
    "    #Fdft = data['forces']\n",
    "\n",
    "    #if 'N' in S:\n",
    "    Eani, Fani = anicv.compute_energy_conformations(X=X,S=S)\n",
    "    Eani = np.mean(Eani,axis=0)\n",
    "    idx = np.where((Edft - Edft.min() < 300.0))\n",
    "    print(hdt.calculaterootmeansqrerror(Edft[idx]-Edft[idx].min(),Eani[idx]-Eani[idx].min()), len(S), data['smiles'])\n",
    "    Eani_t.append(Eani[idx]-Eani[idx].min())\n",
    "    Edft_t.append(Edft[idx]-Edft[idx].min())\n",
    "    #print(np.abs(-Fani[0]-hdt.hatokcal*Fdft))\n",
    "\n",
    "Eani_t = np.concatenate(Eani_t)\n",
    "Edft_t = np.concatenate(Edft_t)"
   ]
  },
  {
   "cell_type": "code",
   "execution_count": 6,
   "metadata": {
    "collapsed": false
   },
   "outputs": [
    {
     "name": "stdout",
     "output_type": "stream",
     "text": [
      "1.69561380696\n"
     ]
    }
   ],
   "source": [
    "print(hdt.calculaterootmeansqrerror(Eani_t,Edft_t))"
   ]
  },
  {
   "cell_type": "code",
   "execution_count": 7,
   "metadata": {
    "collapsed": false
   },
   "outputs": [
    {
     "data": {
      "image/png": "[encoded data removed]",
      "text/plain": [
       "<matplotlib.figure.Figure at 0x2b1b491460b8>"
      ]
     },
     "metadata": {},
     "output_type": "display_data"
    }
   ],
   "source": [
    "plt.plot(Edft_t,Edft_t)\n",
    "plt.scatter(Eani_t,Edft_t)\n",
    "plt.show()"
   ]
  },
  {
   "cell_type": "code",
   "execution_count": 8,
   "metadata": {
    "collapsed": false
   },
   "outputs": [
    {
     "data": {
      "image/png": "[encoded data removed]",
      "text/plain": [
       "<matplotlib.figure.Figure at 0x2b1b0937fba8>"
      ]
     },
     "metadata": {},
     "output_type": "display_data"
    }
   ],
   "source": [
    "plt.hist(Edft_t-Eani_t,bins=100)\n",
    "plt.show()"
   ]
  },
  {
   "cell_type": "code",
   "execution_count": null,
   "metadata": {
    "collapsed": true
   },
   "outputs": [],
   "source": []
  },
  {
   "cell_type": "code",
   "execution_count": null,
   "metadata": {
    "collapsed": true
   },
   "outputs": [],
   "source": []
  }
 ],
 "metadata": {
  "kernelspec": {
   "display_name": "Python 3",
   "language": "python",
   "name": "python3"
  },
  "language_info": {
   "codemirror_mode": {
    "name": "ipython",
    "version": 3
   },
   "file_extension": ".py",
   "mimetype": "text/x-python",
   "name": "python",
   "nbconvert_exporter": "python",
   "pygments_lexer": "ipython3",
   "version": "3.5.2"
  }
 },
 "nbformat": 4,
 "nbformat_minor": 1
}
