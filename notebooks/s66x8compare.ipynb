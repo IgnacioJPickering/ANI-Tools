{
 "cells": [
  {
   "cell_type": "code",
   "execution_count": 1,
   "metadata": {},
   "outputs": [
    {
     "name": "stderr",
     "output_type": "stream",
     "text": [
      "/usr/local/anaconda3/lib/python3.6/site-packages/h5py/__init__.py:36: FutureWarning: Conversion of the second argument of issubdtype from `float` to `np.floating` is deprecated. In future, it will be treated as `np.float64 == np.dtype(float).type`.\n",
      "  from ._conv import register_converters as _register_converters\n"
     ]
    }
   ],
   "source": [
    "# pyneurochem\n",
    "import pyNeuroChem as pync\n",
    "import pyaniasetools as aat\n",
    "import pyanitools as pyt\n",
    "\n",
    "import hdnntools as hdt\n",
    "\n",
    "import numpy as np\n",
    "\n",
    "import matplotlib.pyplot as plt\n",
    "\n",
    "import os\n",
    "\n",
    "import pandas as pd\n",
    "\n",
    "#import seaborn as sns\n",
    "pd.options.display.float_format = '{:.2f}'.format"
   ]
  },
  {
   "cell_type": "code",
   "execution_count": 2,
   "metadata": {
    "collapsed": true
   },
   "outputs": [],
   "source": [
    "fdir = '/home/jujuman/Research/extensibility_test_sets/s66x8/xyzfiles/'\n",
    "hfil = '/home/jujuman/Research/extensibility_test_sets/s66x8/s66x8_wb97x6-31gd.h5'\n",
    "ndir = '/home/jujuman/Research/extensibility_test_sets/s66x8/structures/'\n",
    "\n",
    "tex_store = \"/home/jujuman/Dropbox/ChemSciencePaper.AER/PUBLICATION-ActiveLearning/tables/s66x8_ANI-9.0.4vsDFT_results.tex\"\n",
    "\n",
    "names = {'01':'water$\\cdots$water',\n",
    "         '02':'water$\\cdots$MeOH',\n",
    "         '03':'water$\\cdots$MeNH$\\mathrm{_2}$',\n",
    "         '04':'water$\\cdots$peptide',\n",
    "         '05':'MeOH$\\cdots$water',\n",
    "         '06':'MeOH$\\cdots$MeOH',\n",
    "         '07':'MeOH$\\cdots$MeNH$\\mathrm{_2}$',\n",
    "         '08':'MeOH$\\cdots$peptide',\n",
    "         '09':'MeNH$\\mathrm{_2}$$\\cdots$water',\n",
    "         '10':'MeNH$\\mathrm{_2}$$\\cdots$MeOH',\n",
    "         '11':'MeNH$\\mathrm{_2}$$\\cdots$MeNH$\\mathrm{_2}$',\n",
    "         '12':'MeNH$\\mathrm{_2}$$\\cdots$peptide',\n",
    "         '13':'peptide$\\cdots$water',\n",
    "         '14':'peptide$\\cdots$MeOH',\n",
    "         '15':'peptide$\\cdots$$\\cdots$MeNH$\\mathrm{_2}$',\n",
    "         '16':'peptide$\\cdots$peptide',\n",
    "         '17':'uracil$\\cdots$uracil (BP)',\n",
    "         '18':'water$\\cdots$pyridine',\n",
    "         '19':'MeOH$\\cdots$pyridine',\n",
    "         '20':'AcOH$\\cdots$AcOH',\n",
    "         '21':'AcNH$\\mathrm{_2}$$\\cdots$AcNH$\\mathrm{_2}$',\n",
    "         '22':'AcOH$\\cdots$uracil',\n",
    "         '23':'AcNH$\\mathrm{_2}$$\\cdots$uracil',\n",
    "         '24':'benzene$\\cdots$benzene ($\\pi-\\pi$)',\n",
    "         '25':'pyridine$\\cdots$pyridine ($\\pi-\\pi$)',\n",
    "         '26':'uracil$\\cdots$uracil ($\\pi-\\pi$)',\n",
    "         '27':'benzene$\\cdots$pyridine ($\\pi-\\pi$)',\n",
    "         '28':'benzene$\\cdots$uracil ($\\pi-\\pi$)',\n",
    "         '29':'pyridine$\\cdots$ethene ($\\pi-\\pi$)',\n",
    "         '30':'benzene$\\cdots$ethene',\n",
    "         '31':'uracil$\\cdots$ethene',\n",
    "         '32':'uracil$\\cdots$ethyne',\n",
    "         '33':'pyridine$\\cdots$ethene',\n",
    "         '34':'pentane$\\cdots$pentane',\n",
    "         '35':'neopentane$\\cdots$pentane',\n",
    "         '36':'neopentane$\\cdots$neopentane',\n",
    "         '37':'cyclopentane$\\cdots$neopentane',\n",
    "         '38':'cyclopentane$\\cdots$cyclopentane',\n",
    "         '39':'benzene$\\cdots$cyclopentane',\n",
    "         '40':'benzene$\\cdots$neopentane',\n",
    "         '41':'uracil$\\cdots$pentane',\n",
    "         '42':'uracil$\\cdots$cyclopentane',\n",
    "         '43':'uracil$\\cdots$neopentane',\n",
    "         '44':'ethene$\\cdots$pentane',\n",
    "         '45':'ethyne$\\cdots$pentane',\n",
    "         '46':'peptide$\\cdots$pentane',\n",
    "         '47':'benzene$\\cdots$benzene (TS)',\n",
    "         '48':'pyridine$\\cdots$pyridine (TS)',\n",
    "         '49':'benzene$\\cdots$pyridine (TS)',\n",
    "         '50':'benzene$\\cdots$ethyne (CH-$\\pi$)',\n",
    "         '51':'ethyne$\\cdots$ethyne (TS)',\n",
    "         '52':'benzene$\\cdots$AcOH (OH-$\\pi$)',\n",
    "         '53':'benzene$\\cdots$AcNH$_{\\mathrm{2}}$ (NH-$\\pi$)',\n",
    "         '54':'benzene$\\cdots$water (OH-$\\pi$)',\n",
    "         '55':'benzene$\\cdots$MeOH (OH-$\\pi$)',\n",
    "         '56':'benzene$\\cdots$MeNH$_{\\mathrm{2}}$ (NH-$\\pi$)',\n",
    "         '57':'benzene$\\cdots$peptide (NH-$\\pi$)',\n",
    "         '58':'pyridine$\\cdots$pyridine',\n",
    "         '59':'ethyne$\\cdots$water (CH-O)',\n",
    "         '60':'ethyne$\\cdots$AcOH (OH-$\\pi$)',\n",
    "         '61':'pentane$\\cdots$AcOH',\n",
    "         '62':'pentane$\\cdots$AcNH$_{\\mathrm{2}}$',\n",
    "         '63':'benzene$\\cdots$AcOH',\n",
    "         '64':'peptide$\\cdots$ethyne',\n",
    "         '65':'pyridine$\\cdots$ethyne',\n",
    "         '66':'MeNH$_{\\mathrm{2}}$$\\cdots$pyridine',\n",
    "        }"
   ]
  },
  {
   "cell_type": "code",
   "execution_count": null,
   "metadata": {},
   "outputs": [],
   "source": [
    "#wkdir1 = '/home/jujuman/Research/DataReductionMethods/model6r/model-gdb_r06_comb09_1/cv4/'\n",
    "#wkdir2 = '/home/jujuman/Research/DataReductionMethods/model6r/model-gdb01-06_red03-08/cv3/'\n",
    "wkdir1 = '/home/jujuman/Research/DataReductionMethods/model6r/model-gdb_r06_comb09_1/cv4/'\n",
    "cnstfile = 'rHCNO-4.6A_16-3.1A_a4-8.params'\n",
    "saefile  = 'sae_6-31gd.dat'\n",
    "nnfdir   = '/train'\n",
    "Nn = 5\n",
    "\n",
    "anialcv = aat.anicrossvalidationconformer(wkdir1+cnstfile,wkdir1+saefile,wkdir1+nnfdir,Nn,[0],False)\n",
    "#dpack = pyt.datapacker(hfil)"
   ]
  },
  {
   "cell_type": "code",
   "execution_count": 1,
   "metadata": {},
   "outputs": [
    {
     "ename": "NameError",
     "evalue": "name 'files' is not defined",
     "output_type": "error",
     "traceback": [
      "\u001b[0;31m---------------------------------------------------------------------------\u001b[0m",
      "\u001b[0;31mNameError\u001b[0m                                 Traceback (most recent call last)",
      "\u001b[0;32m<ipython-input-1-05d38f0b08dc>\u001b[0m in \u001b[0;36m<module>\u001b[0;34m()\u001b[0m\n\u001b[1;32m     13\u001b[0m \u001b[0mget_batch_name\u001b[0m \u001b[0;34m=\u001b[0m \u001b[0;32mTrue\u001b[0m\u001b[0;34m\u001b[0m\u001b[0m\n\u001b[1;32m     14\u001b[0m \u001b[0midx_batch_name\u001b[0m \u001b[0;34m=\u001b[0m \u001b[0;36m0\u001b[0m\u001b[0;34m\u001b[0m\u001b[0m\n\u001b[0;32m---> 15\u001b[0;31m \u001b[0;32mfor\u001b[0m \u001b[0mi\u001b[0m\u001b[0;34m,\u001b[0m\u001b[0mf\u001b[0m \u001b[0;32min\u001b[0m \u001b[0menumerate\u001b[0m\u001b[0;34m(\u001b[0m\u001b[0mfiles\u001b[0m\u001b[0;34m)\u001b[0m\u001b[0;34m:\u001b[0m\u001b[0;34m\u001b[0m\u001b[0m\n\u001b[0m\u001b[1;32m     16\u001b[0m     \u001b[0;32mif\u001b[0m \u001b[0mget_batch_name\u001b[0m\u001b[0;34m:\u001b[0m\u001b[0;34m\u001b[0m\u001b[0m\n\u001b[1;32m     17\u001b[0m         \u001b[0mbatch_name\u001b[0m \u001b[0;34m=\u001b[0m \u001b[0msplits\u001b[0m\u001b[0;34m[\u001b[0m\u001b[0midx_batch_name\u001b[0m\u001b[0;34m]\u001b[0m\u001b[0;34m\u001b[0m\u001b[0m\n",
      "\u001b[0;31mNameError\u001b[0m: name 'files' is not defined"
     ]
    }
   ],
   "source": [
    "Eanit = []\n",
    "Edftt = [] \n",
    "\n",
    "dEanit = []\n",
    "dEdftt = [] \n",
    "\n",
    "Fanit = []\n",
    "Fdftt = [] \n",
    "\n",
    "tables = []\n",
    "dframe = []\n",
    "stats = dict()\n",
    "get_batch_name = True\n",
    "idx_batch_name = 0\n",
    "for i,f in enumerate(files):\n",
    "    if get_batch_name:\n",
    "        batch_name = splits[idx_batch_name]\n",
    "        get_batch_name = False\n",
    "    \n",
    "    data = hdt.readncdatall(fdir+f)\n",
    "    \n",
    "    Edft = data['energies']*hdt.hatokcal\n",
    "    Fdft = data['forces'].flatten()*hdt.hatokcal/(0.529177*0.529177)\n",
    "\n",
    "    data['energies']=Edft\n",
    "    data['forces']=Fdft\n",
    "        \n",
    "    E,F = anialcv.compute_energy_conformations(X=data['coordinates'],S=data['species'])\n",
    "    Eani = np.mean(E,axis=0)\n",
    "    Fani = -np.mean(F,axis=0).flatten()\n",
    "\n",
    "    dEani = hdt.calculatedmat(Eani)\n",
    "    dEdft = hdt.calculatedmat(Edft)\n",
    "    \n",
    "    ID = str(int(f.split('_')[1][:-4])+1).zfill(2) \n",
    "    name = names[ID]\n",
    "\n",
    "    stats[ID+' '+name] = pd.Series({'ID'     : ID,\n",
    "                             #'EMAE'   : hdt.calculatemeanabserror(Eani,Edft),\n",
    "                             #'ERMS'   : hdt.calculaterootmeansqrerror(Eani,Edft),\n",
    "                             #'ERNG'   : np.abs(Edft.max()-Edft.min()),\n",
    "                             col_names[0] : hdt.calculatemeanabserror(dEani,dEdft),\n",
    "                             col_names[1] : hdt.calculaterootmeansqrerror(dEani,dEdft),\n",
    "                             col_names[2] : np.abs(dEdft.max()-dEdft.min()),\n",
    "                             col_names[3] : hdt.calculatemeanabserror(Fani,Fdft),\n",
    "                             col_names[4] : hdt.calculaterootmeansqrerror(Fani,Fdft),\n",
    "                             col_names[5] : np.abs(Fdft.max()-Fdft.min()),\n",
    "                             })\n",
    "    \n",
    "    Eanit.append(Eani)\n",
    "    Edftt.append(Edft)\n",
    "    dEanit.append(dEani)\n",
    "    dEdftt.append(dEdft)\n",
    "    Fanit.append(Fani)\n",
    "    Fdftt.append(Fdft)\n",
    "    \n",
    "    if i==splits[idx_batch_name][0]:\n",
    "        \n",
    "        Eanit = np.concatenate(Eanit)\n",
    "        Edftt = np.concatenate(Edftt)\n",
    "        dEanit = np.concatenate(dEanit)\n",
    "        dEdftt = np.concatenate(dEdftt)\n",
    "        Fanit = np.concatenate(Fanit)\n",
    "        Fdftt = np.concatenate(Fdftt)\n",
    "        \n",
    "        stats['Total'] = pd.Series({'ID'     : ID,\n",
    "                                    #'EMAE'   : hdt.calculatemeanabserror(Eanit,Edftt),\n",
    "                                    #'ERMS'   : hdt.calculaterootmeansqrerror(Eanit,Edftt),\n",
    "                                    #'ERNG'   : 'N/A',\n",
    "                                    col_names[0] : hdt.calculatemeanabserror(dEanit,dEdftt),\n",
    "                                    col_names[1] : hdt.calculaterootmeansqrerror(dEanit,dEdftt),\n",
    "                                    col_names[2] : np.abs(dEdftt.max()-dEdftt.min()),\n",
    "                                    col_names[3] : hdt.calculatemeanabserror(Fanit,Fdftt),\n",
    "                                    col_names[4] : hdt.calculaterootmeansqrerror(Fanit,Fdftt),\n",
    "                                    col_names[5] : np.abs(Fdftt.max()-Fdftt.min()),\n",
    "                                    })\n",
    "        Eanit = []\n",
    "        Edftt = [] \n",
    "        dEanit = []\n",
    "        dEdftt = [] \n",
    "        Fanit = []\n",
    "        Fdftt = []\n",
    "        \n",
    "        edat = pd.DataFrame(stats).transpose()\n",
    "        #pd.set_option('precision',3)\n",
    "        pd.set_option('display.max_rows', 66)\n",
    "        pd.set_option('expand_frame_repr', False)\n",
    "        edat = edat[['ID',\n",
    "                     col_names[0],\n",
    "                     col_names[1],\n",
    "                     col_names[2],\n",
    "                     col_names[3],\n",
    "                     col_names[4],\n",
    "                     col_names[5]]].sort_values(['ID'])\n",
    "        \n",
    "        print(splits[idx_batch_name][1])\n",
    "\n",
    "        dframe.append((edat[[col_names[0],\n",
    "                             col_names[1],\n",
    "                             col_names[2],\n",
    "                             col_names[3],\n",
    "                             col_names[4],\n",
    "                             col_names[5],\n",
    "                             ]], splits[idx_batch_name][1]))\n",
    "\n",
    "        tables.append((edat[[col_names[0],\n",
    "                             col_names[1],\n",
    "                             col_names[2],\n",
    "                             col_names[3],\n",
    "                             col_names[4],\n",
    "                             col_names[5],\n",
    "                             ]].style, splits[idx_batch_name][1]))\n",
    "        stats = dict()\n",
    "        idx_batch_name += 1\n",
    "        get_batch_name = True\n",
    "    #plt.plot(Eanial-Eanial.min(),c='r')\n",
    "    #plt.plot(Eani1-Eani1.min(),c='g')\n",
    "    #plt.plot(Edft-Edft.min(),c='b')\n",
    "    #plt.title('Dissociation '+ str(i+1).zfill(2))\n",
    "\n",
    "    #plt.show()"
   ]
  },
  {
   "cell_type": "code",
   "execution_count": 5,
   "metadata": {},
   "outputs": [
    {
     "ename": "FileNotFoundError",
     "evalue": "[Errno 2] No such file or directory: '/home/jujuman/Dropbox/ChemSciencePaper.AER/PUBLICATION-ActiveLearning/tables/s66x8_ANI-9.0.4vsDFT_results.tex'",
     "output_type": "error",
     "traceback": [
      "\u001b[0;31m---------------------------------------------------------------------------\u001b[0m",
      "\u001b[0;31mFileNotFoundError\u001b[0m                         Traceback (most recent call last)",
      "\u001b[0;32m<ipython-input-5-550312cd4364>\u001b[0m in \u001b[0;36m<module>\u001b[0;34m()\u001b[0m\n\u001b[1;32m      5\u001b[0m \u001b[0mendtab\u001b[0m \u001b[0;34m=\u001b[0m \u001b[0;34mr'\\end{table}'\u001b[0m\u001b[0;34m+\u001b[0m\u001b[0;34m'\\n'\u001b[0m\u001b[0;34m\u001b[0m\u001b[0m\n\u001b[1;32m      6\u001b[0m \u001b[0menddoc\u001b[0m \u001b[0;34m=\u001b[0m \u001b[0;34mr'\\end{document}'\u001b[0m\u001b[0;34m\u001b[0m\u001b[0m\n\u001b[0;32m----> 7\u001b[0;31m \u001b[0;32mwith\u001b[0m \u001b[0mopen\u001b[0m\u001b[0;34m(\u001b[0m\u001b[0mtex_store\u001b[0m\u001b[0;34m,\u001b[0m \u001b[0;34m\"w\"\u001b[0m\u001b[0;34m)\u001b[0m \u001b[0;32mas\u001b[0m \u001b[0mtext_file\u001b[0m\u001b[0;34m:\u001b[0m\u001b[0;34m\u001b[0m\u001b[0m\n\u001b[0m\u001b[1;32m      8\u001b[0m     \u001b[0mtext_file\u001b[0m\u001b[0;34m.\u001b[0m\u001b[0mwrite\u001b[0m\u001b[0;34m(\u001b[0m\u001b[0mheader\u001b[0m\u001b[0;34m)\u001b[0m\u001b[0;34m\u001b[0m\u001b[0m\n\u001b[1;32m      9\u001b[0m     \u001b[0;32mfor\u001b[0m \u001b[0mtup\u001b[0m \u001b[0;32min\u001b[0m \u001b[0mdframe\u001b[0m\u001b[0;34m:\u001b[0m\u001b[0;34m\u001b[0m\u001b[0m\n",
      "\u001b[0;31mFileNotFoundError\u001b[0m: [Errno 2] No such file or directory: '/home/jujuman/Dropbox/ChemSciencePaper.AER/PUBLICATION-ActiveLearning/tables/s66x8_ANI-9.0.4vsDFT_results.tex'"
     ]
    }
   ],
   "source": [
    "# Build latex document\n",
    "header = r'\\documentclass{article}'+'\\n'+r'\\usepackage{booktabs}'+'\\n'+r'\\usepackage[margin=1.0in]{geometry}'+'\\n'+r'\\begin{document}'+'\\n'\n",
    "\n",
    "begtab = r'\\begin{table}'+'\\n'+r'\\centering'+'\\n'\n",
    "endtab = r'\\end{table}'+'\\n'\n",
    "enddoc = r'\\end{document}'\n",
    "with open(tex_store, \"w\") as text_file:\n",
    "    text_file.write(header)\n",
    "    for tup in dframe:\n",
    "        text_file.write(begtab+r'\\caption{'+tup[1]+r'}'+'\\n'+tup[0].to_latex(escape=False)+endtab)\n",
    "    text_file.write(enddoc)"
   ]
  },
  {
   "cell_type": "code",
   "execution_count": 6,
   "metadata": {},
   "outputs": [
    {
     "ename": "IndexError",
     "evalue": "list index out of range",
     "output_type": "error",
     "traceback": [
      "\u001b[0;31m---------------------------------------------------------------------------\u001b[0m",
      "\u001b[0;31mIndexError\u001b[0m                                Traceback (most recent call last)",
      "\u001b[0;32m<ipython-input-6-47febfba0bdd>\u001b[0m in \u001b[0;36m<module>\u001b[0;34m()\u001b[0m\n\u001b[0;32m----> 1\u001b[0;31m \u001b[0mtables\u001b[0m\u001b[0;34m[\u001b[0m\u001b[0;36m0\u001b[0m\u001b[0;34m]\u001b[0m\u001b[0;34m[\u001b[0m\u001b[0;36m0\u001b[0m\u001b[0;34m]\u001b[0m\u001b[0;34m\u001b[0m\u001b[0m\n\u001b[0m",
      "\u001b[0;31mIndexError\u001b[0m: list index out of range"
     ]
    }
   ],
   "source": [
    "tables[0][0]"
   ]
  },
  {
   "cell_type": "code",
   "execution_count": 7,
   "metadata": {},
   "outputs": [
    {
     "ename": "IndexError",
     "evalue": "list index out of range",
     "output_type": "error",
     "traceback": [
      "\u001b[0;31m---------------------------------------------------------------------------\u001b[0m",
      "\u001b[0;31mIndexError\u001b[0m                                Traceback (most recent call last)",
      "\u001b[0;32m<ipython-input-7-5164c5301953>\u001b[0m in \u001b[0;36m<module>\u001b[0;34m()\u001b[0m\n\u001b[0;32m----> 1\u001b[0;31m \u001b[0mtables\u001b[0m\u001b[0;34m[\u001b[0m\u001b[0;36m1\u001b[0m\u001b[0;34m]\u001b[0m\u001b[0;34m[\u001b[0m\u001b[0;36m0\u001b[0m\u001b[0;34m]\u001b[0m\u001b[0;34m\u001b[0m\u001b[0m\n\u001b[0m",
      "\u001b[0;31mIndexError\u001b[0m: list index out of range"
     ]
    }
   ],
   "source": [
    "tables[1][0]"
   ]
  },
  {
   "cell_type": "code",
   "execution_count": 8,
   "metadata": {},
   "outputs": [
    {
     "ename": "IndexError",
     "evalue": "list index out of range",
     "output_type": "error",
     "traceback": [
      "\u001b[0;31m---------------------------------------------------------------------------\u001b[0m",
      "\u001b[0;31mIndexError\u001b[0m                                Traceback (most recent call last)",
      "\u001b[0;32m<ipython-input-8-d4e67fe4243f>\u001b[0m in \u001b[0;36m<module>\u001b[0;34m()\u001b[0m\n\u001b[0;32m----> 1\u001b[0;31m \u001b[0mprint\u001b[0m\u001b[0;34m(\u001b[0m\u001b[0mtables\u001b[0m\u001b[0;34m[\u001b[0m\u001b[0;36m2\u001b[0m\u001b[0;34m]\u001b[0m\u001b[0;34m[\u001b[0m\u001b[0;36m1\u001b[0m\u001b[0;34m]\u001b[0m\u001b[0;34m)\u001b[0m\u001b[0;34m\u001b[0m\u001b[0m\n\u001b[0m\u001b[1;32m      2\u001b[0m \u001b[0mtables\u001b[0m\u001b[0;34m[\u001b[0m\u001b[0;36m2\u001b[0m\u001b[0;34m]\u001b[0m\u001b[0;34m[\u001b[0m\u001b[0;36m0\u001b[0m\u001b[0;34m]\u001b[0m\u001b[0;34m\u001b[0m\u001b[0m\n",
      "\u001b[0;31mIndexError\u001b[0m: list index out of range"
     ]
    }
   ],
   "source": [
    "print(tables[2][1])\n",
    "tables[2][0]"
   ]
  },
  {
   "cell_type": "code",
   "execution_count": 9,
   "metadata": {},
   "outputs": [
    {
     "ename": "IndexError",
     "evalue": "list index out of range",
     "output_type": "error",
     "traceback": [
      "\u001b[0;31m---------------------------------------------------------------------------\u001b[0m",
      "\u001b[0;31mIndexError\u001b[0m                                Traceback (most recent call last)",
      "\u001b[0;32m<ipython-input-9-615d8e46000c>\u001b[0m in \u001b[0;36m<module>\u001b[0;34m()\u001b[0m\n\u001b[0;32m----> 1\u001b[0;31m \u001b[0mtables\u001b[0m\u001b[0;34m[\u001b[0m\u001b[0;36m3\u001b[0m\u001b[0;34m]\u001b[0m\u001b[0;34m[\u001b[0m\u001b[0;36m0\u001b[0m\u001b[0;34m]\u001b[0m\u001b[0;34m\u001b[0m\u001b[0m\n\u001b[0m",
      "\u001b[0;31mIndexError\u001b[0m: list index out of range"
     ]
    }
   ],
   "source": [
    "tables[3][0]"
   ]
  },
  {
   "cell_type": "code",
   "execution_count": null,
   "metadata": {
    "collapsed": true
   },
   "outputs": [],
   "source": []
  }
 ],
 "metadata": {
  "kernelspec": {
   "display_name": "Python 3",
   "language": "python",
   "name": "python3"
  },
  "language_info": {
   "codemirror_mode": {
    "name": "ipython",
    "version": 3
   },
   "file_extension": ".py",
   "mimetype": "text/x-python",
   "name": "python",
   "nbconvert_exporter": "python",
   "pygments_lexer": "ipython3",
   "version": "3.6.3"
  }
 },
 "nbformat": 4,
 "nbformat_minor": 1
}
